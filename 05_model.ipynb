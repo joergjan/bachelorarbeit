{
 "cells": [
  {
   "cell_type": "markdown",
   "metadata": {},
   "source": [
    "### jupyter notebook to create a model to predict the probability of job automation in the swiss labour market\n",
    "\n",
    "author: Jan Jörg\n",
    "date: 14.03.2024"
   ]
  }
 ],
 "metadata": {
  "language_info": {
   "name": "python"
  }
 },
 "nbformat": 4,
 "nbformat_minor": 2
}
