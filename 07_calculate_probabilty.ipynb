{
 "cells": [
  {
   "cell_type": "markdown",
   "metadata": {},
   "source": [
    "# Calculate Automation Probabilities of Jobs on the Swiss Labour Market"
   ]
  },
  {
   "cell_type": "markdown",
   "metadata": {},
   "source": [
    "## Content\n",
    "1. [Import Data](#import)\n",
    "2. [Normalize the Data](#normalize)\n",
    "3. [Calculate Weighted Sum from Coefficients](#weighted-sum)\n",
    "4. [Calculate Probability of Automation](#probability)\n",
    "5. [Display Results](#display)\n",
    "6. [Save Results](#save)"
   ]
  },
  {
   "cell_type": "code",
   "execution_count": 723,
   "metadata": {},
   "outputs": [],
   "source": [
    "# imports\n",
    "import pandas as pd\n",
    "import numpy as np\n",
    "import matplotlib.pyplot as plt\n",
    "from sklearn.preprocessing import StandardScaler\n",
    "import math as m"
   ]
  },
  {
   "cell_type": "markdown",
   "metadata": {},
   "source": [
    "<a id='import'></a>\n",
    "## Import Data"
   ]
  },
  {
   "cell_type": "code",
   "execution_count": 724,
   "metadata": {},
   "outputs": [],
   "source": [
    "# Replace 'filename.csv' with the path to your CSV file\n",
    "df_swiss_jobs = pd.read_csv('files/switzerland_occupations.csv')\n",
    "coefficients_outside_95 = pd.read_csv('files/coefficients.csv')\n",
    "intercept = pd.read_csv('files/intercept.csv').iloc[0, 0]\n",
    "not_automatable = [item[0] for item in pd.read_csv(\"files/not_automatable.csv\").values.tolist()]"
   ]
  },
  {
   "cell_type": "code",
   "execution_count": 725,
   "metadata": {},
   "outputs": [
    {
     "data": {
      "text/html": [
       "<div>\n",
       "<style scoped>\n",
       "    .dataframe tbody tr th:only-of-type {\n",
       "        vertical-align: middle;\n",
       "    }\n",
       "\n",
       "    .dataframe tbody tr th {\n",
       "        vertical-align: top;\n",
       "    }\n",
       "\n",
       "    .dataframe thead th {\n",
       "        text-align: right;\n",
       "    }\n",
       "</style>\n",
       "<table border=\"1\" class=\"dataframe\">\n",
       "  <thead>\n",
       "    <tr style=\"text-align: right;\">\n",
       "      <th></th>\n",
       "      <th>isco08</th>\n",
       "      <th>Name_de</th>\n",
       "      <th>Berufshauptgruppe</th>\n",
       "      <th>s1</th>\n",
       "      <th>s2</th>\n",
       "      <th>s3</th>\n",
       "      <th>s4</th>\n",
       "      <th>s5</th>\n",
       "      <th>s6</th>\n",
       "      <th>s7</th>\n",
       "      <th>...</th>\n",
       "      <th>a43</th>\n",
       "      <th>a44</th>\n",
       "      <th>a45</th>\n",
       "      <th>a46</th>\n",
       "      <th>a47</th>\n",
       "      <th>a48</th>\n",
       "      <th>a49</th>\n",
       "      <th>a50</th>\n",
       "      <th>a51</th>\n",
       "      <th>a52</th>\n",
       "    </tr>\n",
       "  </thead>\n",
       "  <tbody>\n",
       "    <tr>\n",
       "      <th>0</th>\n",
       "      <td>2655</td>\n",
       "      <td>Schauspieler</td>\n",
       "      <td>2</td>\n",
       "      <td>0.72</td>\n",
       "      <td>0.72</td>\n",
       "      <td>0.69</td>\n",
       "      <td>0.69</td>\n",
       "      <td>0.50</td>\n",
       "      <td>0.50</td>\n",
       "      <td>0.50</td>\n",
       "      <td>...</td>\n",
       "      <td>0.0</td>\n",
       "      <td>0.00</td>\n",
       "      <td>0.0</td>\n",
       "      <td>0.0</td>\n",
       "      <td>0.0</td>\n",
       "      <td>0.0</td>\n",
       "      <td>0.0</td>\n",
       "      <td>0.0</td>\n",
       "      <td>0.0</td>\n",
       "      <td>0.0</td>\n",
       "    </tr>\n",
       "    <tr>\n",
       "      <th>1</th>\n",
       "      <td>2612</td>\n",
       "      <td>Richter</td>\n",
       "      <td>2</td>\n",
       "      <td>0.81</td>\n",
       "      <td>0.75</td>\n",
       "      <td>0.81</td>\n",
       "      <td>0.72</td>\n",
       "      <td>0.81</td>\n",
       "      <td>0.66</td>\n",
       "      <td>0.56</td>\n",
       "      <td>...</td>\n",
       "      <td>0.0</td>\n",
       "      <td>0.31</td>\n",
       "      <td>0.0</td>\n",
       "      <td>0.0</td>\n",
       "      <td>0.0</td>\n",
       "      <td>0.0</td>\n",
       "      <td>0.0</td>\n",
       "      <td>0.0</td>\n",
       "      <td>0.0</td>\n",
       "      <td>0.0</td>\n",
       "    </tr>\n",
       "  </tbody>\n",
       "</table>\n",
       "<p>2 rows × 90 columns</p>\n",
       "</div>"
      ],
      "text/plain": [
       "   isco08       Name_de  Berufshauptgruppe    s1    s2    s3    s4    s5  \\\n",
       "0    2655  Schauspieler                  2  0.72  0.72  0.69  0.69  0.50   \n",
       "1    2612       Richter                  2  0.81  0.75  0.81  0.72  0.81   \n",
       "\n",
       "     s6    s7  ...  a43   a44  a45  a46  a47  a48  a49  a50  a51  a52  \n",
       "0  0.50  0.50  ...  0.0  0.00  0.0  0.0  0.0  0.0  0.0  0.0  0.0  0.0  \n",
       "1  0.66  0.56  ...  0.0  0.31  0.0  0.0  0.0  0.0  0.0  0.0  0.0  0.0  \n",
       "\n",
       "[2 rows x 90 columns]"
      ]
     },
     "execution_count": 725,
     "metadata": {},
     "output_type": "execute_result"
    }
   ],
   "source": [
    "df_swiss_jobs.head(2)"
   ]
  },
  {
   "cell_type": "code",
   "execution_count": 726,
   "metadata": {},
   "outputs": [
    {
     "data": {
      "text/html": [
       "<div>\n",
       "<style scoped>\n",
       "    .dataframe tbody tr th:only-of-type {\n",
       "        vertical-align: middle;\n",
       "    }\n",
       "\n",
       "    .dataframe tbody tr th {\n",
       "        vertical-align: top;\n",
       "    }\n",
       "\n",
       "    .dataframe thead th {\n",
       "        text-align: right;\n",
       "    }\n",
       "</style>\n",
       "<table border=\"1\" class=\"dataframe\">\n",
       "  <thead>\n",
       "    <tr style=\"text-align: right;\">\n",
       "      <th></th>\n",
       "      <th>id</th>\n",
       "      <th>coefficient</th>\n",
       "    </tr>\n",
       "  </thead>\n",
       "  <tbody>\n",
       "    <tr>\n",
       "      <th>0</th>\n",
       "      <td>a12</td>\n",
       "      <td>-0.809382</td>\n",
       "    </tr>\n",
       "    <tr>\n",
       "      <th>1</th>\n",
       "      <td>s6</td>\n",
       "      <td>-0.701232</td>\n",
       "    </tr>\n",
       "  </tbody>\n",
       "</table>\n",
       "</div>"
      ],
      "text/plain": [
       "    id  coefficient\n",
       "0  a12    -0.809382\n",
       "1   s6    -0.701232"
      ]
     },
     "execution_count": 726,
     "metadata": {},
     "output_type": "execute_result"
    }
   ],
   "source": [
    "coefficients_outside_95.head(2)"
   ]
  },
  {
   "cell_type": "code",
   "execution_count": 727,
   "metadata": {},
   "outputs": [
    {
     "data": {
      "text/html": [
       "<div>\n",
       "<style scoped>\n",
       "    .dataframe tbody tr th:only-of-type {\n",
       "        vertical-align: middle;\n",
       "    }\n",
       "\n",
       "    .dataframe tbody tr th {\n",
       "        vertical-align: top;\n",
       "    }\n",
       "\n",
       "    .dataframe thead th {\n",
       "        text-align: right;\n",
       "    }\n",
       "</style>\n",
       "<table border=\"1\" class=\"dataframe\">\n",
       "  <thead>\n",
       "    <tr style=\"text-align: right;\">\n",
       "      <th></th>\n",
       "      <th>a12</th>\n",
       "      <th>s4</th>\n",
       "      <th>s27</th>\n",
       "      <th>s15</th>\n",
       "      <th>s8</th>\n",
       "      <th>s31</th>\n",
       "      <th>s26</th>\n",
       "      <th>s24</th>\n",
       "      <th>isco08</th>\n",
       "      <th>Name_de</th>\n",
       "      <th>Berufshauptgruppe</th>\n",
       "    </tr>\n",
       "  </thead>\n",
       "  <tbody>\n",
       "    <tr>\n",
       "      <th>0</th>\n",
       "      <td>0.47</td>\n",
       "      <td>0.69</td>\n",
       "      <td>0.0</td>\n",
       "      <td>0.38</td>\n",
       "      <td>0.47</td>\n",
       "      <td>0.0</td>\n",
       "      <td>0.0</td>\n",
       "      <td>0.06</td>\n",
       "      <td>2655</td>\n",
       "      <td>Schauspieler</td>\n",
       "      <td>2</td>\n",
       "    </tr>\n",
       "    <tr>\n",
       "      <th>1</th>\n",
       "      <td>0.78</td>\n",
       "      <td>0.72</td>\n",
       "      <td>0.0</td>\n",
       "      <td>0.56</td>\n",
       "      <td>0.72</td>\n",
       "      <td>0.0</td>\n",
       "      <td>0.0</td>\n",
       "      <td>0.19</td>\n",
       "      <td>2612</td>\n",
       "      <td>Richter</td>\n",
       "      <td>2</td>\n",
       "    </tr>\n",
       "  </tbody>\n",
       "</table>\n",
       "</div>"
      ],
      "text/plain": [
       "    a12    s4  s27   s15    s8  s31  s26   s24  isco08       Name_de  \\\n",
       "0  0.47  0.69  0.0  0.38  0.47  0.0  0.0  0.06    2655  Schauspieler   \n",
       "1  0.78  0.72  0.0  0.56  0.72  0.0  0.0  0.19    2612       Richter   \n",
       "\n",
       "   Berufshauptgruppe  \n",
       "0                  2  \n",
       "1                  2  "
      ]
     },
     "execution_count": 727,
     "metadata": {},
     "output_type": "execute_result"
    }
   ],
   "source": [
    "cols_to_keep = not_automatable\n",
    "cols_to_keep.extend(['isco08', 'Name_de', 'Berufshauptgruppe'])\n",
    "\n",
    "# Drop the other columns\n",
    "df_swiss_jobs = df_swiss_jobs[cols_to_keep]\n",
    "\n",
    "# Display the first few rows of the DataFrame\n",
    "df_swiss_jobs.head(2)"
   ]
  },
  {
   "cell_type": "markdown",
   "metadata": {},
   "source": [
    "<a id='normalize'></a>\n",
    "## Normalize the Data"
   ]
  },
  {
   "cell_type": "code",
   "execution_count": 728,
   "metadata": {},
   "outputs": [
    {
     "data": {
      "text/html": [
       "<div>\n",
       "<style scoped>\n",
       "    .dataframe tbody tr th:only-of-type {\n",
       "        vertical-align: middle;\n",
       "    }\n",
       "\n",
       "    .dataframe tbody tr th {\n",
       "        vertical-align: top;\n",
       "    }\n",
       "\n",
       "    .dataframe thead th {\n",
       "        text-align: right;\n",
       "    }\n",
       "</style>\n",
       "<table border=\"1\" class=\"dataframe\">\n",
       "  <thead>\n",
       "    <tr style=\"text-align: right;\">\n",
       "      <th></th>\n",
       "      <th>a12</th>\n",
       "      <th>s4</th>\n",
       "      <th>s27</th>\n",
       "      <th>s15</th>\n",
       "      <th>s8</th>\n",
       "      <th>s31</th>\n",
       "      <th>s26</th>\n",
       "      <th>s24</th>\n",
       "      <th>isco08</th>\n",
       "      <th>Name_de</th>\n",
       "      <th>Berufshauptgruppe</th>\n",
       "    </tr>\n",
       "  </thead>\n",
       "  <tbody>\n",
       "    <tr>\n",
       "      <th>0</th>\n",
       "      <td>-1.135638</td>\n",
       "      <td>1.329989</td>\n",
       "      <td>-0.478152</td>\n",
       "      <td>-0.154766</td>\n",
       "      <td>-0.453849</td>\n",
       "      <td>-1.464599</td>\n",
       "      <td>-1.08397</td>\n",
       "      <td>-1.190280</td>\n",
       "      <td>2655</td>\n",
       "      <td>Schauspieler</td>\n",
       "      <td>2</td>\n",
       "    </tr>\n",
       "    <tr>\n",
       "      <th>1</th>\n",
       "      <td>1.552699</td>\n",
       "      <td>1.584277</td>\n",
       "      <td>-0.478152</td>\n",
       "      <td>1.142521</td>\n",
       "      <td>1.502201</td>\n",
       "      <td>-1.464599</td>\n",
       "      <td>-1.08397</td>\n",
       "      <td>0.329845</td>\n",
       "      <td>2612</td>\n",
       "      <td>Richter</td>\n",
       "      <td>2</td>\n",
       "    </tr>\n",
       "  </tbody>\n",
       "</table>\n",
       "</div>"
      ],
      "text/plain": [
       "        a12        s4       s27       s15        s8       s31      s26  \\\n",
       "0 -1.135638  1.329989 -0.478152 -0.154766 -0.453849 -1.464599 -1.08397   \n",
       "1  1.552699  1.584277 -0.478152  1.142521  1.502201 -1.464599 -1.08397   \n",
       "\n",
       "        s24  isco08       Name_de  Berufshauptgruppe  \n",
       "0 -1.190280    2655  Schauspieler                  2  \n",
       "1  0.329845    2612       Richter                  2  "
      ]
     },
     "execution_count": 728,
     "metadata": {},
     "output_type": "execute_result"
    }
   ],
   "source": [
    "# Initialize a scaler\n",
    "scaler = StandardScaler()\n",
    "\n",
    "# Define the columns to scale\n",
    "cols_to_scale = [col for col in df_swiss_jobs.columns if col not in ['isco08', 'Name_de',\"Berufshauptgruppe\"]]\n",
    "\n",
    "# Scale only these columns\n",
    "df_swiss_jobs_scaled = df_swiss_jobs.copy()\n",
    "df_swiss_jobs_scaled[cols_to_scale] = scaler.fit_transform(df_swiss_jobs[cols_to_scale])\n",
    "\n",
    "df_swiss_jobs_scaled.head(2)"
   ]
  },
  {
   "cell_type": "markdown",
   "metadata": {},
   "source": [
    "<a id='weighted-sum'></a>\n",
    "## Calculate Weighted Sum from Coefficients"
   ]
  },
  {
   "cell_type": "code",
   "execution_count": 729,
   "metadata": {},
   "outputs": [
    {
     "name": "stdout",
     "output_type": "stream",
     "text": [
      "0.0280082924110774\n"
     ]
    }
   ],
   "source": [
    "# Create a dictionary from the coefficients DataFrame\n",
    "coef_dict = coefficients_outside_95.set_index('id')['coefficient'].to_dict()\n",
    "\n",
    "print(coef_dict[\"s31\"])"
   ]
  },
  {
   "cell_type": "code",
   "execution_count": 730,
   "metadata": {},
   "outputs": [
    {
     "data": {
      "text/html": [
       "<div>\n",
       "<style scoped>\n",
       "    .dataframe tbody tr th:only-of-type {\n",
       "        vertical-align: middle;\n",
       "    }\n",
       "\n",
       "    .dataframe tbody tr th {\n",
       "        vertical-align: top;\n",
       "    }\n",
       "\n",
       "    .dataframe thead th {\n",
       "        text-align: right;\n",
       "    }\n",
       "</style>\n",
       "<table border=\"1\" class=\"dataframe\">\n",
       "  <thead>\n",
       "    <tr style=\"text-align: right;\">\n",
       "      <th></th>\n",
       "      <th>a12</th>\n",
       "      <th>s4</th>\n",
       "      <th>s27</th>\n",
       "      <th>s15</th>\n",
       "      <th>s8</th>\n",
       "      <th>s31</th>\n",
       "      <th>s26</th>\n",
       "      <th>s24</th>\n",
       "      <th>isco08</th>\n",
       "      <th>Name_de</th>\n",
       "      <th>Berufshauptgruppe</th>\n",
       "      <th>weighted_sum</th>\n",
       "    </tr>\n",
       "  </thead>\n",
       "  <tbody>\n",
       "    <tr>\n",
       "      <th>0</th>\n",
       "      <td>-1.135638</td>\n",
       "      <td>1.329989</td>\n",
       "      <td>-0.478152</td>\n",
       "      <td>-0.154766</td>\n",
       "      <td>-0.453849</td>\n",
       "      <td>-1.464599</td>\n",
       "      <td>-1.08397</td>\n",
       "      <td>-1.190280</td>\n",
       "      <td>2655</td>\n",
       "      <td>Schauspieler</td>\n",
       "      <td>2</td>\n",
       "      <td>0.050777</td>\n",
       "    </tr>\n",
       "    <tr>\n",
       "      <th>1</th>\n",
       "      <td>1.552699</td>\n",
       "      <td>1.584277</td>\n",
       "      <td>-0.478152</td>\n",
       "      <td>1.142521</td>\n",
       "      <td>1.502201</td>\n",
       "      <td>-1.464599</td>\n",
       "      <td>-1.08397</td>\n",
       "      <td>0.329845</td>\n",
       "      <td>2612</td>\n",
       "      <td>Richter</td>\n",
       "      <td>2</td>\n",
       "      <td>-0.822573</td>\n",
       "    </tr>\n",
       "  </tbody>\n",
       "</table>\n",
       "</div>"
      ],
      "text/plain": [
       "        a12        s4       s27       s15        s8       s31      s26  \\\n",
       "0 -1.135638  1.329989 -0.478152 -0.154766 -0.453849 -1.464599 -1.08397   \n",
       "1  1.552699  1.584277 -0.478152  1.142521  1.502201 -1.464599 -1.08397   \n",
       "\n",
       "        s24  isco08       Name_de  Berufshauptgruppe  weighted_sum  \n",
       "0 -1.190280    2655  Schauspieler                  2      0.050777  \n",
       "1  0.329845    2612       Richter                  2     -0.822573  "
      ]
     },
     "execution_count": 730,
     "metadata": {},
     "output_type": "execute_result"
    }
   ],
   "source": [
    "# calculate weighted sums\n",
    "ignore_cols = ['Name_de', 'isco08', 'Berufshauptgruppe']\n",
    "weighted_sums = []\n",
    "\n",
    "for index, row in df_swiss_jobs_scaled.iterrows():\n",
    "    sum = 0\n",
    "    for col_name, col_value in row.items():\n",
    "        if col_name not in ignore_cols:\n",
    "            sum += coef_dict[col_name] * col_value\n",
    "    weighted_sums.append(sum)\n",
    "\n",
    "# Create a new DataFrame for the weighted sums\n",
    "df_swiss_jobs_scaled[\"weighted_sum\"] = pd.DataFrame(weighted_sums)\n",
    "\n",
    "df_swiss_jobs_scaled.head(2)"
   ]
  },
  {
   "cell_type": "markdown",
   "metadata": {},
   "source": [
    "<a id='probability'></a>\n",
    "## Calculate Probability of Automation"
   ]
  },
  {
   "cell_type": "code",
   "execution_count": 731,
   "metadata": {},
   "outputs": [],
   "source": [
    "# Calculate the probabilities\n",
    "prob_list = [m.exp(x_i + intercept) / (1 + m.exp(x_i + intercept)) for x_i in df_swiss_jobs_scaled['weighted_sum']]"
   ]
  },
  {
   "cell_type": "code",
   "execution_count": 732,
   "metadata": {},
   "outputs": [
    {
     "data": {
      "text/html": [
       "<div>\n",
       "<style scoped>\n",
       "    .dataframe tbody tr th:only-of-type {\n",
       "        vertical-align: middle;\n",
       "    }\n",
       "\n",
       "    .dataframe tbody tr th {\n",
       "        vertical-align: top;\n",
       "    }\n",
       "\n",
       "    .dataframe thead th {\n",
       "        text-align: right;\n",
       "    }\n",
       "</style>\n",
       "<table border=\"1\" class=\"dataframe\">\n",
       "  <thead>\n",
       "    <tr style=\"text-align: right;\">\n",
       "      <th></th>\n",
       "      <th>a12</th>\n",
       "      <th>s4</th>\n",
       "      <th>s27</th>\n",
       "      <th>s15</th>\n",
       "      <th>s8</th>\n",
       "      <th>s31</th>\n",
       "      <th>s26</th>\n",
       "      <th>s24</th>\n",
       "      <th>isco08</th>\n",
       "      <th>Name_de</th>\n",
       "      <th>Berufshauptgruppe</th>\n",
       "      <th>weighted_sum</th>\n",
       "      <th>probability</th>\n",
       "    </tr>\n",
       "  </thead>\n",
       "  <tbody>\n",
       "    <tr>\n",
       "      <th>0</th>\n",
       "      <td>-1.135638</td>\n",
       "      <td>1.329989</td>\n",
       "      <td>-0.478152</td>\n",
       "      <td>-0.154766</td>\n",
       "      <td>-0.453849</td>\n",
       "      <td>-1.464599</td>\n",
       "      <td>-1.083970</td>\n",
       "      <td>-1.190280</td>\n",
       "      <td>2655</td>\n",
       "      <td>Schauspieler</td>\n",
       "      <td>2</td>\n",
       "      <td>0.050777</td>\n",
       "      <td>0.461774</td>\n",
       "    </tr>\n",
       "    <tr>\n",
       "      <th>1</th>\n",
       "      <td>1.552699</td>\n",
       "      <td>1.584277</td>\n",
       "      <td>-0.478152</td>\n",
       "      <td>1.142521</td>\n",
       "      <td>1.502201</td>\n",
       "      <td>-1.464599</td>\n",
       "      <td>-1.083970</td>\n",
       "      <td>0.329845</td>\n",
       "      <td>2612</td>\n",
       "      <td>Richter</td>\n",
       "      <td>2</td>\n",
       "      <td>-0.822573</td>\n",
       "      <td>0.263753</td>\n",
       "    </tr>\n",
       "    <tr>\n",
       "      <th>2</th>\n",
       "      <td>1.032376</td>\n",
       "      <td>-0.534788</td>\n",
       "      <td>2.095368</td>\n",
       "      <td>-0.154766</td>\n",
       "      <td>0.798023</td>\n",
       "      <td>0.792444</td>\n",
       "      <td>1.302311</td>\n",
       "      <td>1.382239</td>\n",
       "      <td>3115</td>\n",
       "      <td>Maschinenbautechniker, Techniker im Bereich Sy...</td>\n",
       "      <td>3</td>\n",
       "      <td>-0.342688</td>\n",
       "      <td>0.366638</td>\n",
       "    </tr>\n",
       "    <tr>\n",
       "      <th>3</th>\n",
       "      <td>1.292537</td>\n",
       "      <td>-0.280500</td>\n",
       "      <td>-0.478152</td>\n",
       "      <td>0.277663</td>\n",
       "      <td>1.736927</td>\n",
       "      <td>-1.464599</td>\n",
       "      <td>-1.083970</td>\n",
       "      <td>0.680643</td>\n",
       "      <td>2120</td>\n",
       "      <td>Mathematiker, Aktuare und Statistiker</td>\n",
       "      <td>2</td>\n",
       "      <td>-0.044931</td>\n",
       "      <td>0.438091</td>\n",
       "    </tr>\n",
       "    <tr>\n",
       "      <th>4</th>\n",
       "      <td>1.032376</td>\n",
       "      <td>1.838564</td>\n",
       "      <td>-0.478152</td>\n",
       "      <td>0.926306</td>\n",
       "      <td>0.798023</td>\n",
       "      <td>-1.464599</td>\n",
       "      <td>-0.909364</td>\n",
       "      <td>0.329845</td>\n",
       "      <td>1222</td>\n",
       "      <td>Führungskräfte in Werbung und Öffentlichkeitsa...</td>\n",
       "      <td>1</td>\n",
       "      <td>-0.671868</td>\n",
       "      <td>0.294039</td>\n",
       "    </tr>\n",
       "  </tbody>\n",
       "</table>\n",
       "</div>"
      ],
      "text/plain": [
       "        a12        s4       s27       s15        s8       s31       s26  \\\n",
       "0 -1.135638  1.329989 -0.478152 -0.154766 -0.453849 -1.464599 -1.083970   \n",
       "1  1.552699  1.584277 -0.478152  1.142521  1.502201 -1.464599 -1.083970   \n",
       "2  1.032376 -0.534788  2.095368 -0.154766  0.798023  0.792444  1.302311   \n",
       "3  1.292537 -0.280500 -0.478152  0.277663  1.736927 -1.464599 -1.083970   \n",
       "4  1.032376  1.838564 -0.478152  0.926306  0.798023 -1.464599 -0.909364   \n",
       "\n",
       "        s24  isco08                                            Name_de  \\\n",
       "0 -1.190280    2655                                       Schauspieler   \n",
       "1  0.329845    2612                                            Richter   \n",
       "2  1.382239    3115  Maschinenbautechniker, Techniker im Bereich Sy...   \n",
       "3  0.680643    2120              Mathematiker, Aktuare und Statistiker   \n",
       "4  0.329845    1222  Führungskräfte in Werbung und Öffentlichkeitsa...   \n",
       "\n",
       "   Berufshauptgruppe  weighted_sum  probability  \n",
       "0                  2      0.050777     0.461774  \n",
       "1                  2     -0.822573     0.263753  \n",
       "2                  3     -0.342688     0.366638  \n",
       "3                  2     -0.044931     0.438091  \n",
       "4                  1     -0.671868     0.294039  "
      ]
     },
     "execution_count": 732,
     "metadata": {},
     "output_type": "execute_result"
    }
   ],
   "source": [
    "# Add the probabilities to the DataFrame\n",
    "df_swiss_jobs_scaled['probability'] = prob_list\n",
    "\n",
    "df_swiss_jobs_scaled.head(5)"
   ]
  },
  {
   "cell_type": "markdown",
   "metadata": {},
   "source": [
    "<a id='display'></a>\n",
    "## Display Results"
   ]
  },
  {
   "cell_type": "code",
   "execution_count": 733,
   "metadata": {},
   "outputs": [
    {
     "data": {
      "image/png": "[encoded data removed]",
      "text/plain": [
       "<Figure size 1000x500 with 1 Axes>"
      ]
     },
     "metadata": {},
     "output_type": "display_data"
    }
   ],
   "source": [
    "# Get the values\n",
    "x = df_swiss_jobs_scaled[\"probability\"].values\n",
    "\n",
    "# Set the size of the plot\n",
    "plt.figure(figsize=(10, 5))\n",
    "\n",
    "# Calculate the histogram\n",
    "hist, bins = np.histogram(x, bins=20)\n",
    "\n",
    "# Calculate the width and center of the bars\n",
    "width = 1 * (bins[1] - bins[0])\n",
    "center = (bins[:-1] + bins[1:]) / 2\n",
    "\n",
    "# Plot the histogram\n",
    "plt.bar(center, hist, align='center', width=width, color='#4682B4', edgecolor='white')\n",
    "\n",
    "# Add lines at 0.3 and 0.7\n",
    "plt.axvline(0.3, color='r', linewidth=1)\n",
    "plt.axvline(0.7, color='r', linewidth=1)\n",
    "\n",
    "# Calculate the percentage of jobs between 0 and 0.3, 0.3 and 0.7, 0.7 and 1\n",
    "percentage_0_03 = (x <= 0.3).mean() * 100\n",
    "percentage_03_07 = ((0.3 < x) & (x < 0.7)).mean() * 100\n",
    "percentage_07_1 = (x >= 0.7).mean() * 100\n",
    "\n",
    "# Add the percentages to the plot\n",
    "plt.text(0.15, max(hist) - 1, f'{percentage_0_03:.2f}%', ha='right', va='center', color='black')\n",
    "plt.text(0.5, max(hist) - 1, f'{percentage_03_07:.2f}%', ha='right', va='center', color='black')\n",
    "plt.text(0.85, max(hist) - 1, f'{percentage_07_1:.2f}%', ha='right', va='center', color='black')\n",
    "\n",
    "# Show the plot\n",
    "plt.show()"
   ]
  },
  {
   "cell_type": "code",
   "execution_count": 734,
   "metadata": {},
   "outputs": [
    {
     "name": "stdout",
     "output_type": "stream",
     "text": [
      "Number of jobs with probability below 0.3: 64\n",
      "Number of jobs with probability between 0.3 and 0.7: 259\n",
      "Number of jobs with probability above 0.7: 23\n"
     ]
    }
   ],
   "source": [
    "# Jobs with probability below 0.3\n",
    "jobs_below_03 = df_swiss_jobs_scaled[df_swiss_jobs_scaled['probability'] <= 0.3]\n",
    "print(f\"Number of jobs with probability below 0.3: {len(jobs_below_03)}\")\n",
    "\n",
    "# Jobs with probability between 0.3 and 0.7\n",
    "jobs_between_03_and_07 = df_swiss_jobs_scaled[(df_swiss_jobs_scaled['probability'] > 0.3) & (df_swiss_jobs_scaled['probability'] <= 0.7)]\n",
    "print(f\"Number of jobs with probability between 0.3 and 0.7: {len(jobs_between_03_and_07)}\")\n",
    "\n",
    "# Jobs with probability above 0.7\n",
    "jobs_above_07 = df_swiss_jobs_scaled[df_swiss_jobs_scaled['probability'] > 0.7]\n",
    "print(f\"Number of jobs with probability above 0.7: {len(jobs_above_07)}\")"
   ]
  },
  {
   "cell_type": "code",
   "execution_count": 735,
   "metadata": {},
   "outputs": [
    {
     "name": "stdout",
     "output_type": "stream",
     "text": [
      "Percentage of jobs with probability above 0.5: 39.02%\n"
     ]
    }
   ],
   "source": [
    "# Percentage of jobs with probability above 0.5\n",
    "percentage_above_05 = (df_swiss_jobs_scaled['probability'] > 0.5).mean() * 100\n",
    "print(f\"Percentage of jobs with probability above 0.5: {percentage_above_05:.2f}%\")"
   ]
  },
  {
   "cell_type": "code",
   "execution_count": 736,
   "metadata": {},
   "outputs": [
    {
     "data": {
      "image/png": "[encoded data removed]",
      "text/plain": [
       "<Figure size 1000x500 with 1 Axes>"
      ]
     },
     "metadata": {},
     "output_type": "display_data"
    }
   ],
   "source": [
    "# Get the values\n",
    "x = df_swiss_jobs_scaled[\"probability\"].values\n",
    "\n",
    "# Create subsets for probabilities above and below 0.5\n",
    "x_below_05 = x[x <= 0.5]\n",
    "x_above_05 = x[x > 0.5]\n",
    "\n",
    "# Set the size of the plot\n",
    "plt.figure(figsize=(10, 5))\n",
    "\n",
    "# Calculate the histograms\n",
    "hist_below_05, bins_below_05 = np.histogram(x_below_05, bins=20)\n",
    "hist_above_05, bins_above_05 = np.histogram(x_above_05, bins=20)\n",
    "\n",
    "# Calculate the width and center of the bars\n",
    "width_below_05 = 1 * (bins_below_05[1] - bins_below_05[0])\n",
    "center_below_05 = (bins_below_05[:-1] + bins_below_05[1:]) / 2\n",
    "\n",
    "width_above_05 = 1 * (bins_above_05[1] - bins_above_05[0])\n",
    "center_above_05 = (bins_above_05[:-1] + bins_above_05[1:]) / 2\n",
    "\n",
    "# Plot the histograms\n",
    "plt.bar(center_below_05, hist_below_05, align='center', width=width_below_05, color='#4682B4', edgecolor='white', label='nicht substituierbar')\n",
    "plt.bar(center_above_05, hist_above_05, align='center', width=width_above_05, color='#B44668', edgecolor='white', label='substituierbar')\n",
    "\n",
    "# Calculate the percentages\n",
    "percentage_below_05 = len(x_below_05) / len(x) * 100\n",
    "percentage_above_05 = len(x_above_05) / len(x) * 100\n",
    "\n",
    "# Add the percentages to the plot\n",
    "plt.text(0.25, max(hist_below_05) - 5, f'{percentage_below_05:.2f}%', ha='center', va='center')\n",
    "plt.text(0.75, max(hist_above_05) - 5, f'{percentage_above_05:.2f}%', ha='center', va='center')\n",
    "\n",
    "# Add a legend\n",
    "plt.legend()\n",
    "\n",
    "# Show the plot\n",
    "plt.show()"
   ]
  },
  {
   "cell_type": "code",
   "execution_count": 737,
   "metadata": {},
   "outputs": [],
   "source": [
    "# Group by 'berufshauptgruppe' and calculate the mean probability\n",
    "df_probability_per_berufshauptgruppe = df_swiss_jobs_scaled.groupby('Berufshauptgruppe')['probability'].mean().reset_index()"
   ]
  },
  {
   "cell_type": "markdown",
   "metadata": {},
   "source": [
    "<a id='save'></a>\n",
    "## Save Results"
   ]
  },
  {
   "cell_type": "code",
   "execution_count": 738,
   "metadata": {},
   "outputs": [],
   "source": [
    "\n",
    "df_probabilities = df_swiss_jobs_scaled[['Name_de', 'Berufshauptgruppe', 'probability', \"isco08\"]].copy()\n",
    "df_pytorch_model = df_swiss_jobs_scaled.drop(columns=[\"weighted_sum\"])"
   ]
  },
  {
   "cell_type": "code",
   "execution_count": 739,
   "metadata": {},
   "outputs": [],
   "source": [
    "df_probabilities['probability'] = df_probabilities['probability'].round(4)\n",
    "df_probabilities.to_csv('files/switzerland_probabilities.csv', index=False)\n",
    "df_probability_per_berufshauptgruppe.to_csv('files/switzerland_probability_berufshauptgruppe.csv', index=False)"
   ]
  }
 ],
 "metadata": {
  "kernelspec": {
   "display_name": "bachelorarbeit",
   "language": "python",
   "name": "python3"
  },
  "language_info": {
   "codemirror_mode": {
    "name": "ipython",
    "version": 3
   },
   "file_extension": ".py",
   "mimetype": "text/x-python",
   "name": "python",
   "nbconvert_exporter": "python",
   "pygments_lexer": "ipython3",
   "version": "3.11.8"
  }
 },
 "nbformat": 4,
 "nbformat_minor": 2
}
