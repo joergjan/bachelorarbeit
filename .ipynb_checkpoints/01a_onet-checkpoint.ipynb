{
 "cells": [
  {
   "cell_type": "markdown",
   "metadata": {},
   "source": [
    "# Load Data from O*NET"
   ]
  },
  {
   "cell_type": "markdown",
   "metadata": {},
   "source": [
    "## Content\n",
    "1. [Call API to get all Jobs](#all-jobs)\n",
    "2. [get details for each job](#details)\n",
    "3. [save to db](#save-to-db)"
   ]
  },
  {
   "cell_type": "code",
   "execution_count": 6,
   "metadata": {},
   "outputs": [],
   "source": [
    "# imports\n",
    "import requests\n",
    "from requests.auth import HTTPBasicAuth\n",
    "import json\n",
    "from db import get_database"
   ]
  },
  {
   "cell_type": "markdown",
   "metadata": {},
   "source": [
    "<a id='all-jobs'></a>\n",
    "## Call API to get all Jobs"
   ]
  },
  {
   "cell_type": "code",
   "execution_count": 7,
   "metadata": {},
   "outputs": [],
   "source": [
    "# import authentication data\n",
    "with open('./infos.json') as f:\n",
    "    infos = json.load(f)\n",
    "    onet = infos['onet']\n",
    "    onetUsername = onet['username']\n",
    "    onetPassword = onet['password']"
   ]
  },
  {
   "cell_type": "code",
   "execution_count": 8,
   "metadata": {},
   "outputs": [],
   "source": [
    "# get all available jobs from onet\n",
    "occupationsUrl = \"https://services.onetcenter.org/ws/online/occupations/\"\n",
    "headers = {'Accept': 'application/json'}\n",
    "initialRequest = requests.get(occupationsUrl, auth=HTTPBasicAuth(onetUsername, onetPassword), headers=headers)\n",
    "\n",
    "if initialRequest.status_code == 200:\n",
    "    data = initialRequest.json()\n",
    "    # the initial request only returns 20 jobs, so we need to make another request to get all the jobs. \n",
    "    # the initial request includes the total of available jobs\n",
    "    total = data['total']\n",
    "else:\n",
    "    print(f\"Request failed with status code {initialRequest.status_code}\")\n",
    "\n",
    "# get all jobs\n",
    "getAllOccupations = requests.get(occupationsUrl, auth=HTTPBasicAuth(onetUsername, onetPassword), headers=headers, params={'start': 1, 'end': total})\n",
    "\n",
    "if getAllOccupations.status_code == 200:\n",
    "    data = getAllOccupations.json()\n",
    "    occupations = data['occupation']\n",
    "else:\n",
    "    print(f\"Request failed with status code {getAllOccupations.status_code}\")"
   ]
  },
  {
   "cell_type": "markdown",
   "metadata": {},
   "source": [
    "<a id='details'></a>\n",
    "## Get details for each Job"
   ]
  },
  {
   "cell_type": "code",
   "execution_count": 9,
   "metadata": {},
   "outputs": [],
   "source": [
    "# Fetch details for each job\n",
    "summaries=[]\n",
    "\n",
    "for occupation in occupations:\n",
    "    # without ?display=long onet only returns up to 5 items per category\n",
    "    summaryUrl = f\"https://services.onetcenter.org/ws/online/occupations/{occupation['code']}/details?display=long\"\n",
    "    summaryRequest = requests.get(summaryUrl, auth=HTTPBasicAuth(onetUsername, onetPassword), headers=headers)\n",
    "   \n",
    "    if summaryRequest.status_code == 200:\n",
    "        occupation_data = summaryRequest.json()\n",
    "\n",
    "        summaries.append(occupation_data)\n",
    "    else:\n",
    "        print(f\"Request for occupation {occupation['code']} failed with status code {summaryRequest.status_code}\")"
   ]
  },
  {
   "cell_type": "markdown",
   "metadata": {},
   "source": [
    "<a id='save-to-db'></a>\n",
    "## Save to DB"
   ]
  },
  {
   "cell_type": "code",
   "execution_count": 10,
   "metadata": {},
   "outputs": [
    {
     "name": "stdout",
     "output_type": "stream",
     "text": [
      "total jobs:  1016\n"
     ]
    }
   ],
   "source": [
    "# save the data to the database\n",
    "dbname = get_database()\n",
    "\n",
    "collection_name = dbname[\"onet\"]\n",
    "\n",
    "# Convert summaries to a list of dictionaries\n",
    "summaries_dict = [summary for summary in summaries]\n",
    "\n",
    "# Insert the dictionaries into the MongoDB collection\n",
    "collection_name.insert_many(summaries_dict)\n",
    "\n",
    "print(\"total jobs: \", len(summaries_dict))"
   ]
  }
 ],
 "metadata": {
  "kernelspec": {
   "display_name": "Python 3 (ipykernel)",
   "language": "python",
   "name": "python3"
  },
  "language_info": {
   "codemirror_mode": {
    "name": "ipython",
    "version": 3
   },
   "file_extension": ".py",
   "mimetype": "text/x-python",
   "name": "python",
   "nbconvert_exporter": "python",
   "pygments_lexer": "ipython3",
   "version": "3.11.7"
  }
 },
 "nbformat": 4,
 "nbformat_minor": 2
}
