{
 "cells": [
  {
   "cell_type": "markdown",
   "metadata": {},
   "source": [
    "# Convert Historical Data (txt) from Osborne & Frey to .csv\n",
    "\n",
    "source: Osborne, M. A., & Frey, C. B. (2013). The future of employment: How susceptible are jobs to computerisation?  \n",
    "converted to txt with [snagit](https://www.techsmith.com/screen-capture.html)  "
   ]
  },
  {
   "cell_type": "markdown",
   "metadata": {},
   "source": [
    "## Content\n",
    "1. [Import TXT](#txt-import)\n",
    "2. [Convert to CSV](#convert)"
   ]
  },
  {
   "cell_type": "code",
   "execution_count": 1,
   "metadata": {},
   "outputs": [],
   "source": [
    "# imports\n",
    "import pandas as pd\n",
    "import re"
   ]
  },
  {
   "cell_type": "markdown",
   "metadata": {},
   "source": [
    "<a id='txt-import'></a>\n",
    "## Import TXT"
   ]
  },
  {
   "cell_type": "code",
   "execution_count": 2,
   "metadata": {},
   "outputs": [
    {
     "data": {
      "text/html": [
       "<div>\n",
       "<style scoped>\n",
       "    .dataframe tbody tr th:only-of-type {\n",
       "        vertical-align: middle;\n",
       "    }\n",
       "\n",
       "    .dataframe tbody tr th {\n",
       "        vertical-align: top;\n",
       "    }\n",
       "\n",
       "    .dataframe thead th {\n",
       "        text-align: right;\n",
       "    }\n",
       "</style>\n",
       "<table border=\"1\" class=\"dataframe\">\n",
       "  <thead>\n",
       "    <tr style=\"text-align: right;\">\n",
       "      <th></th>\n",
       "      <th>Rank,Probability,Label,code,Occupation</th>\n",
       "    </tr>\n",
       "  </thead>\n",
       "  <tbody>\n",
       "    <tr>\n",
       "      <th>0</th>\n",
       "      <td>1. 0.0028 29-1125 Recreational Therapists</td>\n",
       "    </tr>\n",
       "    <tr>\n",
       "      <th>1</th>\n",
       "      <td>2. 0.003 49-1011 First-Line Supervisors of Mec...</td>\n",
       "    </tr>\n",
       "    <tr>\n",
       "      <th>2</th>\n",
       "      <td>3. 0.003 11-9161 Emergency Management Directors</td>\n",
       "    </tr>\n",
       "    <tr>\n",
       "      <th>3</th>\n",
       "      <td>4. 0.0031 21-1023 Mental Health and Substance ...</td>\n",
       "    </tr>\n",
       "    <tr>\n",
       "      <th>4</th>\n",
       "      <td>5. 0.0033 29-1181 Audiologists</td>\n",
       "    </tr>\n",
       "  </tbody>\n",
       "</table>\n",
       "</div>"
      ],
      "text/plain": [
       "              Rank,Probability,Label,code,Occupation\n",
       "0          1. 0.0028 29-1125 Recreational Therapists\n",
       "1  2. 0.003 49-1011 First-Line Supervisors of Mec...\n",
       "2    3. 0.003 11-9161 Emergency Management Directors\n",
       "3  4. 0.0031 21-1023 Mental Health and Substance ...\n",
       "4                     5. 0.0033 29-1181 Audiologists"
      ]
     },
     "execution_count": 2,
     "metadata": {},
     "output_type": "execute_result"
    }
   ],
   "source": [
    "# import txt file\n",
    "df = pd.read_fwf('files/FO.txt')\n",
    "df.head(5)"
   ]
  },
  {
   "cell_type": "markdown",
   "metadata": {},
   "source": [
    "<a id='convert'></a>\n",
    "## Convert to CSV"
   ]
  },
  {
   "cell_type": "code",
   "execution_count": 3,
   "metadata": {},
   "outputs": [],
   "source": [
    "# create csv out of txt\n",
    "\n",
    "# Create an empty list to store the rows\n",
    "rows = []\n",
    "header = ','.join(df.columns.astype(str))\n",
    "rows.append(header)\n",
    "\n",
    "# Iterate through each row\n",
    "for index, row in df.iterrows():\n",
    "    # Convert the row to a string\n",
    "    row_str = ' '.join(row.astype(str))\n",
    "    # Replace the first space with a comma\n",
    "    row_str = row_str.replace(' ', ',', 1)\n",
    "    # Check if there's a single 0 or 1 after the next space (if job is marked as automatable or not)\n",
    "    if re.search(r' [01] ', row_str):\n",
    "        # If true, replace the space with a comma\n",
    "        row_str = re.sub(r' ([01]) ', r',\\1,', row_str)\n",
    "    else:\n",
    "        # If false, add \"na\" in between\n",
    "        row_str = re.sub(r' ', ',na,', row_str, 1)\n",
    "           \n",
    "    # remove last space\n",
    "    row_str = row_str.replace(' ', ',', 1)\n",
    "    \n",
    "    # Remove all commas after the 4th comma (job description has commas in it, which messes up the csv file)\n",
    "    parts = row_str.split(',')\n",
    "    row_str = ','.join(parts[:5]) + ''.join(parts[4:])\n",
    "    # Add the row to the list\n",
    "\n",
    "    rows.append(row_str)"
   ]
  },
  {
   "cell_type": "code",
   "execution_count": 4,
   "metadata": {},
   "outputs": [],
   "source": [
    "# Open a file in write mode\n",
    "with open('files/FO.csv', 'w') as file:\n",
    "    # Write each row to the file\n",
    "    for row in rows:\n",
    "        file.write(row + '\\n')"
   ]
  }
 ],
 "metadata": {
  "kernelspec": {
   "display_name": "bachelorarbeit",
   "language": "python",
   "name": "python3"
  },
  "language_info": {
   "codemirror_mode": {
    "name": "ipython",
    "version": 3
   },
   "file_extension": ".py",
   "mimetype": "text/x-python",
   "name": "python",
   "nbconvert_exporter": "python",
   "pygments_lexer": "ipython3",
   "version": "3.11.8"
  }
 },
 "nbformat": 4,
 "nbformat_minor": 2
}
