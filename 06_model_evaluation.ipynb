{
 "cells": [
  {
   "cell_type": "markdown",
   "metadata": {},
   "source": [
    "### jupyter notebook to check the features for their empirical significance and to check the logistic regression for it's quality\n",
    "\n",
    "author: Jan Jörg\n",
    "date: 14.03.2024"
   ]
  }
 ],
 "metadata": {
  "language_info": {
   "name": "python"
  }
 },
 "nbformat": 4,
 "nbformat_minor": 2
}
