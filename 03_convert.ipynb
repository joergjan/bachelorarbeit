{
 "cells": [
  {
   "cell_type": "markdown",
   "metadata": {},
   "source": [
    "### jupyter notebook to convert text to ids\n",
    "\n",
    "author: Jan Jörg\n",
    "date: 14.03.2024"
   ]
  },
  {
   "cell_type": "code",
   "execution_count": 345,
   "metadata": {},
   "outputs": [],
   "source": [
    "# imports\n",
    "import pandas as pd\n",
    "from db import get_database"
   ]
  },
  {
   "cell_type": "code",
   "execution_count": 346,
   "metadata": {},
   "outputs": [
    {
     "data": {
      "text/html": [
       "<div>\n",
       "<style scoped>\n",
       "    .dataframe tbody tr th:only-of-type {\n",
       "        vertical-align: middle;\n",
       "    }\n",
       "\n",
       "    .dataframe tbody tr th {\n",
       "        vertical-align: top;\n",
       "    }\n",
       "\n",
       "    .dataframe thead th {\n",
       "        text-align: right;\n",
       "    }\n",
       "</style>\n",
       "<table border=\"1\" class=\"dataframe\">\n",
       "  <thead>\n",
       "    <tr style=\"text-align: right;\">\n",
       "      <th></th>\n",
       "      <th>_id</th>\n",
       "      <th>onetsoc19</th>\n",
       "      <th>display</th>\n",
       "      <th>occupation</th>\n",
       "      <th>tasks</th>\n",
       "      <th>technology_skills</th>\n",
       "      <th>tools_used</th>\n",
       "      <th>tools_technology</th>\n",
       "      <th>knowledge</th>\n",
       "      <th>skills</th>\n",
       "      <th>...</th>\n",
       "      <th>job_zone</th>\n",
       "      <th>interests</th>\n",
       "      <th>work_styles</th>\n",
       "      <th>work_values</th>\n",
       "      <th>related_occupations</th>\n",
       "      <th>additional_information</th>\n",
       "      <th>education</th>\n",
       "      <th>2010soc</th>\n",
       "      <th>isco08</th>\n",
       "      <th>Name_de</th>\n",
       "    </tr>\n",
       "  </thead>\n",
       "  <tbody>\n",
       "    <tr>\n",
       "      <th>0</th>\n",
       "      <td>661d1a30d05f1cef398e0e97</td>\n",
       "      <td>27-2011.00</td>\n",
       "      <td>short</td>\n",
       "      <td>{'code': '27-2011.00', 'title': 'Actors', 'tag...</td>\n",
       "      <td>{'task': [{'id': 7646, 'green': False, 'relate...</td>\n",
       "      <td>{'category': [{'related': 'https://services.on...</td>\n",
       "      <td>{'category': [{'related': 'https://services.on...</td>\n",
       "      <td>{'tools': {'category': [{'related': 'https://s...</td>\n",
       "      <td>{'element': [{'id': '2.C.7.c', 'related': 'htt...</td>\n",
       "      <td>{'element': [{'id': '2.A.1.a', 'related': 'htt...</td>\n",
       "      <td>...</td>\n",
       "      <td>{'value': 2, 'title': 'Job Zone Two: Some Prep...</td>\n",
       "      <td>{'high_point_code': 'ASE', 'element': [{'id': ...</td>\n",
       "      <td>{'element': [{'id': '1.C.3.a', 'related': 'htt...</td>\n",
       "      <td>{'element': [{'id': '1.B.2.d', 'related': 'htt...</td>\n",
       "      <td>{'occupation': [{'href': 'https://services.one...</td>\n",
       "      <td>{'source': [{'url': 'http://www.actorsequity.o...</td>\n",
       "      <td>{'level_required': {'category': [{'name': 'Les...</td>\n",
       "      <td>27-2011</td>\n",
       "      <td>2655</td>\n",
       "      <td>Schauspieler</td>\n",
       "    </tr>\n",
       "    <tr>\n",
       "      <th>1</th>\n",
       "      <td>661d1a30d05f1cef398e0e98</td>\n",
       "      <td>15-2011.00</td>\n",
       "      <td>short</td>\n",
       "      <td>{'code': '15-2011.00', 'title': 'Actuaries', '...</td>\n",
       "      <td>{'task': [{'id': 3500, 'green': False, 'relate...</td>\n",
       "      <td>{'category': [{'related': 'https://services.on...</td>\n",
       "      <td>{'category': [{'related': 'https://services.on...</td>\n",
       "      <td>{'tools': {'category': [{'related': 'https://s...</td>\n",
       "      <td>{'element': [{'id': '2.C.4.a', 'related': 'htt...</td>\n",
       "      <td>{'element': [{'id': '2.A.2.a', 'related': 'htt...</td>\n",
       "      <td>...</td>\n",
       "      <td>{'value': 4, 'title': 'Job Zone Four: Consider...</td>\n",
       "      <td>{'high_point_code': 'CIE', 'element': [{'id': ...</td>\n",
       "      <td>{'element': [{'id': '1.C.7.b', 'related': 'htt...</td>\n",
       "      <td>{'element': [{'id': '1.B.2.b', 'related': 'htt...</td>\n",
       "      <td>{'occupation': [{'href': 'https://services.one...</td>\n",
       "      <td>{'source': [{'url': 'https://www.actuary.org/'...</td>\n",
       "      <td>{'level_required': {'category': [{'name': \"Bac...</td>\n",
       "      <td>15-2011</td>\n",
       "      <td>2120</td>\n",
       "      <td>Mathematiker, Aktuare und Statistiker</td>\n",
       "    </tr>\n",
       "  </tbody>\n",
       "</table>\n",
       "<p>2 rows × 24 columns</p>\n",
       "</div>"
      ],
      "text/plain": [
       "                        _id   onetsoc19 display  \\\n",
       "0  661d1a30d05f1cef398e0e97  27-2011.00   short   \n",
       "1  661d1a30d05f1cef398e0e98  15-2011.00   short   \n",
       "\n",
       "                                          occupation  \\\n",
       "0  {'code': '27-2011.00', 'title': 'Actors', 'tag...   \n",
       "1  {'code': '15-2011.00', 'title': 'Actuaries', '...   \n",
       "\n",
       "                                               tasks  \\\n",
       "0  {'task': [{'id': 7646, 'green': False, 'relate...   \n",
       "1  {'task': [{'id': 3500, 'green': False, 'relate...   \n",
       "\n",
       "                                   technology_skills  \\\n",
       "0  {'category': [{'related': 'https://services.on...   \n",
       "1  {'category': [{'related': 'https://services.on...   \n",
       "\n",
       "                                          tools_used  \\\n",
       "0  {'category': [{'related': 'https://services.on...   \n",
       "1  {'category': [{'related': 'https://services.on...   \n",
       "\n",
       "                                    tools_technology  \\\n",
       "0  {'tools': {'category': [{'related': 'https://s...   \n",
       "1  {'tools': {'category': [{'related': 'https://s...   \n",
       "\n",
       "                                           knowledge  \\\n",
       "0  {'element': [{'id': '2.C.7.c', 'related': 'htt...   \n",
       "1  {'element': [{'id': '2.C.4.a', 'related': 'htt...   \n",
       "\n",
       "                                              skills  ...  \\\n",
       "0  {'element': [{'id': '2.A.1.a', 'related': 'htt...  ...   \n",
       "1  {'element': [{'id': '2.A.2.a', 'related': 'htt...  ...   \n",
       "\n",
       "                                            job_zone  \\\n",
       "0  {'value': 2, 'title': 'Job Zone Two: Some Prep...   \n",
       "1  {'value': 4, 'title': 'Job Zone Four: Consider...   \n",
       "\n",
       "                                           interests  \\\n",
       "0  {'high_point_code': 'ASE', 'element': [{'id': ...   \n",
       "1  {'high_point_code': 'CIE', 'element': [{'id': ...   \n",
       "\n",
       "                                         work_styles  \\\n",
       "0  {'element': [{'id': '1.C.3.a', 'related': 'htt...   \n",
       "1  {'element': [{'id': '1.C.7.b', 'related': 'htt...   \n",
       "\n",
       "                                         work_values  \\\n",
       "0  {'element': [{'id': '1.B.2.d', 'related': 'htt...   \n",
       "1  {'element': [{'id': '1.B.2.b', 'related': 'htt...   \n",
       "\n",
       "                                 related_occupations  \\\n",
       "0  {'occupation': [{'href': 'https://services.one...   \n",
       "1  {'occupation': [{'href': 'https://services.one...   \n",
       "\n",
       "                              additional_information  \\\n",
       "0  {'source': [{'url': 'http://www.actorsequity.o...   \n",
       "1  {'source': [{'url': 'https://www.actuary.org/'...   \n",
       "\n",
       "                                           education  2010soc isco08  \\\n",
       "0  {'level_required': {'category': [{'name': 'Les...  27-2011   2655   \n",
       "1  {'level_required': {'category': [{'name': \"Bac...  15-2011   2120   \n",
       "\n",
       "                                 Name_de  \n",
       "0                           Schauspieler  \n",
       "1  Mathematiker, Aktuare und Statistiker  \n",
       "\n",
       "[2 rows x 24 columns]"
      ]
     },
     "execution_count": 346,
     "metadata": {},
     "output_type": "execute_result"
    }
   ],
   "source": [
    "dbname = get_database()\n",
    "collection = dbname[\"joined\"]\n",
    "\n",
    "documents = collection.find()\n",
    "df = pd.DataFrame(list(documents))\n",
    "\n",
    "df.head(2)"
   ]
  },
  {
   "cell_type": "code",
   "execution_count": 347,
   "metadata": {},
   "outputs": [],
   "source": [
    "skills = pd.DataFrame()\n",
    "abilities = pd.DataFrame()\n",
    "tasks = pd.DataFrame()\n",
    "knowledge = pd.DataFrame()\n",
    "work_activities = pd.DataFrame()\n",
    "detailed_work_activities = pd.DataFrame()\n",
    "work_context = pd.DataFrame()\n",
    "job_zone = pd.DataFrame()\n",
    "work_styles = pd.DataFrame()\n",
    "work_values = pd.DataFrame()\n",
    "education = pd.DataFrame()"
   ]
  },
  {
   "cell_type": "code",
   "execution_count": 348,
   "metadata": {},
   "outputs": [
    {
     "data": {
      "text/html": [
       "<div>\n",
       "<style scoped>\n",
       "    .dataframe tbody tr th:only-of-type {\n",
       "        vertical-align: middle;\n",
       "    }\n",
       "\n",
       "    .dataframe tbody tr th {\n",
       "        vertical-align: top;\n",
       "    }\n",
       "\n",
       "    .dataframe thead th {\n",
       "        text-align: right;\n",
       "    }\n",
       "</style>\n",
       "<table border=\"1\" class=\"dataframe\">\n",
       "  <thead>\n",
       "    <tr style=\"text-align: right;\">\n",
       "      <th></th>\n",
       "      <th>id</th>\n",
       "      <th>name</th>\n",
       "      <th>description</th>\n",
       "      <th>skill_id</th>\n",
       "    </tr>\n",
       "  </thead>\n",
       "  <tbody>\n",
       "    <tr>\n",
       "      <th>0</th>\n",
       "      <td>2.A.1.a</td>\n",
       "      <td>Reading Comprehension</td>\n",
       "      <td>Understanding written sentences and paragraphs...</td>\n",
       "      <td>1</td>\n",
       "    </tr>\n",
       "    <tr>\n",
       "      <th>1</th>\n",
       "      <td>2.A.1.d</td>\n",
       "      <td>Speaking</td>\n",
       "      <td>Talking to others to convey information effect...</td>\n",
       "      <td>2</td>\n",
       "    </tr>\n",
       "    <tr>\n",
       "      <th>2</th>\n",
       "      <td>2.A.1.b</td>\n",
       "      <td>Active Listening</td>\n",
       "      <td>Giving full attention to what other people are...</td>\n",
       "      <td>3</td>\n",
       "    </tr>\n",
       "  </tbody>\n",
       "</table>\n",
       "</div>"
      ],
      "text/plain": [
       "        id                   name  \\\n",
       "0  2.A.1.a  Reading Comprehension   \n",
       "1  2.A.1.d               Speaking   \n",
       "2  2.A.1.b       Active Listening   \n",
       "\n",
       "                                         description  skill_id  \n",
       "0  Understanding written sentences and paragraphs...         1  \n",
       "1  Talking to others to convey information effect...         2  \n",
       "2  Giving full attention to what other people are...         3  "
      ]
     },
     "execution_count": 348,
     "metadata": {},
     "output_type": "execute_result"
    }
   ],
   "source": [
    "# Assuming df[\"skills\"] is a column of lists of dictionaries\n",
    "skills = df['skills'].apply(lambda x: x['element']).explode().reset_index(drop=True)\n",
    "\n",
    "# Convert the list of dictionaries into a DataFrame\n",
    "skills_df = pd.json_normalize(skills)\n",
    "\n",
    "# Drop duplicates based on 'id'\n",
    "skills_df = skills_df.drop_duplicates(subset='id')\n",
    "\n",
    "# Reset the index\n",
    "skills_df = skills_df.reset_index(drop=True)\n",
    "\n",
    "skills_df = skills_df.dropna()\n",
    "skills_df = skills_df.drop(columns=[\"related\"])\n",
    "\n",
    "skills_df['skill_id'] = range(1, len(skills_df) + 1)\n",
    "\n",
    "skills_df.head(3)"
   ]
  },
  {
   "cell_type": "code",
   "execution_count": 349,
   "metadata": {},
   "outputs": [
    {
     "data": {
      "text/plain": [
       "InsertManyResult([ObjectId('661d2d7f73e95939959a5ce4'), ObjectId('661d2d7f73e95939959a5ce5'), ObjectId('661d2d7f73e95939959a5ce6'), ObjectId('661d2d7f73e95939959a5ce7'), ObjectId('661d2d7f73e95939959a5ce8'), ObjectId('661d2d7f73e95939959a5ce9'), ObjectId('661d2d7f73e95939959a5cea'), ObjectId('661d2d7f73e95939959a5ceb'), ObjectId('661d2d7f73e95939959a5cec'), ObjectId('661d2d7f73e95939959a5ced'), ObjectId('661d2d7f73e95939959a5cee'), ObjectId('661d2d7f73e95939959a5cef'), ObjectId('661d2d7f73e95939959a5cf0'), ObjectId('661d2d7f73e95939959a5cf1'), ObjectId('661d2d7f73e95939959a5cf2'), ObjectId('661d2d7f73e95939959a5cf3'), ObjectId('661d2d7f73e95939959a5cf4'), ObjectId('661d2d7f73e95939959a5cf5'), ObjectId('661d2d7f73e95939959a5cf6'), ObjectId('661d2d7f73e95939959a5cf7'), ObjectId('661d2d7f73e95939959a5cf8'), ObjectId('661d2d7f73e95939959a5cf9'), ObjectId('661d2d7f73e95939959a5cfa'), ObjectId('661d2d7f73e95939959a5cfb'), ObjectId('661d2d7f73e95939959a5cfc'), ObjectId('661d2d7f73e95939959a5cfd'), ObjectId('661d2d7f73e95939959a5cfe'), ObjectId('661d2d7f73e95939959a5cff'), ObjectId('661d2d7f73e95939959a5d00'), ObjectId('661d2d7f73e95939959a5d01'), ObjectId('661d2d7f73e95939959a5d02')], acknowledged=True)"
      ]
     },
     "execution_count": 349,
     "metadata": {},
     "output_type": "execute_result"
    }
   ],
   "source": [
    "dbname = get_database()\n",
    "\n",
    "collection_name = dbname[\"skills\"]\n",
    "\n",
    "# Insert the dictionaries into the MongoDB collection\n",
    "collection_name.insert_many(skills_df.to_dict(\"records\"))"
   ]
  },
  {
   "cell_type": "code",
   "execution_count": 350,
   "metadata": {},
   "outputs": [
    {
     "data": {
      "text/html": [
       "<div>\n",
       "<style scoped>\n",
       "    .dataframe tbody tr th:only-of-type {\n",
       "        vertical-align: middle;\n",
       "    }\n",
       "\n",
       "    .dataframe tbody tr th {\n",
       "        vertical-align: top;\n",
       "    }\n",
       "\n",
       "    .dataframe thead th {\n",
       "        text-align: right;\n",
       "    }\n",
       "</style>\n",
       "<table border=\"1\" class=\"dataframe\">\n",
       "  <thead>\n",
       "    <tr style=\"text-align: right;\">\n",
       "      <th></th>\n",
       "      <th>id</th>\n",
       "      <th>name</th>\n",
       "      <th>description</th>\n",
       "      <th>ability_id</th>\n",
       "    </tr>\n",
       "  </thead>\n",
       "  <tbody>\n",
       "    <tr>\n",
       "      <th>0</th>\n",
       "      <td>1.A.1.a.3</td>\n",
       "      <td>Oral Expression</td>\n",
       "      <td>The ability to communicate information and ide...</td>\n",
       "      <td>1</td>\n",
       "    </tr>\n",
       "    <tr>\n",
       "      <th>1</th>\n",
       "      <td>1.A.1.a.1</td>\n",
       "      <td>Oral Comprehension</td>\n",
       "      <td>The ability to listen to and understand inform...</td>\n",
       "      <td>2</td>\n",
       "    </tr>\n",
       "    <tr>\n",
       "      <th>2</th>\n",
       "      <td>1.A.1.d.1</td>\n",
       "      <td>Memorization</td>\n",
       "      <td>The ability to remember information such as wo...</td>\n",
       "      <td>3</td>\n",
       "    </tr>\n",
       "  </tbody>\n",
       "</table>\n",
       "</div>"
      ],
      "text/plain": [
       "          id                name  \\\n",
       "0  1.A.1.a.3     Oral Expression   \n",
       "1  1.A.1.a.1  Oral Comprehension   \n",
       "2  1.A.1.d.1        Memorization   \n",
       "\n",
       "                                         description  ability_id  \n",
       "0  The ability to communicate information and ide...           1  \n",
       "1  The ability to listen to and understand inform...           2  \n",
       "2  The ability to remember information such as wo...           3  "
      ]
     },
     "execution_count": 350,
     "metadata": {},
     "output_type": "execute_result"
    }
   ],
   "source": [
    "# Assuming df[\"abilities\"] is a column of lists of dictionaries\n",
    "abilities = df['abilities'].apply(lambda x: x['element']).explode().reset_index(drop=True)\n",
    "\n",
    "# Convert the list of dictionaries into a DataFrame\n",
    "abilities_df = pd.json_normalize(abilities)\n",
    "\n",
    "# Drop duplicates based on 'id'\n",
    "abilities_df = abilities_df.drop_duplicates(subset='id')\n",
    "\n",
    "# Reset the index\n",
    "abilities_df = abilities_df.reset_index(drop=True)\n",
    "\n",
    "abilities_df = abilities_df.dropna()\n",
    "abilities_df = abilities_df.drop(columns=[\"related\"])\n",
    "\n",
    "abilities_df['ability_id'] = range(1, len(abilities_df) + 1)\n",
    "\n",
    "abilities_df.head(3)"
   ]
  },
  {
   "cell_type": "code",
   "execution_count": 351,
   "metadata": {},
   "outputs": [
    {
     "data": {
      "text/plain": [
       "InsertManyResult([ObjectId('661d2d8073e95939959a5d04'), ObjectId('661d2d8073e95939959a5d05'), ObjectId('661d2d8073e95939959a5d06'), ObjectId('661d2d8073e95939959a5d07'), ObjectId('661d2d8073e95939959a5d08'), ObjectId('661d2d8073e95939959a5d09'), ObjectId('661d2d8073e95939959a5d0a'), ObjectId('661d2d8073e95939959a5d0b'), ObjectId('661d2d8073e95939959a5d0c'), ObjectId('661d2d8073e95939959a5d0d'), ObjectId('661d2d8073e95939959a5d0e'), ObjectId('661d2d8073e95939959a5d0f'), ObjectId('661d2d8073e95939959a5d10'), ObjectId('661d2d8073e95939959a5d11'), ObjectId('661d2d8073e95939959a5d12'), ObjectId('661d2d8073e95939959a5d13'), ObjectId('661d2d8073e95939959a5d14'), ObjectId('661d2d8073e95939959a5d15'), ObjectId('661d2d8073e95939959a5d16'), ObjectId('661d2d8073e95939959a5d17'), ObjectId('661d2d8073e95939959a5d18'), ObjectId('661d2d8073e95939959a5d19'), ObjectId('661d2d8073e95939959a5d1a'), ObjectId('661d2d8073e95939959a5d1b'), ObjectId('661d2d8073e95939959a5d1c'), ObjectId('661d2d8073e95939959a5d1d'), ObjectId('661d2d8073e95939959a5d1e'), ObjectId('661d2d8073e95939959a5d1f'), ObjectId('661d2d8073e95939959a5d20'), ObjectId('661d2d8073e95939959a5d21'), ObjectId('661d2d8073e95939959a5d22'), ObjectId('661d2d8073e95939959a5d23'), ObjectId('661d2d8073e95939959a5d24'), ObjectId('661d2d8073e95939959a5d25'), ObjectId('661d2d8073e95939959a5d26'), ObjectId('661d2d8073e95939959a5d27'), ObjectId('661d2d8073e95939959a5d28'), ObjectId('661d2d8073e95939959a5d29'), ObjectId('661d2d8073e95939959a5d2a'), ObjectId('661d2d8073e95939959a5d2b'), ObjectId('661d2d8073e95939959a5d2c'), ObjectId('661d2d8073e95939959a5d2d')], acknowledged=True)"
      ]
     },
     "execution_count": 351,
     "metadata": {},
     "output_type": "execute_result"
    }
   ],
   "source": [
    "dbname = get_database()\n",
    "\n",
    "collection_name = dbname[\"abilities\"]\n",
    "\n",
    "# Insert the dictionaries into the MongoDB collection\n",
    "collection_name.insert_many(abilities_df.to_dict(\"records\"))"
   ]
  },
  {
   "cell_type": "code",
   "execution_count": 352,
   "metadata": {},
   "outputs": [
    {
     "data": {
      "text/html": [
       "<div>\n",
       "<style scoped>\n",
       "    .dataframe tbody tr th:only-of-type {\n",
       "        vertical-align: middle;\n",
       "    }\n",
       "\n",
       "    .dataframe tbody tr th {\n",
       "        vertical-align: top;\n",
       "    }\n",
       "\n",
       "    .dataframe thead th {\n",
       "        text-align: right;\n",
       "    }\n",
       "</style>\n",
       "<table border=\"1\" class=\"dataframe\">\n",
       "  <thead>\n",
       "    <tr style=\"text-align: right;\">\n",
       "      <th></th>\n",
       "      <th>id</th>\n",
       "      <th>name</th>\n",
       "      <th>task_id</th>\n",
       "    </tr>\n",
       "  </thead>\n",
       "  <tbody>\n",
       "    <tr>\n",
       "      <th>0</th>\n",
       "      <td>7646</td>\n",
       "      <td>Collaborate with other actors as part of an en...</td>\n",
       "      <td>1</td>\n",
       "    </tr>\n",
       "    <tr>\n",
       "      <th>1</th>\n",
       "      <td>7649</td>\n",
       "      <td>Portray and interpret roles, using speech, ges...</td>\n",
       "      <td>2</td>\n",
       "    </tr>\n",
       "    <tr>\n",
       "      <th>2</th>\n",
       "      <td>7644</td>\n",
       "      <td>Work closely with directors, other actors, and...</td>\n",
       "      <td>3</td>\n",
       "    </tr>\n",
       "  </tbody>\n",
       "</table>\n",
       "</div>"
      ],
      "text/plain": [
       "     id                                               name  task_id\n",
       "0  7646  Collaborate with other actors as part of an en...        1\n",
       "1  7649  Portray and interpret roles, using speech, ges...        2\n",
       "2  7644  Work closely with directors, other actors, and...        3"
      ]
     },
     "execution_count": 352,
     "metadata": {},
     "output_type": "execute_result"
    }
   ],
   "source": [
    "# Assuming df[\"tasks\"] is a column of lists of dictionaries\n",
    "tasks = df['tasks'].apply(lambda x: x['task']).explode().reset_index(drop=True)\n",
    "\n",
    "# Convert the list of dictionaries into a DataFrame\n",
    "tasks_df = pd.json_normalize(tasks)\n",
    "\n",
    "# Drop duplicates based on 'id'\n",
    "tasks_df = tasks_df.drop_duplicates(subset='id')\n",
    "\n",
    "# Reset the index\n",
    "tasks_df = tasks_df.reset_index(drop=True)\n",
    "\n",
    "tasks_df = tasks_df.dropna()\n",
    "tasks_df = tasks_df.drop(columns=[\"green\", \"related\"])\n",
    "\n",
    "tasks_df['task_id'] = range(1, len(tasks_df) + 1)\n",
    "\n",
    "tasks_df.head(3)"
   ]
  },
  {
   "cell_type": "code",
   "execution_count": 353,
   "metadata": {},
   "outputs": [
    {
     "data": {
      "text/plain": [
       "InsertManyResult([ObjectId('661d2d8073e95939959a5d2f'), ObjectId('661d2d8073e95939959a5d30'), ObjectId('661d2d8073e95939959a5d31'), ObjectId('661d2d8073e95939959a5d32'), ObjectId('661d2d8073e95939959a5d33'), ObjectId('661d2d8073e95939959a5d34'), ObjectId('661d2d8073e95939959a5d35'), ObjectId('661d2d8073e95939959a5d36'), ObjectId('661d2d8073e95939959a5d37'), ObjectId('661d2d8073e95939959a5d38'), ObjectId('661d2d8073e95939959a5d39'), ObjectId('661d2d8073e95939959a5d3a'), ObjectId('661d2d8073e95939959a5d3b'), ObjectId('661d2d8073e95939959a5d3c'), ObjectId('661d2d8073e95939959a5d3d'), ObjectId('661d2d8073e95939959a5d3e'), ObjectId('661d2d8073e95939959a5d3f'), ObjectId('661d2d8073e95939959a5d40'), ObjectId('661d2d8073e95939959a5d41'), ObjectId('661d2d8073e95939959a5d42'), ObjectId('661d2d8073e95939959a5d43'), ObjectId('661d2d8073e95939959a5d44'), ObjectId('661d2d8073e95939959a5d45'), ObjectId('661d2d8073e95939959a5d46'), ObjectId('661d2d8073e95939959a5d47'), ObjectId('661d2d8073e95939959a5d48'), ObjectId('661d2d8073e95939959a5d49'), ObjectId('661d2d8073e95939959a5d4a'), ObjectId('661d2d8073e95939959a5d4b'), ObjectId('661d2d8073e95939959a5d4c'), ObjectId('661d2d8073e95939959a5d4d'), ObjectId('661d2d8073e95939959a5d4e'), ObjectId('661d2d8073e95939959a5d4f'), ObjectId('661d2d8073e95939959a5d50'), ObjectId('661d2d8073e95939959a5d51'), ObjectId('661d2d8073e95939959a5d52'), ObjectId('661d2d8073e95939959a5d53'), ObjectId('661d2d8073e95939959a5d54'), ObjectId('661d2d8073e95939959a5d55'), ObjectId('661d2d8073e95939959a5d56'), ObjectId('661d2d8073e95939959a5d57'), ObjectId('661d2d8073e95939959a5d58'), ObjectId('661d2d8073e95939959a5d59'), ObjectId('661d2d8073e95939959a5d5a'), ObjectId('661d2d8073e95939959a5d5b'), ObjectId('661d2d8073e95939959a5d5c'), ObjectId('661d2d8073e95939959a5d5d'), ObjectId('661d2d8073e95939959a5d5e'), ObjectId('661d2d8073e95939959a5d5f'), ObjectId('661d2d8073e95939959a5d60'), ObjectId('661d2d8073e95939959a5d61'), ObjectId('661d2d8073e95939959a5d62'), ObjectId('661d2d8073e95939959a5d63'), ObjectId('661d2d8073e95939959a5d64'), ObjectId('661d2d8073e95939959a5d65'), ObjectId('661d2d8073e95939959a5d66'), ObjectId('661d2d8073e95939959a5d67'), ObjectId('661d2d8073e95939959a5d68'), ObjectId('661d2d8073e95939959a5d69'), ObjectId('661d2d8073e95939959a5d6a'), ObjectId('661d2d8073e95939959a5d6b'), ObjectId('661d2d8073e95939959a5d6c'), ObjectId('661d2d8073e95939959a5d6d'), ObjectId('661d2d8073e95939959a5d6e'), ObjectId('661d2d8073e95939959a5d6f'), ObjectId('661d2d8073e95939959a5d70'), ObjectId('661d2d8073e95939959a5d71'), ObjectId('661d2d8073e95939959a5d72'), ObjectId('661d2d8073e95939959a5d73'), ObjectId('661d2d8073e95939959a5d74'), ObjectId('661d2d8073e95939959a5d75'), ObjectId('661d2d8073e95939959a5d76'), ObjectId('661d2d8073e95939959a5d77'), ObjectId('661d2d8073e95939959a5d78'), ObjectId('661d2d8073e95939959a5d79'), ObjectId('661d2d8073e95939959a5d7a'), ObjectId('661d2d8073e95939959a5d7b'), ObjectId('661d2d8073e95939959a5d7c'), ObjectId('661d2d8073e95939959a5d7d'), ObjectId('661d2d8073e95939959a5d7e'), ObjectId('661d2d8073e95939959a5d7f'), ObjectId('661d2d8073e95939959a5d80'), ObjectId('661d2d8073e95939959a5d81'), ObjectId('661d2d8073e95939959a5d82'), ObjectId('661d2d8073e95939959a5d83'), ObjectId('661d2d8073e95939959a5d84'), ObjectId('661d2d8073e95939959a5d85'), ObjectId('661d2d8073e95939959a5d86'), ObjectId('661d2d8073e95939959a5d87'), ObjectId('661d2d8073e95939959a5d88'), ObjectId('661d2d8073e95939959a5d89'), ObjectId('661d2d8073e95939959a5d8a'), ObjectId('661d2d8073e95939959a5d8b'), ObjectId('661d2d8073e95939959a5d8c'), ObjectId('661d2d8073e95939959a5d8d'), ObjectId('661d2d8073e95939959a5d8e'), ObjectId('661d2d8073e95939959a5d8f'), ObjectId('661d2d8073e95939959a5d90'), ObjectId('661d2d8073e95939959a5d91'), ObjectId('661d2d8073e95939959a5d92'), ObjectId('661d2d8073e95939959a5d93'), ObjectId('661d2d8073e95939959a5d94'), ObjectId('661d2d8073e95939959a5d95'), ObjectId('661d2d8073e95939959a5d96'), ObjectId('661d2d8073e95939959a5d97'), ObjectId('661d2d8073e95939959a5d98'), ObjectId('661d2d8073e95939959a5d99'), ObjectId('661d2d8073e95939959a5d9a'), ObjectId('661d2d8073e95939959a5d9b'), ObjectId('661d2d8073e95939959a5d9c'), ObjectId('661d2d8073e95939959a5d9d'), ObjectId('661d2d8073e95939959a5d9e'), ObjectId('661d2d8073e95939959a5d9f'), ObjectId('661d2d8073e95939959a5da0'), ObjectId('661d2d8073e95939959a5da1'), ObjectId('661d2d8073e95939959a5da2'), ObjectId('661d2d8073e95939959a5da3'), ObjectId('661d2d8073e95939959a5da4'), ObjectId('661d2d8073e95939959a5da5'), ObjectId('661d2d8073e95939959a5da6'), ObjectId('661d2d8073e95939959a5da7'), ObjectId('661d2d8073e95939959a5da8'), ObjectId('661d2d8073e95939959a5da9'), ObjectId('661d2d8073e95939959a5daa'), ObjectId('661d2d8073e95939959a5dab'), ObjectId('661d2d8073e95939959a5dac'), ObjectId('661d2d8073e95939959a5dad'), ObjectId('661d2d8073e95939959a5dae'), ObjectId('661d2d8073e95939959a5daf'), ObjectId('661d2d8073e95939959a5db0'), ObjectId('661d2d8073e95939959a5db1'), ObjectId('661d2d8073e95939959a5db2'), ObjectId('661d2d8073e95939959a5db3'), ObjectId('661d2d8073e95939959a5db4'), ObjectId('661d2d8073e95939959a5db5'), ObjectId('661d2d8073e95939959a5db6'), ObjectId('661d2d8073e95939959a5db7'), ObjectId('661d2d8073e95939959a5db8'), ObjectId('661d2d8073e95939959a5db9'), ObjectId('661d2d8073e95939959a5dba'), ObjectId('661d2d8073e95939959a5dbb'), ObjectId('661d2d8073e95939959a5dbc'), ObjectId('661d2d8073e95939959a5dbd'), ObjectId('661d2d8073e95939959a5dbe'), ObjectId('661d2d8073e95939959a5dbf'), ObjectId('661d2d8073e95939959a5dc0'), ObjectId('661d2d8073e95939959a5dc1'), ObjectId('661d2d8073e95939959a5dc2'), ObjectId('661d2d8073e95939959a5dc3'), ObjectId('661d2d8073e95939959a5dc4'), ObjectId('661d2d8073e95939959a5dc5'), ObjectId('661d2d8073e95939959a5dc6'), ObjectId('661d2d8073e95939959a5dc7'), ObjectId('661d2d8073e95939959a5dc8'), ObjectId('661d2d8073e95939959a5dc9'), ObjectId('661d2d8073e95939959a5dca'), ObjectId('661d2d8073e95939959a5dcb'), ObjectId('661d2d8073e95939959a5dcc'), ObjectId('661d2d8073e95939959a5dcd'), ObjectId('661d2d8073e95939959a5dce'), ObjectId('661d2d8073e95939959a5dcf'), ObjectId('661d2d8073e95939959a5dd0'), ObjectId('661d2d8073e95939959a5dd1'), ObjectId('661d2d8073e95939959a5dd2'), ObjectId('661d2d8073e95939959a5dd3'), ObjectId('661d2d8073e95939959a5dd4'), ObjectId('661d2d8073e95939959a5dd5'), ObjectId('661d2d8073e95939959a5dd6'), ObjectId('661d2d8073e95939959a5dd7'), ObjectId('661d2d8073e95939959a5dd8'), ObjectId('661d2d8073e95939959a5dd9'), ObjectId('661d2d8073e95939959a5dda'), ObjectId('661d2d8073e95939959a5ddb'), ObjectId('661d2d8073e95939959a5ddc'), ObjectId('661d2d8073e95939959a5ddd'), ObjectId('661d2d8073e95939959a5dde'), ObjectId('661d2d8073e95939959a5ddf'), ObjectId('661d2d8073e95939959a5de0'), ObjectId('661d2d8073e95939959a5de1'), ObjectId('661d2d8073e95939959a5de2'), ObjectId('661d2d8073e95939959a5de3'), ObjectId('661d2d8073e95939959a5de4'), ObjectId('661d2d8073e95939959a5de5'), ObjectId('661d2d8073e95939959a5de6'), ObjectId('661d2d8073e95939959a5de7'), ObjectId('661d2d8073e95939959a5de8'), ObjectId('661d2d8073e95939959a5de9'), ObjectId('661d2d8073e95939959a5dea'), ObjectId('661d2d8073e95939959a5deb'), ObjectId('661d2d8073e95939959a5dec'), ObjectId('661d2d8073e95939959a5ded'), ObjectId('661d2d8073e95939959a5dee'), ObjectId('661d2d8073e95939959a5def'), ObjectId('661d2d8073e95939959a5df0'), ObjectId('661d2d8073e95939959a5df1'), ObjectId('661d2d8073e95939959a5df2'), ObjectId('661d2d8073e95939959a5df3'), ObjectId('661d2d8073e95939959a5df4'), ObjectId('661d2d8073e95939959a5df5'), ObjectId('661d2d8073e95939959a5df6'), ObjectId('661d2d8073e95939959a5df7'), ObjectId('661d2d8073e95939959a5df8'), ObjectId('661d2d8073e95939959a5df9'), ObjectId('661d2d8073e95939959a5dfa'), ObjectId('661d2d8073e95939959a5dfb'), ObjectId('661d2d8073e95939959a5dfc'), ObjectId('661d2d8073e95939959a5dfd'), ObjectId('661d2d8073e95939959a5dfe'), ObjectId('661d2d8073e95939959a5dff'), ObjectId('661d2d8073e95939959a5e00'), ObjectId('661d2d8073e95939959a5e01'), ObjectId('661d2d8073e95939959a5e02'), ObjectId('661d2d8073e95939959a5e03'), ObjectId('661d2d8073e95939959a5e04'), ObjectId('661d2d8073e95939959a5e05'), ObjectId('661d2d8073e95939959a5e06'), ObjectId('661d2d8073e95939959a5e07'), ObjectId('661d2d8073e95939959a5e08'), ObjectId('661d2d8073e95939959a5e09'), ObjectId('661d2d8073e95939959a5e0a'), ObjectId('661d2d8073e95939959a5e0b'), ObjectId('661d2d8073e95939959a5e0c'), ObjectId('661d2d8073e95939959a5e0d'), ObjectId('661d2d8073e95939959a5e0e'), ObjectId('661d2d8073e95939959a5e0f'), ObjectId('661d2d8073e95939959a5e10'), ObjectId('661d2d8073e95939959a5e11'), ObjectId('661d2d8073e95939959a5e12'), ObjectId('661d2d8073e95939959a5e13'), ObjectId('661d2d8073e95939959a5e14'), ObjectId('661d2d8073e95939959a5e15'), ObjectId('661d2d8073e95939959a5e16'), ObjectId('661d2d8073e95939959a5e17'), ObjectId('661d2d8073e95939959a5e18'), ObjectId('661d2d8073e95939959a5e19'), ObjectId('661d2d8073e95939959a5e1a'), ObjectId('661d2d8073e95939959a5e1b'), ObjectId('661d2d8073e95939959a5e1c'), ObjectId('661d2d8073e95939959a5e1d'), ObjectId('661d2d8073e95939959a5e1e'), ObjectId('661d2d8073e95939959a5e1f'), ObjectId('661d2d8073e95939959a5e20'), ObjectId('661d2d8073e95939959a5e21'), ObjectId('661d2d8073e95939959a5e22'), ObjectId('661d2d8073e95939959a5e23'), ObjectId('661d2d8073e95939959a5e24'), ObjectId('661d2d8073e95939959a5e25'), ObjectId('661d2d8073e95939959a5e26'), ObjectId('661d2d8073e95939959a5e27'), ObjectId('661d2d8073e95939959a5e28'), ObjectId('661d2d8073e95939959a5e29'), ObjectId('661d2d8073e95939959a5e2a'), ObjectId('661d2d8073e95939959a5e2b'), ObjectId('661d2d8073e95939959a5e2c'), ObjectId('661d2d8073e95939959a5e2d'), ObjectId('661d2d8073e95939959a5e2e'), ObjectId('661d2d8073e95939959a5e2f'), ObjectId('661d2d8073e95939959a5e30'), ObjectId('661d2d8073e95939959a5e31'), ObjectId('661d2d8073e95939959a5e32'), ObjectId('661d2d8073e95939959a5e33'), ObjectId('661d2d8073e95939959a5e34'), ObjectId('661d2d8073e95939959a5e35'), ObjectId('661d2d8073e95939959a5e36'), ObjectId('661d2d8073e95939959a5e37'), ObjectId('661d2d8073e95939959a5e38'), ObjectId('661d2d8073e95939959a5e39'), ObjectId('661d2d8073e95939959a5e3a'), ObjectId('661d2d8073e95939959a5e3b'), ObjectId('661d2d8073e95939959a5e3c'), ObjectId('661d2d8073e95939959a5e3d'), ObjectId('661d2d8073e95939959a5e3e'), ObjectId('661d2d8073e95939959a5e3f'), ObjectId('661d2d8073e95939959a5e40'), ObjectId('661d2d8073e95939959a5e41'), ObjectId('661d2d8073e95939959a5e42'), ObjectId('661d2d8073e95939959a5e43'), ObjectId('661d2d8073e95939959a5e44'), ObjectId('661d2d8073e95939959a5e45'), ObjectId('661d2d8073e95939959a5e46'), ObjectId('661d2d8073e95939959a5e47'), ObjectId('661d2d8073e95939959a5e48'), ObjectId('661d2d8073e95939959a5e49'), ObjectId('661d2d8073e95939959a5e4a'), ObjectId('661d2d8073e95939959a5e4b'), ObjectId('661d2d8073e95939959a5e4c'), ObjectId('661d2d8073e95939959a5e4d'), ObjectId('661d2d8073e95939959a5e4e'), ObjectId('661d2d8073e95939959a5e4f'), ObjectId('661d2d8073e95939959a5e50'), ObjectId('661d2d8073e95939959a5e51'), ObjectId('661d2d8073e95939959a5e52'), ObjectId('661d2d8073e95939959a5e53'), ObjectId('661d2d8073e95939959a5e54'), ObjectId('661d2d8073e95939959a5e55'), ObjectId('661d2d8073e95939959a5e56'), ObjectId('661d2d8073e95939959a5e57'), ObjectId('661d2d8073e95939959a5e58'), ObjectId('661d2d8073e95939959a5e59'), ObjectId('661d2d8073e95939959a5e5a'), ObjectId('661d2d8073e95939959a5e5b'), ObjectId('661d2d8073e95939959a5e5c'), ObjectId('661d2d8073e95939959a5e5d'), ObjectId('661d2d8073e95939959a5e5e'), ObjectId('661d2d8073e95939959a5e5f'), ObjectId('661d2d8073e95939959a5e60'), ObjectId('661d2d8073e95939959a5e61'), ObjectId('661d2d8073e95939959a5e62'), ObjectId('661d2d8073e95939959a5e63'), ObjectId('661d2d8073e95939959a5e64'), ObjectId('661d2d8073e95939959a5e65'), ObjectId('661d2d8073e95939959a5e66'), ObjectId('661d2d8073e95939959a5e67'), ObjectId('661d2d8073e95939959a5e68'), ObjectId('661d2d8073e95939959a5e69'), ObjectId('661d2d8073e95939959a5e6a'), ObjectId('661d2d8073e95939959a5e6b'), ObjectId('661d2d8073e95939959a5e6c'), ObjectId('661d2d8073e95939959a5e6d'), ObjectId('661d2d8073e95939959a5e6e'), ObjectId('661d2d8073e95939959a5e6f'), ObjectId('661d2d8073e95939959a5e70'), ObjectId('661d2d8073e95939959a5e71'), ObjectId('661d2d8073e95939959a5e72'), ObjectId('661d2d8073e95939959a5e73'), ObjectId('661d2d8073e95939959a5e74'), ObjectId('661d2d8073e95939959a5e75'), ObjectId('661d2d8073e95939959a5e76'), ObjectId('661d2d8073e95939959a5e77'), ObjectId('661d2d8073e95939959a5e78'), ObjectId('661d2d8073e95939959a5e79'), ObjectId('661d2d8073e95939959a5e7a'), ObjectId('661d2d8073e95939959a5e7b'), ObjectId('661d2d8073e95939959a5e7c'), ObjectId('661d2d8073e95939959a5e7d'), ObjectId('661d2d8073e95939959a5e7e'), ObjectId('661d2d8073e95939959a5e7f'), ObjectId('661d2d8073e95939959a5e80'), ObjectId('661d2d8073e95939959a5e81'), ObjectId('661d2d8073e95939959a5e82'), ObjectId('661d2d8073e95939959a5e83'), ObjectId('661d2d8073e95939959a5e84'), ObjectId('661d2d8073e95939959a5e85'), ObjectId('661d2d8073e95939959a5e86'), ObjectId('661d2d8073e95939959a5e87'), ObjectId('661d2d8073e95939959a5e88'), ObjectId('661d2d8073e95939959a5e89'), ObjectId('661d2d8073e95939959a5e8a'), ObjectId('661d2d8073e95939959a5e8b'), ObjectId('661d2d8073e95939959a5e8c'), ObjectId('661d2d8073e95939959a5e8d'), ObjectId('661d2d8073e95939959a5e8e'), ObjectId('661d2d8073e95939959a5e8f'), ObjectId('661d2d8073e95939959a5e90'), ObjectId('661d2d8073e95939959a5e91'), ObjectId('661d2d8073e95939959a5e92'), ObjectId('661d2d8073e95939959a5e93'), ObjectId('661d2d8073e95939959a5e94'), ObjectId('661d2d8073e95939959a5e95'), ObjectId('661d2d8073e95939959a5e96'), ObjectId('661d2d8073e95939959a5e97'), ObjectId('661d2d8073e95939959a5e98'), ObjectId('661d2d8073e95939959a5e99'), ObjectId('661d2d8073e95939959a5e9a'), ObjectId('661d2d8073e95939959a5e9b'), ObjectId('661d2d8073e95939959a5e9c'), ObjectId('661d2d8073e95939959a5e9d'), ObjectId('661d2d8073e95939959a5e9e'), ObjectId('661d2d8073e95939959a5e9f'), ObjectId('661d2d8073e95939959a5ea0'), ObjectId('661d2d8073e95939959a5ea1'), ObjectId('661d2d8073e95939959a5ea2'), ObjectId('661d2d8073e95939959a5ea3'), ObjectId('661d2d8073e95939959a5ea4'), ObjectId('661d2d8073e95939959a5ea5'), ObjectId('661d2d8073e95939959a5ea6'), ObjectId('661d2d8073e95939959a5ea7'), ObjectId('661d2d8073e95939959a5ea8'), ObjectId('661d2d8073e95939959a5ea9'), ObjectId('661d2d8073e95939959a5eaa'), ObjectId('661d2d8073e95939959a5eab'), ObjectId('661d2d8073e95939959a5eac'), ObjectId('661d2d8073e95939959a5ead'), ObjectId('661d2d8073e95939959a5eae'), ObjectId('661d2d8073e95939959a5eaf'), ObjectId('661d2d8073e95939959a5eb0'), ObjectId('661d2d8073e95939959a5eb1'), ObjectId('661d2d8073e95939959a5eb2'), ObjectId('661d2d8073e95939959a5eb3'), ObjectId('661d2d8073e95939959a5eb4'), ObjectId('661d2d8073e95939959a5eb5'), ObjectId('661d2d8073e95939959a5eb6'), ObjectId('661d2d8073e95939959a5eb7'), ObjectId('661d2d8073e95939959a5eb8'), ObjectId('661d2d8073e95939959a5eb9'), ObjectId('661d2d8073e95939959a5eba'), ObjectId('661d2d8073e95939959a5ebb'), ObjectId('661d2d8073e95939959a5ebc'), ObjectId('661d2d8073e95939959a5ebd'), ObjectId('661d2d8073e95939959a5ebe'), ObjectId('661d2d8073e95939959a5ebf'), ObjectId('661d2d8073e95939959a5ec0'), ObjectId('661d2d8073e95939959a5ec1'), ObjectId('661d2d8073e95939959a5ec2'), ObjectId('661d2d8073e95939959a5ec3'), ObjectId('661d2d8073e95939959a5ec4'), ObjectId('661d2d8073e95939959a5ec5'), ObjectId('661d2d8073e95939959a5ec6'), ObjectId('661d2d8073e95939959a5ec7'), ObjectId('661d2d8073e95939959a5ec8'), ObjectId('661d2d8073e95939959a5ec9'), ObjectId('661d2d8073e95939959a5eca'), ObjectId('661d2d8073e95939959a5ecb'), ObjectId('661d2d8073e95939959a5ecc'), ObjectId('661d2d8073e95939959a5ecd'), ObjectId('661d2d8073e95939959a5ece'), ObjectId('661d2d8073e95939959a5ecf'), ObjectId('661d2d8073e95939959a5ed0'), ObjectId('661d2d8073e95939959a5ed1'), ObjectId('661d2d8073e95939959a5ed2'), ObjectId('661d2d8073e95939959a5ed3'), ObjectId('661d2d8073e95939959a5ed4'), ObjectId('661d2d8073e95939959a5ed5'), ObjectId('661d2d8073e95939959a5ed6'), ObjectId('661d2d8073e95939959a5ed7'), ObjectId('661d2d8073e95939959a5ed8'), ObjectId('661d2d8073e95939959a5ed9'), ObjectId('661d2d8073e95939959a5eda'), ObjectId('661d2d8073e95939959a5edb'), ObjectId('661d2d8073e95939959a5edc'), ObjectId('661d2d8073e95939959a5edd'), ObjectId('661d2d8073e95939959a5ede'), ObjectId('661d2d8073e95939959a5edf'), ObjectId('661d2d8073e95939959a5ee0'), ObjectId('661d2d8073e95939959a5ee1'), ObjectId('661d2d8073e95939959a5ee2'), ObjectId('661d2d8073e95939959a5ee3'), ObjectId('661d2d8073e95939959a5ee4'), ObjectId('661d2d8073e95939959a5ee5'), ObjectId('661d2d8073e95939959a5ee6'), ObjectId('661d2d8073e95939959a5ee7'), ObjectId('661d2d8073e95939959a5ee8'), ObjectId('661d2d8073e95939959a5ee9'), ObjectId('661d2d8073e95939959a5eea'), ObjectId('661d2d8073e95939959a5eeb'), ObjectId('661d2d8073e95939959a5eec'), ObjectId('661d2d8073e95939959a5eed'), ObjectId('661d2d8073e95939959a5eee'), ObjectId('661d2d8073e95939959a5eef'), ObjectId('661d2d8073e95939959a5ef0'), ObjectId('661d2d8073e95939959a5ef1'), ObjectId('661d2d8073e95939959a5ef2'), ObjectId('661d2d8073e95939959a5ef3'), ObjectId('661d2d8073e95939959a5ef4'), ObjectId('661d2d8073e95939959a5ef5'), ObjectId('661d2d8073e95939959a5ef6'), ObjectId('661d2d8073e95939959a5ef7'), ObjectId('661d2d8073e95939959a5ef8'), ObjectId('661d2d8073e95939959a5ef9'), ObjectId('661d2d8073e95939959a5efa'), ObjectId('661d2d8073e95939959a5efb'), ObjectId('661d2d8073e95939959a5efc'), ObjectId('661d2d8073e95939959a5efd'), ObjectId('661d2d8073e95939959a5efe'), ObjectId('661d2d8073e95939959a5eff'), ObjectId('661d2d8073e95939959a5f00'), ObjectId('661d2d8073e95939959a5f01'), ObjectId('661d2d8073e95939959a5f02'), ObjectId('661d2d8073e95939959a5f03'), ObjectId('661d2d8073e95939959a5f04'), ObjectId('661d2d8073e95939959a5f05'), ObjectId('661d2d8073e95939959a5f06'), ObjectId('661d2d8073e95939959a5f07'), ObjectId('661d2d8073e95939959a5f08'), ObjectId('661d2d8073e95939959a5f09'), ObjectId('661d2d8073e95939959a5f0a'), ObjectId('661d2d8073e95939959a5f0b'), ObjectId('661d2d8073e95939959a5f0c'), ObjectId('661d2d8073e95939959a5f0d'), ObjectId('661d2d8073e95939959a5f0e'), ObjectId('661d2d8073e95939959a5f0f'), ObjectId('661d2d8073e95939959a5f10'), ObjectId('661d2d8073e95939959a5f11'), ObjectId('661d2d8073e95939959a5f12'), ObjectId('661d2d8073e95939959a5f13'), ObjectId('661d2d8073e95939959a5f14'), ObjectId('661d2d8073e95939959a5f15'), ObjectId('661d2d8073e95939959a5f16'), ObjectId('661d2d8073e95939959a5f17'), ObjectId('661d2d8073e95939959a5f18'), ObjectId('661d2d8073e95939959a5f19'), ObjectId('661d2d8073e95939959a5f1a'), ObjectId('661d2d8073e95939959a5f1b'), ObjectId('661d2d8073e95939959a5f1c'), ObjectId('661d2d8073e95939959a5f1d'), ObjectId('661d2d8073e95939959a5f1e'), ObjectId('661d2d8073e95939959a5f1f'), ObjectId('661d2d8073e95939959a5f20'), ObjectId('661d2d8073e95939959a5f21'), ObjectId('661d2d8073e95939959a5f22'), ObjectId('661d2d8073e95939959a5f23'), ObjectId('661d2d8073e95939959a5f24'), ObjectId('661d2d8073e95939959a5f25'), ObjectId('661d2d8073e95939959a5f26'), ObjectId('661d2d8073e95939959a5f27'), ObjectId('661d2d8073e95939959a5f28'), ObjectId('661d2d8073e95939959a5f29'), ObjectId('661d2d8073e95939959a5f2a'), ObjectId('661d2d8073e95939959a5f2b'), ObjectId('661d2d8073e95939959a5f2c'), ObjectId('661d2d8073e95939959a5f2d'), ObjectId('661d2d8073e95939959a5f2e'), ObjectId('661d2d8073e95939959a5f2f'), ObjectId('661d2d8073e95939959a5f30'), ObjectId('661d2d8073e95939959a5f31'), ObjectId('661d2d8073e95939959a5f32'), ObjectId('661d2d8073e95939959a5f33'), ObjectId('661d2d8073e95939959a5f34'), ObjectId('661d2d8073e95939959a5f35'), ObjectId('661d2d8073e95939959a5f36'), ObjectId('661d2d8073e95939959a5f37'), ObjectId('661d2d8073e95939959a5f38'), ObjectId('661d2d8073e95939959a5f39'), ObjectId('661d2d8073e95939959a5f3a'), ObjectId('661d2d8073e95939959a5f3b'), ObjectId('661d2d8073e95939959a5f3c'), ObjectId('661d2d8073e95939959a5f3d'), ObjectId('661d2d8073e95939959a5f3e'), ObjectId('661d2d8073e95939959a5f3f'), ObjectId('661d2d8073e95939959a5f40'), ObjectId('661d2d8073e95939959a5f41'), ObjectId('661d2d8073e95939959a5f42'), ObjectId('661d2d8073e95939959a5f43'), ObjectId('661d2d8073e95939959a5f44'), ObjectId('661d2d8073e95939959a5f45'), ObjectId('661d2d8073e95939959a5f46'), ObjectId('661d2d8073e95939959a5f47'), ObjectId('661d2d8073e95939959a5f48'), ObjectId('661d2d8073e95939959a5f49'), ObjectId('661d2d8073e95939959a5f4a'), ObjectId('661d2d8073e95939959a5f4b'), ObjectId('661d2d8073e95939959a5f4c'), ObjectId('661d2d8073e95939959a5f4d'), ObjectId('661d2d8073e95939959a5f4e'), ObjectId('661d2d8073e95939959a5f4f'), ObjectId('661d2d8073e95939959a5f50'), ObjectId('661d2d8073e95939959a5f51'), ObjectId('661d2d8073e95939959a5f52'), ObjectId('661d2d8073e95939959a5f53'), ObjectId('661d2d8073e95939959a5f54'), ObjectId('661d2d8073e95939959a5f55'), ObjectId('661d2d8073e95939959a5f56'), ObjectId('661d2d8073e95939959a5f57'), ObjectId('661d2d8073e95939959a5f58'), ObjectId('661d2d8073e95939959a5f59'), ObjectId('661d2d8073e95939959a5f5a'), ObjectId('661d2d8073e95939959a5f5b'), ObjectId('661d2d8073e95939959a5f5c'), ObjectId('661d2d8073e95939959a5f5d'), ObjectId('661d2d8073e95939959a5f5e'), ObjectId('661d2d8073e95939959a5f5f'), ObjectId('661d2d8073e95939959a5f60'), ObjectId('661d2d8073e95939959a5f61'), ObjectId('661d2d8073e95939959a5f62'), ObjectId('661d2d8073e95939959a5f63'), ObjectId('661d2d8073e95939959a5f64'), ObjectId('661d2d8073e95939959a5f65'), ObjectId('661d2d8073e95939959a5f66'), ObjectId('661d2d8073e95939959a5f67'), ObjectId('661d2d8073e95939959a5f68'), ObjectId('661d2d8073e95939959a5f69'), ObjectId('661d2d8073e95939959a5f6a'), ObjectId('661d2d8073e95939959a5f6b'), ObjectId('661d2d8073e95939959a5f6c'), ObjectId('661d2d8073e95939959a5f6d'), ObjectId('661d2d8073e95939959a5f6e'), ObjectId('661d2d8073e95939959a5f6f'), ObjectId('661d2d8073e95939959a5f70'), ObjectId('661d2d8073e95939959a5f71'), ObjectId('661d2d8073e95939959a5f72'), ObjectId('661d2d8073e95939959a5f73'), ObjectId('661d2d8073e95939959a5f74'), ObjectId('661d2d8073e95939959a5f75'), ObjectId('661d2d8073e95939959a5f76'), ObjectId('661d2d8073e95939959a5f77'), ObjectId('661d2d8073e95939959a5f78'), ObjectId('661d2d8073e95939959a5f79'), ObjectId('661d2d8073e95939959a5f7a'), ObjectId('661d2d8073e95939959a5f7b'), ObjectId('661d2d8073e95939959a5f7c'), ObjectId('661d2d8073e95939959a5f7d'), ObjectId('661d2d8073e95939959a5f7e'), ObjectId('661d2d8073e95939959a5f7f'), ObjectId('661d2d8073e95939959a5f80'), ObjectId('661d2d8073e95939959a5f81'), ObjectId('661d2d8073e95939959a5f82'), ObjectId('661d2d8073e95939959a5f83'), ObjectId('661d2d8073e95939959a5f84'), ObjectId('661d2d8073e95939959a5f85'), ObjectId('661d2d8073e95939959a5f86'), ObjectId('661d2d8073e95939959a5f87'), ObjectId('661d2d8073e95939959a5f88'), ObjectId('661d2d8073e95939959a5f89'), ObjectId('661d2d8073e95939959a5f8a'), ObjectId('661d2d8073e95939959a5f8b'), ObjectId('661d2d8073e95939959a5f8c'), ObjectId('661d2d8073e95939959a5f8d'), ObjectId('661d2d8073e95939959a5f8e'), ObjectId('661d2d8073e95939959a5f8f'), ObjectId('661d2d8073e95939959a5f90'), ObjectId('661d2d8073e95939959a5f91'), ObjectId('661d2d8073e95939959a5f92'), ObjectId('661d2d8073e95939959a5f93'), ObjectId('661d2d8073e95939959a5f94'), ObjectId('661d2d8073e95939959a5f95'), ObjectId('661d2d8073e95939959a5f96'), ObjectId('661d2d8073e95939959a5f97'), ObjectId('661d2d8073e95939959a5f98'), ObjectId('661d2d8073e95939959a5f99'), ObjectId('661d2d8073e95939959a5f9a'), ObjectId('661d2d8073e95939959a5f9b'), ObjectId('661d2d8073e95939959a5f9c'), ObjectId('661d2d8073e95939959a5f9d'), ObjectId('661d2d8073e95939959a5f9e'), ObjectId('661d2d8073e95939959a5f9f'), ObjectId('661d2d8073e95939959a5fa0'), ObjectId('661d2d8073e95939959a5fa1'), ObjectId('661d2d8073e95939959a5fa2'), ObjectId('661d2d8073e95939959a5fa3'), ObjectId('661d2d8073e95939959a5fa4'), ObjectId('661d2d8073e95939959a5fa5'), ObjectId('661d2d8073e95939959a5fa6'), ObjectId('661d2d8073e95939959a5fa7'), ObjectId('661d2d8073e95939959a5fa8'), ObjectId('661d2d8073e95939959a5fa9'), ObjectId('661d2d8073e95939959a5faa'), ObjectId('661d2d8073e95939959a5fab'), ObjectId('661d2d8073e95939959a5fac'), ObjectId('661d2d8073e95939959a5fad'), ObjectId('661d2d8073e95939959a5fae'), ObjectId('661d2d8073e95939959a5faf'), ObjectId('661d2d8073e95939959a5fb0'), ObjectId('661d2d8073e95939959a5fb1'), ObjectId('661d2d8073e95939959a5fb2'), ObjectId('661d2d8073e95939959a5fb3'), ObjectId('661d2d8073e95939959a5fb4'), ObjectId('661d2d8073e95939959a5fb5'), ObjectId('661d2d8073e95939959a5fb6'), ObjectId('661d2d8073e95939959a5fb7'), ObjectId('661d2d8073e95939959a5fb8'), ObjectId('661d2d8073e95939959a5fb9'), ObjectId('661d2d8073e95939959a5fba'), ObjectId('661d2d8073e95939959a5fbb'), ObjectId('661d2d8073e95939959a5fbc'), ObjectId('661d2d8073e95939959a5fbd'), ObjectId('661d2d8073e95939959a5fbe'), ObjectId('661d2d8073e95939959a5fbf'), ObjectId('661d2d8073e95939959a5fc0'), ObjectId('661d2d8073e95939959a5fc1'), ObjectId('661d2d8073e95939959a5fc2'), ObjectId('661d2d8073e95939959a5fc3'), ObjectId('661d2d8073e95939959a5fc4'), ObjectId('661d2d8073e95939959a5fc5'), ObjectId('661d2d8073e95939959a5fc6'), ObjectId('661d2d8073e95939959a5fc7'), ObjectId('661d2d8073e95939959a5fc8'), ObjectId('661d2d8073e95939959a5fc9'), ObjectId('661d2d8073e95939959a5fca'), ObjectId('661d2d8073e95939959a5fcb'), ObjectId('661d2d8073e95939959a5fcc'), ObjectId('661d2d8073e95939959a5fcd'), ObjectId('661d2d8073e95939959a5fce'), ObjectId('661d2d8073e95939959a5fcf'), ObjectId('661d2d8073e95939959a5fd0'), ObjectId('661d2d8073e95939959a5fd1'), ObjectId('661d2d8073e95939959a5fd2'), ObjectId('661d2d8073e95939959a5fd3'), ObjectId('661d2d8073e95939959a5fd4'), ObjectId('661d2d8073e95939959a5fd5'), ObjectId('661d2d8073e95939959a5fd6'), ObjectId('661d2d8073e95939959a5fd7'), ObjectId('661d2d8073e95939959a5fd8'), ObjectId('661d2d8073e95939959a5fd9'), ObjectId('661d2d8073e95939959a5fda'), ObjectId('661d2d8073e95939959a5fdb'), ObjectId('661d2d8073e95939959a5fdc'), ObjectId('661d2d8073e95939959a5fdd'), ObjectId('661d2d8073e95939959a5fde'), ObjectId('661d2d8073e95939959a5fdf'), ObjectId('661d2d8073e95939959a5fe0'), ObjectId('661d2d8073e95939959a5fe1'), ObjectId('661d2d8073e95939959a5fe2'), ObjectId('661d2d8073e95939959a5fe3'), ObjectId('661d2d8073e95939959a5fe4'), ObjectId('661d2d8073e95939959a5fe5'), ObjectId('661d2d8073e95939959a5fe6'), ObjectId('661d2d8073e95939959a5fe7'), ObjectId('661d2d8073e95939959a5fe8'), ObjectId('661d2d8073e95939959a5fe9'), ObjectId('661d2d8073e95939959a5fea'), ObjectId('661d2d8073e95939959a5feb'), ObjectId('661d2d8073e95939959a5fec'), ObjectId('661d2d8073e95939959a5fed'), ObjectId('661d2d8073e95939959a5fee'), ObjectId('661d2d8073e95939959a5fef'), ObjectId('661d2d8073e95939959a5ff0'), ObjectId('661d2d8073e95939959a5ff1'), ObjectId('661d2d8073e95939959a5ff2'), ObjectId('661d2d8073e95939959a5ff3'), ObjectId('661d2d8073e95939959a5ff4'), ObjectId('661d2d8073e95939959a5ff5'), ObjectId('661d2d8073e95939959a5ff6'), ObjectId('661d2d8073e95939959a5ff7'), ObjectId('661d2d8073e95939959a5ff8'), ObjectId('661d2d8073e95939959a5ff9'), ObjectId('661d2d8073e95939959a5ffa'), ObjectId('661d2d8073e95939959a5ffb'), ObjectId('661d2d8073e95939959a5ffc'), ObjectId('661d2d8073e95939959a5ffd'), ObjectId('661d2d8073e95939959a5ffe'), ObjectId('661d2d8073e95939959a5fff'), ObjectId('661d2d8073e95939959a6000'), ObjectId('661d2d8073e95939959a6001'), ObjectId('661d2d8073e95939959a6002'), ObjectId('661d2d8073e95939959a6003'), ObjectId('661d2d8073e95939959a6004'), ObjectId('661d2d8073e95939959a6005'), ObjectId('661d2d8073e95939959a6006'), ObjectId('661d2d8073e95939959a6007'), ObjectId('661d2d8073e95939959a6008'), ObjectId('661d2d8073e95939959a6009'), ObjectId('661d2d8073e95939959a600a'), ObjectId('661d2d8073e95939959a600b'), ObjectId('661d2d8073e95939959a600c'), ObjectId('661d2d8073e95939959a600d'), ObjectId('661d2d8073e95939959a600e'), ObjectId('661d2d8073e95939959a600f'), ObjectId('661d2d8073e95939959a6010'), ObjectId('661d2d8073e95939959a6011'), ObjectId('661d2d8073e95939959a6012'), ObjectId('661d2d8073e95939959a6013'), ObjectId('661d2d8073e95939959a6014'), ObjectId('661d2d8073e95939959a6015'), ObjectId('661d2d8073e95939959a6016'), ObjectId('661d2d8073e95939959a6017'), ObjectId('661d2d8073e95939959a6018'), ObjectId('661d2d8073e95939959a6019'), ObjectId('661d2d8073e95939959a601a'), ObjectId('661d2d8073e95939959a601b'), ObjectId('661d2d8073e95939959a601c'), ObjectId('661d2d8073e95939959a601d'), ObjectId('661d2d8073e95939959a601e'), ObjectId('661d2d8073e95939959a601f'), ObjectId('661d2d8073e95939959a6020'), ObjectId('661d2d8073e95939959a6021'), ObjectId('661d2d8073e95939959a6022'), ObjectId('661d2d8073e95939959a6023'), ObjectId('661d2d8073e95939959a6024'), ObjectId('661d2d8073e95939959a6025'), ObjectId('661d2d8073e95939959a6026'), ObjectId('661d2d8073e95939959a6027'), ObjectId('661d2d8073e95939959a6028'), ObjectId('661d2d8073e95939959a6029'), ObjectId('661d2d8073e95939959a602a'), ObjectId('661d2d8073e95939959a602b'), ObjectId('661d2d8073e95939959a602c'), ObjectId('661d2d8073e95939959a602d'), ObjectId('661d2d8073e95939959a602e'), ObjectId('661d2d8073e95939959a602f'), ObjectId('661d2d8073e95939959a6030'), ObjectId('661d2d8073e95939959a6031'), ObjectId('661d2d8073e95939959a6032'), ObjectId('661d2d8073e95939959a6033'), ObjectId('661d2d8073e95939959a6034'), ObjectId('661d2d8073e95939959a6035'), ObjectId('661d2d8073e95939959a6036'), ObjectId('661d2d8073e95939959a6037'), ObjectId('661d2d8073e95939959a6038'), ObjectId('661d2d8073e95939959a6039'), ObjectId('661d2d8073e95939959a603a'), ObjectId('661d2d8073e95939959a603b'), ObjectId('661d2d8073e95939959a603c'), ObjectId('661d2d8073e95939959a603d'), ObjectId('661d2d8073e95939959a603e'), ObjectId('661d2d8073e95939959a603f'), ObjectId('661d2d8073e95939959a6040'), ObjectId('661d2d8073e95939959a6041'), ObjectId('661d2d8073e95939959a6042'), ObjectId('661d2d8073e95939959a6043'), ObjectId('661d2d8073e95939959a6044'), ObjectId('661d2d8073e95939959a6045'), ObjectId('661d2d8073e95939959a6046'), ObjectId('661d2d8073e95939959a6047'), ObjectId('661d2d8073e95939959a6048'), ObjectId('661d2d8073e95939959a6049'), ObjectId('661d2d8073e95939959a604a'), ObjectId('661d2d8073e95939959a604b'), ObjectId('661d2d8073e95939959a604c'), ObjectId('661d2d8073e95939959a604d'), ObjectId('661d2d8073e95939959a604e'), ObjectId('661d2d8073e95939959a604f'), ObjectId('661d2d8073e95939959a6050'), ObjectId('661d2d8073e95939959a6051'), ObjectId('661d2d8073e95939959a6052'), ObjectId('661d2d8073e95939959a6053'), ObjectId('661d2d8073e95939959a6054'), ObjectId('661d2d8073e95939959a6055'), ObjectId('661d2d8073e95939959a6056'), ObjectId('661d2d8073e95939959a6057'), ObjectId('661d2d8073e95939959a6058'), ObjectId('661d2d8073e95939959a6059'), ObjectId('661d2d8073e95939959a605a'), ObjectId('661d2d8073e95939959a605b'), ObjectId('661d2d8073e95939959a605c'), ObjectId('661d2d8073e95939959a605d'), ObjectId('661d2d8073e95939959a605e'), ObjectId('661d2d8073e95939959a605f'), ObjectId('661d2d8073e95939959a6060'), ObjectId('661d2d8073e95939959a6061'), ObjectId('661d2d8073e95939959a6062'), ObjectId('661d2d8073e95939959a6063'), ObjectId('661d2d8073e95939959a6064'), ObjectId('661d2d8073e95939959a6065'), ObjectId('661d2d8073e95939959a6066'), ObjectId('661d2d8073e95939959a6067'), ObjectId('661d2d8073e95939959a6068'), ObjectId('661d2d8073e95939959a6069'), ObjectId('661d2d8073e95939959a606a'), ObjectId('661d2d8073e95939959a606b'), ObjectId('661d2d8073e95939959a606c'), ObjectId('661d2d8073e95939959a606d'), ObjectId('661d2d8073e95939959a606e'), ObjectId('661d2d8073e95939959a606f'), ObjectId('661d2d8073e95939959a6070'), ObjectId('661d2d8073e95939959a6071'), ObjectId('661d2d8073e95939959a6072'), ObjectId('661d2d8073e95939959a6073'), ObjectId('661d2d8073e95939959a6074'), ObjectId('661d2d8073e95939959a6075'), ObjectId('661d2d8073e95939959a6076'), ObjectId('661d2d8073e95939959a6077'), ObjectId('661d2d8073e95939959a6078'), ObjectId('661d2d8073e95939959a6079'), ObjectId('661d2d8073e95939959a607a'), ObjectId('661d2d8073e95939959a607b'), ObjectId('661d2d8073e95939959a607c'), ObjectId('661d2d8073e95939959a607d'), ObjectId('661d2d8073e95939959a607e'), ObjectId('661d2d8073e95939959a607f'), ObjectId('661d2d8073e95939959a6080'), ObjectId('661d2d8073e95939959a6081'), ObjectId('661d2d8073e95939959a6082'), ObjectId('661d2d8073e95939959a6083'), ObjectId('661d2d8073e95939959a6084'), ObjectId('661d2d8073e95939959a6085'), ObjectId('661d2d8073e95939959a6086'), ObjectId('661d2d8073e95939959a6087'), ObjectId('661d2d8073e95939959a6088'), ObjectId('661d2d8073e95939959a6089'), ObjectId('661d2d8073e95939959a608a'), ObjectId('661d2d8073e95939959a608b'), ObjectId('661d2d8073e95939959a608c'), ObjectId('661d2d8073e95939959a608d'), ObjectId('661d2d8073e95939959a608e'), ObjectId('661d2d8073e95939959a608f'), ObjectId('661d2d8073e95939959a6090'), ObjectId('661d2d8073e95939959a6091'), ObjectId('661d2d8073e95939959a6092'), ObjectId('661d2d8073e95939959a6093'), ObjectId('661d2d8073e95939959a6094'), ObjectId('661d2d8073e95939959a6095'), ObjectId('661d2d8073e95939959a6096'), ObjectId('661d2d8073e95939959a6097'), ObjectId('661d2d8073e95939959a6098'), ObjectId('661d2d8073e95939959a6099'), ObjectId('661d2d8073e95939959a609a'), ObjectId('661d2d8073e95939959a609b'), ObjectId('661d2d8073e95939959a609c'), ObjectId('661d2d8073e95939959a609d'), ObjectId('661d2d8073e95939959a609e'), ObjectId('661d2d8073e95939959a609f'), ObjectId('661d2d8073e95939959a60a0'), ObjectId('661d2d8073e95939959a60a1'), ObjectId('661d2d8073e95939959a60a2'), ObjectId('661d2d8073e95939959a60a3'), ObjectId('661d2d8073e95939959a60a4'), ObjectId('661d2d8073e95939959a60a5'), ObjectId('661d2d8073e95939959a60a6'), ObjectId('661d2d8073e95939959a60a7'), ObjectId('661d2d8073e95939959a60a8'), ObjectId('661d2d8073e95939959a60a9'), ObjectId('661d2d8073e95939959a60aa'), ObjectId('661d2d8073e95939959a60ab'), ObjectId('661d2d8073e95939959a60ac'), ObjectId('661d2d8073e95939959a60ad'), ObjectId('661d2d8073e95939959a60ae'), ObjectId('661d2d8073e95939959a60af'), ObjectId('661d2d8073e95939959a60b0'), ObjectId('661d2d8073e95939959a60b1'), ObjectId('661d2d8073e95939959a60b2'), ObjectId('661d2d8073e95939959a60b3'), ObjectId('661d2d8073e95939959a60b4'), ObjectId('661d2d8073e95939959a60b5'), ObjectId('661d2d8073e95939959a60b6'), ObjectId('661d2d8073e95939959a60b7'), ObjectId('661d2d8073e95939959a60b8'), ObjectId('661d2d8073e95939959a60b9'), ObjectId('661d2d8073e95939959a60ba'), ObjectId('661d2d8073e95939959a60bb'), ObjectId('661d2d8073e95939959a60bc'), ObjectId('661d2d8073e95939959a60bd'), ObjectId('661d2d8073e95939959a60be'), ObjectId('661d2d8073e95939959a60bf'), ObjectId('661d2d8073e95939959a60c0'), ObjectId('661d2d8073e95939959a60c1'), ObjectId('661d2d8073e95939959a60c2'), ObjectId('661d2d8073e95939959a60c3'), ObjectId('661d2d8073e95939959a60c4'), ObjectId('661d2d8073e95939959a60c5'), ObjectId('661d2d8073e95939959a60c6'), ObjectId('661d2d8073e95939959a60c7'), ObjectId('661d2d8073e95939959a60c8'), ObjectId('661d2d8073e95939959a60c9'), ObjectId('661d2d8073e95939959a60ca'), ObjectId('661d2d8073e95939959a60cb'), ObjectId('661d2d8073e95939959a60cc'), ObjectId('661d2d8073e95939959a60cd'), ObjectId('661d2d8073e95939959a60ce'), ObjectId('661d2d8073e95939959a60cf'), ObjectId('661d2d8073e95939959a60d0'), ObjectId('661d2d8073e95939959a60d1'), ObjectId('661d2d8073e95939959a60d2'), ObjectId('661d2d8073e95939959a60d3'), ObjectId('661d2d8073e95939959a60d4'), ObjectId('661d2d8073e95939959a60d5'), ObjectId('661d2d8073e95939959a60d6'), ObjectId('661d2d8073e95939959a60d7'), ObjectId('661d2d8073e95939959a60d8'), ObjectId('661d2d8073e95939959a60d9'), ObjectId('661d2d8073e95939959a60da'), ObjectId('661d2d8073e95939959a60db'), ObjectId('661d2d8073e95939959a60dc'), ObjectId('661d2d8073e95939959a60dd'), ObjectId('661d2d8073e95939959a60de'), ObjectId('661d2d8073e95939959a60df'), ObjectId('661d2d8073e95939959a60e0'), ObjectId('661d2d8073e95939959a60e1'), ObjectId('661d2d8073e95939959a60e2'), ObjectId('661d2d8073e95939959a60e3'), ObjectId('661d2d8073e95939959a60e4'), ObjectId('661d2d8073e95939959a60e5'), ObjectId('661d2d8073e95939959a60e6'), ObjectId('661d2d8073e95939959a60e7'), ObjectId('661d2d8073e95939959a60e8'), ObjectId('661d2d8073e95939959a60e9'), ObjectId('661d2d8073e95939959a60ea'), ObjectId('661d2d8073e95939959a60eb'), ObjectId('661d2d8073e95939959a60ec'), ObjectId('661d2d8073e95939959a60ed'), ObjectId('661d2d8073e95939959a60ee'), ObjectId('661d2d8073e95939959a60ef'), ObjectId('661d2d8073e95939959a60f0'), ObjectId('661d2d8073e95939959a60f1'), ObjectId('661d2d8073e95939959a60f2'), ObjectId('661d2d8073e95939959a60f3'), ObjectId('661d2d8073e95939959a60f4'), ObjectId('661d2d8073e95939959a60f5'), ObjectId('661d2d8073e95939959a60f6'), ObjectId('661d2d8073e95939959a60f7'), ObjectId('661d2d8073e95939959a60f8'), ObjectId('661d2d8073e95939959a60f9'), ObjectId('661d2d8073e95939959a60fa'), ObjectId('661d2d8073e95939959a60fb'), ObjectId('661d2d8073e95939959a60fc'), ObjectId('661d2d8073e95939959a60fd'), ObjectId('661d2d8073e95939959a60fe'), ObjectId('661d2d8073e95939959a60ff'), ObjectId('661d2d8073e95939959a6100'), ObjectId('661d2d8073e95939959a6101'), ObjectId('661d2d8073e95939959a6102'), ObjectId('661d2d8073e95939959a6103'), ObjectId('661d2d8073e95939959a6104'), ObjectId('661d2d8073e95939959a6105'), ObjectId('661d2d8073e95939959a6106'), ObjectId('661d2d8073e95939959a6107'), ObjectId('661d2d8073e95939959a6108'), ObjectId('661d2d8073e95939959a6109'), ObjectId('661d2d8073e95939959a610a'), ObjectId('661d2d8073e95939959a610b'), ObjectId('661d2d8073e95939959a610c'), ObjectId('661d2d8073e95939959a610d'), ObjectId('661d2d8073e95939959a610e'), ObjectId('661d2d8073e95939959a610f'), ObjectId('661d2d8073e95939959a6110'), ObjectId('661d2d8073e95939959a6111'), ObjectId('661d2d8073e95939959a6112'), ObjectId('661d2d8073e95939959a6113'), ObjectId('661d2d8073e95939959a6114'), ObjectId('661d2d8073e95939959a6115'), ObjectId('661d2d8073e95939959a6116'), ObjectId('661d2d8073e95939959a6117'), ObjectId('661d2d8073e95939959a6118'), ObjectId('661d2d8073e95939959a6119'), ObjectId('661d2d8073e95939959a611a'), ObjectId('661d2d8073e95939959a611b'), ObjectId('661d2d8073e95939959a611c'), ObjectId('661d2d8073e95939959a611d'), ObjectId('661d2d8073e95939959a611e'), ObjectId('661d2d8073e95939959a611f'), ObjectId('661d2d8073e95939959a6120'), ObjectId('661d2d8073e95939959a6121'), ObjectId('661d2d8073e95939959a6122'), ObjectId('661d2d8073e95939959a6123'), ObjectId('661d2d8073e95939959a6124'), ObjectId('661d2d8073e95939959a6125'), ObjectId('661d2d8073e95939959a6126'), ObjectId('661d2d8073e95939959a6127'), ObjectId('661d2d8073e95939959a6128'), ObjectId('661d2d8073e95939959a6129'), ObjectId('661d2d8073e95939959a612a'), ObjectId('661d2d8073e95939959a612b'), ObjectId('661d2d8073e95939959a612c'), ObjectId('661d2d8073e95939959a612d'), ObjectId('661d2d8073e95939959a612e'), ObjectId('661d2d8073e95939959a612f'), ObjectId('661d2d8073e95939959a6130'), ObjectId('661d2d8073e95939959a6131'), ObjectId('661d2d8073e95939959a6132'), ObjectId('661d2d8073e95939959a6133'), ObjectId('661d2d8073e95939959a6134'), ObjectId('661d2d8073e95939959a6135'), ObjectId('661d2d8073e95939959a6136'), ObjectId('661d2d8073e95939959a6137'), ObjectId('661d2d8073e95939959a6138'), ObjectId('661d2d8073e95939959a6139'), ObjectId('661d2d8073e95939959a613a'), ObjectId('661d2d8073e95939959a613b'), ObjectId('661d2d8073e95939959a613c'), ObjectId('661d2d8073e95939959a613d'), ObjectId('661d2d8073e95939959a613e'), ObjectId('661d2d8073e95939959a613f'), ObjectId('661d2d8073e95939959a6140'), ObjectId('661d2d8073e95939959a6141'), ObjectId('661d2d8073e95939959a6142'), ObjectId('661d2d8073e95939959a6143'), ObjectId('661d2d8073e95939959a6144'), ObjectId('661d2d8073e95939959a6145'), ObjectId('661d2d8073e95939959a6146'), ObjectId('661d2d8073e95939959a6147'), ObjectId('661d2d8073e95939959a6148'), ObjectId('661d2d8073e95939959a6149'), ObjectId('661d2d8073e95939959a614a'), ObjectId('661d2d8073e95939959a614b'), ObjectId('661d2d8073e95939959a614c'), ObjectId('661d2d8073e95939959a614d'), ObjectId('661d2d8073e95939959a614e'), ObjectId('661d2d8073e95939959a614f'), ObjectId('661d2d8073e95939959a6150'), ObjectId('661d2d8073e95939959a6151'), ObjectId('661d2d8073e95939959a6152'), ObjectId('661d2d8073e95939959a6153'), ObjectId('661d2d8073e95939959a6154'), ObjectId('661d2d8073e95939959a6155'), ObjectId('661d2d8073e95939959a6156'), ObjectId('661d2d8073e95939959a6157'), ObjectId('661d2d8073e95939959a6158'), ObjectId('661d2d8073e95939959a6159'), ObjectId('661d2d8073e95939959a615a'), ObjectId('661d2d8073e95939959a615b'), ObjectId('661d2d8073e95939959a615c'), ObjectId('661d2d8073e95939959a615d'), ObjectId('661d2d8073e95939959a615e'), ObjectId('661d2d8073e95939959a615f'), ObjectId('661d2d8073e95939959a6160'), ObjectId('661d2d8073e95939959a6161'), ObjectId('661d2d8073e95939959a6162'), ObjectId('661d2d8073e95939959a6163'), ObjectId('661d2d8073e95939959a6164'), ObjectId('661d2d8073e95939959a6165'), ObjectId('661d2d8073e95939959a6166'), ObjectId('661d2d8073e95939959a6167'), ObjectId('661d2d8073e95939959a6168'), ObjectId('661d2d8073e95939959a6169'), ObjectId('661d2d8073e95939959a616a'), ObjectId('661d2d8073e95939959a616b'), ObjectId('661d2d8073e95939959a616c'), ObjectId('661d2d8073e95939959a616d'), ObjectId('661d2d8073e95939959a616e'), ObjectId('661d2d8073e95939959a616f'), ObjectId('661d2d8073e95939959a6170'), ObjectId('661d2d8073e95939959a6171'), ObjectId('661d2d8073e95939959a6172'), ObjectId('661d2d8073e95939959a6173'), ObjectId('661d2d8073e95939959a6174'), ObjectId('661d2d8073e95939959a6175'), ObjectId('661d2d8073e95939959a6176'), ObjectId('661d2d8073e95939959a6177'), ObjectId('661d2d8073e95939959a6178'), ObjectId('661d2d8073e95939959a6179'), ObjectId('661d2d8073e95939959a617a'), ObjectId('661d2d8073e95939959a617b'), ObjectId('661d2d8073e95939959a617c'), ObjectId('661d2d8073e95939959a617d'), ObjectId('661d2d8073e95939959a617e'), ObjectId('661d2d8073e95939959a617f'), ObjectId('661d2d8073e95939959a6180'), ObjectId('661d2d8073e95939959a6181'), ObjectId('661d2d8073e95939959a6182'), ObjectId('661d2d8073e95939959a6183'), ObjectId('661d2d8073e95939959a6184'), ObjectId('661d2d8073e95939959a6185'), ObjectId('661d2d8073e95939959a6186'), ObjectId('661d2d8073e95939959a6187'), ObjectId('661d2d8073e95939959a6188'), ObjectId('661d2d8073e95939959a6189'), ObjectId('661d2d8073e95939959a618a'), ObjectId('661d2d8073e95939959a618b'), ObjectId('661d2d8073e95939959a618c'), ObjectId('661d2d8073e95939959a618d'), ObjectId('661d2d8073e95939959a618e'), ObjectId('661d2d8073e95939959a618f'), ObjectId('661d2d8073e95939959a6190'), ObjectId('661d2d8073e95939959a6191'), ObjectId('661d2d8073e95939959a6192'), ObjectId('661d2d8073e95939959a6193'), ObjectId('661d2d8073e95939959a6194'), ObjectId('661d2d8073e95939959a6195'), ObjectId('661d2d8073e95939959a6196'), ObjectId('661d2d8073e95939959a6197'), ObjectId('661d2d8073e95939959a6198'), ObjectId('661d2d8073e95939959a6199'), ObjectId('661d2d8073e95939959a619a'), ObjectId('661d2d8073e95939959a619b'), ObjectId('661d2d8073e95939959a619c'), ObjectId('661d2d8073e95939959a619d'), ObjectId('661d2d8073e95939959a619e'), ObjectId('661d2d8073e95939959a619f'), ObjectId('661d2d8073e95939959a61a0'), ObjectId('661d2d8073e95939959a61a1'), ObjectId('661d2d8073e95939959a61a2'), ObjectId('661d2d8073e95939959a61a3'), ObjectId('661d2d8073e95939959a61a4'), ObjectId('661d2d8073e95939959a61a5'), ObjectId('661d2d8073e95939959a61a6'), ObjectId('661d2d8073e95939959a61a7'), ObjectId('661d2d8073e95939959a61a8'), ObjectId('661d2d8073e95939959a61a9'), ObjectId('661d2d8073e95939959a61aa'), ObjectId('661d2d8073e95939959a61ab'), ObjectId('661d2d8073e95939959a61ac'), ObjectId('661d2d8073e95939959a61ad'), ObjectId('661d2d8073e95939959a61ae'), ObjectId('661d2d8073e95939959a61af'), ObjectId('661d2d8073e95939959a61b0'), ObjectId('661d2d8073e95939959a61b1'), ObjectId('661d2d8073e95939959a61b2'), ObjectId('661d2d8073e95939959a61b3'), ObjectId('661d2d8073e95939959a61b4'), ObjectId('661d2d8073e95939959a61b5'), ObjectId('661d2d8073e95939959a61b6'), ObjectId('661d2d8073e95939959a61b7'), ObjectId('661d2d8073e95939959a61b8'), ObjectId('661d2d8073e95939959a61b9'), ObjectId('661d2d8073e95939959a61ba'), ObjectId('661d2d8073e95939959a61bb'), ObjectId('661d2d8073e95939959a61bc'), ObjectId('661d2d8073e95939959a61bd'), ObjectId('661d2d8073e95939959a61be'), ObjectId('661d2d8073e95939959a61bf'), ObjectId('661d2d8073e95939959a61c0'), ObjectId('661d2d8073e95939959a61c1'), ObjectId('661d2d8073e95939959a61c2'), ObjectId('661d2d8073e95939959a61c3'), ObjectId('661d2d8073e95939959a61c4'), ObjectId('661d2d8073e95939959a61c5'), ObjectId('661d2d8073e95939959a61c6'), ObjectId('661d2d8073e95939959a61c7'), ObjectId('661d2d8073e95939959a61c8'), ObjectId('661d2d8073e95939959a61c9'), ObjectId('661d2d8073e95939959a61ca'), ObjectId('661d2d8073e95939959a61cb'), ObjectId('661d2d8073e95939959a61cc'), ObjectId('661d2d8073e95939959a61cd'), ObjectId('661d2d8073e95939959a61ce'), ObjectId('661d2d8073e95939959a61cf'), ObjectId('661d2d8073e95939959a61d0'), ObjectId('661d2d8073e95939959a61d1'), ObjectId('661d2d8073e95939959a61d2'), ObjectId('661d2d8073e95939959a61d3'), ObjectId('661d2d8073e95939959a61d4'), ObjectId('661d2d8073e95939959a61d5'), ObjectId('661d2d8073e95939959a61d6'), ObjectId('661d2d8073e95939959a61d7'), ObjectId('661d2d8073e95939959a61d8'), ObjectId('661d2d8073e95939959a61d9'), ObjectId('661d2d8073e95939959a61da'), ObjectId('661d2d8073e95939959a61db'), ObjectId('661d2d8073e95939959a61dc'), ObjectId('661d2d8073e95939959a61dd'), ObjectId('661d2d8073e95939959a61de'), ObjectId('661d2d8073e95939959a61df'), ObjectId('661d2d8073e95939959a61e0'), ObjectId('661d2d8073e95939959a61e1'), ObjectId('661d2d8073e95939959a61e2'), ObjectId('661d2d8073e95939959a61e3'), ObjectId('661d2d8073e95939959a61e4'), ObjectId('661d2d8073e95939959a61e5'), ObjectId('661d2d8073e95939959a61e6'), ObjectId('661d2d8073e95939959a61e7'), ObjectId('661d2d8073e95939959a61e8'), ObjectId('661d2d8073e95939959a61e9'), ObjectId('661d2d8073e95939959a61ea'), ObjectId('661d2d8073e95939959a61eb'), ObjectId('661d2d8073e95939959a61ec'), ObjectId('661d2d8073e95939959a61ed'), ObjectId('661d2d8073e95939959a61ee'), ObjectId('661d2d8073e95939959a61ef'), ObjectId('661d2d8073e95939959a61f0'), ObjectId('661d2d8073e95939959a61f1'), ObjectId('661d2d8073e95939959a61f2'), ObjectId('661d2d8073e95939959a61f3'), ObjectId('661d2d8073e95939959a61f4'), ObjectId('661d2d8073e95939959a61f5'), ObjectId('661d2d8073e95939959a61f6'), ObjectId('661d2d8073e95939959a61f7'), ObjectId('661d2d8073e95939959a61f8'), ObjectId('661d2d8073e95939959a61f9'), ObjectId('661d2d8073e95939959a61fa'), ObjectId('661d2d8073e95939959a61fb'), ObjectId('661d2d8073e95939959a61fc'), ObjectId('661d2d8073e95939959a61fd'), ObjectId('661d2d8073e95939959a61fe'), ObjectId('661d2d8073e95939959a61ff'), ObjectId('661d2d8073e95939959a6200'), ObjectId('661d2d8073e95939959a6201'), ObjectId('661d2d8073e95939959a6202'), ObjectId('661d2d8073e95939959a6203'), ObjectId('661d2d8073e95939959a6204'), ObjectId('661d2d8073e95939959a6205'), ObjectId('661d2d8073e95939959a6206'), ObjectId('661d2d8073e95939959a6207'), ObjectId('661d2d8073e95939959a6208'), ObjectId('661d2d8073e95939959a6209'), ObjectId('661d2d8073e95939959a620a'), ObjectId('661d2d8073e95939959a620b'), ObjectId('661d2d8073e95939959a620c'), ObjectId('661d2d8073e95939959a620d'), ObjectId('661d2d8073e95939959a620e'), ObjectId('661d2d8073e95939959a620f'), ObjectId('661d2d8073e95939959a6210'), ObjectId('661d2d8073e95939959a6211'), ObjectId('661d2d8073e95939959a6212'), ObjectId('661d2d8073e95939959a6213'), ObjectId('661d2d8073e95939959a6214'), ObjectId('661d2d8073e95939959a6215'), ObjectId('661d2d8073e95939959a6216'), ObjectId('661d2d8073e95939959a6217'), ObjectId('661d2d8073e95939959a6218'), ObjectId('661d2d8073e95939959a6219'), ObjectId('661d2d8073e95939959a621a'), ObjectId('661d2d8073e95939959a621b'), ObjectId('661d2d8073e95939959a621c'), ObjectId('661d2d8073e95939959a621d'), ObjectId('661d2d8073e95939959a621e'), ObjectId('661d2d8073e95939959a621f'), ObjectId('661d2d8073e95939959a6220'), ObjectId('661d2d8073e95939959a6221'), ObjectId('661d2d8073e95939959a6222'), ObjectId('661d2d8073e95939959a6223'), ObjectId('661d2d8073e95939959a6224'), ObjectId('661d2d8073e95939959a6225'), ObjectId('661d2d8073e95939959a6226'), ObjectId('661d2d8073e95939959a6227'), ObjectId('661d2d8073e95939959a6228'), ObjectId('661d2d8073e95939959a6229'), ObjectId('661d2d8073e95939959a622a'), ObjectId('661d2d8073e95939959a622b'), ObjectId('661d2d8073e95939959a622c'), ObjectId('661d2d8073e95939959a622d'), ObjectId('661d2d8073e95939959a622e'), ObjectId('661d2d8073e95939959a622f'), ObjectId('661d2d8073e95939959a6230'), ObjectId('661d2d8073e95939959a6231'), ObjectId('661d2d8073e95939959a6232'), ObjectId('661d2d8073e95939959a6233'), ObjectId('661d2d8073e95939959a6234'), ObjectId('661d2d8073e95939959a6235'), ObjectId('661d2d8073e95939959a6236'), ObjectId('661d2d8073e95939959a6237'), ObjectId('661d2d8073e95939959a6238'), ObjectId('661d2d8073e95939959a6239'), ObjectId('661d2d8073e95939959a623a'), ObjectId('661d2d8073e95939959a623b'), ObjectId('661d2d8073e95939959a623c'), ObjectId('661d2d8073e95939959a623d'), ObjectId('661d2d8073e95939959a623e'), ObjectId('661d2d8073e95939959a623f'), ObjectId('661d2d8073e95939959a6240'), ObjectId('661d2d8073e95939959a6241'), ObjectId('661d2d8073e95939959a6242'), ObjectId('661d2d8073e95939959a6243'), ObjectId('661d2d8073e95939959a6244'), ObjectId('661d2d8073e95939959a6245'), ObjectId('661d2d8073e95939959a6246'), ObjectId('661d2d8073e95939959a6247'), ObjectId('661d2d8073e95939959a6248'), ObjectId('661d2d8073e95939959a6249'), ObjectId('661d2d8073e95939959a624a'), ObjectId('661d2d8073e95939959a624b'), ObjectId('661d2d8073e95939959a624c'), ObjectId('661d2d8073e95939959a624d'), ObjectId('661d2d8073e95939959a624e'), ObjectId('661d2d8073e95939959a624f'), ObjectId('661d2d8073e95939959a6250'), ObjectId('661d2d8073e95939959a6251'), ObjectId('661d2d8073e95939959a6252'), ObjectId('661d2d8073e95939959a6253'), ObjectId('661d2d8073e95939959a6254'), ObjectId('661d2d8073e95939959a6255'), ObjectId('661d2d8073e95939959a6256'), ObjectId('661d2d8073e95939959a6257'), ObjectId('661d2d8073e95939959a6258'), ObjectId('661d2d8073e95939959a6259'), ObjectId('661d2d8073e95939959a625a'), ObjectId('661d2d8073e95939959a625b'), ObjectId('661d2d8073e95939959a625c'), ObjectId('661d2d8073e95939959a625d'), ObjectId('661d2d8073e95939959a625e'), ObjectId('661d2d8073e95939959a625f'), ObjectId('661d2d8073e95939959a6260'), ObjectId('661d2d8073e95939959a6261'), ObjectId('661d2d8073e95939959a6262'), ObjectId('661d2d8073e95939959a6263'), ObjectId('661d2d8073e95939959a6264'), ObjectId('661d2d8073e95939959a6265'), ObjectId('661d2d8073e95939959a6266'), ObjectId('661d2d8073e95939959a6267'), ObjectId('661d2d8073e95939959a6268'), ObjectId('661d2d8073e95939959a6269'), ObjectId('661d2d8073e95939959a626a'), ObjectId('661d2d8073e95939959a626b'), ObjectId('661d2d8073e95939959a626c'), ObjectId('661d2d8073e95939959a626d'), ObjectId('661d2d8073e95939959a626e'), ObjectId('661d2d8073e95939959a626f'), ObjectId('661d2d8073e95939959a6270'), ObjectId('661d2d8073e95939959a6271'), ObjectId('661d2d8073e95939959a6272'), ObjectId('661d2d8073e95939959a6273'), ObjectId('661d2d8073e95939959a6274'), ObjectId('661d2d8073e95939959a6275'), ObjectId('661d2d8073e95939959a6276'), ObjectId('661d2d8073e95939959a6277'), ObjectId('661d2d8073e95939959a6278'), ObjectId('661d2d8073e95939959a6279'), ObjectId('661d2d8073e95939959a627a'), ObjectId('661d2d8073e95939959a627b'), ObjectId('661d2d8073e95939959a627c'), ObjectId('661d2d8073e95939959a627d'), ObjectId('661d2d8073e95939959a627e'), ObjectId('661d2d8073e95939959a627f'), ObjectId('661d2d8073e95939959a6280'), ObjectId('661d2d8073e95939959a6281'), ObjectId('661d2d8073e95939959a6282'), ObjectId('661d2d8073e95939959a6283'), ObjectId('661d2d8073e95939959a6284'), ObjectId('661d2d8073e95939959a6285'), ObjectId('661d2d8073e95939959a6286'), ObjectId('661d2d8073e95939959a6287'), ObjectId('661d2d8073e95939959a6288'), ObjectId('661d2d8073e95939959a6289'), ObjectId('661d2d8073e95939959a628a'), ObjectId('661d2d8073e95939959a628b'), ObjectId('661d2d8073e95939959a628c'), ObjectId('661d2d8073e95939959a628d'), ObjectId('661d2d8073e95939959a628e'), ObjectId('661d2d8073e95939959a628f'), ObjectId('661d2d8073e95939959a6290'), ObjectId('661d2d8073e95939959a6291'), ObjectId('661d2d8073e95939959a6292'), ObjectId('661d2d8073e95939959a6293'), ObjectId('661d2d8073e95939959a6294'), ObjectId('661d2d8073e95939959a6295'), ObjectId('661d2d8073e95939959a6296'), ObjectId('661d2d8073e95939959a6297'), ObjectId('661d2d8073e95939959a6298'), ObjectId('661d2d8073e95939959a6299'), ObjectId('661d2d8073e95939959a629a'), ObjectId('661d2d8073e95939959a629b'), ObjectId('661d2d8073e95939959a629c'), ObjectId('661d2d8073e95939959a629d'), ObjectId('661d2d8073e95939959a629e'), ObjectId('661d2d8073e95939959a629f'), ObjectId('661d2d8073e95939959a62a0'), ObjectId('661d2d8073e95939959a62a1'), ObjectId('661d2d8073e95939959a62a2'), ObjectId('661d2d8073e95939959a62a3'), ObjectId('661d2d8073e95939959a62a4'), ObjectId('661d2d8073e95939959a62a5'), ObjectId('661d2d8073e95939959a62a6'), ObjectId('661d2d8073e95939959a62a7'), ObjectId('661d2d8073e95939959a62a8'), ObjectId('661d2d8073e95939959a62a9'), ObjectId('661d2d8073e95939959a62aa'), ObjectId('661d2d8073e95939959a62ab'), ObjectId('661d2d8073e95939959a62ac'), ObjectId('661d2d8073e95939959a62ad'), ObjectId('661d2d8073e95939959a62ae'), ObjectId('661d2d8073e95939959a62af'), ObjectId('661d2d8073e95939959a62b0'), ObjectId('661d2d8073e95939959a62b1'), ObjectId('661d2d8073e95939959a62b2'), ObjectId('661d2d8073e95939959a62b3'), ObjectId('661d2d8073e95939959a62b4'), ObjectId('661d2d8073e95939959a62b5'), ObjectId('661d2d8073e95939959a62b6'), ObjectId('661d2d8073e95939959a62b7'), ObjectId('661d2d8073e95939959a62b8'), ObjectId('661d2d8073e95939959a62b9'), ObjectId('661d2d8073e95939959a62ba'), ObjectId('661d2d8073e95939959a62bb'), ObjectId('661d2d8073e95939959a62bc'), ObjectId('661d2d8073e95939959a62bd'), ObjectId('661d2d8073e95939959a62be'), ObjectId('661d2d8073e95939959a62bf'), ObjectId('661d2d8073e95939959a62c0'), ObjectId('661d2d8073e95939959a62c1'), ObjectId('661d2d8073e95939959a62c2'), ObjectId('661d2d8073e95939959a62c3'), ObjectId('661d2d8073e95939959a62c4'), ObjectId('661d2d8073e95939959a62c5'), ObjectId('661d2d8073e95939959a62c6'), ObjectId('661d2d8073e95939959a62c7'), ObjectId('661d2d8073e95939959a62c8'), ObjectId('661d2d8073e95939959a62c9'), ObjectId('661d2d8073e95939959a62ca'), ObjectId('661d2d8073e95939959a62cb'), ObjectId('661d2d8073e95939959a62cc'), ObjectId('661d2d8073e95939959a62cd'), ObjectId('661d2d8073e95939959a62ce'), ObjectId('661d2d8073e95939959a62cf'), ObjectId('661d2d8073e95939959a62d0'), ObjectId('661d2d8073e95939959a62d1'), ObjectId('661d2d8073e95939959a62d2'), ObjectId('661d2d8073e95939959a62d3'), ObjectId('661d2d8073e95939959a62d4'), ObjectId('661d2d8073e95939959a62d5'), ObjectId('661d2d8073e95939959a62d6'), ObjectId('661d2d8073e95939959a62d7'), ObjectId('661d2d8073e95939959a62d8'), ObjectId('661d2d8073e95939959a62d9'), ObjectId('661d2d8073e95939959a62da'), ObjectId('661d2d8073e95939959a62db'), ObjectId('661d2d8073e95939959a62dc'), ObjectId('661d2d8073e95939959a62dd'), ObjectId('661d2d8073e95939959a62de'), ObjectId('661d2d8073e95939959a62df'), ObjectId('661d2d8073e95939959a62e0'), ObjectId('661d2d8073e95939959a62e1'), ObjectId('661d2d8073e95939959a62e2'), ObjectId('661d2d8073e95939959a62e3'), ObjectId('661d2d8073e95939959a62e4'), ObjectId('661d2d8073e95939959a62e5'), ObjectId('661d2d8073e95939959a62e6'), ObjectId('661d2d8073e95939959a62e7'), ObjectId('661d2d8073e95939959a62e8'), ObjectId('661d2d8073e95939959a62e9'), ObjectId('661d2d8073e95939959a62ea'), ObjectId('661d2d8073e95939959a62eb'), ObjectId('661d2d8073e95939959a62ec'), ObjectId('661d2d8073e95939959a62ed'), ObjectId('661d2d8073e95939959a62ee'), ObjectId('661d2d8073e95939959a62ef'), ObjectId('661d2d8073e95939959a62f0'), ObjectId('661d2d8073e95939959a62f1'), ObjectId('661d2d8073e95939959a62f2'), ObjectId('661d2d8073e95939959a62f3'), ObjectId('661d2d8073e95939959a62f4'), ObjectId('661d2d8073e95939959a62f5'), ObjectId('661d2d8073e95939959a62f6'), ObjectId('661d2d8073e95939959a62f7'), ObjectId('661d2d8073e95939959a62f8'), ObjectId('661d2d8073e95939959a62f9'), ObjectId('661d2d8073e95939959a62fa'), ObjectId('661d2d8073e95939959a62fb'), ObjectId('661d2d8073e95939959a62fc'), ObjectId('661d2d8073e95939959a62fd'), ObjectId('661d2d8073e95939959a62fe'), ObjectId('661d2d8073e95939959a62ff'), ObjectId('661d2d8073e95939959a6300'), ObjectId('661d2d8073e95939959a6301'), ObjectId('661d2d8073e95939959a6302'), ObjectId('661d2d8073e95939959a6303'), ObjectId('661d2d8073e95939959a6304'), ObjectId('661d2d8073e95939959a6305'), ObjectId('661d2d8073e95939959a6306'), ObjectId('661d2d8073e95939959a6307'), ObjectId('661d2d8073e95939959a6308'), ObjectId('661d2d8073e95939959a6309'), ObjectId('661d2d8073e95939959a630a'), ObjectId('661d2d8073e95939959a630b'), ObjectId('661d2d8073e95939959a630c'), ObjectId('661d2d8073e95939959a630d'), ObjectId('661d2d8073e95939959a630e'), ObjectId('661d2d8073e95939959a630f'), ObjectId('661d2d8073e95939959a6310'), ObjectId('661d2d8073e95939959a6311'), ObjectId('661d2d8073e95939959a6312'), ObjectId('661d2d8073e95939959a6313'), ObjectId('661d2d8073e95939959a6314'), ObjectId('661d2d8073e95939959a6315'), ObjectId('661d2d8073e95939959a6316'), ObjectId('661d2d8073e95939959a6317'), ObjectId('661d2d8073e95939959a6318'), ObjectId('661d2d8073e95939959a6319'), ObjectId('661d2d8073e95939959a631a'), ObjectId('661d2d8073e95939959a631b'), ObjectId('661d2d8073e95939959a631c'), ObjectId('661d2d8073e95939959a631d'), ObjectId('661d2d8073e95939959a631e'), ObjectId('661d2d8073e95939959a631f'), ObjectId('661d2d8073e95939959a6320'), ObjectId('661d2d8073e95939959a6321'), ObjectId('661d2d8073e95939959a6322'), ObjectId('661d2d8073e95939959a6323'), ObjectId('661d2d8073e95939959a6324'), ObjectId('661d2d8073e95939959a6325'), ObjectId('661d2d8073e95939959a6326'), ObjectId('661d2d8073e95939959a6327'), ObjectId('661d2d8073e95939959a6328'), ObjectId('661d2d8073e95939959a6329'), ObjectId('661d2d8073e95939959a632a'), ObjectId('661d2d8073e95939959a632b'), ObjectId('661d2d8073e95939959a632c'), ObjectId('661d2d8073e95939959a632d'), ObjectId('661d2d8073e95939959a632e'), ObjectId('661d2d8073e95939959a632f'), ObjectId('661d2d8073e95939959a6330'), ObjectId('661d2d8073e95939959a6331'), ObjectId('661d2d8073e95939959a6332'), ObjectId('661d2d8073e95939959a6333'), ObjectId('661d2d8073e95939959a6334'), ObjectId('661d2d8073e95939959a6335'), ObjectId('661d2d8073e95939959a6336'), ObjectId('661d2d8073e95939959a6337'), ObjectId('661d2d8073e95939959a6338'), ObjectId('661d2d8073e95939959a6339'), ObjectId('661d2d8073e95939959a633a'), ObjectId('661d2d8073e95939959a633b'), ObjectId('661d2d8073e95939959a633c'), ObjectId('661d2d8073e95939959a633d'), ObjectId('661d2d8073e95939959a633e'), ObjectId('661d2d8073e95939959a633f'), ObjectId('661d2d8073e95939959a6340'), ObjectId('661d2d8073e95939959a6341'), ObjectId('661d2d8073e95939959a6342'), ObjectId('661d2d8073e95939959a6343'), ObjectId('661d2d8073e95939959a6344'), ObjectId('661d2d8073e95939959a6345'), ObjectId('661d2d8073e95939959a6346'), ObjectId('661d2d8073e95939959a6347'), ObjectId('661d2d8073e95939959a6348'), ObjectId('661d2d8073e95939959a6349'), ObjectId('661d2d8073e95939959a634a'), ObjectId('661d2d8073e95939959a634b'), ObjectId('661d2d8073e95939959a634c'), ObjectId('661d2d8073e95939959a634d'), ObjectId('661d2d8073e95939959a634e'), ObjectId('661d2d8073e95939959a634f'), ObjectId('661d2d8073e95939959a6350'), ObjectId('661d2d8073e95939959a6351'), ObjectId('661d2d8073e95939959a6352'), ObjectId('661d2d8073e95939959a6353'), ObjectId('661d2d8073e95939959a6354'), ObjectId('661d2d8073e95939959a6355'), ObjectId('661d2d8073e95939959a6356'), ObjectId('661d2d8073e95939959a6357'), ObjectId('661d2d8073e95939959a6358'), ObjectId('661d2d8073e95939959a6359'), ObjectId('661d2d8073e95939959a635a'), ObjectId('661d2d8073e95939959a635b'), ObjectId('661d2d8073e95939959a635c'), ObjectId('661d2d8073e95939959a635d'), ObjectId('661d2d8073e95939959a635e'), ObjectId('661d2d8073e95939959a635f'), ObjectId('661d2d8073e95939959a6360'), ObjectId('661d2d8073e95939959a6361'), ObjectId('661d2d8073e95939959a6362'), ObjectId('661d2d8073e95939959a6363'), ObjectId('661d2d8073e95939959a6364'), ObjectId('661d2d8073e95939959a6365'), ObjectId('661d2d8073e95939959a6366'), ObjectId('661d2d8073e95939959a6367'), ObjectId('661d2d8073e95939959a6368'), ObjectId('661d2d8073e95939959a6369'), ObjectId('661d2d8073e95939959a636a'), ObjectId('661d2d8073e95939959a636b'), ObjectId('661d2d8073e95939959a636c'), ObjectId('661d2d8073e95939959a636d'), ObjectId('661d2d8073e95939959a636e'), ObjectId('661d2d8073e95939959a636f'), ObjectId('661d2d8073e95939959a6370'), ObjectId('661d2d8073e95939959a6371'), ObjectId('661d2d8073e95939959a6372'), ObjectId('661d2d8073e95939959a6373'), ObjectId('661d2d8073e95939959a6374'), ObjectId('661d2d8073e95939959a6375'), ObjectId('661d2d8073e95939959a6376'), ObjectId('661d2d8073e95939959a6377'), ObjectId('661d2d8073e95939959a6378'), ObjectId('661d2d8073e95939959a6379'), ObjectId('661d2d8073e95939959a637a'), ObjectId('661d2d8073e95939959a637b'), ObjectId('661d2d8073e95939959a637c'), ObjectId('661d2d8073e95939959a637d'), ObjectId('661d2d8073e95939959a637e'), ObjectId('661d2d8073e95939959a637f'), ObjectId('661d2d8073e95939959a6380'), ObjectId('661d2d8073e95939959a6381'), ObjectId('661d2d8073e95939959a6382'), ObjectId('661d2d8073e95939959a6383'), ObjectId('661d2d8073e95939959a6384'), ObjectId('661d2d8073e95939959a6385'), ObjectId('661d2d8073e95939959a6386'), ObjectId('661d2d8073e95939959a6387'), ObjectId('661d2d8073e95939959a6388'), ObjectId('661d2d8073e95939959a6389'), ObjectId('661d2d8073e95939959a638a'), ObjectId('661d2d8073e95939959a638b'), ObjectId('661d2d8073e95939959a638c'), ObjectId('661d2d8073e95939959a638d'), ObjectId('661d2d8073e95939959a638e'), ObjectId('661d2d8073e95939959a638f'), ObjectId('661d2d8073e95939959a6390'), ObjectId('661d2d8073e95939959a6391'), ObjectId('661d2d8073e95939959a6392'), ObjectId('661d2d8073e95939959a6393'), ObjectId('661d2d8073e95939959a6394'), ObjectId('661d2d8073e95939959a6395'), ObjectId('661d2d8073e95939959a6396'), ObjectId('661d2d8073e95939959a6397'), ObjectId('661d2d8073e95939959a6398'), ObjectId('661d2d8073e95939959a6399'), ObjectId('661d2d8073e95939959a639a'), ObjectId('661d2d8073e95939959a639b'), ObjectId('661d2d8073e95939959a639c'), ObjectId('661d2d8073e95939959a639d'), ObjectId('661d2d8073e95939959a639e'), ObjectId('661d2d8073e95939959a639f'), ObjectId('661d2d8073e95939959a63a0'), ObjectId('661d2d8073e95939959a63a1'), ObjectId('661d2d8073e95939959a63a2'), ObjectId('661d2d8073e95939959a63a3'), ObjectId('661d2d8073e95939959a63a4'), ObjectId('661d2d8073e95939959a63a5'), ObjectId('661d2d8073e95939959a63a6'), ObjectId('661d2d8073e95939959a63a7'), ObjectId('661d2d8073e95939959a63a8'), ObjectId('661d2d8073e95939959a63a9'), ObjectId('661d2d8073e95939959a63aa'), ObjectId('661d2d8073e95939959a63ab'), ObjectId('661d2d8073e95939959a63ac'), ObjectId('661d2d8073e95939959a63ad'), ObjectId('661d2d8073e95939959a63ae'), ObjectId('661d2d8073e95939959a63af'), ObjectId('661d2d8073e95939959a63b0'), ObjectId('661d2d8073e95939959a63b1'), ObjectId('661d2d8073e95939959a63b2'), ObjectId('661d2d8073e95939959a63b3'), ObjectId('661d2d8073e95939959a63b4'), ObjectId('661d2d8073e95939959a63b5'), ObjectId('661d2d8073e95939959a63b6'), ObjectId('661d2d8073e95939959a63b7'), ObjectId('661d2d8073e95939959a63b8'), ObjectId('661d2d8073e95939959a63b9'), ObjectId('661d2d8073e95939959a63ba'), ObjectId('661d2d8073e95939959a63bb'), ObjectId('661d2d8073e95939959a63bc'), ObjectId('661d2d8073e95939959a63bd'), ObjectId('661d2d8073e95939959a63be'), ObjectId('661d2d8073e95939959a63bf'), ObjectId('661d2d8073e95939959a63c0'), ObjectId('661d2d8073e95939959a63c1'), ObjectId('661d2d8073e95939959a63c2'), ObjectId('661d2d8073e95939959a63c3'), ObjectId('661d2d8073e95939959a63c4'), ObjectId('661d2d8073e95939959a63c5'), ObjectId('661d2d8073e95939959a63c6'), ObjectId('661d2d8073e95939959a63c7'), ObjectId('661d2d8073e95939959a63c8'), ObjectId('661d2d8073e95939959a63c9'), ObjectId('661d2d8073e95939959a63ca'), ObjectId('661d2d8073e95939959a63cb'), ObjectId('661d2d8073e95939959a63cc'), ObjectId('661d2d8073e95939959a63cd'), ObjectId('661d2d8073e95939959a63ce'), ObjectId('661d2d8073e95939959a63cf'), ObjectId('661d2d8073e95939959a63d0'), ObjectId('661d2d8073e95939959a63d1'), ObjectId('661d2d8073e95939959a63d2'), ObjectId('661d2d8073e95939959a63d3'), ObjectId('661d2d8073e95939959a63d4'), ObjectId('661d2d8073e95939959a63d5'), ObjectId('661d2d8073e95939959a63d6'), ObjectId('661d2d8073e95939959a63d7'), ObjectId('661d2d8073e95939959a63d8'), ObjectId('661d2d8073e95939959a63d9'), ObjectId('661d2d8073e95939959a63da'), ObjectId('661d2d8073e95939959a63db'), ObjectId('661d2d8073e95939959a63dc'), ObjectId('661d2d8073e95939959a63dd'), ObjectId('661d2d8073e95939959a63de'), ObjectId('661d2d8073e95939959a63df'), ObjectId('661d2d8073e95939959a63e0'), ObjectId('661d2d8073e95939959a63e1'), ObjectId('661d2d8073e95939959a63e2'), ObjectId('661d2d8073e95939959a63e3'), ObjectId('661d2d8073e95939959a63e4'), ObjectId('661d2d8073e95939959a63e5'), ObjectId('661d2d8073e95939959a63e6'), ObjectId('661d2d8073e95939959a63e7'), ObjectId('661d2d8073e95939959a63e8'), ObjectId('661d2d8073e95939959a63e9'), ObjectId('661d2d8073e95939959a63ea'), ObjectId('661d2d8073e95939959a63eb'), ObjectId('661d2d8073e95939959a63ec'), ObjectId('661d2d8073e95939959a63ed'), ObjectId('661d2d8073e95939959a63ee'), ObjectId('661d2d8073e95939959a63ef'), ObjectId('661d2d8073e95939959a63f0'), ObjectId('661d2d8073e95939959a63f1'), ObjectId('661d2d8073e95939959a63f2'), ObjectId('661d2d8073e95939959a63f3'), ObjectId('661d2d8073e95939959a63f4'), ObjectId('661d2d8073e95939959a63f5'), ObjectId('661d2d8073e95939959a63f6'), ObjectId('661d2d8073e95939959a63f7'), ObjectId('661d2d8073e95939959a63f8'), ObjectId('661d2d8073e95939959a63f9'), ObjectId('661d2d8073e95939959a63fa'), ObjectId('661d2d8073e95939959a63fb'), ObjectId('661d2d8073e95939959a63fc'), ObjectId('661d2d8073e95939959a63fd'), ObjectId('661d2d8073e95939959a63fe'), ObjectId('661d2d8073e95939959a63ff'), ObjectId('661d2d8073e95939959a6400'), ObjectId('661d2d8073e95939959a6401'), ObjectId('661d2d8073e95939959a6402'), ObjectId('661d2d8073e95939959a6403'), ObjectId('661d2d8073e95939959a6404'), ObjectId('661d2d8073e95939959a6405'), ObjectId('661d2d8073e95939959a6406'), ObjectId('661d2d8073e95939959a6407'), ObjectId('661d2d8073e95939959a6408'), ObjectId('661d2d8073e95939959a6409'), ObjectId('661d2d8073e95939959a640a'), ObjectId('661d2d8073e95939959a640b'), ObjectId('661d2d8073e95939959a640c'), ObjectId('661d2d8073e95939959a640d'), ObjectId('661d2d8073e95939959a640e'), ObjectId('661d2d8073e95939959a640f'), ObjectId('661d2d8073e95939959a6410'), ObjectId('661d2d8073e95939959a6411'), ObjectId('661d2d8073e95939959a6412'), ObjectId('661d2d8073e95939959a6413'), ObjectId('661d2d8073e95939959a6414'), ObjectId('661d2d8073e95939959a6415'), ObjectId('661d2d8073e95939959a6416'), ObjectId('661d2d8073e95939959a6417'), ObjectId('661d2d8073e95939959a6418'), ObjectId('661d2d8073e95939959a6419'), ObjectId('661d2d8073e95939959a641a'), ObjectId('661d2d8073e95939959a641b'), ObjectId('661d2d8073e95939959a641c'), ObjectId('661d2d8073e95939959a641d'), ObjectId('661d2d8073e95939959a641e'), ObjectId('661d2d8073e95939959a641f'), ObjectId('661d2d8073e95939959a6420'), ObjectId('661d2d8073e95939959a6421'), ObjectId('661d2d8073e95939959a6422'), ObjectId('661d2d8073e95939959a6423'), ObjectId('661d2d8073e95939959a6424'), ObjectId('661d2d8073e95939959a6425'), ObjectId('661d2d8073e95939959a6426'), ObjectId('661d2d8073e95939959a6427'), ObjectId('661d2d8073e95939959a6428'), ObjectId('661d2d8073e95939959a6429'), ObjectId('661d2d8073e95939959a642a'), ObjectId('661d2d8073e95939959a642b'), ObjectId('661d2d8073e95939959a642c'), ObjectId('661d2d8073e95939959a642d'), ObjectId('661d2d8073e95939959a642e'), ObjectId('661d2d8073e95939959a642f'), ObjectId('661d2d8073e95939959a6430'), ObjectId('661d2d8073e95939959a6431'), ObjectId('661d2d8073e95939959a6432'), ObjectId('661d2d8073e95939959a6433'), ObjectId('661d2d8073e95939959a6434'), ObjectId('661d2d8073e95939959a6435'), ObjectId('661d2d8073e95939959a6436'), ObjectId('661d2d8073e95939959a6437'), ObjectId('661d2d8073e95939959a6438'), ObjectId('661d2d8073e95939959a6439'), ObjectId('661d2d8073e95939959a643a'), ObjectId('661d2d8073e95939959a643b'), ObjectId('661d2d8073e95939959a643c'), ObjectId('661d2d8073e95939959a643d'), ObjectId('661d2d8073e95939959a643e'), ObjectId('661d2d8073e95939959a643f'), ObjectId('661d2d8073e95939959a6440'), ObjectId('661d2d8073e95939959a6441'), ObjectId('661d2d8073e95939959a6442'), ObjectId('661d2d8073e95939959a6443'), ObjectId('661d2d8073e95939959a6444'), ObjectId('661d2d8073e95939959a6445'), ObjectId('661d2d8073e95939959a6446'), ObjectId('661d2d8073e95939959a6447'), ObjectId('661d2d8073e95939959a6448'), ObjectId('661d2d8073e95939959a6449'), ObjectId('661d2d8073e95939959a644a'), ObjectId('661d2d8073e95939959a644b'), ObjectId('661d2d8073e95939959a644c'), ObjectId('661d2d8073e95939959a644d'), ObjectId('661d2d8073e95939959a644e'), ObjectId('661d2d8073e95939959a644f'), ObjectId('661d2d8073e95939959a6450'), ObjectId('661d2d8073e95939959a6451'), ObjectId('661d2d8073e95939959a6452'), ObjectId('661d2d8073e95939959a6453'), ObjectId('661d2d8073e95939959a6454'), ObjectId('661d2d8073e95939959a6455'), ObjectId('661d2d8073e95939959a6456'), ObjectId('661d2d8073e95939959a6457'), ObjectId('661d2d8073e95939959a6458'), ObjectId('661d2d8073e95939959a6459'), ObjectId('661d2d8073e95939959a645a'), ObjectId('661d2d8073e95939959a645b'), ObjectId('661d2d8073e95939959a645c'), ObjectId('661d2d8073e95939959a645d'), ObjectId('661d2d8073e95939959a645e'), ObjectId('661d2d8073e95939959a645f'), ObjectId('661d2d8073e95939959a6460'), ObjectId('661d2d8073e95939959a6461'), ObjectId('661d2d8073e95939959a6462'), ObjectId('661d2d8073e95939959a6463'), ObjectId('661d2d8073e95939959a6464'), ObjectId('661d2d8073e95939959a6465'), ObjectId('661d2d8073e95939959a6466'), ObjectId('661d2d8073e95939959a6467'), ObjectId('661d2d8073e95939959a6468'), ObjectId('661d2d8073e95939959a6469'), ObjectId('661d2d8073e95939959a646a'), ObjectId('661d2d8073e95939959a646b'), ObjectId('661d2d8073e95939959a646c'), ObjectId('661d2d8073e95939959a646d'), ObjectId('661d2d8073e95939959a646e'), ObjectId('661d2d8073e95939959a646f'), ObjectId('661d2d8073e95939959a6470'), ObjectId('661d2d8073e95939959a6471'), ObjectId('661d2d8073e95939959a6472'), ObjectId('661d2d8073e95939959a6473'), ObjectId('661d2d8073e95939959a6474'), ObjectId('661d2d8073e95939959a6475'), ObjectId('661d2d8073e95939959a6476'), ObjectId('661d2d8073e95939959a6477'), ObjectId('661d2d8073e95939959a6478'), ObjectId('661d2d8073e95939959a6479'), ObjectId('661d2d8073e95939959a647a'), ObjectId('661d2d8073e95939959a647b'), ObjectId('661d2d8073e95939959a647c'), ObjectId('661d2d8073e95939959a647d'), ObjectId('661d2d8073e95939959a647e'), ObjectId('661d2d8073e95939959a647f'), ObjectId('661d2d8073e95939959a6480'), ObjectId('661d2d8073e95939959a6481'), ObjectId('661d2d8073e95939959a6482'), ObjectId('661d2d8073e95939959a6483'), ObjectId('661d2d8073e95939959a6484'), ObjectId('661d2d8073e95939959a6485'), ObjectId('661d2d8073e95939959a6486'), ObjectId('661d2d8073e95939959a6487'), ObjectId('661d2d8073e95939959a6488'), ObjectId('661d2d8073e95939959a6489'), ObjectId('661d2d8073e95939959a648a'), ObjectId('661d2d8073e95939959a648b'), ObjectId('661d2d8073e95939959a648c'), ObjectId('661d2d8073e95939959a648d'), ObjectId('661d2d8073e95939959a648e'), ObjectId('661d2d8073e95939959a648f'), ObjectId('661d2d8073e95939959a6490'), ObjectId('661d2d8073e95939959a6491'), ObjectId('661d2d8073e95939959a6492'), ObjectId('661d2d8073e95939959a6493'), ObjectId('661d2d8073e95939959a6494'), ObjectId('661d2d8073e95939959a6495'), ObjectId('661d2d8073e95939959a6496'), ObjectId('661d2d8073e95939959a6497'), ObjectId('661d2d8073e95939959a6498'), ObjectId('661d2d8073e95939959a6499'), ObjectId('661d2d8073e95939959a649a'), ObjectId('661d2d8073e95939959a649b'), ObjectId('661d2d8073e95939959a649c'), ObjectId('661d2d8073e95939959a649d'), ObjectId('661d2d8073e95939959a649e'), ObjectId('661d2d8073e95939959a649f'), ObjectId('661d2d8073e95939959a64a0'), ObjectId('661d2d8073e95939959a64a1'), ObjectId('661d2d8073e95939959a64a2'), ObjectId('661d2d8073e95939959a64a3'), ObjectId('661d2d8073e95939959a64a4'), ObjectId('661d2d8073e95939959a64a5'), ObjectId('661d2d8073e95939959a64a6'), ObjectId('661d2d8073e95939959a64a7'), ObjectId('661d2d8073e95939959a64a8'), ObjectId('661d2d8073e95939959a64a9'), ObjectId('661d2d8073e95939959a64aa'), ObjectId('661d2d8073e95939959a64ab'), ObjectId('661d2d8073e95939959a64ac'), ObjectId('661d2d8073e95939959a64ad'), ObjectId('661d2d8073e95939959a64ae'), ObjectId('661d2d8073e95939959a64af'), ObjectId('661d2d8073e95939959a64b0'), ObjectId('661d2d8073e95939959a64b1'), ObjectId('661d2d8073e95939959a64b2'), ObjectId('661d2d8073e95939959a64b3'), ObjectId('661d2d8073e95939959a64b4'), ObjectId('661d2d8073e95939959a64b5'), ObjectId('661d2d8073e95939959a64b6'), ObjectId('661d2d8073e95939959a64b7'), ObjectId('661d2d8073e95939959a64b8'), ObjectId('661d2d8073e95939959a64b9'), ObjectId('661d2d8073e95939959a64ba'), ObjectId('661d2d8073e95939959a64bb'), ObjectId('661d2d8073e95939959a64bc'), ObjectId('661d2d8073e95939959a64bd'), ObjectId('661d2d8073e95939959a64be'), ObjectId('661d2d8073e95939959a64bf'), ObjectId('661d2d8073e95939959a64c0'), ObjectId('661d2d8073e95939959a64c1'), ObjectId('661d2d8073e95939959a64c2'), ObjectId('661d2d8073e95939959a64c3'), ObjectId('661d2d8073e95939959a64c4'), ObjectId('661d2d8073e95939959a64c5'), ObjectId('661d2d8073e95939959a64c6'), ObjectId('661d2d8073e95939959a64c7'), ObjectId('661d2d8073e95939959a64c8'), ObjectId('661d2d8073e95939959a64c9'), ObjectId('661d2d8073e95939959a64ca'), ObjectId('661d2d8073e95939959a64cb'), ObjectId('661d2d8073e95939959a64cc'), ObjectId('661d2d8073e95939959a64cd'), ObjectId('661d2d8073e95939959a64ce'), ObjectId('661d2d8073e95939959a64cf'), ObjectId('661d2d8073e95939959a64d0'), ObjectId('661d2d8073e95939959a64d1'), ObjectId('661d2d8073e95939959a64d2'), ObjectId('661d2d8073e95939959a64d3'), ObjectId('661d2d8073e95939959a64d4'), ObjectId('661d2d8073e95939959a64d5'), ObjectId('661d2d8073e95939959a64d6'), ObjectId('661d2d8073e95939959a64d7'), ObjectId('661d2d8073e95939959a64d8'), ObjectId('661d2d8073e95939959a64d9'), ObjectId('661d2d8073e95939959a64da'), ObjectId('661d2d8073e95939959a64db'), ObjectId('661d2d8073e95939959a64dc'), ObjectId('661d2d8073e95939959a64dd'), ObjectId('661d2d8073e95939959a64de'), ObjectId('661d2d8073e95939959a64df'), ObjectId('661d2d8073e95939959a64e0'), ObjectId('661d2d8073e95939959a64e1'), ObjectId('661d2d8073e95939959a64e2'), ObjectId('661d2d8073e95939959a64e3'), ObjectId('661d2d8073e95939959a64e4'), ObjectId('661d2d8073e95939959a64e5'), ObjectId('661d2d8073e95939959a64e6'), ObjectId('661d2d8073e95939959a64e7'), ObjectId('661d2d8073e95939959a64e8'), ObjectId('661d2d8073e95939959a64e9'), ObjectId('661d2d8073e95939959a64ea'), ObjectId('661d2d8073e95939959a64eb'), ObjectId('661d2d8073e95939959a64ec'), ObjectId('661d2d8073e95939959a64ed'), ObjectId('661d2d8073e95939959a64ee'), ObjectId('661d2d8073e95939959a64ef'), ObjectId('661d2d8073e95939959a64f0'), ObjectId('661d2d8073e95939959a64f1'), ObjectId('661d2d8073e95939959a64f2'), ObjectId('661d2d8073e95939959a64f3'), ObjectId('661d2d8073e95939959a64f4'), ObjectId('661d2d8073e95939959a64f5'), ObjectId('661d2d8073e95939959a64f6'), ObjectId('661d2d8073e95939959a64f7'), ObjectId('661d2d8073e95939959a64f8'), ObjectId('661d2d8073e95939959a64f9'), ObjectId('661d2d8073e95939959a64fa'), ObjectId('661d2d8073e95939959a64fb'), ObjectId('661d2d8073e95939959a64fc'), ObjectId('661d2d8073e95939959a64fd'), ObjectId('661d2d8073e95939959a64fe'), ObjectId('661d2d8073e95939959a64ff'), ObjectId('661d2d8073e95939959a6500'), ObjectId('661d2d8073e95939959a6501'), ObjectId('661d2d8073e95939959a6502'), ObjectId('661d2d8073e95939959a6503'), ObjectId('661d2d8073e95939959a6504'), ObjectId('661d2d8073e95939959a6505'), ObjectId('661d2d8073e95939959a6506'), ObjectId('661d2d8073e95939959a6507'), ObjectId('661d2d8073e95939959a6508'), ObjectId('661d2d8073e95939959a6509'), ObjectId('661d2d8073e95939959a650a'), ObjectId('661d2d8073e95939959a650b'), ObjectId('661d2d8073e95939959a650c'), ObjectId('661d2d8073e95939959a650d'), ObjectId('661d2d8073e95939959a650e'), ObjectId('661d2d8073e95939959a650f'), ObjectId('661d2d8073e95939959a6510'), ObjectId('661d2d8073e95939959a6511'), ObjectId('661d2d8073e95939959a6512'), ObjectId('661d2d8073e95939959a6513'), ObjectId('661d2d8073e95939959a6514'), ObjectId('661d2d8073e95939959a6515'), ObjectId('661d2d8073e95939959a6516'), ObjectId('661d2d8073e95939959a6517'), ObjectId('661d2d8073e95939959a6518'), ObjectId('661d2d8073e95939959a6519'), ObjectId('661d2d8073e95939959a651a'), ObjectId('661d2d8073e95939959a651b'), ObjectId('661d2d8073e95939959a651c'), ObjectId('661d2d8073e95939959a651d'), ObjectId('661d2d8073e95939959a651e'), ObjectId('661d2d8073e95939959a651f'), ObjectId('661d2d8073e95939959a6520'), ObjectId('661d2d8073e95939959a6521'), ObjectId('661d2d8073e95939959a6522'), ObjectId('661d2d8073e95939959a6523'), ObjectId('661d2d8073e95939959a6524'), ObjectId('661d2d8073e95939959a6525'), ObjectId('661d2d8073e95939959a6526'), ObjectId('661d2d8073e95939959a6527'), ObjectId('661d2d8073e95939959a6528'), ObjectId('661d2d8073e95939959a6529'), ObjectId('661d2d8073e95939959a652a'), ObjectId('661d2d8073e95939959a652b'), ObjectId('661d2d8073e95939959a652c'), ObjectId('661d2d8073e95939959a652d'), ObjectId('661d2d8073e95939959a652e'), ObjectId('661d2d8073e95939959a652f'), ObjectId('661d2d8073e95939959a6530'), ObjectId('661d2d8073e95939959a6531'), ObjectId('661d2d8073e95939959a6532'), ObjectId('661d2d8073e95939959a6533'), ObjectId('661d2d8073e95939959a6534'), ObjectId('661d2d8073e95939959a6535'), ObjectId('661d2d8073e95939959a6536'), ObjectId('661d2d8073e95939959a6537'), ObjectId('661d2d8073e95939959a6538'), ObjectId('661d2d8073e95939959a6539'), ObjectId('661d2d8073e95939959a653a'), ObjectId('661d2d8073e95939959a653b'), ObjectId('661d2d8073e95939959a653c'), ObjectId('661d2d8073e95939959a653d'), ObjectId('661d2d8073e95939959a653e'), ObjectId('661d2d8073e95939959a653f'), ObjectId('661d2d8073e95939959a6540'), ObjectId('661d2d8073e95939959a6541'), ObjectId('661d2d8073e95939959a6542'), ObjectId('661d2d8073e95939959a6543'), ObjectId('661d2d8073e95939959a6544'), ObjectId('661d2d8073e95939959a6545'), ObjectId('661d2d8073e95939959a6546'), ObjectId('661d2d8073e95939959a6547'), ObjectId('661d2d8073e95939959a6548'), ObjectId('661d2d8073e95939959a6549'), ObjectId('661d2d8073e95939959a654a'), ObjectId('661d2d8073e95939959a654b'), ObjectId('661d2d8073e95939959a654c'), ObjectId('661d2d8073e95939959a654d'), ObjectId('661d2d8073e95939959a654e'), ObjectId('661d2d8073e95939959a654f'), ObjectId('661d2d8073e95939959a6550'), ObjectId('661d2d8073e95939959a6551'), ObjectId('661d2d8073e95939959a6552'), ObjectId('661d2d8073e95939959a6553'), ObjectId('661d2d8073e95939959a6554'), ObjectId('661d2d8073e95939959a6555'), ObjectId('661d2d8073e95939959a6556'), ObjectId('661d2d8073e95939959a6557'), ObjectId('661d2d8073e95939959a6558'), ObjectId('661d2d8073e95939959a6559'), ObjectId('661d2d8073e95939959a655a'), ObjectId('661d2d8073e95939959a655b'), ObjectId('661d2d8073e95939959a655c'), ObjectId('661d2d8073e95939959a655d'), ObjectId('661d2d8073e95939959a655e'), ObjectId('661d2d8073e95939959a655f'), ObjectId('661d2d8073e95939959a6560'), ObjectId('661d2d8073e95939959a6561'), ObjectId('661d2d8073e95939959a6562'), ObjectId('661d2d8073e95939959a6563'), ObjectId('661d2d8073e95939959a6564'), ObjectId('661d2d8073e95939959a6565'), ObjectId('661d2d8073e95939959a6566'), ObjectId('661d2d8073e95939959a6567'), ObjectId('661d2d8073e95939959a6568'), ObjectId('661d2d8073e95939959a6569'), ObjectId('661d2d8073e95939959a656a'), ObjectId('661d2d8073e95939959a656b'), ObjectId('661d2d8073e95939959a656c'), ObjectId('661d2d8073e95939959a656d'), ObjectId('661d2d8073e95939959a656e'), ObjectId('661d2d8073e95939959a656f'), ObjectId('661d2d8073e95939959a6570'), ObjectId('661d2d8073e95939959a6571'), ObjectId('661d2d8073e95939959a6572'), ObjectId('661d2d8073e95939959a6573'), ObjectId('661d2d8073e95939959a6574'), ObjectId('661d2d8073e95939959a6575'), ObjectId('661d2d8073e95939959a6576'), ObjectId('661d2d8073e95939959a6577'), ObjectId('661d2d8073e95939959a6578'), ObjectId('661d2d8073e95939959a6579'), ObjectId('661d2d8073e95939959a657a'), ObjectId('661d2d8073e95939959a657b'), ObjectId('661d2d8073e95939959a657c'), ObjectId('661d2d8073e95939959a657d'), ObjectId('661d2d8073e95939959a657e'), ObjectId('661d2d8073e95939959a657f'), ObjectId('661d2d8073e95939959a6580'), ObjectId('661d2d8073e95939959a6581'), ObjectId('661d2d8073e95939959a6582'), ObjectId('661d2d8073e95939959a6583'), ObjectId('661d2d8073e95939959a6584'), ObjectId('661d2d8073e95939959a6585'), ObjectId('661d2d8073e95939959a6586'), ObjectId('661d2d8073e95939959a6587'), ObjectId('661d2d8073e95939959a6588'), ObjectId('661d2d8073e95939959a6589'), ObjectId('661d2d8073e95939959a658a'), ObjectId('661d2d8073e95939959a658b'), ObjectId('661d2d8073e95939959a658c'), ObjectId('661d2d8073e95939959a658d'), ObjectId('661d2d8073e95939959a658e'), ObjectId('661d2d8073e95939959a658f'), ObjectId('661d2d8073e95939959a6590'), ObjectId('661d2d8073e95939959a6591'), ObjectId('661d2d8073e95939959a6592'), ObjectId('661d2d8073e95939959a6593'), ObjectId('661d2d8073e95939959a6594'), ObjectId('661d2d8073e95939959a6595'), ObjectId('661d2d8073e95939959a6596'), ObjectId('661d2d8073e95939959a6597'), ObjectId('661d2d8073e95939959a6598'), ObjectId('661d2d8073e95939959a6599'), ObjectId('661d2d8073e95939959a659a'), ObjectId('661d2d8073e95939959a659b'), ObjectId('661d2d8073e95939959a659c'), ObjectId('661d2d8073e95939959a659d'), ObjectId('661d2d8073e95939959a659e'), ObjectId('661d2d8073e95939959a659f'), ObjectId('661d2d8073e95939959a65a0'), ObjectId('661d2d8073e95939959a65a1'), ObjectId('661d2d8073e95939959a65a2'), ObjectId('661d2d8073e95939959a65a3'), ObjectId('661d2d8073e95939959a65a4'), ObjectId('661d2d8073e95939959a65a5'), ObjectId('661d2d8073e95939959a65a6'), ObjectId('661d2d8073e95939959a65a7'), ObjectId('661d2d8073e95939959a65a8'), ObjectId('661d2d8073e95939959a65a9'), ObjectId('661d2d8073e95939959a65aa'), ObjectId('661d2d8073e95939959a65ab'), ObjectId('661d2d8073e95939959a65ac'), ObjectId('661d2d8073e95939959a65ad'), ObjectId('661d2d8073e95939959a65ae'), ObjectId('661d2d8073e95939959a65af'), ObjectId('661d2d8073e95939959a65b0'), ObjectId('661d2d8073e95939959a65b1'), ObjectId('661d2d8073e95939959a65b2'), ObjectId('661d2d8073e95939959a65b3'), ObjectId('661d2d8073e95939959a65b4'), ObjectId('661d2d8073e95939959a65b5'), ObjectId('661d2d8073e95939959a65b6'), ObjectId('661d2d8073e95939959a65b7'), ObjectId('661d2d8073e95939959a65b8'), ObjectId('661d2d8073e95939959a65b9'), ObjectId('661d2d8073e95939959a65ba'), ObjectId('661d2d8073e95939959a65bb'), ObjectId('661d2d8073e95939959a65bc'), ObjectId('661d2d8073e95939959a65bd'), ObjectId('661d2d8073e95939959a65be'), ObjectId('661d2d8073e95939959a65bf'), ObjectId('661d2d8073e95939959a65c0'), ObjectId('661d2d8073e95939959a65c1'), ObjectId('661d2d8073e95939959a65c2'), ObjectId('661d2d8073e95939959a65c3'), ObjectId('661d2d8073e95939959a65c4'), ObjectId('661d2d8073e95939959a65c5'), ObjectId('661d2d8073e95939959a65c6'), ObjectId('661d2d8073e95939959a65c7'), ObjectId('661d2d8073e95939959a65c8'), ObjectId('661d2d8073e95939959a65c9'), ObjectId('661d2d8073e95939959a65ca'), ObjectId('661d2d8073e95939959a65cb'), ObjectId('661d2d8073e95939959a65cc'), ObjectId('661d2d8073e95939959a65cd'), ObjectId('661d2d8073e95939959a65ce'), ObjectId('661d2d8073e95939959a65cf'), ObjectId('661d2d8073e95939959a65d0'), ObjectId('661d2d8073e95939959a65d1'), ObjectId('661d2d8073e95939959a65d2'), ObjectId('661d2d8073e95939959a65d3'), ObjectId('661d2d8073e95939959a65d4'), ObjectId('661d2d8073e95939959a65d5'), ObjectId('661d2d8073e95939959a65d6'), ObjectId('661d2d8073e95939959a65d7'), ObjectId('661d2d8073e95939959a65d8'), ObjectId('661d2d8073e95939959a65d9'), ObjectId('661d2d8073e95939959a65da'), ObjectId('661d2d8073e95939959a65db'), ObjectId('661d2d8073e95939959a65dc'), ObjectId('661d2d8073e95939959a65dd'), ObjectId('661d2d8073e95939959a65de'), ObjectId('661d2d8073e95939959a65df'), ObjectId('661d2d8073e95939959a65e0'), ObjectId('661d2d8073e95939959a65e1'), ObjectId('661d2d8073e95939959a65e2'), ObjectId('661d2d8073e95939959a65e3'), ObjectId('661d2d8073e95939959a65e4'), ObjectId('661d2d8073e95939959a65e5'), ObjectId('661d2d8073e95939959a65e6'), ObjectId('661d2d8073e95939959a65e7'), ObjectId('661d2d8073e95939959a65e8'), ObjectId('661d2d8073e95939959a65e9'), ObjectId('661d2d8073e95939959a65ea'), ObjectId('661d2d8073e95939959a65eb'), ObjectId('661d2d8073e95939959a65ec'), ObjectId('661d2d8073e95939959a65ed'), ObjectId('661d2d8073e95939959a65ee'), ObjectId('661d2d8073e95939959a65ef'), ObjectId('661d2d8073e95939959a65f0'), ObjectId('661d2d8073e95939959a65f1'), ObjectId('661d2d8073e95939959a65f2'), ObjectId('661d2d8073e95939959a65f3'), ObjectId('661d2d8073e95939959a65f4'), ObjectId('661d2d8073e95939959a65f5'), ObjectId('661d2d8073e95939959a65f6'), ObjectId('661d2d8073e95939959a65f7'), ObjectId('661d2d8073e95939959a65f8'), ObjectId('661d2d8073e95939959a65f9'), ObjectId('661d2d8073e95939959a65fa'), ObjectId('661d2d8073e95939959a65fb'), ObjectId('661d2d8073e95939959a65fc'), ObjectId('661d2d8073e95939959a65fd'), ObjectId('661d2d8073e95939959a65fe'), ObjectId('661d2d8073e95939959a65ff'), ObjectId('661d2d8073e95939959a6600'), ObjectId('661d2d8073e95939959a6601'), ObjectId('661d2d8073e95939959a6602'), ObjectId('661d2d8073e95939959a6603'), ObjectId('661d2d8073e95939959a6604'), ObjectId('661d2d8073e95939959a6605'), ObjectId('661d2d8073e95939959a6606'), ObjectId('661d2d8073e95939959a6607'), ObjectId('661d2d8073e95939959a6608'), ObjectId('661d2d8073e95939959a6609'), ObjectId('661d2d8073e95939959a660a'), ObjectId('661d2d8073e95939959a660b'), ObjectId('661d2d8073e95939959a660c'), ObjectId('661d2d8073e95939959a660d'), ObjectId('661d2d8073e95939959a660e'), ObjectId('661d2d8073e95939959a660f'), ObjectId('661d2d8073e95939959a6610'), ObjectId('661d2d8073e95939959a6611'), ObjectId('661d2d8073e95939959a6612'), ObjectId('661d2d8073e95939959a6613'), ObjectId('661d2d8073e95939959a6614'), ObjectId('661d2d8073e95939959a6615'), ObjectId('661d2d8073e95939959a6616'), ObjectId('661d2d8073e95939959a6617'), ObjectId('661d2d8073e95939959a6618'), ObjectId('661d2d8073e95939959a6619'), ObjectId('661d2d8073e95939959a661a'), ObjectId('661d2d8073e95939959a661b'), ObjectId('661d2d8073e95939959a661c'), ObjectId('661d2d8073e95939959a661d'), ObjectId('661d2d8073e95939959a661e'), ObjectId('661d2d8073e95939959a661f'), ObjectId('661d2d8073e95939959a6620'), ObjectId('661d2d8073e95939959a6621'), ObjectId('661d2d8073e95939959a6622'), ObjectId('661d2d8073e95939959a6623'), ObjectId('661d2d8073e95939959a6624'), ObjectId('661d2d8073e95939959a6625'), ObjectId('661d2d8073e95939959a6626'), ObjectId('661d2d8073e95939959a6627'), ObjectId('661d2d8073e95939959a6628'), ObjectId('661d2d8073e95939959a6629'), ObjectId('661d2d8073e95939959a662a'), ObjectId('661d2d8073e95939959a662b'), ObjectId('661d2d8073e95939959a662c'), ObjectId('661d2d8073e95939959a662d'), ObjectId('661d2d8073e95939959a662e'), ObjectId('661d2d8073e95939959a662f'), ObjectId('661d2d8073e95939959a6630'), ObjectId('661d2d8073e95939959a6631'), ObjectId('661d2d8073e95939959a6632'), ObjectId('661d2d8073e95939959a6633'), ObjectId('661d2d8073e95939959a6634'), ObjectId('661d2d8073e95939959a6635'), ObjectId('661d2d8073e95939959a6636'), ObjectId('661d2d8073e95939959a6637'), ObjectId('661d2d8073e95939959a6638'), ObjectId('661d2d8073e95939959a6639'), ObjectId('661d2d8073e95939959a663a'), ObjectId('661d2d8073e95939959a663b'), ObjectId('661d2d8073e95939959a663c'), ObjectId('661d2d8073e95939959a663d'), ObjectId('661d2d8073e95939959a663e'), ObjectId('661d2d8073e95939959a663f'), ObjectId('661d2d8073e95939959a6640'), ObjectId('661d2d8073e95939959a6641'), ObjectId('661d2d8073e95939959a6642'), ObjectId('661d2d8073e95939959a6643'), ObjectId('661d2d8073e95939959a6644'), ObjectId('661d2d8073e95939959a6645'), ObjectId('661d2d8073e95939959a6646'), ObjectId('661d2d8073e95939959a6647'), ObjectId('661d2d8073e95939959a6648'), ObjectId('661d2d8073e95939959a6649'), ObjectId('661d2d8073e95939959a664a'), ObjectId('661d2d8073e95939959a664b'), ObjectId('661d2d8073e95939959a664c'), ObjectId('661d2d8073e95939959a664d'), ObjectId('661d2d8073e95939959a664e'), ObjectId('661d2d8073e95939959a664f'), ObjectId('661d2d8073e95939959a6650'), ObjectId('661d2d8073e95939959a6651'), ObjectId('661d2d8073e95939959a6652'), ObjectId('661d2d8073e95939959a6653'), ObjectId('661d2d8073e95939959a6654'), ObjectId('661d2d8073e95939959a6655'), ObjectId('661d2d8073e95939959a6656'), ObjectId('661d2d8073e95939959a6657'), ObjectId('661d2d8073e95939959a6658'), ObjectId('661d2d8073e95939959a6659'), ObjectId('661d2d8073e95939959a665a'), ObjectId('661d2d8073e95939959a665b'), ObjectId('661d2d8073e95939959a665c'), ObjectId('661d2d8073e95939959a665d'), ObjectId('661d2d8073e95939959a665e'), ObjectId('661d2d8073e95939959a665f'), ObjectId('661d2d8073e95939959a6660'), ObjectId('661d2d8073e95939959a6661'), ObjectId('661d2d8073e95939959a6662'), ObjectId('661d2d8073e95939959a6663'), ObjectId('661d2d8073e95939959a6664'), ObjectId('661d2d8073e95939959a6665'), ObjectId('661d2d8073e95939959a6666'), ObjectId('661d2d8073e95939959a6667'), ObjectId('661d2d8073e95939959a6668'), ObjectId('661d2d8073e95939959a6669'), ObjectId('661d2d8073e95939959a666a'), ObjectId('661d2d8073e95939959a666b'), ObjectId('661d2d8073e95939959a666c'), ObjectId('661d2d8073e95939959a666d'), ObjectId('661d2d8073e95939959a666e'), ObjectId('661d2d8073e95939959a666f'), ObjectId('661d2d8073e95939959a6670'), ObjectId('661d2d8073e95939959a6671'), ObjectId('661d2d8073e95939959a6672'), ObjectId('661d2d8073e95939959a6673'), ObjectId('661d2d8073e95939959a6674'), ObjectId('661d2d8073e95939959a6675'), ObjectId('661d2d8073e95939959a6676'), ObjectId('661d2d8073e95939959a6677'), ObjectId('661d2d8073e95939959a6678'), ObjectId('661d2d8073e95939959a6679'), ObjectId('661d2d8073e95939959a667a'), ObjectId('661d2d8073e95939959a667b'), ObjectId('661d2d8073e95939959a667c'), ObjectId('661d2d8073e95939959a667d'), ObjectId('661d2d8073e95939959a667e'), ObjectId('661d2d8073e95939959a667f'), ObjectId('661d2d8073e95939959a6680'), ObjectId('661d2d8073e95939959a6681'), ObjectId('661d2d8073e95939959a6682'), ObjectId('661d2d8073e95939959a6683'), ObjectId('661d2d8073e95939959a6684'), ObjectId('661d2d8073e95939959a6685'), ObjectId('661d2d8073e95939959a6686'), ObjectId('661d2d8073e95939959a6687'), ObjectId('661d2d8073e95939959a6688'), ObjectId('661d2d8073e95939959a6689'), ObjectId('661d2d8073e95939959a668a'), ObjectId('661d2d8073e95939959a668b'), ObjectId('661d2d8073e95939959a668c'), ObjectId('661d2d8073e95939959a668d'), ObjectId('661d2d8073e95939959a668e'), ObjectId('661d2d8073e95939959a668f'), ObjectId('661d2d8073e95939959a6690'), ObjectId('661d2d8073e95939959a6691'), ObjectId('661d2d8073e95939959a6692'), ObjectId('661d2d8073e95939959a6693'), ObjectId('661d2d8073e95939959a6694'), ObjectId('661d2d8073e95939959a6695'), ObjectId('661d2d8073e95939959a6696'), ObjectId('661d2d8073e95939959a6697'), ObjectId('661d2d8073e95939959a6698'), ObjectId('661d2d8073e95939959a6699'), ObjectId('661d2d8073e95939959a669a'), ObjectId('661d2d8073e95939959a669b'), ObjectId('661d2d8073e95939959a669c'), ObjectId('661d2d8073e95939959a669d'), ObjectId('661d2d8073e95939959a669e'), ObjectId('661d2d8073e95939959a669f'), ObjectId('661d2d8073e95939959a66a0'), ObjectId('661d2d8073e95939959a66a1'), ObjectId('661d2d8073e95939959a66a2'), ObjectId('661d2d8073e95939959a66a3'), ObjectId('661d2d8073e95939959a66a4'), ObjectId('661d2d8073e95939959a66a5'), ObjectId('661d2d8073e95939959a66a6'), ObjectId('661d2d8073e95939959a66a7'), ObjectId('661d2d8073e95939959a66a8'), ObjectId('661d2d8073e95939959a66a9'), ObjectId('661d2d8073e95939959a66aa'), ObjectId('661d2d8073e95939959a66ab'), ObjectId('661d2d8073e95939959a66ac'), ObjectId('661d2d8073e95939959a66ad'), ObjectId('661d2d8073e95939959a66ae'), ObjectId('661d2d8073e95939959a66af'), ObjectId('661d2d8073e95939959a66b0'), ObjectId('661d2d8073e95939959a66b1'), ObjectId('661d2d8073e95939959a66b2'), ObjectId('661d2d8073e95939959a66b3'), ObjectId('661d2d8073e95939959a66b4'), ObjectId('661d2d8073e95939959a66b5'), ObjectId('661d2d8073e95939959a66b6'), ObjectId('661d2d8073e95939959a66b7'), ObjectId('661d2d8073e95939959a66b8'), ObjectId('661d2d8073e95939959a66b9'), ObjectId('661d2d8073e95939959a66ba'), ObjectId('661d2d8073e95939959a66bb'), ObjectId('661d2d8073e95939959a66bc'), ObjectId('661d2d8073e95939959a66bd'), ObjectId('661d2d8073e95939959a66be'), ObjectId('661d2d8073e95939959a66bf'), ObjectId('661d2d8073e95939959a66c0'), ObjectId('661d2d8073e95939959a66c1'), ObjectId('661d2d8073e95939959a66c2'), ObjectId('661d2d8073e95939959a66c3'), ObjectId('661d2d8073e95939959a66c4'), ObjectId('661d2d8073e95939959a66c5'), ObjectId('661d2d8073e95939959a66c6'), ObjectId('661d2d8073e95939959a66c7'), ObjectId('661d2d8073e95939959a66c8'), ObjectId('661d2d8073e95939959a66c9'), ObjectId('661d2d8073e95939959a66ca'), ObjectId('661d2d8073e95939959a66cb'), ObjectId('661d2d8073e95939959a66cc'), ObjectId('661d2d8073e95939959a66cd'), ObjectId('661d2d8073e95939959a66ce'), ObjectId('661d2d8073e95939959a66cf'), ObjectId('661d2d8073e95939959a66d0'), ObjectId('661d2d8073e95939959a66d1'), ObjectId('661d2d8073e95939959a66d2'), ObjectId('661d2d8073e95939959a66d3'), ObjectId('661d2d8073e95939959a66d4'), ObjectId('661d2d8073e95939959a66d5'), ObjectId('661d2d8073e95939959a66d6'), ObjectId('661d2d8073e95939959a66d7'), ObjectId('661d2d8073e95939959a66d8'), ObjectId('661d2d8073e95939959a66d9'), ObjectId('661d2d8073e95939959a66da'), ObjectId('661d2d8073e95939959a66db'), ObjectId('661d2d8073e95939959a66dc'), ObjectId('661d2d8073e95939959a66dd'), ObjectId('661d2d8073e95939959a66de'), ObjectId('661d2d8073e95939959a66df'), ObjectId('661d2d8073e95939959a66e0'), ObjectId('661d2d8073e95939959a66e1'), ObjectId('661d2d8073e95939959a66e2'), ObjectId('661d2d8073e95939959a66e3'), ObjectId('661d2d8073e95939959a66e4'), ObjectId('661d2d8073e95939959a66e5'), ObjectId('661d2d8073e95939959a66e6'), ObjectId('661d2d8073e95939959a66e7'), ObjectId('661d2d8073e95939959a66e8'), ObjectId('661d2d8073e95939959a66e9'), ObjectId('661d2d8073e95939959a66ea'), ObjectId('661d2d8073e95939959a66eb'), ObjectId('661d2d8073e95939959a66ec'), ObjectId('661d2d8073e95939959a66ed'), ObjectId('661d2d8073e95939959a66ee'), ObjectId('661d2d8073e95939959a66ef'), ObjectId('661d2d8073e95939959a66f0'), ObjectId('661d2d8073e95939959a66f1'), ObjectId('661d2d8073e95939959a66f2'), ObjectId('661d2d8073e95939959a66f3'), ObjectId('661d2d8073e95939959a66f4'), ObjectId('661d2d8073e95939959a66f5'), ObjectId('661d2d8073e95939959a66f6'), ObjectId('661d2d8073e95939959a66f7'), ObjectId('661d2d8073e95939959a66f8'), ObjectId('661d2d8073e95939959a66f9'), ObjectId('661d2d8073e95939959a66fa'), ObjectId('661d2d8073e95939959a66fb'), ObjectId('661d2d8073e95939959a66fc'), ObjectId('661d2d8073e95939959a66fd'), ObjectId('661d2d8073e95939959a66fe'), ObjectId('661d2d8073e95939959a66ff'), ObjectId('661d2d8073e95939959a6700'), ObjectId('661d2d8073e95939959a6701'), ObjectId('661d2d8073e95939959a6702'), ObjectId('661d2d8073e95939959a6703'), ObjectId('661d2d8073e95939959a6704'), ObjectId('661d2d8073e95939959a6705'), ObjectId('661d2d8073e95939959a6706'), ObjectId('661d2d8073e95939959a6707'), ObjectId('661d2d8073e95939959a6708'), ObjectId('661d2d8073e95939959a6709'), ObjectId('661d2d8073e95939959a670a'), ObjectId('661d2d8073e95939959a670b'), ObjectId('661d2d8073e95939959a670c'), ObjectId('661d2d8073e95939959a670d'), ObjectId('661d2d8073e95939959a670e'), ObjectId('661d2d8073e95939959a670f'), ObjectId('661d2d8073e95939959a6710'), ObjectId('661d2d8073e95939959a6711'), ObjectId('661d2d8073e95939959a6712'), ObjectId('661d2d8073e95939959a6713'), ObjectId('661d2d8073e95939959a6714'), ObjectId('661d2d8073e95939959a6715'), ObjectId('661d2d8073e95939959a6716'), ObjectId('661d2d8073e95939959a6717'), ObjectId('661d2d8073e95939959a6718'), ObjectId('661d2d8073e95939959a6719'), ObjectId('661d2d8073e95939959a671a'), ObjectId('661d2d8073e95939959a671b'), ObjectId('661d2d8073e95939959a671c'), ObjectId('661d2d8073e95939959a671d'), ObjectId('661d2d8073e95939959a671e'), ObjectId('661d2d8073e95939959a671f'), ObjectId('661d2d8073e95939959a6720'), ObjectId('661d2d8073e95939959a6721'), ObjectId('661d2d8073e95939959a6722'), ObjectId('661d2d8073e95939959a6723'), ObjectId('661d2d8073e95939959a6724'), ObjectId('661d2d8073e95939959a6725'), ObjectId('661d2d8073e95939959a6726'), ObjectId('661d2d8073e95939959a6727'), ObjectId('661d2d8073e95939959a6728'), ObjectId('661d2d8073e95939959a6729'), ObjectId('661d2d8073e95939959a672a'), ObjectId('661d2d8073e95939959a672b'), ObjectId('661d2d8073e95939959a672c'), ObjectId('661d2d8073e95939959a672d'), ObjectId('661d2d8073e95939959a672e'), ObjectId('661d2d8073e95939959a672f'), ObjectId('661d2d8073e95939959a6730'), ObjectId('661d2d8073e95939959a6731'), ObjectId('661d2d8073e95939959a6732'), ObjectId('661d2d8073e95939959a6733'), ObjectId('661d2d8073e95939959a6734'), ObjectId('661d2d8073e95939959a6735'), ObjectId('661d2d8073e95939959a6736'), ObjectId('661d2d8073e95939959a6737'), ObjectId('661d2d8073e95939959a6738'), ObjectId('661d2d8073e95939959a6739'), ObjectId('661d2d8073e95939959a673a'), ObjectId('661d2d8073e95939959a673b'), ObjectId('661d2d8073e95939959a673c'), ObjectId('661d2d8073e95939959a673d'), ObjectId('661d2d8073e95939959a673e'), ObjectId('661d2d8073e95939959a673f'), ObjectId('661d2d8073e95939959a6740'), ObjectId('661d2d8073e95939959a6741'), ObjectId('661d2d8073e95939959a6742'), ObjectId('661d2d8073e95939959a6743'), ObjectId('661d2d8073e95939959a6744'), ObjectId('661d2d8073e95939959a6745'), ObjectId('661d2d8073e95939959a6746'), ObjectId('661d2d8073e95939959a6747'), ObjectId('661d2d8073e95939959a6748'), ObjectId('661d2d8073e95939959a6749'), ObjectId('661d2d8073e95939959a674a'), ObjectId('661d2d8073e95939959a674b'), ObjectId('661d2d8073e95939959a674c'), ObjectId('661d2d8073e95939959a674d'), ObjectId('661d2d8073e95939959a674e'), ObjectId('661d2d8073e95939959a674f'), ObjectId('661d2d8073e95939959a6750'), ObjectId('661d2d8073e95939959a6751'), ObjectId('661d2d8073e95939959a6752'), ObjectId('661d2d8073e95939959a6753'), ObjectId('661d2d8073e95939959a6754'), ObjectId('661d2d8073e95939959a6755'), ObjectId('661d2d8073e95939959a6756'), ObjectId('661d2d8073e95939959a6757'), ObjectId('661d2d8073e95939959a6758'), ObjectId('661d2d8073e95939959a6759'), ObjectId('661d2d8073e95939959a675a'), ObjectId('661d2d8073e95939959a675b'), ObjectId('661d2d8073e95939959a675c'), ObjectId('661d2d8073e95939959a675d'), ObjectId('661d2d8073e95939959a675e'), ObjectId('661d2d8073e95939959a675f'), ObjectId('661d2d8073e95939959a6760'), ObjectId('661d2d8073e95939959a6761'), ObjectId('661d2d8073e95939959a6762'), ObjectId('661d2d8073e95939959a6763'), ObjectId('661d2d8073e95939959a6764'), ObjectId('661d2d8073e95939959a6765'), ObjectId('661d2d8073e95939959a6766'), ObjectId('661d2d8073e95939959a6767'), ObjectId('661d2d8073e95939959a6768'), ObjectId('661d2d8073e95939959a6769'), ObjectId('661d2d8073e95939959a676a'), ObjectId('661d2d8073e95939959a676b'), ObjectId('661d2d8073e95939959a676c'), ObjectId('661d2d8073e95939959a676d'), ObjectId('661d2d8073e95939959a676e'), ObjectId('661d2d8073e95939959a676f'), ObjectId('661d2d8073e95939959a6770'), ObjectId('661d2d8073e95939959a6771'), ObjectId('661d2d8073e95939959a6772'), ObjectId('661d2d8073e95939959a6773'), ObjectId('661d2d8073e95939959a6774'), ObjectId('661d2d8073e95939959a6775'), ObjectId('661d2d8073e95939959a6776'), ObjectId('661d2d8073e95939959a6777'), ObjectId('661d2d8073e95939959a6778'), ObjectId('661d2d8073e95939959a6779'), ObjectId('661d2d8073e95939959a677a'), ObjectId('661d2d8073e95939959a677b'), ObjectId('661d2d8073e95939959a677c'), ObjectId('661d2d8073e95939959a677d'), ObjectId('661d2d8073e95939959a677e'), ObjectId('661d2d8073e95939959a677f'), ObjectId('661d2d8073e95939959a6780'), ObjectId('661d2d8073e95939959a6781'), ObjectId('661d2d8073e95939959a6782'), ObjectId('661d2d8073e95939959a6783'), ObjectId('661d2d8073e95939959a6784'), ObjectId('661d2d8073e95939959a6785'), ObjectId('661d2d8073e95939959a6786'), ObjectId('661d2d8073e95939959a6787'), ObjectId('661d2d8073e95939959a6788'), ObjectId('661d2d8073e95939959a6789'), ObjectId('661d2d8073e95939959a678a'), ObjectId('661d2d8073e95939959a678b'), ObjectId('661d2d8073e95939959a678c'), ObjectId('661d2d8073e95939959a678d'), ObjectId('661d2d8073e95939959a678e'), ObjectId('661d2d8073e95939959a678f'), ObjectId('661d2d8073e95939959a6790'), ObjectId('661d2d8073e95939959a6791'), ObjectId('661d2d8073e95939959a6792'), ObjectId('661d2d8073e95939959a6793'), ObjectId('661d2d8073e95939959a6794'), ObjectId('661d2d8073e95939959a6795'), ObjectId('661d2d8073e95939959a6796'), ObjectId('661d2d8073e95939959a6797'), ObjectId('661d2d8073e95939959a6798'), ObjectId('661d2d8073e95939959a6799'), ObjectId('661d2d8073e95939959a679a'), ObjectId('661d2d8073e95939959a679b'), ObjectId('661d2d8073e95939959a679c'), ObjectId('661d2d8073e95939959a679d'), ObjectId('661d2d8073e95939959a679e'), ObjectId('661d2d8073e95939959a679f'), ObjectId('661d2d8073e95939959a67a0'), ObjectId('661d2d8073e95939959a67a1'), ObjectId('661d2d8073e95939959a67a2'), ObjectId('661d2d8073e95939959a67a3'), ObjectId('661d2d8073e95939959a67a4'), ObjectId('661d2d8073e95939959a67a5'), ObjectId('661d2d8073e95939959a67a6'), ObjectId('661d2d8073e95939959a67a7'), ObjectId('661d2d8073e95939959a67a8'), ObjectId('661d2d8073e95939959a67a9'), ObjectId('661d2d8073e95939959a67aa'), ObjectId('661d2d8073e95939959a67ab'), ObjectId('661d2d8073e95939959a67ac'), ObjectId('661d2d8073e95939959a67ad'), ObjectId('661d2d8073e95939959a67ae'), ObjectId('661d2d8073e95939959a67af'), ObjectId('661d2d8073e95939959a67b0'), ObjectId('661d2d8073e95939959a67b1'), ObjectId('661d2d8073e95939959a67b2'), ObjectId('661d2d8073e95939959a67b3'), ObjectId('661d2d8073e95939959a67b4'), ObjectId('661d2d8073e95939959a67b5'), ObjectId('661d2d8073e95939959a67b6'), ObjectId('661d2d8073e95939959a67b7'), ObjectId('661d2d8073e95939959a67b8'), ObjectId('661d2d8073e95939959a67b9'), ObjectId('661d2d8073e95939959a67ba'), ObjectId('661d2d8073e95939959a67bb'), ObjectId('661d2d8073e95939959a67bc'), ObjectId('661d2d8073e95939959a67bd'), ObjectId('661d2d8073e95939959a67be'), ObjectId('661d2d8073e95939959a67bf'), ObjectId('661d2d8073e95939959a67c0'), ObjectId('661d2d8073e95939959a67c1'), ObjectId('661d2d8073e95939959a67c2'), ObjectId('661d2d8073e95939959a67c3'), ObjectId('661d2d8073e95939959a67c4'), ObjectId('661d2d8073e95939959a67c5'), ObjectId('661d2d8073e95939959a67c6'), ObjectId('661d2d8073e95939959a67c7'), ObjectId('661d2d8073e95939959a67c8'), ObjectId('661d2d8073e95939959a67c9'), ObjectId('661d2d8073e95939959a67ca'), ObjectId('661d2d8073e95939959a67cb'), ObjectId('661d2d8073e95939959a67cc'), ObjectId('661d2d8073e95939959a67cd'), ObjectId('661d2d8073e95939959a67ce'), ObjectId('661d2d8073e95939959a67cf'), ObjectId('661d2d8073e95939959a67d0'), ObjectId('661d2d8073e95939959a67d1'), ObjectId('661d2d8073e95939959a67d2'), ObjectId('661d2d8073e95939959a67d3'), ObjectId('661d2d8073e95939959a67d4'), ObjectId('661d2d8073e95939959a67d5'), ObjectId('661d2d8073e95939959a67d6'), ObjectId('661d2d8073e95939959a67d7'), ObjectId('661d2d8073e95939959a67d8'), ObjectId('661d2d8073e95939959a67d9'), ObjectId('661d2d8073e95939959a67da'), ObjectId('661d2d8073e95939959a67db'), ObjectId('661d2d8073e95939959a67dc'), ObjectId('661d2d8073e95939959a67dd'), ObjectId('661d2d8073e95939959a67de'), ObjectId('661d2d8073e95939959a67df'), ObjectId('661d2d8073e95939959a67e0'), ObjectId('661d2d8073e95939959a67e1'), ObjectId('661d2d8073e95939959a67e2'), ObjectId('661d2d8073e95939959a67e3'), ObjectId('661d2d8073e95939959a67e4'), ObjectId('661d2d8073e95939959a67e5'), ObjectId('661d2d8073e95939959a67e6'), ObjectId('661d2d8073e95939959a67e7'), ObjectId('661d2d8073e95939959a67e8'), ObjectId('661d2d8073e95939959a67e9'), ObjectId('661d2d8073e95939959a67ea'), ObjectId('661d2d8073e95939959a67eb'), ObjectId('661d2d8073e95939959a67ec'), ObjectId('661d2d8073e95939959a67ed'), ObjectId('661d2d8073e95939959a67ee'), ObjectId('661d2d8073e95939959a67ef'), ObjectId('661d2d8073e95939959a67f0'), ObjectId('661d2d8073e95939959a67f1'), ObjectId('661d2d8073e95939959a67f2'), ObjectId('661d2d8073e95939959a67f3'), ObjectId('661d2d8073e95939959a67f4'), ObjectId('661d2d8073e95939959a67f5'), ObjectId('661d2d8073e95939959a67f6'), ObjectId('661d2d8073e95939959a67f7'), ObjectId('661d2d8073e95939959a67f8'), ObjectId('661d2d8073e95939959a67f9'), ObjectId('661d2d8073e95939959a67fa'), ObjectId('661d2d8073e95939959a67fb'), ObjectId('661d2d8073e95939959a67fc'), ObjectId('661d2d8073e95939959a67fd'), ObjectId('661d2d8073e95939959a67fe'), ObjectId('661d2d8073e95939959a67ff'), ObjectId('661d2d8073e95939959a6800'), ObjectId('661d2d8073e95939959a6801'), ObjectId('661d2d8073e95939959a6802'), ObjectId('661d2d8073e95939959a6803'), ObjectId('661d2d8073e95939959a6804'), ObjectId('661d2d8073e95939959a6805'), ObjectId('661d2d8073e95939959a6806'), ObjectId('661d2d8073e95939959a6807'), ObjectId('661d2d8073e95939959a6808'), ObjectId('661d2d8073e95939959a6809'), ObjectId('661d2d8073e95939959a680a'), ObjectId('661d2d8073e95939959a680b'), ObjectId('661d2d8073e95939959a680c'), ObjectId('661d2d8073e95939959a680d'), ObjectId('661d2d8073e95939959a680e'), ObjectId('661d2d8073e95939959a680f'), ObjectId('661d2d8073e95939959a6810'), ObjectId('661d2d8073e95939959a6811'), ObjectId('661d2d8073e95939959a6812'), ObjectId('661d2d8073e95939959a6813'), ObjectId('661d2d8073e95939959a6814'), ObjectId('661d2d8073e95939959a6815'), ObjectId('661d2d8073e95939959a6816'), ObjectId('661d2d8073e95939959a6817'), ObjectId('661d2d8073e95939959a6818'), ObjectId('661d2d8073e95939959a6819'), ObjectId('661d2d8073e95939959a681a'), ObjectId('661d2d8073e95939959a681b'), ObjectId('661d2d8073e95939959a681c'), ObjectId('661d2d8073e95939959a681d'), ObjectId('661d2d8073e95939959a681e'), ObjectId('661d2d8073e95939959a681f'), ObjectId('661d2d8073e95939959a6820'), ObjectId('661d2d8073e95939959a6821'), ObjectId('661d2d8073e95939959a6822'), ObjectId('661d2d8073e95939959a6823'), ObjectId('661d2d8073e95939959a6824'), ObjectId('661d2d8073e95939959a6825'), ObjectId('661d2d8073e95939959a6826'), ObjectId('661d2d8073e95939959a6827'), ObjectId('661d2d8073e95939959a6828'), ObjectId('661d2d8073e95939959a6829'), ObjectId('661d2d8073e95939959a682a'), ObjectId('661d2d8073e95939959a682b'), ObjectId('661d2d8073e95939959a682c'), ObjectId('661d2d8073e95939959a682d'), ObjectId('661d2d8073e95939959a682e'), ObjectId('661d2d8073e95939959a682f'), ObjectId('661d2d8073e95939959a6830'), ObjectId('661d2d8073e95939959a6831'), ObjectId('661d2d8073e95939959a6832'), ObjectId('661d2d8073e95939959a6833'), ObjectId('661d2d8073e95939959a6834'), ObjectId('661d2d8073e95939959a6835'), ObjectId('661d2d8073e95939959a6836'), ObjectId('661d2d8073e95939959a6837'), ObjectId('661d2d8073e95939959a6838'), ObjectId('661d2d8073e95939959a6839'), ObjectId('661d2d8073e95939959a683a'), ObjectId('661d2d8073e95939959a683b'), ObjectId('661d2d8073e95939959a683c'), ObjectId('661d2d8073e95939959a683d'), ObjectId('661d2d8073e95939959a683e'), ObjectId('661d2d8073e95939959a683f'), ObjectId('661d2d8073e95939959a6840'), ObjectId('661d2d8073e95939959a6841'), ObjectId('661d2d8073e95939959a6842'), ObjectId('661d2d8073e95939959a6843'), ObjectId('661d2d8073e95939959a6844'), ObjectId('661d2d8073e95939959a6845'), ObjectId('661d2d8073e95939959a6846'), ObjectId('661d2d8073e95939959a6847'), ObjectId('661d2d8073e95939959a6848'), ObjectId('661d2d8073e95939959a6849'), ObjectId('661d2d8073e95939959a684a'), ObjectId('661d2d8073e95939959a684b'), ObjectId('661d2d8073e95939959a684c'), ObjectId('661d2d8073e95939959a684d'), ObjectId('661d2d8073e95939959a684e'), ObjectId('661d2d8073e95939959a684f'), ObjectId('661d2d8073e95939959a6850'), ObjectId('661d2d8073e95939959a6851'), ObjectId('661d2d8073e95939959a6852'), ObjectId('661d2d8073e95939959a6853'), ObjectId('661d2d8073e95939959a6854'), ObjectId('661d2d8073e95939959a6855'), ObjectId('661d2d8073e95939959a6856'), ObjectId('661d2d8073e95939959a6857'), ObjectId('661d2d8073e95939959a6858'), ObjectId('661d2d8073e95939959a6859'), ObjectId('661d2d8073e95939959a685a'), ObjectId('661d2d8073e95939959a685b'), ObjectId('661d2d8073e95939959a685c'), ObjectId('661d2d8073e95939959a685d'), ObjectId('661d2d8073e95939959a685e'), ObjectId('661d2d8073e95939959a685f'), ObjectId('661d2d8073e95939959a6860'), ObjectId('661d2d8073e95939959a6861'), ObjectId('661d2d8073e95939959a6862'), ObjectId('661d2d8073e95939959a6863'), ObjectId('661d2d8073e95939959a6864'), ObjectId('661d2d8073e95939959a6865'), ObjectId('661d2d8073e95939959a6866'), ObjectId('661d2d8073e95939959a6867'), ObjectId('661d2d8073e95939959a6868'), ObjectId('661d2d8073e95939959a6869'), ObjectId('661d2d8073e95939959a686a'), ObjectId('661d2d8073e95939959a686b'), ObjectId('661d2d8073e95939959a686c'), ObjectId('661d2d8073e95939959a686d'), ObjectId('661d2d8073e95939959a686e'), ObjectId('661d2d8073e95939959a686f'), ObjectId('661d2d8073e95939959a6870'), ObjectId('661d2d8073e95939959a6871'), ObjectId('661d2d8073e95939959a6872'), ObjectId('661d2d8073e95939959a6873'), ObjectId('661d2d8073e95939959a6874'), ObjectId('661d2d8073e95939959a6875'), ObjectId('661d2d8073e95939959a6876'), ObjectId('661d2d8073e95939959a6877'), ObjectId('661d2d8073e95939959a6878'), ObjectId('661d2d8073e95939959a6879'), ObjectId('661d2d8073e95939959a687a'), ObjectId('661d2d8073e95939959a687b'), ObjectId('661d2d8073e95939959a687c'), ObjectId('661d2d8073e95939959a687d'), ObjectId('661d2d8073e95939959a687e'), ObjectId('661d2d8073e95939959a687f'), ObjectId('661d2d8073e95939959a6880'), ObjectId('661d2d8073e95939959a6881'), ObjectId('661d2d8073e95939959a6882'), ObjectId('661d2d8073e95939959a6883'), ObjectId('661d2d8073e95939959a6884'), ObjectId('661d2d8073e95939959a6885'), ObjectId('661d2d8073e95939959a6886'), ObjectId('661d2d8073e95939959a6887'), ObjectId('661d2d8073e95939959a6888'), ObjectId('661d2d8073e95939959a6889'), ObjectId('661d2d8073e95939959a688a'), ObjectId('661d2d8073e95939959a688b'), ObjectId('661d2d8073e95939959a688c'), ObjectId('661d2d8073e95939959a688d'), ObjectId('661d2d8073e95939959a688e'), ObjectId('661d2d8073e95939959a688f'), ObjectId('661d2d8073e95939959a6890'), ObjectId('661d2d8073e95939959a6891'), ObjectId('661d2d8073e95939959a6892'), ObjectId('661d2d8073e95939959a6893'), ObjectId('661d2d8073e95939959a6894'), ObjectId('661d2d8073e95939959a6895'), ObjectId('661d2d8073e95939959a6896'), ObjectId('661d2d8073e95939959a6897'), ObjectId('661d2d8073e95939959a6898'), ObjectId('661d2d8073e95939959a6899'), ObjectId('661d2d8073e95939959a689a'), ObjectId('661d2d8073e95939959a689b'), ObjectId('661d2d8073e95939959a689c'), ObjectId('661d2d8073e95939959a689d'), ObjectId('661d2d8073e95939959a689e'), ObjectId('661d2d8073e95939959a689f'), ObjectId('661d2d8073e95939959a68a0'), ObjectId('661d2d8073e95939959a68a1'), ObjectId('661d2d8073e95939959a68a2'), ObjectId('661d2d8073e95939959a68a3'), ObjectId('661d2d8073e95939959a68a4'), ObjectId('661d2d8073e95939959a68a5'), ObjectId('661d2d8073e95939959a68a6'), ObjectId('661d2d8073e95939959a68a7'), ObjectId('661d2d8073e95939959a68a8'), ObjectId('661d2d8073e95939959a68a9'), ObjectId('661d2d8073e95939959a68aa'), ObjectId('661d2d8073e95939959a68ab'), ObjectId('661d2d8073e95939959a68ac'), ObjectId('661d2d8073e95939959a68ad'), ObjectId('661d2d8073e95939959a68ae'), ObjectId('661d2d8073e95939959a68af'), ObjectId('661d2d8073e95939959a68b0'), ObjectId('661d2d8073e95939959a68b1'), ObjectId('661d2d8073e95939959a68b2'), ObjectId('661d2d8073e95939959a68b3'), ObjectId('661d2d8073e95939959a68b4'), ObjectId('661d2d8073e95939959a68b5'), ObjectId('661d2d8073e95939959a68b6'), ObjectId('661d2d8073e95939959a68b7'), ObjectId('661d2d8073e95939959a68b8'), ObjectId('661d2d8073e95939959a68b9'), ObjectId('661d2d8073e95939959a68ba'), ObjectId('661d2d8073e95939959a68bb'), ObjectId('661d2d8073e95939959a68bc'), ObjectId('661d2d8073e95939959a68bd'), ObjectId('661d2d8073e95939959a68be'), ObjectId('661d2d8073e95939959a68bf'), ObjectId('661d2d8073e95939959a68c0'), ObjectId('661d2d8073e95939959a68c1'), ObjectId('661d2d8073e95939959a68c2'), ObjectId('661d2d8073e95939959a68c3'), ObjectId('661d2d8073e95939959a68c4'), ObjectId('661d2d8073e95939959a68c5'), ObjectId('661d2d8073e95939959a68c6'), ObjectId('661d2d8073e95939959a68c7'), ObjectId('661d2d8073e95939959a68c8'), ObjectId('661d2d8073e95939959a68c9'), ObjectId('661d2d8073e95939959a68ca'), ObjectId('661d2d8073e95939959a68cb'), ObjectId('661d2d8073e95939959a68cc'), ObjectId('661d2d8073e95939959a68cd'), ObjectId('661d2d8073e95939959a68ce'), ObjectId('661d2d8073e95939959a68cf'), ObjectId('661d2d8073e95939959a68d0'), ObjectId('661d2d8073e95939959a68d1'), ObjectId('661d2d8073e95939959a68d2'), ObjectId('661d2d8073e95939959a68d3'), ObjectId('661d2d8073e95939959a68d4'), ObjectId('661d2d8073e95939959a68d5'), ObjectId('661d2d8073e95939959a68d6'), ObjectId('661d2d8073e95939959a68d7'), ObjectId('661d2d8073e95939959a68d8'), ObjectId('661d2d8073e95939959a68d9'), ObjectId('661d2d8073e95939959a68da'), ObjectId('661d2d8073e95939959a68db'), ObjectId('661d2d8073e95939959a68dc'), ObjectId('661d2d8073e95939959a68dd'), ObjectId('661d2d8073e95939959a68de'), ObjectId('661d2d8073e95939959a68df'), ObjectId('661d2d8073e95939959a68e0'), ObjectId('661d2d8073e95939959a68e1'), ObjectId('661d2d8073e95939959a68e2'), ObjectId('661d2d8073e95939959a68e3'), ObjectId('661d2d8073e95939959a68e4'), ObjectId('661d2d8073e95939959a68e5'), ObjectId('661d2d8073e95939959a68e6'), ObjectId('661d2d8073e95939959a68e7'), ObjectId('661d2d8073e95939959a68e8'), ObjectId('661d2d8073e95939959a68e9'), ObjectId('661d2d8073e95939959a68ea'), ObjectId('661d2d8073e95939959a68eb'), ObjectId('661d2d8073e95939959a68ec'), ObjectId('661d2d8073e95939959a68ed'), ObjectId('661d2d8073e95939959a68ee'), ObjectId('661d2d8073e95939959a68ef'), ObjectId('661d2d8073e95939959a68f0'), ObjectId('661d2d8073e95939959a68f1'), ObjectId('661d2d8073e95939959a68f2'), ObjectId('661d2d8073e95939959a68f3'), ObjectId('661d2d8073e95939959a68f4'), ObjectId('661d2d8073e95939959a68f5'), ObjectId('661d2d8073e95939959a68f6'), ObjectId('661d2d8073e95939959a68f7'), ObjectId('661d2d8073e95939959a68f8'), ObjectId('661d2d8073e95939959a68f9'), ObjectId('661d2d8073e95939959a68fa'), ObjectId('661d2d8073e95939959a68fb'), ObjectId('661d2d8073e95939959a68fc'), ObjectId('661d2d8073e95939959a68fd'), ObjectId('661d2d8073e95939959a68fe'), ObjectId('661d2d8073e95939959a68ff'), ObjectId('661d2d8073e95939959a6900'), ObjectId('661d2d8073e95939959a6901'), ObjectId('661d2d8073e95939959a6902'), ObjectId('661d2d8073e95939959a6903'), ObjectId('661d2d8073e95939959a6904'), ObjectId('661d2d8073e95939959a6905'), ObjectId('661d2d8073e95939959a6906'), ObjectId('661d2d8073e95939959a6907'), ObjectId('661d2d8073e95939959a6908'), ObjectId('661d2d8073e95939959a6909'), ObjectId('661d2d8073e95939959a690a'), ObjectId('661d2d8073e95939959a690b'), ObjectId('661d2d8073e95939959a690c'), ObjectId('661d2d8073e95939959a690d'), ObjectId('661d2d8073e95939959a690e'), ObjectId('661d2d8073e95939959a690f'), ObjectId('661d2d8073e95939959a6910'), ObjectId('661d2d8073e95939959a6911'), ObjectId('661d2d8073e95939959a6912'), ObjectId('661d2d8073e95939959a6913'), ObjectId('661d2d8073e95939959a6914'), ObjectId('661d2d8073e95939959a6915'), ObjectId('661d2d8073e95939959a6916'), ObjectId('661d2d8073e95939959a6917'), ObjectId('661d2d8073e95939959a6918'), ObjectId('661d2d8073e95939959a6919'), ObjectId('661d2d8073e95939959a691a'), ObjectId('661d2d8073e95939959a691b'), ObjectId('661d2d8073e95939959a691c'), ObjectId('661d2d8073e95939959a691d'), ObjectId('661d2d8073e95939959a691e'), ObjectId('661d2d8073e95939959a691f'), ObjectId('661d2d8073e95939959a6920'), ObjectId('661d2d8073e95939959a6921'), ObjectId('661d2d8073e95939959a6922'), ObjectId('661d2d8073e95939959a6923'), ObjectId('661d2d8073e95939959a6924'), ObjectId('661d2d8073e95939959a6925'), ObjectId('661d2d8073e95939959a6926'), ObjectId('661d2d8073e95939959a6927'), ObjectId('661d2d8073e95939959a6928'), ObjectId('661d2d8073e95939959a6929'), ObjectId('661d2d8073e95939959a692a'), ObjectId('661d2d8073e95939959a692b'), ObjectId('661d2d8073e95939959a692c'), ObjectId('661d2d8073e95939959a692d'), ObjectId('661d2d8073e95939959a692e'), ObjectId('661d2d8073e95939959a692f'), ObjectId('661d2d8073e95939959a6930'), ObjectId('661d2d8073e95939959a6931'), ObjectId('661d2d8073e95939959a6932'), ObjectId('661d2d8073e95939959a6933'), ObjectId('661d2d8073e95939959a6934'), ObjectId('661d2d8073e95939959a6935'), ObjectId('661d2d8073e95939959a6936'), ObjectId('661d2d8073e95939959a6937'), ObjectId('661d2d8073e95939959a6938'), ObjectId('661d2d8073e95939959a6939'), ObjectId('661d2d8073e95939959a693a'), ObjectId('661d2d8073e95939959a693b'), ObjectId('661d2d8073e95939959a693c'), ObjectId('661d2d8073e95939959a693d'), ObjectId('661d2d8073e95939959a693e'), ObjectId('661d2d8073e95939959a693f'), ObjectId('661d2d8073e95939959a6940'), ObjectId('661d2d8073e95939959a6941'), ObjectId('661d2d8073e95939959a6942'), ObjectId('661d2d8073e95939959a6943'), ObjectId('661d2d8073e95939959a6944'), ObjectId('661d2d8073e95939959a6945'), ObjectId('661d2d8073e95939959a6946'), ObjectId('661d2d8073e95939959a6947'), ObjectId('661d2d8073e95939959a6948'), ObjectId('661d2d8073e95939959a6949'), ObjectId('661d2d8073e95939959a694a'), ObjectId('661d2d8073e95939959a694b'), ObjectId('661d2d8073e95939959a694c'), ObjectId('661d2d8073e95939959a694d'), ObjectId('661d2d8073e95939959a694e'), ObjectId('661d2d8073e95939959a694f'), ObjectId('661d2d8073e95939959a6950'), ObjectId('661d2d8073e95939959a6951'), ObjectId('661d2d8073e95939959a6952'), ObjectId('661d2d8073e95939959a6953'), ObjectId('661d2d8073e95939959a6954'), ObjectId('661d2d8073e95939959a6955'), ObjectId('661d2d8073e95939959a6956'), ObjectId('661d2d8073e95939959a6957'), ObjectId('661d2d8073e95939959a6958'), ObjectId('661d2d8073e95939959a6959'), ObjectId('661d2d8073e95939959a695a'), ObjectId('661d2d8073e95939959a695b'), ObjectId('661d2d8073e95939959a695c'), ObjectId('661d2d8073e95939959a695d'), ObjectId('661d2d8073e95939959a695e'), ObjectId('661d2d8073e95939959a695f'), ObjectId('661d2d8073e95939959a6960'), ObjectId('661d2d8073e95939959a6961'), ObjectId('661d2d8073e95939959a6962'), ObjectId('661d2d8073e95939959a6963'), ObjectId('661d2d8073e95939959a6964'), ObjectId('661d2d8073e95939959a6965'), ObjectId('661d2d8073e95939959a6966'), ObjectId('661d2d8073e95939959a6967'), ObjectId('661d2d8073e95939959a6968'), ObjectId('661d2d8073e95939959a6969'), ObjectId('661d2d8073e95939959a696a'), ObjectId('661d2d8073e95939959a696b'), ObjectId('661d2d8073e95939959a696c'), ObjectId('661d2d8073e95939959a696d'), ObjectId('661d2d8073e95939959a696e'), ObjectId('661d2d8073e95939959a696f'), ObjectId('661d2d8073e95939959a6970'), ObjectId('661d2d8073e95939959a6971'), ObjectId('661d2d8073e95939959a6972'), ObjectId('661d2d8073e95939959a6973'), ObjectId('661d2d8073e95939959a6974'), ObjectId('661d2d8073e95939959a6975'), ObjectId('661d2d8073e95939959a6976'), ObjectId('661d2d8073e95939959a6977'), ObjectId('661d2d8073e95939959a6978'), ObjectId('661d2d8073e95939959a6979'), ObjectId('661d2d8073e95939959a697a'), ObjectId('661d2d8073e95939959a697b'), ObjectId('661d2d8073e95939959a697c'), ObjectId('661d2d8073e95939959a697d'), ObjectId('661d2d8073e95939959a697e'), ObjectId('661d2d8073e95939959a697f'), ObjectId('661d2d8073e95939959a6980'), ObjectId('661d2d8073e95939959a6981'), ObjectId('661d2d8073e95939959a6982'), ObjectId('661d2d8073e95939959a6983'), ObjectId('661d2d8073e95939959a6984'), ObjectId('661d2d8073e95939959a6985')], acknowledged=True)"
      ]
     },
     "execution_count": 353,
     "metadata": {},
     "output_type": "execute_result"
    }
   ],
   "source": [
    "dbname = get_database()\n",
    "\n",
    "collection_name = dbname[\"tasks\"]\n",
    "\n",
    "# Insert the dictionaries into the MongoDB collection\n",
    "collection_name.insert_many(tasks_df.to_dict(\"records\"))"
   ]
  },
  {
   "cell_type": "code",
   "execution_count": 354,
   "metadata": {},
   "outputs": [
    {
     "data": {
      "text/html": [
       "<div>\n",
       "<style scoped>\n",
       "    .dataframe tbody tr th:only-of-type {\n",
       "        vertical-align: middle;\n",
       "    }\n",
       "\n",
       "    .dataframe tbody tr th {\n",
       "        vertical-align: top;\n",
       "    }\n",
       "\n",
       "    .dataframe thead th {\n",
       "        text-align: right;\n",
       "    }\n",
       "</style>\n",
       "<table border=\"1\" class=\"dataframe\">\n",
       "  <thead>\n",
       "    <tr style=\"text-align: right;\">\n",
       "      <th></th>\n",
       "      <th>id</th>\n",
       "      <th>name</th>\n",
       "      <th>description</th>\n",
       "      <th>knowledge_id</th>\n",
       "    </tr>\n",
       "  </thead>\n",
       "  <tbody>\n",
       "    <tr>\n",
       "      <th>0</th>\n",
       "      <td>2.C.7.c</td>\n",
       "      <td>Fine Arts</td>\n",
       "      <td>Knowledge of the theory and techniques require...</td>\n",
       "      <td>1</td>\n",
       "    </tr>\n",
       "    <tr>\n",
       "      <th>1</th>\n",
       "      <td>2.C.7.a</td>\n",
       "      <td>English Language</td>\n",
       "      <td>Knowledge of the structure and content of the ...</td>\n",
       "      <td>2</td>\n",
       "    </tr>\n",
       "    <tr>\n",
       "      <th>2</th>\n",
       "      <td>2.C.9.b</td>\n",
       "      <td>Communications and Media</td>\n",
       "      <td>Knowledge of media production, communication, ...</td>\n",
       "      <td>3</td>\n",
       "    </tr>\n",
       "  </tbody>\n",
       "</table>\n",
       "</div>"
      ],
      "text/plain": [
       "        id                      name  \\\n",
       "0  2.C.7.c                 Fine Arts   \n",
       "1  2.C.7.a          English Language   \n",
       "2  2.C.9.b  Communications and Media   \n",
       "\n",
       "                                         description  knowledge_id  \n",
       "0  Knowledge of the theory and techniques require...             1  \n",
       "1  Knowledge of the structure and content of the ...             2  \n",
       "2  Knowledge of media production, communication, ...             3  "
      ]
     },
     "execution_count": 354,
     "metadata": {},
     "output_type": "execute_result"
    }
   ],
   "source": [
    "# Assuming df[\"knowledge\"] is a column of lists of dictionaries\n",
    "knowledge = df['knowledge'].apply(lambda x: x['element']).explode().reset_index(drop=True)\n",
    "\n",
    "# Convert the list of dictionaries into a DataFrame\n",
    "knowledge_df = pd.json_normalize(knowledge)\n",
    "\n",
    "# Drop duplicates based on 'id'\n",
    "knowledge_df = knowledge_df.drop_duplicates(subset='id')\n",
    "\n",
    "# Reset the index\n",
    "knowledge_df = knowledge_df.reset_index(drop=True)\n",
    "\n",
    "knowledge_df = knowledge_df.dropna()\n",
    "knowledge_df = knowledge_df.drop(columns=[\"related\"])\n",
    "\n",
    "knowledge_df['knowledge_id'] = range(1, len(knowledge_df) + 1)\n",
    "\n",
    "knowledge_df.head(3)"
   ]
  },
  {
   "cell_type": "code",
   "execution_count": 355,
   "metadata": {},
   "outputs": [
    {
     "data": {
      "text/plain": [
       "InsertManyResult([ObjectId('661d2d8573e95939959a6987'), ObjectId('661d2d8573e95939959a6988'), ObjectId('661d2d8573e95939959a6989'), ObjectId('661d2d8573e95939959a698a'), ObjectId('661d2d8573e95939959a698b'), ObjectId('661d2d8573e95939959a698c'), ObjectId('661d2d8573e95939959a698d'), ObjectId('661d2d8573e95939959a698e'), ObjectId('661d2d8573e95939959a698f'), ObjectId('661d2d8573e95939959a6990'), ObjectId('661d2d8573e95939959a6991'), ObjectId('661d2d8573e95939959a6992'), ObjectId('661d2d8573e95939959a6993'), ObjectId('661d2d8573e95939959a6994'), ObjectId('661d2d8573e95939959a6995'), ObjectId('661d2d8573e95939959a6996'), ObjectId('661d2d8573e95939959a6997'), ObjectId('661d2d8573e95939959a6998'), ObjectId('661d2d8573e95939959a6999'), ObjectId('661d2d8573e95939959a699a'), ObjectId('661d2d8573e95939959a699b'), ObjectId('661d2d8573e95939959a699c'), ObjectId('661d2d8573e95939959a699d'), ObjectId('661d2d8573e95939959a699e'), ObjectId('661d2d8573e95939959a699f'), ObjectId('661d2d8573e95939959a69a0'), ObjectId('661d2d8573e95939959a69a1'), ObjectId('661d2d8573e95939959a69a2'), ObjectId('661d2d8573e95939959a69a3'), ObjectId('661d2d8573e95939959a69a4'), ObjectId('661d2d8573e95939959a69a5'), ObjectId('661d2d8573e95939959a69a6'), ObjectId('661d2d8573e95939959a69a7')], acknowledged=True)"
      ]
     },
     "execution_count": 355,
     "metadata": {},
     "output_type": "execute_result"
    }
   ],
   "source": [
    "dbname = get_database()\n",
    "\n",
    "collection_name = dbname[\"knowledge\"]\n",
    "\n",
    "# Insert the dictionaries into the MongoDB collection\n",
    "collection_name.insert_many(knowledge_df.to_dict(\"records\"))"
   ]
  },
  {
   "cell_type": "code",
   "execution_count": 356,
   "metadata": {},
   "outputs": [
    {
     "data": {
      "text/html": [
       "<div>\n",
       "<style scoped>\n",
       "    .dataframe tbody tr th:only-of-type {\n",
       "        vertical-align: middle;\n",
       "    }\n",
       "\n",
       "    .dataframe tbody tr th {\n",
       "        vertical-align: top;\n",
       "    }\n",
       "\n",
       "    .dataframe thead th {\n",
       "        text-align: right;\n",
       "    }\n",
       "</style>\n",
       "<table border=\"1\" class=\"dataframe\">\n",
       "  <thead>\n",
       "    <tr style=\"text-align: right;\">\n",
       "      <th></th>\n",
       "      <th>id</th>\n",
       "      <th>name</th>\n",
       "      <th>description</th>\n",
       "      <th>work_activity_id</th>\n",
       "    </tr>\n",
       "  </thead>\n",
       "  <tbody>\n",
       "    <tr>\n",
       "      <th>0</th>\n",
       "      <td>4.A.4.a.4</td>\n",
       "      <td>Establishing and Maintaining Interpersonal Rel...</td>\n",
       "      <td>Developing constructive and cooperative workin...</td>\n",
       "      <td>1</td>\n",
       "    </tr>\n",
       "    <tr>\n",
       "      <th>1</th>\n",
       "      <td>4.A.2.b.2</td>\n",
       "      <td>Thinking Creatively</td>\n",
       "      <td>Developing, designing, or creating new applica...</td>\n",
       "      <td>2</td>\n",
       "    </tr>\n",
       "    <tr>\n",
       "      <th>2</th>\n",
       "      <td>4.A.4.a.8</td>\n",
       "      <td>Performing for or Working Directly with the Pu...</td>\n",
       "      <td>Performing for people or dealing directly with...</td>\n",
       "      <td>3</td>\n",
       "    </tr>\n",
       "  </tbody>\n",
       "</table>\n",
       "</div>"
      ],
      "text/plain": [
       "          id                                               name  \\\n",
       "0  4.A.4.a.4  Establishing and Maintaining Interpersonal Rel...   \n",
       "1  4.A.2.b.2                                Thinking Creatively   \n",
       "2  4.A.4.a.8  Performing for or Working Directly with the Pu...   \n",
       "\n",
       "                                         description  work_activity_id  \n",
       "0  Developing constructive and cooperative workin...                 1  \n",
       "1  Developing, designing, or creating new applica...                 2  \n",
       "2  Performing for people or dealing directly with...                 3  "
      ]
     },
     "execution_count": 356,
     "metadata": {},
     "output_type": "execute_result"
    }
   ],
   "source": [
    "# Assuming df[\"work_activities\"] is a column of lists of dictionaries\n",
    "work_activities = df['work_activities'].apply(lambda x: x['element']).explode().reset_index(drop=True)\n",
    "\n",
    "# Convert the list of dictionaries into a DataFrame\n",
    "work_activities_df = pd.json_normalize(work_activities)\n",
    "\n",
    "# Drop duplicates based on 'id'\n",
    "work_activities_df = work_activities_df.drop_duplicates(subset='id')\n",
    "\n",
    "# Reset the index\n",
    "work_activities_df = work_activities_df.reset_index(drop=True)\n",
    "\n",
    "work_activities_df = work_activities_df.dropna()\n",
    "work_activities_df = work_activities_df.drop(columns=[\"related\"])\n",
    "\n",
    "work_activities_df['work_activity_id'] = range(1, len(work_activities_df) + 1)\n",
    "\n",
    "work_activities_df.head(3)"
   ]
  },
  {
   "cell_type": "code",
   "execution_count": 357,
   "metadata": {},
   "outputs": [
    {
     "data": {
      "text/plain": [
       "InsertManyResult([ObjectId('661d2d8573e95939959a69a9'), ObjectId('661d2d8573e95939959a69aa'), ObjectId('661d2d8573e95939959a69ab'), ObjectId('661d2d8573e95939959a69ac'), ObjectId('661d2d8573e95939959a69ad'), ObjectId('661d2d8573e95939959a69ae'), ObjectId('661d2d8573e95939959a69af'), ObjectId('661d2d8573e95939959a69b0'), ObjectId('661d2d8573e95939959a69b1'), ObjectId('661d2d8573e95939959a69b2'), ObjectId('661d2d8573e95939959a69b3'), ObjectId('661d2d8573e95939959a69b4'), ObjectId('661d2d8573e95939959a69b5'), ObjectId('661d2d8573e95939959a69b6'), ObjectId('661d2d8573e95939959a69b7'), ObjectId('661d2d8573e95939959a69b8'), ObjectId('661d2d8573e95939959a69b9'), ObjectId('661d2d8573e95939959a69ba'), ObjectId('661d2d8573e95939959a69bb'), ObjectId('661d2d8573e95939959a69bc'), ObjectId('661d2d8573e95939959a69bd'), ObjectId('661d2d8573e95939959a69be'), ObjectId('661d2d8573e95939959a69bf'), ObjectId('661d2d8573e95939959a69c0'), ObjectId('661d2d8573e95939959a69c1'), ObjectId('661d2d8573e95939959a69c2'), ObjectId('661d2d8573e95939959a69c3'), ObjectId('661d2d8573e95939959a69c4'), ObjectId('661d2d8573e95939959a69c5'), ObjectId('661d2d8573e95939959a69c6'), ObjectId('661d2d8573e95939959a69c7'), ObjectId('661d2d8573e95939959a69c8'), ObjectId('661d2d8573e95939959a69c9'), ObjectId('661d2d8573e95939959a69ca'), ObjectId('661d2d8573e95939959a69cb'), ObjectId('661d2d8573e95939959a69cc'), ObjectId('661d2d8573e95939959a69cd'), ObjectId('661d2d8573e95939959a69ce'), ObjectId('661d2d8573e95939959a69cf'), ObjectId('661d2d8573e95939959a69d0')], acknowledged=True)"
      ]
     },
     "execution_count": 357,
     "metadata": {},
     "output_type": "execute_result"
    }
   ],
   "source": [
    "dbname = get_database()\n",
    "\n",
    "collection_name = dbname[\"work_activities\"]\n",
    "\n",
    "# Insert the dictionaries into the MongoDB collection\n",
    "collection_name.insert_many(work_activities_df.to_dict(\"records\"))"
   ]
  },
  {
   "cell_type": "code",
   "execution_count": 358,
   "metadata": {},
   "outputs": [
    {
     "data": {
      "text/html": [
       "<div>\n",
       "<style scoped>\n",
       "    .dataframe tbody tr th:only-of-type {\n",
       "        vertical-align: middle;\n",
       "    }\n",
       "\n",
       "    .dataframe tbody tr th {\n",
       "        vertical-align: top;\n",
       "    }\n",
       "\n",
       "    .dataframe thead th {\n",
       "        text-align: right;\n",
       "    }\n",
       "</style>\n",
       "<table border=\"1\" class=\"dataframe\">\n",
       "  <thead>\n",
       "    <tr style=\"text-align: right;\">\n",
       "      <th></th>\n",
       "      <th>id</th>\n",
       "      <th>name</th>\n",
       "      <th>detailed_work_activity_id</th>\n",
       "    </tr>\n",
       "  </thead>\n",
       "  <tbody>\n",
       "    <tr>\n",
       "      <th>0</th>\n",
       "      <td>4.A.4.a.8.I01.D04</td>\n",
       "      <td>Collaborate with others to prepare or perform ...</td>\n",
       "      <td>1</td>\n",
       "    </tr>\n",
       "    <tr>\n",
       "      <th>1</th>\n",
       "      <td>4.A.4.a.8.I01.D05</td>\n",
       "      <td>Entertain public with comedic or dramatic perf...</td>\n",
       "      <td>2</td>\n",
       "    </tr>\n",
       "    <tr>\n",
       "      <th>2</th>\n",
       "      <td>4.A.1.a.1.I01.D04</td>\n",
       "      <td>Study scripts to determine project requirements.</td>\n",
       "      <td>3</td>\n",
       "    </tr>\n",
       "  </tbody>\n",
       "</table>\n",
       "</div>"
      ],
      "text/plain": [
       "                  id                                               name  \\\n",
       "0  4.A.4.a.8.I01.D04  Collaborate with others to prepare or perform ...   \n",
       "1  4.A.4.a.8.I01.D05  Entertain public with comedic or dramatic perf...   \n",
       "2  4.A.1.a.1.I01.D04   Study scripts to determine project requirements.   \n",
       "\n",
       "   detailed_work_activity_id  \n",
       "0                          1  \n",
       "1                          2  \n",
       "2                          3  "
      ]
     },
     "execution_count": 358,
     "metadata": {},
     "output_type": "execute_result"
    }
   ],
   "source": [
    "# Assuming df[\"detailed_work_activities\"] is a column of lists of dictionaries\n",
    "detailed_work_activities = df['detailed_work_activities'].apply(lambda x: x['activity']).explode().reset_index(drop=True)\n",
    "\n",
    "# Convert the list of dictionaries into a DataFrame\n",
    "detailed_work_activities_df = pd.json_normalize(detailed_work_activities)\n",
    "\n",
    "# Drop duplicates based on 'id'\n",
    "detailed_work_activities_df = detailed_work_activities_df.drop_duplicates(subset='id')\n",
    "\n",
    "# Reset the index\n",
    "detailed_work_activities_df = detailed_work_activities_df.reset_index(drop=True)\n",
    "\n",
    "detailed_work_activities_df = detailed_work_activities_df.dropna()\n",
    "detailed_work_activities_df = detailed_work_activities_df.drop(columns=[\"related\"])\n",
    "\n",
    "detailed_work_activities_df['detailed_work_activity_id'] = range(1, len(detailed_work_activities_df) + 1)\n",
    "\n",
    "detailed_work_activities_df.head(3)"
   ]
  },
  {
   "cell_type": "code",
   "execution_count": 359,
   "metadata": {},
   "outputs": [
    {
     "data": {
      "text/plain": [
       "InsertManyResult([ObjectId('661d2d8573e95939959a69d2'), ObjectId('661d2d8573e95939959a69d3'), ObjectId('661d2d8573e95939959a69d4'), ObjectId('661d2d8573e95939959a69d5'), ObjectId('661d2d8573e95939959a69d6'), ObjectId('661d2d8573e95939959a69d7'), ObjectId('661d2d8573e95939959a69d8'), ObjectId('661d2d8573e95939959a69d9'), ObjectId('661d2d8573e95939959a69da'), ObjectId('661d2d8573e95939959a69db'), ObjectId('661d2d8573e95939959a69dc'), ObjectId('661d2d8573e95939959a69dd'), ObjectId('661d2d8573e95939959a69de'), ObjectId('661d2d8573e95939959a69df'), ObjectId('661d2d8573e95939959a69e0'), ObjectId('661d2d8573e95939959a69e1'), ObjectId('661d2d8573e95939959a69e2'), ObjectId('661d2d8573e95939959a69e3'), ObjectId('661d2d8573e95939959a69e4'), ObjectId('661d2d8573e95939959a69e5'), ObjectId('661d2d8573e95939959a69e6'), ObjectId('661d2d8573e95939959a69e7'), ObjectId('661d2d8573e95939959a69e8'), ObjectId('661d2d8573e95939959a69e9'), ObjectId('661d2d8573e95939959a69ea'), ObjectId('661d2d8573e95939959a69eb'), ObjectId('661d2d8573e95939959a69ec'), ObjectId('661d2d8573e95939959a69ed'), ObjectId('661d2d8573e95939959a69ee'), ObjectId('661d2d8573e95939959a69ef'), ObjectId('661d2d8573e95939959a69f0'), ObjectId('661d2d8573e95939959a69f1'), ObjectId('661d2d8573e95939959a69f2'), ObjectId('661d2d8573e95939959a69f3'), ObjectId('661d2d8573e95939959a69f4'), ObjectId('661d2d8573e95939959a69f5'), ObjectId('661d2d8573e95939959a69f6'), ObjectId('661d2d8573e95939959a69f7'), ObjectId('661d2d8573e95939959a69f8'), ObjectId('661d2d8573e95939959a69f9'), ObjectId('661d2d8573e95939959a69fa'), ObjectId('661d2d8573e95939959a69fb'), ObjectId('661d2d8573e95939959a69fc'), ObjectId('661d2d8573e95939959a69fd'), ObjectId('661d2d8573e95939959a69fe'), ObjectId('661d2d8573e95939959a69ff'), ObjectId('661d2d8573e95939959a6a00'), ObjectId('661d2d8573e95939959a6a01'), ObjectId('661d2d8573e95939959a6a02'), ObjectId('661d2d8573e95939959a6a03'), ObjectId('661d2d8573e95939959a6a04'), ObjectId('661d2d8573e95939959a6a05'), ObjectId('661d2d8573e95939959a6a06'), ObjectId('661d2d8573e95939959a6a07'), ObjectId('661d2d8573e95939959a6a08'), ObjectId('661d2d8573e95939959a6a09'), ObjectId('661d2d8573e95939959a6a0a'), ObjectId('661d2d8573e95939959a6a0b'), ObjectId('661d2d8573e95939959a6a0c'), ObjectId('661d2d8573e95939959a6a0d'), ObjectId('661d2d8573e95939959a6a0e'), ObjectId('661d2d8573e95939959a6a0f'), ObjectId('661d2d8573e95939959a6a10'), ObjectId('661d2d8573e95939959a6a11'), ObjectId('661d2d8573e95939959a6a12'), ObjectId('661d2d8573e95939959a6a13'), ObjectId('661d2d8573e95939959a6a14'), ObjectId('661d2d8573e95939959a6a15'), ObjectId('661d2d8573e95939959a6a16'), ObjectId('661d2d8573e95939959a6a17'), ObjectId('661d2d8573e95939959a6a18'), ObjectId('661d2d8573e95939959a6a19'), ObjectId('661d2d8573e95939959a6a1a'), ObjectId('661d2d8573e95939959a6a1b'), ObjectId('661d2d8573e95939959a6a1c'), ObjectId('661d2d8573e95939959a6a1d'), ObjectId('661d2d8573e95939959a6a1e'), ObjectId('661d2d8573e95939959a6a1f'), ObjectId('661d2d8573e95939959a6a20'), ObjectId('661d2d8573e95939959a6a21'), ObjectId('661d2d8573e95939959a6a22'), ObjectId('661d2d8573e95939959a6a23'), ObjectId('661d2d8573e95939959a6a24'), ObjectId('661d2d8573e95939959a6a25'), ObjectId('661d2d8573e95939959a6a26'), ObjectId('661d2d8573e95939959a6a27'), ObjectId('661d2d8573e95939959a6a28'), ObjectId('661d2d8573e95939959a6a29'), ObjectId('661d2d8573e95939959a6a2a'), ObjectId('661d2d8573e95939959a6a2b'), ObjectId('661d2d8573e95939959a6a2c'), ObjectId('661d2d8573e95939959a6a2d'), ObjectId('661d2d8573e95939959a6a2e'), ObjectId('661d2d8573e95939959a6a2f'), ObjectId('661d2d8573e95939959a6a30'), ObjectId('661d2d8573e95939959a6a31'), ObjectId('661d2d8573e95939959a6a32'), ObjectId('661d2d8573e95939959a6a33'), ObjectId('661d2d8573e95939959a6a34'), ObjectId('661d2d8573e95939959a6a35'), ObjectId('661d2d8573e95939959a6a36'), ObjectId('661d2d8573e95939959a6a37'), ObjectId('661d2d8573e95939959a6a38'), ObjectId('661d2d8573e95939959a6a39'), ObjectId('661d2d8573e95939959a6a3a'), ObjectId('661d2d8573e95939959a6a3b'), ObjectId('661d2d8573e95939959a6a3c'), ObjectId('661d2d8573e95939959a6a3d'), ObjectId('661d2d8573e95939959a6a3e'), ObjectId('661d2d8573e95939959a6a3f'), ObjectId('661d2d8573e95939959a6a40'), ObjectId('661d2d8573e95939959a6a41'), ObjectId('661d2d8573e95939959a6a42'), ObjectId('661d2d8573e95939959a6a43'), ObjectId('661d2d8573e95939959a6a44'), ObjectId('661d2d8573e95939959a6a45'), ObjectId('661d2d8573e95939959a6a46'), ObjectId('661d2d8573e95939959a6a47'), ObjectId('661d2d8573e95939959a6a48'), ObjectId('661d2d8573e95939959a6a49'), ObjectId('661d2d8573e95939959a6a4a'), ObjectId('661d2d8573e95939959a6a4b'), ObjectId('661d2d8573e95939959a6a4c'), ObjectId('661d2d8573e95939959a6a4d'), ObjectId('661d2d8573e95939959a6a4e'), ObjectId('661d2d8573e95939959a6a4f'), ObjectId('661d2d8573e95939959a6a50'), ObjectId('661d2d8573e95939959a6a51'), ObjectId('661d2d8573e95939959a6a52'), ObjectId('661d2d8573e95939959a6a53'), ObjectId('661d2d8573e95939959a6a54'), ObjectId('661d2d8573e95939959a6a55'), ObjectId('661d2d8573e95939959a6a56'), ObjectId('661d2d8573e95939959a6a57'), ObjectId('661d2d8573e95939959a6a58'), ObjectId('661d2d8573e95939959a6a59'), ObjectId('661d2d8573e95939959a6a5a'), ObjectId('661d2d8573e95939959a6a5b'), ObjectId('661d2d8573e95939959a6a5c'), ObjectId('661d2d8573e95939959a6a5d'), ObjectId('661d2d8573e95939959a6a5e'), ObjectId('661d2d8573e95939959a6a5f'), ObjectId('661d2d8573e95939959a6a60'), ObjectId('661d2d8573e95939959a6a61'), ObjectId('661d2d8573e95939959a6a62'), ObjectId('661d2d8573e95939959a6a63'), ObjectId('661d2d8573e95939959a6a64'), ObjectId('661d2d8573e95939959a6a65'), ObjectId('661d2d8573e95939959a6a66'), ObjectId('661d2d8573e95939959a6a67'), ObjectId('661d2d8573e95939959a6a68'), ObjectId('661d2d8573e95939959a6a69'), ObjectId('661d2d8573e95939959a6a6a'), ObjectId('661d2d8573e95939959a6a6b'), ObjectId('661d2d8573e95939959a6a6c'), ObjectId('661d2d8573e95939959a6a6d'), ObjectId('661d2d8573e95939959a6a6e'), ObjectId('661d2d8573e95939959a6a6f'), ObjectId('661d2d8573e95939959a6a70'), ObjectId('661d2d8573e95939959a6a71'), ObjectId('661d2d8573e95939959a6a72'), ObjectId('661d2d8573e95939959a6a73'), ObjectId('661d2d8573e95939959a6a74'), ObjectId('661d2d8573e95939959a6a75'), ObjectId('661d2d8573e95939959a6a76'), ObjectId('661d2d8573e95939959a6a77'), ObjectId('661d2d8573e95939959a6a78'), ObjectId('661d2d8573e95939959a6a79'), ObjectId('661d2d8573e95939959a6a7a'), ObjectId('661d2d8573e95939959a6a7b'), ObjectId('661d2d8573e95939959a6a7c'), ObjectId('661d2d8573e95939959a6a7d'), ObjectId('661d2d8573e95939959a6a7e'), ObjectId('661d2d8573e95939959a6a7f'), ObjectId('661d2d8573e95939959a6a80'), ObjectId('661d2d8573e95939959a6a81'), ObjectId('661d2d8573e95939959a6a82'), ObjectId('661d2d8573e95939959a6a83'), ObjectId('661d2d8573e95939959a6a84'), ObjectId('661d2d8573e95939959a6a85'), ObjectId('661d2d8573e95939959a6a86'), ObjectId('661d2d8573e95939959a6a87'), ObjectId('661d2d8573e95939959a6a88'), ObjectId('661d2d8573e95939959a6a89'), ObjectId('661d2d8573e95939959a6a8a'), ObjectId('661d2d8573e95939959a6a8b'), ObjectId('661d2d8573e95939959a6a8c'), ObjectId('661d2d8573e95939959a6a8d'), ObjectId('661d2d8573e95939959a6a8e'), ObjectId('661d2d8573e95939959a6a8f'), ObjectId('661d2d8573e95939959a6a90'), ObjectId('661d2d8573e95939959a6a91'), ObjectId('661d2d8573e95939959a6a92'), ObjectId('661d2d8573e95939959a6a93'), ObjectId('661d2d8573e95939959a6a94'), ObjectId('661d2d8573e95939959a6a95'), ObjectId('661d2d8573e95939959a6a96'), ObjectId('661d2d8573e95939959a6a97'), ObjectId('661d2d8573e95939959a6a98'), ObjectId('661d2d8573e95939959a6a99'), ObjectId('661d2d8573e95939959a6a9a'), ObjectId('661d2d8573e95939959a6a9b'), ObjectId('661d2d8573e95939959a6a9c'), ObjectId('661d2d8573e95939959a6a9d'), ObjectId('661d2d8573e95939959a6a9e'), ObjectId('661d2d8573e95939959a6a9f'), ObjectId('661d2d8573e95939959a6aa0'), ObjectId('661d2d8573e95939959a6aa1'), ObjectId('661d2d8573e95939959a6aa2'), ObjectId('661d2d8573e95939959a6aa3'), ObjectId('661d2d8573e95939959a6aa4'), ObjectId('661d2d8573e95939959a6aa5'), ObjectId('661d2d8573e95939959a6aa6'), ObjectId('661d2d8573e95939959a6aa7'), ObjectId('661d2d8573e95939959a6aa8'), ObjectId('661d2d8573e95939959a6aa9'), ObjectId('661d2d8573e95939959a6aaa'), ObjectId('661d2d8573e95939959a6aab'), ObjectId('661d2d8573e95939959a6aac'), ObjectId('661d2d8573e95939959a6aad'), ObjectId('661d2d8573e95939959a6aae'), ObjectId('661d2d8573e95939959a6aaf'), ObjectId('661d2d8573e95939959a6ab0'), ObjectId('661d2d8573e95939959a6ab1'), ObjectId('661d2d8573e95939959a6ab2'), ObjectId('661d2d8573e95939959a6ab3'), ObjectId('661d2d8573e95939959a6ab4'), ObjectId('661d2d8573e95939959a6ab5'), ObjectId('661d2d8573e95939959a6ab6'), ObjectId('661d2d8573e95939959a6ab7'), ObjectId('661d2d8573e95939959a6ab8'), ObjectId('661d2d8573e95939959a6ab9'), ObjectId('661d2d8573e95939959a6aba'), ObjectId('661d2d8573e95939959a6abb'), ObjectId('661d2d8573e95939959a6abc'), ObjectId('661d2d8573e95939959a6abd'), ObjectId('661d2d8573e95939959a6abe'), ObjectId('661d2d8573e95939959a6abf'), ObjectId('661d2d8573e95939959a6ac0'), ObjectId('661d2d8573e95939959a6ac1'), ObjectId('661d2d8573e95939959a6ac2'), ObjectId('661d2d8573e95939959a6ac3'), ObjectId('661d2d8573e95939959a6ac4'), ObjectId('661d2d8573e95939959a6ac5'), ObjectId('661d2d8573e95939959a6ac6'), ObjectId('661d2d8573e95939959a6ac7'), ObjectId('661d2d8573e95939959a6ac8'), ObjectId('661d2d8573e95939959a6ac9'), ObjectId('661d2d8573e95939959a6aca'), ObjectId('661d2d8573e95939959a6acb'), ObjectId('661d2d8573e95939959a6acc'), ObjectId('661d2d8573e95939959a6acd'), ObjectId('661d2d8573e95939959a6ace'), ObjectId('661d2d8573e95939959a6acf'), ObjectId('661d2d8573e95939959a6ad0'), ObjectId('661d2d8573e95939959a6ad1'), ObjectId('661d2d8573e95939959a6ad2'), ObjectId('661d2d8573e95939959a6ad3'), ObjectId('661d2d8573e95939959a6ad4'), ObjectId('661d2d8573e95939959a6ad5'), ObjectId('661d2d8573e95939959a6ad6'), ObjectId('661d2d8573e95939959a6ad7'), ObjectId('661d2d8573e95939959a6ad8'), ObjectId('661d2d8573e95939959a6ad9'), ObjectId('661d2d8573e95939959a6ada'), ObjectId('661d2d8573e95939959a6adb'), ObjectId('661d2d8573e95939959a6adc'), ObjectId('661d2d8573e95939959a6add'), ObjectId('661d2d8573e95939959a6ade'), ObjectId('661d2d8573e95939959a6adf'), ObjectId('661d2d8573e95939959a6ae0'), ObjectId('661d2d8573e95939959a6ae1'), ObjectId('661d2d8573e95939959a6ae2'), ObjectId('661d2d8573e95939959a6ae3'), ObjectId('661d2d8573e95939959a6ae4'), ObjectId('661d2d8573e95939959a6ae5'), ObjectId('661d2d8573e95939959a6ae6'), ObjectId('661d2d8573e95939959a6ae7'), ObjectId('661d2d8573e95939959a6ae8'), ObjectId('661d2d8573e95939959a6ae9'), ObjectId('661d2d8573e95939959a6aea'), ObjectId('661d2d8573e95939959a6aeb'), ObjectId('661d2d8573e95939959a6aec'), ObjectId('661d2d8573e95939959a6aed'), ObjectId('661d2d8573e95939959a6aee'), ObjectId('661d2d8573e95939959a6aef'), ObjectId('661d2d8573e95939959a6af0'), ObjectId('661d2d8573e95939959a6af1'), ObjectId('661d2d8573e95939959a6af2'), ObjectId('661d2d8573e95939959a6af3'), ObjectId('661d2d8573e95939959a6af4'), ObjectId('661d2d8573e95939959a6af5'), ObjectId('661d2d8573e95939959a6af6'), ObjectId('661d2d8573e95939959a6af7'), ObjectId('661d2d8573e95939959a6af8'), ObjectId('661d2d8573e95939959a6af9'), ObjectId('661d2d8573e95939959a6afa'), ObjectId('661d2d8573e95939959a6afb'), ObjectId('661d2d8573e95939959a6afc'), ObjectId('661d2d8573e95939959a6afd'), ObjectId('661d2d8573e95939959a6afe'), ObjectId('661d2d8573e95939959a6aff'), ObjectId('661d2d8573e95939959a6b00'), ObjectId('661d2d8573e95939959a6b01'), ObjectId('661d2d8573e95939959a6b02'), ObjectId('661d2d8573e95939959a6b03'), ObjectId('661d2d8573e95939959a6b04'), ObjectId('661d2d8573e95939959a6b05'), ObjectId('661d2d8573e95939959a6b06'), ObjectId('661d2d8573e95939959a6b07'), ObjectId('661d2d8573e95939959a6b08'), ObjectId('661d2d8573e95939959a6b09'), ObjectId('661d2d8573e95939959a6b0a'), ObjectId('661d2d8573e95939959a6b0b'), ObjectId('661d2d8573e95939959a6b0c'), ObjectId('661d2d8573e95939959a6b0d'), ObjectId('661d2d8573e95939959a6b0e'), ObjectId('661d2d8573e95939959a6b0f'), ObjectId('661d2d8573e95939959a6b10'), ObjectId('661d2d8573e95939959a6b11'), ObjectId('661d2d8573e95939959a6b12'), ObjectId('661d2d8573e95939959a6b13'), ObjectId('661d2d8573e95939959a6b14'), ObjectId('661d2d8573e95939959a6b15'), ObjectId('661d2d8573e95939959a6b16'), ObjectId('661d2d8573e95939959a6b17'), ObjectId('661d2d8573e95939959a6b18'), ObjectId('661d2d8573e95939959a6b19'), ObjectId('661d2d8573e95939959a6b1a'), ObjectId('661d2d8573e95939959a6b1b'), ObjectId('661d2d8573e95939959a6b1c'), ObjectId('661d2d8573e95939959a6b1d'), ObjectId('661d2d8573e95939959a6b1e'), ObjectId('661d2d8573e95939959a6b1f'), ObjectId('661d2d8573e95939959a6b20'), ObjectId('661d2d8573e95939959a6b21'), ObjectId('661d2d8573e95939959a6b22'), ObjectId('661d2d8573e95939959a6b23'), ObjectId('661d2d8573e95939959a6b24'), ObjectId('661d2d8573e95939959a6b25'), ObjectId('661d2d8573e95939959a6b26'), ObjectId('661d2d8573e95939959a6b27'), ObjectId('661d2d8573e95939959a6b28'), ObjectId('661d2d8573e95939959a6b29'), ObjectId('661d2d8573e95939959a6b2a'), ObjectId('661d2d8573e95939959a6b2b'), ObjectId('661d2d8573e95939959a6b2c'), ObjectId('661d2d8573e95939959a6b2d'), ObjectId('661d2d8573e95939959a6b2e'), ObjectId('661d2d8573e95939959a6b2f'), ObjectId('661d2d8573e95939959a6b30'), ObjectId('661d2d8573e95939959a6b31'), ObjectId('661d2d8573e95939959a6b32'), ObjectId('661d2d8573e95939959a6b33'), ObjectId('661d2d8573e95939959a6b34'), ObjectId('661d2d8573e95939959a6b35'), ObjectId('661d2d8573e95939959a6b36'), ObjectId('661d2d8573e95939959a6b37'), ObjectId('661d2d8573e95939959a6b38'), ObjectId('661d2d8573e95939959a6b39'), ObjectId('661d2d8573e95939959a6b3a'), ObjectId('661d2d8573e95939959a6b3b'), ObjectId('661d2d8573e95939959a6b3c'), ObjectId('661d2d8573e95939959a6b3d'), ObjectId('661d2d8573e95939959a6b3e'), ObjectId('661d2d8573e95939959a6b3f'), ObjectId('661d2d8573e95939959a6b40'), ObjectId('661d2d8573e95939959a6b41'), ObjectId('661d2d8573e95939959a6b42'), ObjectId('661d2d8573e95939959a6b43'), ObjectId('661d2d8573e95939959a6b44'), ObjectId('661d2d8573e95939959a6b45'), ObjectId('661d2d8573e95939959a6b46'), ObjectId('661d2d8573e95939959a6b47'), ObjectId('661d2d8573e95939959a6b48'), ObjectId('661d2d8573e95939959a6b49'), ObjectId('661d2d8573e95939959a6b4a'), ObjectId('661d2d8573e95939959a6b4b'), ObjectId('661d2d8573e95939959a6b4c'), ObjectId('661d2d8573e95939959a6b4d'), ObjectId('661d2d8573e95939959a6b4e'), ObjectId('661d2d8573e95939959a6b4f'), ObjectId('661d2d8573e95939959a6b50'), ObjectId('661d2d8573e95939959a6b51'), ObjectId('661d2d8573e95939959a6b52'), ObjectId('661d2d8573e95939959a6b53'), ObjectId('661d2d8573e95939959a6b54'), ObjectId('661d2d8573e95939959a6b55'), ObjectId('661d2d8573e95939959a6b56'), ObjectId('661d2d8573e95939959a6b57'), ObjectId('661d2d8573e95939959a6b58'), ObjectId('661d2d8573e95939959a6b59'), ObjectId('661d2d8573e95939959a6b5a'), ObjectId('661d2d8573e95939959a6b5b'), ObjectId('661d2d8573e95939959a6b5c'), ObjectId('661d2d8573e95939959a6b5d'), ObjectId('661d2d8573e95939959a6b5e'), ObjectId('661d2d8573e95939959a6b5f'), ObjectId('661d2d8573e95939959a6b60'), ObjectId('661d2d8573e95939959a6b61'), ObjectId('661d2d8573e95939959a6b62'), ObjectId('661d2d8573e95939959a6b63'), ObjectId('661d2d8573e95939959a6b64'), ObjectId('661d2d8573e95939959a6b65'), ObjectId('661d2d8573e95939959a6b66'), ObjectId('661d2d8573e95939959a6b67'), ObjectId('661d2d8573e95939959a6b68'), ObjectId('661d2d8573e95939959a6b69'), ObjectId('661d2d8573e95939959a6b6a'), ObjectId('661d2d8573e95939959a6b6b'), ObjectId('661d2d8573e95939959a6b6c'), ObjectId('661d2d8573e95939959a6b6d'), ObjectId('661d2d8573e95939959a6b6e'), ObjectId('661d2d8573e95939959a6b6f'), ObjectId('661d2d8573e95939959a6b70'), ObjectId('661d2d8573e95939959a6b71'), ObjectId('661d2d8573e95939959a6b72'), ObjectId('661d2d8573e95939959a6b73'), ObjectId('661d2d8573e95939959a6b74'), ObjectId('661d2d8573e95939959a6b75'), ObjectId('661d2d8573e95939959a6b76'), ObjectId('661d2d8573e95939959a6b77'), ObjectId('661d2d8573e95939959a6b78'), ObjectId('661d2d8573e95939959a6b79'), ObjectId('661d2d8573e95939959a6b7a'), ObjectId('661d2d8573e95939959a6b7b'), ObjectId('661d2d8573e95939959a6b7c'), ObjectId('661d2d8573e95939959a6b7d'), ObjectId('661d2d8573e95939959a6b7e'), ObjectId('661d2d8573e95939959a6b7f'), ObjectId('661d2d8573e95939959a6b80'), ObjectId('661d2d8573e95939959a6b81'), ObjectId('661d2d8573e95939959a6b82'), ObjectId('661d2d8573e95939959a6b83'), ObjectId('661d2d8573e95939959a6b84'), ObjectId('661d2d8573e95939959a6b85'), ObjectId('661d2d8573e95939959a6b86'), ObjectId('661d2d8573e95939959a6b87'), ObjectId('661d2d8573e95939959a6b88'), ObjectId('661d2d8573e95939959a6b89'), ObjectId('661d2d8573e95939959a6b8a'), ObjectId('661d2d8573e95939959a6b8b'), ObjectId('661d2d8573e95939959a6b8c'), ObjectId('661d2d8573e95939959a6b8d'), ObjectId('661d2d8573e95939959a6b8e'), ObjectId('661d2d8573e95939959a6b8f'), ObjectId('661d2d8573e95939959a6b90'), ObjectId('661d2d8573e95939959a6b91'), ObjectId('661d2d8573e95939959a6b92'), ObjectId('661d2d8573e95939959a6b93'), ObjectId('661d2d8573e95939959a6b94'), ObjectId('661d2d8573e95939959a6b95'), ObjectId('661d2d8573e95939959a6b96'), ObjectId('661d2d8573e95939959a6b97'), ObjectId('661d2d8573e95939959a6b98'), ObjectId('661d2d8573e95939959a6b99'), ObjectId('661d2d8573e95939959a6b9a'), ObjectId('661d2d8573e95939959a6b9b'), ObjectId('661d2d8573e95939959a6b9c'), ObjectId('661d2d8573e95939959a6b9d'), ObjectId('661d2d8573e95939959a6b9e'), ObjectId('661d2d8573e95939959a6b9f'), ObjectId('661d2d8573e95939959a6ba0'), ObjectId('661d2d8573e95939959a6ba1'), ObjectId('661d2d8573e95939959a6ba2'), ObjectId('661d2d8573e95939959a6ba3'), ObjectId('661d2d8573e95939959a6ba4'), ObjectId('661d2d8573e95939959a6ba5'), ObjectId('661d2d8573e95939959a6ba6'), ObjectId('661d2d8573e95939959a6ba7'), ObjectId('661d2d8573e95939959a6ba8'), ObjectId('661d2d8573e95939959a6ba9'), ObjectId('661d2d8573e95939959a6baa'), ObjectId('661d2d8573e95939959a6bab'), ObjectId('661d2d8573e95939959a6bac'), ObjectId('661d2d8573e95939959a6bad'), ObjectId('661d2d8573e95939959a6bae'), ObjectId('661d2d8573e95939959a6baf'), ObjectId('661d2d8573e95939959a6bb0'), ObjectId('661d2d8573e95939959a6bb1'), ObjectId('661d2d8573e95939959a6bb2'), ObjectId('661d2d8573e95939959a6bb3'), ObjectId('661d2d8573e95939959a6bb4'), ObjectId('661d2d8573e95939959a6bb5'), ObjectId('661d2d8573e95939959a6bb6'), ObjectId('661d2d8573e95939959a6bb7'), ObjectId('661d2d8573e95939959a6bb8'), ObjectId('661d2d8573e95939959a6bb9'), ObjectId('661d2d8573e95939959a6bba'), ObjectId('661d2d8573e95939959a6bbb'), ObjectId('661d2d8573e95939959a6bbc'), ObjectId('661d2d8573e95939959a6bbd'), ObjectId('661d2d8573e95939959a6bbe'), ObjectId('661d2d8573e95939959a6bbf'), ObjectId('661d2d8573e95939959a6bc0'), ObjectId('661d2d8573e95939959a6bc1'), ObjectId('661d2d8573e95939959a6bc2'), ObjectId('661d2d8573e95939959a6bc3'), ObjectId('661d2d8573e95939959a6bc4'), ObjectId('661d2d8573e95939959a6bc5'), ObjectId('661d2d8573e95939959a6bc6'), ObjectId('661d2d8573e95939959a6bc7'), ObjectId('661d2d8573e95939959a6bc8'), ObjectId('661d2d8573e95939959a6bc9'), ObjectId('661d2d8573e95939959a6bca'), ObjectId('661d2d8573e95939959a6bcb'), ObjectId('661d2d8573e95939959a6bcc'), ObjectId('661d2d8573e95939959a6bcd'), ObjectId('661d2d8573e95939959a6bce'), ObjectId('661d2d8573e95939959a6bcf'), ObjectId('661d2d8573e95939959a6bd0'), ObjectId('661d2d8573e95939959a6bd1'), ObjectId('661d2d8573e95939959a6bd2'), ObjectId('661d2d8573e95939959a6bd3'), ObjectId('661d2d8573e95939959a6bd4'), ObjectId('661d2d8573e95939959a6bd5'), ObjectId('661d2d8573e95939959a6bd6'), ObjectId('661d2d8573e95939959a6bd7'), ObjectId('661d2d8573e95939959a6bd8'), ObjectId('661d2d8573e95939959a6bd9'), ObjectId('661d2d8573e95939959a6bda'), ObjectId('661d2d8573e95939959a6bdb'), ObjectId('661d2d8573e95939959a6bdc'), ObjectId('661d2d8573e95939959a6bdd'), ObjectId('661d2d8573e95939959a6bde'), ObjectId('661d2d8573e95939959a6bdf'), ObjectId('661d2d8573e95939959a6be0'), ObjectId('661d2d8573e95939959a6be1'), ObjectId('661d2d8573e95939959a6be2'), ObjectId('661d2d8573e95939959a6be3'), ObjectId('661d2d8573e95939959a6be4'), ObjectId('661d2d8573e95939959a6be5'), ObjectId('661d2d8573e95939959a6be6'), ObjectId('661d2d8573e95939959a6be7'), ObjectId('661d2d8573e95939959a6be8'), ObjectId('661d2d8573e95939959a6be9'), ObjectId('661d2d8573e95939959a6bea'), ObjectId('661d2d8573e95939959a6beb'), ObjectId('661d2d8573e95939959a6bec'), ObjectId('661d2d8573e95939959a6bed'), ObjectId('661d2d8573e95939959a6bee'), ObjectId('661d2d8573e95939959a6bef'), ObjectId('661d2d8573e95939959a6bf0'), ObjectId('661d2d8573e95939959a6bf1'), ObjectId('661d2d8573e95939959a6bf2'), ObjectId('661d2d8573e95939959a6bf3'), ObjectId('661d2d8573e95939959a6bf4'), ObjectId('661d2d8573e95939959a6bf5'), ObjectId('661d2d8573e95939959a6bf6'), ObjectId('661d2d8573e95939959a6bf7'), ObjectId('661d2d8573e95939959a6bf8'), ObjectId('661d2d8573e95939959a6bf9'), ObjectId('661d2d8573e95939959a6bfa'), ObjectId('661d2d8573e95939959a6bfb'), ObjectId('661d2d8573e95939959a6bfc'), ObjectId('661d2d8573e95939959a6bfd'), ObjectId('661d2d8573e95939959a6bfe'), ObjectId('661d2d8573e95939959a6bff'), ObjectId('661d2d8573e95939959a6c00'), ObjectId('661d2d8573e95939959a6c01'), ObjectId('661d2d8573e95939959a6c02'), ObjectId('661d2d8573e95939959a6c03'), ObjectId('661d2d8573e95939959a6c04'), ObjectId('661d2d8573e95939959a6c05'), ObjectId('661d2d8573e95939959a6c06'), ObjectId('661d2d8573e95939959a6c07'), ObjectId('661d2d8573e95939959a6c08'), ObjectId('661d2d8573e95939959a6c09'), ObjectId('661d2d8573e95939959a6c0a'), ObjectId('661d2d8573e95939959a6c0b'), ObjectId('661d2d8573e95939959a6c0c'), ObjectId('661d2d8573e95939959a6c0d'), ObjectId('661d2d8573e95939959a6c0e'), ObjectId('661d2d8573e95939959a6c0f'), ObjectId('661d2d8573e95939959a6c10'), ObjectId('661d2d8573e95939959a6c11'), ObjectId('661d2d8573e95939959a6c12'), ObjectId('661d2d8573e95939959a6c13'), ObjectId('661d2d8573e95939959a6c14'), ObjectId('661d2d8573e95939959a6c15'), ObjectId('661d2d8573e95939959a6c16'), ObjectId('661d2d8573e95939959a6c17'), ObjectId('661d2d8573e95939959a6c18'), ObjectId('661d2d8573e95939959a6c19'), ObjectId('661d2d8573e95939959a6c1a'), ObjectId('661d2d8573e95939959a6c1b'), ObjectId('661d2d8573e95939959a6c1c'), ObjectId('661d2d8573e95939959a6c1d'), ObjectId('661d2d8573e95939959a6c1e'), ObjectId('661d2d8573e95939959a6c1f'), ObjectId('661d2d8573e95939959a6c20'), ObjectId('661d2d8573e95939959a6c21'), ObjectId('661d2d8573e95939959a6c22'), ObjectId('661d2d8573e95939959a6c23'), ObjectId('661d2d8573e95939959a6c24'), ObjectId('661d2d8573e95939959a6c25'), ObjectId('661d2d8573e95939959a6c26'), ObjectId('661d2d8573e95939959a6c27'), ObjectId('661d2d8573e95939959a6c28'), ObjectId('661d2d8573e95939959a6c29'), ObjectId('661d2d8573e95939959a6c2a'), ObjectId('661d2d8573e95939959a6c2b'), ObjectId('661d2d8573e95939959a6c2c'), ObjectId('661d2d8573e95939959a6c2d'), ObjectId('661d2d8573e95939959a6c2e'), ObjectId('661d2d8573e95939959a6c2f'), ObjectId('661d2d8573e95939959a6c30'), ObjectId('661d2d8573e95939959a6c31'), ObjectId('661d2d8573e95939959a6c32'), ObjectId('661d2d8573e95939959a6c33'), ObjectId('661d2d8573e95939959a6c34'), ObjectId('661d2d8573e95939959a6c35'), ObjectId('661d2d8573e95939959a6c36'), ObjectId('661d2d8573e95939959a6c37'), ObjectId('661d2d8573e95939959a6c38'), ObjectId('661d2d8573e95939959a6c39'), ObjectId('661d2d8573e95939959a6c3a'), ObjectId('661d2d8573e95939959a6c3b'), ObjectId('661d2d8573e95939959a6c3c'), ObjectId('661d2d8573e95939959a6c3d'), ObjectId('661d2d8573e95939959a6c3e'), ObjectId('661d2d8573e95939959a6c3f'), ObjectId('661d2d8573e95939959a6c40'), ObjectId('661d2d8573e95939959a6c41'), ObjectId('661d2d8573e95939959a6c42'), ObjectId('661d2d8573e95939959a6c43'), ObjectId('661d2d8573e95939959a6c44'), ObjectId('661d2d8573e95939959a6c45'), ObjectId('661d2d8573e95939959a6c46'), ObjectId('661d2d8573e95939959a6c47'), ObjectId('661d2d8573e95939959a6c48'), ObjectId('661d2d8573e95939959a6c49'), ObjectId('661d2d8573e95939959a6c4a'), ObjectId('661d2d8573e95939959a6c4b'), ObjectId('661d2d8573e95939959a6c4c'), ObjectId('661d2d8573e95939959a6c4d'), ObjectId('661d2d8573e95939959a6c4e'), ObjectId('661d2d8573e95939959a6c4f'), ObjectId('661d2d8573e95939959a6c50'), ObjectId('661d2d8573e95939959a6c51'), ObjectId('661d2d8573e95939959a6c52'), ObjectId('661d2d8573e95939959a6c53'), ObjectId('661d2d8573e95939959a6c54'), ObjectId('661d2d8573e95939959a6c55'), ObjectId('661d2d8573e95939959a6c56'), ObjectId('661d2d8573e95939959a6c57'), ObjectId('661d2d8573e95939959a6c58'), ObjectId('661d2d8573e95939959a6c59'), ObjectId('661d2d8573e95939959a6c5a'), ObjectId('661d2d8573e95939959a6c5b'), ObjectId('661d2d8573e95939959a6c5c'), ObjectId('661d2d8573e95939959a6c5d'), ObjectId('661d2d8573e95939959a6c5e'), ObjectId('661d2d8573e95939959a6c5f'), ObjectId('661d2d8573e95939959a6c60'), ObjectId('661d2d8573e95939959a6c61'), ObjectId('661d2d8573e95939959a6c62'), ObjectId('661d2d8573e95939959a6c63'), ObjectId('661d2d8573e95939959a6c64'), ObjectId('661d2d8573e95939959a6c65'), ObjectId('661d2d8573e95939959a6c66'), ObjectId('661d2d8573e95939959a6c67'), ObjectId('661d2d8573e95939959a6c68'), ObjectId('661d2d8573e95939959a6c69'), ObjectId('661d2d8573e95939959a6c6a'), ObjectId('661d2d8573e95939959a6c6b'), ObjectId('661d2d8573e95939959a6c6c'), ObjectId('661d2d8573e95939959a6c6d'), ObjectId('661d2d8573e95939959a6c6e'), ObjectId('661d2d8573e95939959a6c6f'), ObjectId('661d2d8573e95939959a6c70'), ObjectId('661d2d8573e95939959a6c71'), ObjectId('661d2d8573e95939959a6c72'), ObjectId('661d2d8573e95939959a6c73'), ObjectId('661d2d8573e95939959a6c74'), ObjectId('661d2d8573e95939959a6c75'), ObjectId('661d2d8573e95939959a6c76'), ObjectId('661d2d8573e95939959a6c77'), ObjectId('661d2d8573e95939959a6c78'), ObjectId('661d2d8573e95939959a6c79'), ObjectId('661d2d8573e95939959a6c7a'), ObjectId('661d2d8573e95939959a6c7b'), ObjectId('661d2d8573e95939959a6c7c'), ObjectId('661d2d8573e95939959a6c7d'), ObjectId('661d2d8573e95939959a6c7e'), ObjectId('661d2d8573e95939959a6c7f'), ObjectId('661d2d8573e95939959a6c80'), ObjectId('661d2d8573e95939959a6c81'), ObjectId('661d2d8573e95939959a6c82'), ObjectId('661d2d8573e95939959a6c83'), ObjectId('661d2d8573e95939959a6c84'), ObjectId('661d2d8573e95939959a6c85'), ObjectId('661d2d8573e95939959a6c86'), ObjectId('661d2d8573e95939959a6c87'), ObjectId('661d2d8573e95939959a6c88'), ObjectId('661d2d8573e95939959a6c89'), ObjectId('661d2d8573e95939959a6c8a'), ObjectId('661d2d8573e95939959a6c8b'), ObjectId('661d2d8573e95939959a6c8c'), ObjectId('661d2d8573e95939959a6c8d'), ObjectId('661d2d8573e95939959a6c8e'), ObjectId('661d2d8573e95939959a6c8f'), ObjectId('661d2d8573e95939959a6c90'), ObjectId('661d2d8573e95939959a6c91'), ObjectId('661d2d8573e95939959a6c92'), ObjectId('661d2d8573e95939959a6c93'), ObjectId('661d2d8573e95939959a6c94'), ObjectId('661d2d8573e95939959a6c95'), ObjectId('661d2d8573e95939959a6c96'), ObjectId('661d2d8573e95939959a6c97'), ObjectId('661d2d8573e95939959a6c98'), ObjectId('661d2d8573e95939959a6c99'), ObjectId('661d2d8573e95939959a6c9a'), ObjectId('661d2d8573e95939959a6c9b'), ObjectId('661d2d8573e95939959a6c9c'), ObjectId('661d2d8573e95939959a6c9d'), ObjectId('661d2d8573e95939959a6c9e'), ObjectId('661d2d8573e95939959a6c9f'), ObjectId('661d2d8573e95939959a6ca0'), ObjectId('661d2d8573e95939959a6ca1'), ObjectId('661d2d8573e95939959a6ca2'), ObjectId('661d2d8573e95939959a6ca3'), ObjectId('661d2d8573e95939959a6ca4'), ObjectId('661d2d8573e95939959a6ca5'), ObjectId('661d2d8573e95939959a6ca6'), ObjectId('661d2d8573e95939959a6ca7'), ObjectId('661d2d8573e95939959a6ca8'), ObjectId('661d2d8573e95939959a6ca9'), ObjectId('661d2d8573e95939959a6caa'), ObjectId('661d2d8573e95939959a6cab'), ObjectId('661d2d8573e95939959a6cac'), ObjectId('661d2d8573e95939959a6cad'), ObjectId('661d2d8573e95939959a6cae'), ObjectId('661d2d8573e95939959a6caf'), ObjectId('661d2d8573e95939959a6cb0'), ObjectId('661d2d8573e95939959a6cb1'), ObjectId('661d2d8573e95939959a6cb2'), ObjectId('661d2d8573e95939959a6cb3'), ObjectId('661d2d8573e95939959a6cb4'), ObjectId('661d2d8573e95939959a6cb5'), ObjectId('661d2d8573e95939959a6cb6'), ObjectId('661d2d8573e95939959a6cb7'), ObjectId('661d2d8573e95939959a6cb8'), ObjectId('661d2d8573e95939959a6cb9'), ObjectId('661d2d8573e95939959a6cba'), ObjectId('661d2d8573e95939959a6cbb'), ObjectId('661d2d8573e95939959a6cbc'), ObjectId('661d2d8573e95939959a6cbd'), ObjectId('661d2d8573e95939959a6cbe'), ObjectId('661d2d8573e95939959a6cbf'), ObjectId('661d2d8573e95939959a6cc0'), ObjectId('661d2d8573e95939959a6cc1'), ObjectId('661d2d8573e95939959a6cc2'), ObjectId('661d2d8573e95939959a6cc3'), ObjectId('661d2d8573e95939959a6cc4'), ObjectId('661d2d8573e95939959a6cc5'), ObjectId('661d2d8573e95939959a6cc6'), ObjectId('661d2d8573e95939959a6cc7'), ObjectId('661d2d8573e95939959a6cc8'), ObjectId('661d2d8573e95939959a6cc9'), ObjectId('661d2d8573e95939959a6cca'), ObjectId('661d2d8573e95939959a6ccb'), ObjectId('661d2d8573e95939959a6ccc'), ObjectId('661d2d8573e95939959a6ccd'), ObjectId('661d2d8573e95939959a6cce'), ObjectId('661d2d8573e95939959a6ccf'), ObjectId('661d2d8573e95939959a6cd0'), ObjectId('661d2d8573e95939959a6cd1'), ObjectId('661d2d8573e95939959a6cd2'), ObjectId('661d2d8573e95939959a6cd3'), ObjectId('661d2d8573e95939959a6cd4'), ObjectId('661d2d8573e95939959a6cd5'), ObjectId('661d2d8573e95939959a6cd6'), ObjectId('661d2d8573e95939959a6cd7'), ObjectId('661d2d8573e95939959a6cd8'), ObjectId('661d2d8573e95939959a6cd9'), ObjectId('661d2d8573e95939959a6cda'), ObjectId('661d2d8573e95939959a6cdb'), ObjectId('661d2d8573e95939959a6cdc'), ObjectId('661d2d8573e95939959a6cdd'), ObjectId('661d2d8573e95939959a6cde'), ObjectId('661d2d8573e95939959a6cdf'), ObjectId('661d2d8573e95939959a6ce0'), ObjectId('661d2d8573e95939959a6ce1'), ObjectId('661d2d8573e95939959a6ce2'), ObjectId('661d2d8573e95939959a6ce3'), ObjectId('661d2d8573e95939959a6ce4'), ObjectId('661d2d8573e95939959a6ce5'), ObjectId('661d2d8573e95939959a6ce6'), ObjectId('661d2d8573e95939959a6ce7'), ObjectId('661d2d8573e95939959a6ce8'), ObjectId('661d2d8573e95939959a6ce9'), ObjectId('661d2d8573e95939959a6cea'), ObjectId('661d2d8573e95939959a6ceb'), ObjectId('661d2d8573e95939959a6cec'), ObjectId('661d2d8573e95939959a6ced'), ObjectId('661d2d8573e95939959a6cee'), ObjectId('661d2d8573e95939959a6cef'), ObjectId('661d2d8573e95939959a6cf0'), ObjectId('661d2d8573e95939959a6cf1'), ObjectId('661d2d8573e95939959a6cf2'), ObjectId('661d2d8573e95939959a6cf3'), ObjectId('661d2d8573e95939959a6cf4'), ObjectId('661d2d8573e95939959a6cf5'), ObjectId('661d2d8573e95939959a6cf6'), ObjectId('661d2d8573e95939959a6cf7'), ObjectId('661d2d8573e95939959a6cf8'), ObjectId('661d2d8573e95939959a6cf9'), ObjectId('661d2d8573e95939959a6cfa'), ObjectId('661d2d8573e95939959a6cfb'), ObjectId('661d2d8573e95939959a6cfc'), ObjectId('661d2d8573e95939959a6cfd'), ObjectId('661d2d8573e95939959a6cfe'), ObjectId('661d2d8573e95939959a6cff'), ObjectId('661d2d8573e95939959a6d00'), ObjectId('661d2d8573e95939959a6d01'), ObjectId('661d2d8573e95939959a6d02'), ObjectId('661d2d8573e95939959a6d03'), ObjectId('661d2d8573e95939959a6d04'), ObjectId('661d2d8573e95939959a6d05'), ObjectId('661d2d8573e95939959a6d06'), ObjectId('661d2d8573e95939959a6d07'), ObjectId('661d2d8573e95939959a6d08'), ObjectId('661d2d8573e95939959a6d09'), ObjectId('661d2d8573e95939959a6d0a'), ObjectId('661d2d8573e95939959a6d0b'), ObjectId('661d2d8573e95939959a6d0c'), ObjectId('661d2d8573e95939959a6d0d'), ObjectId('661d2d8573e95939959a6d0e'), ObjectId('661d2d8573e95939959a6d0f'), ObjectId('661d2d8573e95939959a6d10'), ObjectId('661d2d8573e95939959a6d11'), ObjectId('661d2d8573e95939959a6d12'), ObjectId('661d2d8573e95939959a6d13'), ObjectId('661d2d8573e95939959a6d14'), ObjectId('661d2d8573e95939959a6d15'), ObjectId('661d2d8573e95939959a6d16'), ObjectId('661d2d8573e95939959a6d17'), ObjectId('661d2d8573e95939959a6d18'), ObjectId('661d2d8573e95939959a6d19'), ObjectId('661d2d8573e95939959a6d1a'), ObjectId('661d2d8573e95939959a6d1b'), ObjectId('661d2d8573e95939959a6d1c'), ObjectId('661d2d8573e95939959a6d1d'), ObjectId('661d2d8573e95939959a6d1e'), ObjectId('661d2d8573e95939959a6d1f'), ObjectId('661d2d8573e95939959a6d20'), ObjectId('661d2d8573e95939959a6d21'), ObjectId('661d2d8573e95939959a6d22'), ObjectId('661d2d8573e95939959a6d23'), ObjectId('661d2d8573e95939959a6d24'), ObjectId('661d2d8573e95939959a6d25'), ObjectId('661d2d8573e95939959a6d26'), ObjectId('661d2d8573e95939959a6d27'), ObjectId('661d2d8573e95939959a6d28'), ObjectId('661d2d8573e95939959a6d29'), ObjectId('661d2d8573e95939959a6d2a'), ObjectId('661d2d8573e95939959a6d2b'), ObjectId('661d2d8573e95939959a6d2c'), ObjectId('661d2d8573e95939959a6d2d'), ObjectId('661d2d8573e95939959a6d2e'), ObjectId('661d2d8573e95939959a6d2f'), ObjectId('661d2d8573e95939959a6d30'), ObjectId('661d2d8573e95939959a6d31'), ObjectId('661d2d8573e95939959a6d32'), ObjectId('661d2d8573e95939959a6d33'), ObjectId('661d2d8573e95939959a6d34'), ObjectId('661d2d8573e95939959a6d35'), ObjectId('661d2d8573e95939959a6d36'), ObjectId('661d2d8573e95939959a6d37'), ObjectId('661d2d8573e95939959a6d38'), ObjectId('661d2d8573e95939959a6d39'), ObjectId('661d2d8573e95939959a6d3a'), ObjectId('661d2d8573e95939959a6d3b'), ObjectId('661d2d8573e95939959a6d3c'), ObjectId('661d2d8573e95939959a6d3d'), ObjectId('661d2d8573e95939959a6d3e'), ObjectId('661d2d8573e95939959a6d3f'), ObjectId('661d2d8573e95939959a6d40'), ObjectId('661d2d8573e95939959a6d41'), ObjectId('661d2d8573e95939959a6d42'), ObjectId('661d2d8573e95939959a6d43'), ObjectId('661d2d8573e95939959a6d44'), ObjectId('661d2d8573e95939959a6d45'), ObjectId('661d2d8573e95939959a6d46'), ObjectId('661d2d8573e95939959a6d47'), ObjectId('661d2d8573e95939959a6d48'), ObjectId('661d2d8573e95939959a6d49'), ObjectId('661d2d8573e95939959a6d4a'), ObjectId('661d2d8573e95939959a6d4b'), ObjectId('661d2d8573e95939959a6d4c'), ObjectId('661d2d8573e95939959a6d4d'), ObjectId('661d2d8573e95939959a6d4e'), ObjectId('661d2d8573e95939959a6d4f'), ObjectId('661d2d8573e95939959a6d50'), ObjectId('661d2d8573e95939959a6d51'), ObjectId('661d2d8573e95939959a6d52'), ObjectId('661d2d8573e95939959a6d53'), ObjectId('661d2d8573e95939959a6d54'), ObjectId('661d2d8573e95939959a6d55'), ObjectId('661d2d8573e95939959a6d56'), ObjectId('661d2d8573e95939959a6d57'), ObjectId('661d2d8573e95939959a6d58'), ObjectId('661d2d8573e95939959a6d59'), ObjectId('661d2d8573e95939959a6d5a'), ObjectId('661d2d8573e95939959a6d5b'), ObjectId('661d2d8573e95939959a6d5c'), ObjectId('661d2d8573e95939959a6d5d'), ObjectId('661d2d8573e95939959a6d5e'), ObjectId('661d2d8573e95939959a6d5f'), ObjectId('661d2d8573e95939959a6d60'), ObjectId('661d2d8573e95939959a6d61'), ObjectId('661d2d8573e95939959a6d62'), ObjectId('661d2d8573e95939959a6d63'), ObjectId('661d2d8573e95939959a6d64'), ObjectId('661d2d8573e95939959a6d65'), ObjectId('661d2d8573e95939959a6d66'), ObjectId('661d2d8573e95939959a6d67'), ObjectId('661d2d8573e95939959a6d68'), ObjectId('661d2d8573e95939959a6d69'), ObjectId('661d2d8573e95939959a6d6a'), ObjectId('661d2d8573e95939959a6d6b'), ObjectId('661d2d8573e95939959a6d6c'), ObjectId('661d2d8573e95939959a6d6d'), ObjectId('661d2d8573e95939959a6d6e'), ObjectId('661d2d8573e95939959a6d6f'), ObjectId('661d2d8573e95939959a6d70'), ObjectId('661d2d8573e95939959a6d71'), ObjectId('661d2d8573e95939959a6d72'), ObjectId('661d2d8573e95939959a6d73'), ObjectId('661d2d8573e95939959a6d74'), ObjectId('661d2d8573e95939959a6d75'), ObjectId('661d2d8573e95939959a6d76'), ObjectId('661d2d8573e95939959a6d77'), ObjectId('661d2d8573e95939959a6d78'), ObjectId('661d2d8573e95939959a6d79'), ObjectId('661d2d8573e95939959a6d7a'), ObjectId('661d2d8573e95939959a6d7b'), ObjectId('661d2d8573e95939959a6d7c'), ObjectId('661d2d8573e95939959a6d7d'), ObjectId('661d2d8573e95939959a6d7e'), ObjectId('661d2d8573e95939959a6d7f'), ObjectId('661d2d8573e95939959a6d80'), ObjectId('661d2d8573e95939959a6d81'), ObjectId('661d2d8573e95939959a6d82'), ObjectId('661d2d8573e95939959a6d83'), ObjectId('661d2d8573e95939959a6d84'), ObjectId('661d2d8573e95939959a6d85'), ObjectId('661d2d8573e95939959a6d86'), ObjectId('661d2d8573e95939959a6d87'), ObjectId('661d2d8573e95939959a6d88'), ObjectId('661d2d8573e95939959a6d89'), ObjectId('661d2d8573e95939959a6d8a'), ObjectId('661d2d8573e95939959a6d8b'), ObjectId('661d2d8573e95939959a6d8c'), ObjectId('661d2d8573e95939959a6d8d'), ObjectId('661d2d8573e95939959a6d8e'), ObjectId('661d2d8573e95939959a6d8f'), ObjectId('661d2d8573e95939959a6d90'), ObjectId('661d2d8573e95939959a6d91'), ObjectId('661d2d8573e95939959a6d92'), ObjectId('661d2d8573e95939959a6d93'), ObjectId('661d2d8573e95939959a6d94'), ObjectId('661d2d8573e95939959a6d95'), ObjectId('661d2d8573e95939959a6d96'), ObjectId('661d2d8573e95939959a6d97'), ObjectId('661d2d8573e95939959a6d98'), ObjectId('661d2d8573e95939959a6d99'), ObjectId('661d2d8573e95939959a6d9a'), ObjectId('661d2d8573e95939959a6d9b'), ObjectId('661d2d8573e95939959a6d9c'), ObjectId('661d2d8573e95939959a6d9d'), ObjectId('661d2d8573e95939959a6d9e'), ObjectId('661d2d8573e95939959a6d9f'), ObjectId('661d2d8573e95939959a6da0'), ObjectId('661d2d8573e95939959a6da1'), ObjectId('661d2d8573e95939959a6da2'), ObjectId('661d2d8573e95939959a6da3'), ObjectId('661d2d8573e95939959a6da4'), ObjectId('661d2d8573e95939959a6da5'), ObjectId('661d2d8573e95939959a6da6'), ObjectId('661d2d8573e95939959a6da7'), ObjectId('661d2d8573e95939959a6da8'), ObjectId('661d2d8573e95939959a6da9'), ObjectId('661d2d8573e95939959a6daa'), ObjectId('661d2d8573e95939959a6dab'), ObjectId('661d2d8573e95939959a6dac'), ObjectId('661d2d8573e95939959a6dad'), ObjectId('661d2d8573e95939959a6dae'), ObjectId('661d2d8573e95939959a6daf'), ObjectId('661d2d8573e95939959a6db0'), ObjectId('661d2d8573e95939959a6db1'), ObjectId('661d2d8573e95939959a6db2'), ObjectId('661d2d8573e95939959a6db3'), ObjectId('661d2d8573e95939959a6db4'), ObjectId('661d2d8573e95939959a6db5'), ObjectId('661d2d8573e95939959a6db6'), ObjectId('661d2d8573e95939959a6db7'), ObjectId('661d2d8573e95939959a6db8'), ObjectId('661d2d8573e95939959a6db9'), ObjectId('661d2d8573e95939959a6dba'), ObjectId('661d2d8573e95939959a6dbb'), ObjectId('661d2d8573e95939959a6dbc'), ObjectId('661d2d8573e95939959a6dbd'), ObjectId('661d2d8573e95939959a6dbe'), ObjectId('661d2d8573e95939959a6dbf'), ObjectId('661d2d8573e95939959a6dc0'), ObjectId('661d2d8573e95939959a6dc1'), ObjectId('661d2d8573e95939959a6dc2'), ObjectId('661d2d8573e95939959a6dc3'), ObjectId('661d2d8573e95939959a6dc4'), ObjectId('661d2d8573e95939959a6dc5'), ObjectId('661d2d8573e95939959a6dc6'), ObjectId('661d2d8573e95939959a6dc7'), ObjectId('661d2d8573e95939959a6dc8'), ObjectId('661d2d8573e95939959a6dc9'), ObjectId('661d2d8573e95939959a6dca'), ObjectId('661d2d8573e95939959a6dcb'), ObjectId('661d2d8573e95939959a6dcc'), ObjectId('661d2d8573e95939959a6dcd'), ObjectId('661d2d8573e95939959a6dce'), ObjectId('661d2d8573e95939959a6dcf'), ObjectId('661d2d8573e95939959a6dd0'), ObjectId('661d2d8573e95939959a6dd1'), ObjectId('661d2d8573e95939959a6dd2'), ObjectId('661d2d8573e95939959a6dd3'), ObjectId('661d2d8573e95939959a6dd4'), ObjectId('661d2d8573e95939959a6dd5'), ObjectId('661d2d8573e95939959a6dd6'), ObjectId('661d2d8573e95939959a6dd7'), ObjectId('661d2d8573e95939959a6dd8'), ObjectId('661d2d8573e95939959a6dd9'), ObjectId('661d2d8573e95939959a6dda'), ObjectId('661d2d8573e95939959a6ddb'), ObjectId('661d2d8573e95939959a6ddc'), ObjectId('661d2d8573e95939959a6ddd'), ObjectId('661d2d8573e95939959a6dde'), ObjectId('661d2d8573e95939959a6ddf'), ObjectId('661d2d8573e95939959a6de0'), ObjectId('661d2d8573e95939959a6de1'), ObjectId('661d2d8573e95939959a6de2'), ObjectId('661d2d8573e95939959a6de3'), ObjectId('661d2d8573e95939959a6de4'), ObjectId('661d2d8573e95939959a6de5'), ObjectId('661d2d8573e95939959a6de6'), ObjectId('661d2d8573e95939959a6de7'), ObjectId('661d2d8573e95939959a6de8'), ObjectId('661d2d8573e95939959a6de9'), ObjectId('661d2d8573e95939959a6dea'), ObjectId('661d2d8573e95939959a6deb'), ObjectId('661d2d8573e95939959a6dec'), ObjectId('661d2d8573e95939959a6ded'), ObjectId('661d2d8573e95939959a6dee'), ObjectId('661d2d8573e95939959a6def'), ObjectId('661d2d8573e95939959a6df0'), ObjectId('661d2d8573e95939959a6df1'), ObjectId('661d2d8573e95939959a6df2'), ObjectId('661d2d8573e95939959a6df3'), ObjectId('661d2d8573e95939959a6df4'), ObjectId('661d2d8573e95939959a6df5'), ObjectId('661d2d8573e95939959a6df6'), ObjectId('661d2d8573e95939959a6df7'), ObjectId('661d2d8573e95939959a6df8'), ObjectId('661d2d8573e95939959a6df9'), ObjectId('661d2d8573e95939959a6dfa'), ObjectId('661d2d8573e95939959a6dfb'), ObjectId('661d2d8573e95939959a6dfc'), ObjectId('661d2d8573e95939959a6dfd'), ObjectId('661d2d8573e95939959a6dfe'), ObjectId('661d2d8573e95939959a6dff'), ObjectId('661d2d8573e95939959a6e00'), ObjectId('661d2d8573e95939959a6e01'), ObjectId('661d2d8573e95939959a6e02'), ObjectId('661d2d8573e95939959a6e03'), ObjectId('661d2d8573e95939959a6e04'), ObjectId('661d2d8573e95939959a6e05'), ObjectId('661d2d8573e95939959a6e06'), ObjectId('661d2d8573e95939959a6e07'), ObjectId('661d2d8573e95939959a6e08'), ObjectId('661d2d8573e95939959a6e09'), ObjectId('661d2d8573e95939959a6e0a'), ObjectId('661d2d8573e95939959a6e0b'), ObjectId('661d2d8573e95939959a6e0c'), ObjectId('661d2d8573e95939959a6e0d'), ObjectId('661d2d8573e95939959a6e0e'), ObjectId('661d2d8573e95939959a6e0f'), ObjectId('661d2d8573e95939959a6e10'), ObjectId('661d2d8573e95939959a6e11'), ObjectId('661d2d8573e95939959a6e12'), ObjectId('661d2d8573e95939959a6e13'), ObjectId('661d2d8573e95939959a6e14'), ObjectId('661d2d8573e95939959a6e15'), ObjectId('661d2d8573e95939959a6e16'), ObjectId('661d2d8573e95939959a6e17'), ObjectId('661d2d8573e95939959a6e18'), ObjectId('661d2d8573e95939959a6e19'), ObjectId('661d2d8573e95939959a6e1a'), ObjectId('661d2d8573e95939959a6e1b'), ObjectId('661d2d8573e95939959a6e1c'), ObjectId('661d2d8573e95939959a6e1d'), ObjectId('661d2d8573e95939959a6e1e'), ObjectId('661d2d8573e95939959a6e1f'), ObjectId('661d2d8573e95939959a6e20'), ObjectId('661d2d8573e95939959a6e21'), ObjectId('661d2d8573e95939959a6e22'), ObjectId('661d2d8573e95939959a6e23'), ObjectId('661d2d8573e95939959a6e24'), ObjectId('661d2d8573e95939959a6e25'), ObjectId('661d2d8573e95939959a6e26'), ObjectId('661d2d8573e95939959a6e27'), ObjectId('661d2d8573e95939959a6e28'), ObjectId('661d2d8573e95939959a6e29'), ObjectId('661d2d8573e95939959a6e2a'), ObjectId('661d2d8573e95939959a6e2b'), ObjectId('661d2d8573e95939959a6e2c'), ObjectId('661d2d8573e95939959a6e2d'), ObjectId('661d2d8573e95939959a6e2e'), ObjectId('661d2d8573e95939959a6e2f'), ObjectId('661d2d8573e95939959a6e30'), ObjectId('661d2d8573e95939959a6e31'), ObjectId('661d2d8573e95939959a6e32'), ObjectId('661d2d8573e95939959a6e33'), ObjectId('661d2d8573e95939959a6e34'), ObjectId('661d2d8573e95939959a6e35'), ObjectId('661d2d8573e95939959a6e36'), ObjectId('661d2d8573e95939959a6e37'), ObjectId('661d2d8573e95939959a6e38'), ObjectId('661d2d8573e95939959a6e39'), ObjectId('661d2d8573e95939959a6e3a'), ObjectId('661d2d8573e95939959a6e3b'), ObjectId('661d2d8573e95939959a6e3c'), ObjectId('661d2d8573e95939959a6e3d'), ObjectId('661d2d8573e95939959a6e3e'), ObjectId('661d2d8573e95939959a6e3f'), ObjectId('661d2d8573e95939959a6e40'), ObjectId('661d2d8573e95939959a6e41'), ObjectId('661d2d8573e95939959a6e42'), ObjectId('661d2d8573e95939959a6e43'), ObjectId('661d2d8573e95939959a6e44'), ObjectId('661d2d8573e95939959a6e45'), ObjectId('661d2d8573e95939959a6e46'), ObjectId('661d2d8573e95939959a6e47'), ObjectId('661d2d8573e95939959a6e48'), ObjectId('661d2d8573e95939959a6e49'), ObjectId('661d2d8573e95939959a6e4a'), ObjectId('661d2d8573e95939959a6e4b'), ObjectId('661d2d8573e95939959a6e4c'), ObjectId('661d2d8573e95939959a6e4d'), ObjectId('661d2d8573e95939959a6e4e'), ObjectId('661d2d8573e95939959a6e4f'), ObjectId('661d2d8573e95939959a6e50'), ObjectId('661d2d8573e95939959a6e51'), ObjectId('661d2d8573e95939959a6e52'), ObjectId('661d2d8573e95939959a6e53'), ObjectId('661d2d8573e95939959a6e54'), ObjectId('661d2d8573e95939959a6e55'), ObjectId('661d2d8573e95939959a6e56'), ObjectId('661d2d8573e95939959a6e57'), ObjectId('661d2d8573e95939959a6e58'), ObjectId('661d2d8573e95939959a6e59'), ObjectId('661d2d8573e95939959a6e5a'), ObjectId('661d2d8573e95939959a6e5b'), ObjectId('661d2d8573e95939959a6e5c'), ObjectId('661d2d8573e95939959a6e5d'), ObjectId('661d2d8573e95939959a6e5e'), ObjectId('661d2d8573e95939959a6e5f'), ObjectId('661d2d8573e95939959a6e60'), ObjectId('661d2d8573e95939959a6e61'), ObjectId('661d2d8573e95939959a6e62'), ObjectId('661d2d8573e95939959a6e63'), ObjectId('661d2d8573e95939959a6e64'), ObjectId('661d2d8573e95939959a6e65'), ObjectId('661d2d8573e95939959a6e66'), ObjectId('661d2d8573e95939959a6e67'), ObjectId('661d2d8573e95939959a6e68'), ObjectId('661d2d8573e95939959a6e69'), ObjectId('661d2d8573e95939959a6e6a'), ObjectId('661d2d8573e95939959a6e6b'), ObjectId('661d2d8573e95939959a6e6c'), ObjectId('661d2d8573e95939959a6e6d'), ObjectId('661d2d8573e95939959a6e6e'), ObjectId('661d2d8573e95939959a6e6f'), ObjectId('661d2d8573e95939959a6e70'), ObjectId('661d2d8573e95939959a6e71'), ObjectId('661d2d8573e95939959a6e72'), ObjectId('661d2d8573e95939959a6e73'), ObjectId('661d2d8573e95939959a6e74'), ObjectId('661d2d8573e95939959a6e75'), ObjectId('661d2d8573e95939959a6e76'), ObjectId('661d2d8573e95939959a6e77'), ObjectId('661d2d8573e95939959a6e78'), ObjectId('661d2d8573e95939959a6e79'), ObjectId('661d2d8573e95939959a6e7a'), ObjectId('661d2d8573e95939959a6e7b'), ObjectId('661d2d8573e95939959a6e7c'), ObjectId('661d2d8573e95939959a6e7d'), ObjectId('661d2d8573e95939959a6e7e'), ObjectId('661d2d8573e95939959a6e7f'), ObjectId('661d2d8573e95939959a6e80'), ObjectId('661d2d8573e95939959a6e81'), ObjectId('661d2d8573e95939959a6e82'), ObjectId('661d2d8573e95939959a6e83'), ObjectId('661d2d8573e95939959a6e84'), ObjectId('661d2d8573e95939959a6e85'), ObjectId('661d2d8573e95939959a6e86'), ObjectId('661d2d8573e95939959a6e87'), ObjectId('661d2d8573e95939959a6e88'), ObjectId('661d2d8573e95939959a6e89'), ObjectId('661d2d8573e95939959a6e8a'), ObjectId('661d2d8573e95939959a6e8b'), ObjectId('661d2d8573e95939959a6e8c'), ObjectId('661d2d8573e95939959a6e8d'), ObjectId('661d2d8573e95939959a6e8e'), ObjectId('661d2d8573e95939959a6e8f'), ObjectId('661d2d8573e95939959a6e90'), ObjectId('661d2d8573e95939959a6e91'), ObjectId('661d2d8573e95939959a6e92'), ObjectId('661d2d8573e95939959a6e93'), ObjectId('661d2d8573e95939959a6e94'), ObjectId('661d2d8573e95939959a6e95'), ObjectId('661d2d8573e95939959a6e96'), ObjectId('661d2d8573e95939959a6e97'), ObjectId('661d2d8573e95939959a6e98'), ObjectId('661d2d8573e95939959a6e99'), ObjectId('661d2d8573e95939959a6e9a'), ObjectId('661d2d8573e95939959a6e9b'), ObjectId('661d2d8573e95939959a6e9c'), ObjectId('661d2d8573e95939959a6e9d'), ObjectId('661d2d8573e95939959a6e9e'), ObjectId('661d2d8573e95939959a6e9f'), ObjectId('661d2d8573e95939959a6ea0'), ObjectId('661d2d8573e95939959a6ea1'), ObjectId('661d2d8573e95939959a6ea2'), ObjectId('661d2d8573e95939959a6ea3'), ObjectId('661d2d8573e95939959a6ea4'), ObjectId('661d2d8573e95939959a6ea5'), ObjectId('661d2d8573e95939959a6ea6'), ObjectId('661d2d8573e95939959a6ea7'), ObjectId('661d2d8573e95939959a6ea8'), ObjectId('661d2d8573e95939959a6ea9'), ObjectId('661d2d8573e95939959a6eaa'), ObjectId('661d2d8573e95939959a6eab'), ObjectId('661d2d8573e95939959a6eac'), ObjectId('661d2d8573e95939959a6ead'), ObjectId('661d2d8573e95939959a6eae'), ObjectId('661d2d8573e95939959a6eaf'), ObjectId('661d2d8573e95939959a6eb0'), ObjectId('661d2d8573e95939959a6eb1'), ObjectId('661d2d8573e95939959a6eb2'), ObjectId('661d2d8573e95939959a6eb3'), ObjectId('661d2d8573e95939959a6eb4'), ObjectId('661d2d8573e95939959a6eb5'), ObjectId('661d2d8573e95939959a6eb6'), ObjectId('661d2d8573e95939959a6eb7'), ObjectId('661d2d8573e95939959a6eb8'), ObjectId('661d2d8573e95939959a6eb9'), ObjectId('661d2d8573e95939959a6eba'), ObjectId('661d2d8573e95939959a6ebb'), ObjectId('661d2d8573e95939959a6ebc'), ObjectId('661d2d8573e95939959a6ebd'), ObjectId('661d2d8573e95939959a6ebe'), ObjectId('661d2d8573e95939959a6ebf'), ObjectId('661d2d8573e95939959a6ec0'), ObjectId('661d2d8573e95939959a6ec1'), ObjectId('661d2d8573e95939959a6ec2'), ObjectId('661d2d8573e95939959a6ec3'), ObjectId('661d2d8573e95939959a6ec4'), ObjectId('661d2d8573e95939959a6ec5'), ObjectId('661d2d8573e95939959a6ec6'), ObjectId('661d2d8573e95939959a6ec7'), ObjectId('661d2d8573e95939959a6ec8'), ObjectId('661d2d8573e95939959a6ec9'), ObjectId('661d2d8573e95939959a6eca'), ObjectId('661d2d8573e95939959a6ecb'), ObjectId('661d2d8573e95939959a6ecc'), ObjectId('661d2d8573e95939959a6ecd'), ObjectId('661d2d8573e95939959a6ece'), ObjectId('661d2d8573e95939959a6ecf'), ObjectId('661d2d8573e95939959a6ed0'), ObjectId('661d2d8573e95939959a6ed1'), ObjectId('661d2d8573e95939959a6ed2'), ObjectId('661d2d8573e95939959a6ed3'), ObjectId('661d2d8573e95939959a6ed4'), ObjectId('661d2d8573e95939959a6ed5'), ObjectId('661d2d8573e95939959a6ed6'), ObjectId('661d2d8573e95939959a6ed7'), ObjectId('661d2d8573e95939959a6ed8'), ObjectId('661d2d8573e95939959a6ed9'), ObjectId('661d2d8573e95939959a6eda'), ObjectId('661d2d8573e95939959a6edb'), ObjectId('661d2d8573e95939959a6edc'), ObjectId('661d2d8573e95939959a6edd'), ObjectId('661d2d8573e95939959a6ede'), ObjectId('661d2d8573e95939959a6edf'), ObjectId('661d2d8573e95939959a6ee0'), ObjectId('661d2d8573e95939959a6ee1'), ObjectId('661d2d8573e95939959a6ee2'), ObjectId('661d2d8573e95939959a6ee3'), ObjectId('661d2d8573e95939959a6ee4'), ObjectId('661d2d8573e95939959a6ee5'), ObjectId('661d2d8573e95939959a6ee6'), ObjectId('661d2d8573e95939959a6ee7'), ObjectId('661d2d8573e95939959a6ee8'), ObjectId('661d2d8573e95939959a6ee9'), ObjectId('661d2d8573e95939959a6eea'), ObjectId('661d2d8573e95939959a6eeb'), ObjectId('661d2d8573e95939959a6eec'), ObjectId('661d2d8573e95939959a6eed'), ObjectId('661d2d8573e95939959a6eee'), ObjectId('661d2d8573e95939959a6eef'), ObjectId('661d2d8573e95939959a6ef0'), ObjectId('661d2d8573e95939959a6ef1'), ObjectId('661d2d8573e95939959a6ef2'), ObjectId('661d2d8573e95939959a6ef3'), ObjectId('661d2d8573e95939959a6ef4'), ObjectId('661d2d8573e95939959a6ef5'), ObjectId('661d2d8573e95939959a6ef6'), ObjectId('661d2d8573e95939959a6ef7'), ObjectId('661d2d8573e95939959a6ef8'), ObjectId('661d2d8573e95939959a6ef9'), ObjectId('661d2d8573e95939959a6efa'), ObjectId('661d2d8573e95939959a6efb'), ObjectId('661d2d8573e95939959a6efc'), ObjectId('661d2d8573e95939959a6efd'), ObjectId('661d2d8573e95939959a6efe'), ObjectId('661d2d8573e95939959a6eff'), ObjectId('661d2d8573e95939959a6f00'), ObjectId('661d2d8573e95939959a6f01'), ObjectId('661d2d8573e95939959a6f02'), ObjectId('661d2d8573e95939959a6f03'), ObjectId('661d2d8573e95939959a6f04'), ObjectId('661d2d8573e95939959a6f05'), ObjectId('661d2d8573e95939959a6f06'), ObjectId('661d2d8573e95939959a6f07'), ObjectId('661d2d8573e95939959a6f08'), ObjectId('661d2d8573e95939959a6f09'), ObjectId('661d2d8573e95939959a6f0a'), ObjectId('661d2d8573e95939959a6f0b'), ObjectId('661d2d8573e95939959a6f0c'), ObjectId('661d2d8573e95939959a6f0d'), ObjectId('661d2d8573e95939959a6f0e'), ObjectId('661d2d8573e95939959a6f0f'), ObjectId('661d2d8573e95939959a6f10'), ObjectId('661d2d8573e95939959a6f11'), ObjectId('661d2d8573e95939959a6f12'), ObjectId('661d2d8573e95939959a6f13'), ObjectId('661d2d8573e95939959a6f14'), ObjectId('661d2d8573e95939959a6f15'), ObjectId('661d2d8573e95939959a6f16'), ObjectId('661d2d8573e95939959a6f17'), ObjectId('661d2d8573e95939959a6f18'), ObjectId('661d2d8573e95939959a6f19'), ObjectId('661d2d8573e95939959a6f1a'), ObjectId('661d2d8573e95939959a6f1b'), ObjectId('661d2d8573e95939959a6f1c'), ObjectId('661d2d8573e95939959a6f1d'), ObjectId('661d2d8573e95939959a6f1e'), ObjectId('661d2d8573e95939959a6f1f'), ObjectId('661d2d8573e95939959a6f20'), ObjectId('661d2d8573e95939959a6f21'), ObjectId('661d2d8573e95939959a6f22'), ObjectId('661d2d8573e95939959a6f23'), ObjectId('661d2d8573e95939959a6f24'), ObjectId('661d2d8573e95939959a6f25'), ObjectId('661d2d8573e95939959a6f26'), ObjectId('661d2d8573e95939959a6f27'), ObjectId('661d2d8573e95939959a6f28'), ObjectId('661d2d8573e95939959a6f29'), ObjectId('661d2d8573e95939959a6f2a'), ObjectId('661d2d8573e95939959a6f2b'), ObjectId('661d2d8573e95939959a6f2c'), ObjectId('661d2d8573e95939959a6f2d'), ObjectId('661d2d8573e95939959a6f2e'), ObjectId('661d2d8573e95939959a6f2f'), ObjectId('661d2d8573e95939959a6f30'), ObjectId('661d2d8573e95939959a6f31'), ObjectId('661d2d8573e95939959a6f32'), ObjectId('661d2d8573e95939959a6f33'), ObjectId('661d2d8573e95939959a6f34'), ObjectId('661d2d8573e95939959a6f35')], acknowledged=True)"
      ]
     },
     "execution_count": 359,
     "metadata": {},
     "output_type": "execute_result"
    }
   ],
   "source": [
    "dbname = get_database()\n",
    "\n",
    "collection_name = dbname[\"detailed_work_activities\"]\n",
    "\n",
    "# Insert the dictionaries into the MongoDB collection\n",
    "collection_name.insert_many(detailed_work_activities_df.to_dict(\"records\"))"
   ]
  },
  {
   "cell_type": "code",
   "execution_count": 360,
   "metadata": {},
   "outputs": [
    {
     "data": {
      "text/html": [
       "<div>\n",
       "<style scoped>\n",
       "    .dataframe tbody tr th:only-of-type {\n",
       "        vertical-align: middle;\n",
       "    }\n",
       "\n",
       "    .dataframe tbody tr th {\n",
       "        vertical-align: top;\n",
       "    }\n",
       "\n",
       "    .dataframe thead th {\n",
       "        text-align: right;\n",
       "    }\n",
       "</style>\n",
       "<table border=\"1\" class=\"dataframe\">\n",
       "  <thead>\n",
       "    <tr style=\"text-align: right;\">\n",
       "      <th></th>\n",
       "      <th>id</th>\n",
       "      <th>name</th>\n",
       "      <th>description</th>\n",
       "      <th>work_context_id</th>\n",
       "    </tr>\n",
       "  </thead>\n",
       "  <tbody>\n",
       "    <tr>\n",
       "      <th>0</th>\n",
       "      <td>4.C.1.b.1.e</td>\n",
       "      <td>Work With Work Group or Team</td>\n",
       "      <td>How important is it to work with others in a g...</td>\n",
       "      <td>1</td>\n",
       "    </tr>\n",
       "    <tr>\n",
       "      <th>1</th>\n",
       "      <td>4.C.2.a.3</td>\n",
       "      <td>Physical Proximity</td>\n",
       "      <td>To what extent does this job require the worke...</td>\n",
       "      <td>2</td>\n",
       "    </tr>\n",
       "    <tr>\n",
       "      <th>2</th>\n",
       "      <td>4.C.1.a.4</td>\n",
       "      <td>Contact With Others</td>\n",
       "      <td>How much does this job require the worker to b...</td>\n",
       "      <td>3</td>\n",
       "    </tr>\n",
       "  </tbody>\n",
       "</table>\n",
       "</div>"
      ],
      "text/plain": [
       "            id                          name  \\\n",
       "0  4.C.1.b.1.e  Work With Work Group or Team   \n",
       "1    4.C.2.a.3            Physical Proximity   \n",
       "2    4.C.1.a.4           Contact With Others   \n",
       "\n",
       "                                         description  work_context_id  \n",
       "0  How important is it to work with others in a g...                1  \n",
       "1  To what extent does this job require the worke...                2  \n",
       "2  How much does this job require the worker to b...                3  "
      ]
     },
     "execution_count": 360,
     "metadata": {},
     "output_type": "execute_result"
    }
   ],
   "source": [
    "# Assuming df[\"work_context\"] is a column of lists of dictionaries\n",
    "work_context = df['work_context'].apply(lambda x: x['element']).explode().reset_index(drop=True)\n",
    "\n",
    "# Convert the list of dictionaries into a DataFrame\n",
    "work_context_df = pd.json_normalize(work_context)\n",
    "\n",
    "# Drop duplicates based on 'id'\n",
    "work_context_df = work_context_df.drop_duplicates(subset='id')\n",
    "\n",
    "# Reset the index\n",
    "work_context_df = work_context_df.reset_index(drop=True)\n",
    "\n",
    "work_context_df = work_context_df.dropna()\n",
    "work_context_df = work_context_df.drop(columns=[\"related\", \"response\"])\n",
    "\n",
    "work_context_df['work_context_id'] = range(1, len(work_context_df) + 1)\n",
    "\n",
    "work_context_df.head(3)"
   ]
  },
  {
   "cell_type": "code",
   "execution_count": 361,
   "metadata": {},
   "outputs": [
    {
     "data": {
      "text/plain": [
       "InsertManyResult([ObjectId('661d2d8873e95939959a6f37'), ObjectId('661d2d8873e95939959a6f38'), ObjectId('661d2d8873e95939959a6f39'), ObjectId('661d2d8873e95939959a6f3a'), ObjectId('661d2d8873e95939959a6f3b'), ObjectId('661d2d8873e95939959a6f3c'), ObjectId('661d2d8873e95939959a6f3d'), ObjectId('661d2d8873e95939959a6f3e'), ObjectId('661d2d8873e95939959a6f3f'), ObjectId('661d2d8873e95939959a6f40'), ObjectId('661d2d8873e95939959a6f41'), ObjectId('661d2d8873e95939959a6f42'), ObjectId('661d2d8873e95939959a6f43'), ObjectId('661d2d8873e95939959a6f44'), ObjectId('661d2d8873e95939959a6f45'), ObjectId('661d2d8873e95939959a6f46'), ObjectId('661d2d8873e95939959a6f47'), ObjectId('661d2d8873e95939959a6f48'), ObjectId('661d2d8873e95939959a6f49'), ObjectId('661d2d8873e95939959a6f4a'), ObjectId('661d2d8873e95939959a6f4b'), ObjectId('661d2d8873e95939959a6f4c'), ObjectId('661d2d8873e95939959a6f4d'), ObjectId('661d2d8873e95939959a6f4e'), ObjectId('661d2d8873e95939959a6f4f'), ObjectId('661d2d8873e95939959a6f50'), ObjectId('661d2d8873e95939959a6f51'), ObjectId('661d2d8873e95939959a6f52'), ObjectId('661d2d8873e95939959a6f53'), ObjectId('661d2d8873e95939959a6f54'), ObjectId('661d2d8873e95939959a6f55'), ObjectId('661d2d8873e95939959a6f56'), ObjectId('661d2d8873e95939959a6f57'), ObjectId('661d2d8873e95939959a6f58'), ObjectId('661d2d8873e95939959a6f59'), ObjectId('661d2d8873e95939959a6f5a'), ObjectId('661d2d8873e95939959a6f5b'), ObjectId('661d2d8873e95939959a6f5c'), ObjectId('661d2d8873e95939959a6f5d'), ObjectId('661d2d8873e95939959a6f5e'), ObjectId('661d2d8873e95939959a6f5f'), ObjectId('661d2d8873e95939959a6f60'), ObjectId('661d2d8873e95939959a6f61'), ObjectId('661d2d8873e95939959a6f62'), ObjectId('661d2d8873e95939959a6f63'), ObjectId('661d2d8873e95939959a6f64'), ObjectId('661d2d8873e95939959a6f65'), ObjectId('661d2d8873e95939959a6f66'), ObjectId('661d2d8873e95939959a6f67'), ObjectId('661d2d8873e95939959a6f68')], acknowledged=True)"
      ]
     },
     "execution_count": 361,
     "metadata": {},
     "output_type": "execute_result"
    }
   ],
   "source": [
    "dbname = get_database()\n",
    "\n",
    "collection_name = dbname[\"work_context\"]\n",
    "\n",
    "# Insert the dictionaries into the MongoDB collection\n",
    "collection_name.insert_many(work_context_df.to_dict(\"records\"))"
   ]
  },
  {
   "cell_type": "code",
   "execution_count": 362,
   "metadata": {},
   "outputs": [
    {
     "data": {
      "text/html": [
       "<div>\n",
       "<style scoped>\n",
       "    .dataframe tbody tr th:only-of-type {\n",
       "        vertical-align: middle;\n",
       "    }\n",
       "\n",
       "    .dataframe tbody tr th {\n",
       "        vertical-align: top;\n",
       "    }\n",
       "\n",
       "    .dataframe thead th {\n",
       "        text-align: right;\n",
       "    }\n",
       "</style>\n",
       "<table border=\"1\" class=\"dataframe\">\n",
       "  <thead>\n",
       "    <tr style=\"text-align: right;\">\n",
       "      <th></th>\n",
       "      <th>id</th>\n",
       "      <th>name</th>\n",
       "      <th>description</th>\n",
       "      <th>work_style_id</th>\n",
       "    </tr>\n",
       "  </thead>\n",
       "  <tbody>\n",
       "    <tr>\n",
       "      <th>0</th>\n",
       "      <td>1.C.3.a</td>\n",
       "      <td>Cooperation</td>\n",
       "      <td>Job requires being pleasant with others on the...</td>\n",
       "      <td>1</td>\n",
       "    </tr>\n",
       "    <tr>\n",
       "      <th>1</th>\n",
       "      <td>1.C.1.b</td>\n",
       "      <td>Persistence</td>\n",
       "      <td>Job requires persistence in the face of obstac...</td>\n",
       "      <td>2</td>\n",
       "    </tr>\n",
       "    <tr>\n",
       "      <th>2</th>\n",
       "      <td>1.C.4.c</td>\n",
       "      <td>Adaptability/Flexibility</td>\n",
       "      <td>Job requires being open to change (positive or...</td>\n",
       "      <td>3</td>\n",
       "    </tr>\n",
       "  </tbody>\n",
       "</table>\n",
       "</div>"
      ],
      "text/plain": [
       "        id                      name  \\\n",
       "0  1.C.3.a               Cooperation   \n",
       "1  1.C.1.b               Persistence   \n",
       "2  1.C.4.c  Adaptability/Flexibility   \n",
       "\n",
       "                                         description  work_style_id  \n",
       "0  Job requires being pleasant with others on the...              1  \n",
       "1  Job requires persistence in the face of obstac...              2  \n",
       "2  Job requires being open to change (positive or...              3  "
      ]
     },
     "execution_count": 362,
     "metadata": {},
     "output_type": "execute_result"
    }
   ],
   "source": [
    "# Assuming df[\"work_styles\"] is a column of lists of dictionaries\n",
    "work_styles = df['work_styles'].apply(lambda x: x['element']).explode().reset_index(drop=True)\n",
    "\n",
    "# Convert the list of dictionaries into a DataFrame\n",
    "work_styles_df = pd.json_normalize(work_styles)\n",
    "\n",
    "# Drop duplicates based on 'id'\n",
    "work_styles_df = work_styles_df.drop_duplicates(subset='id')\n",
    "\n",
    "# Reset the index\n",
    "work_styles_df = work_styles_df.reset_index(drop=True)\n",
    "\n",
    "work_styles_df = work_styles_df.dropna()\n",
    "work_styles_df = work_styles_df.drop(columns=[\"related\"])\n",
    "\n",
    "work_styles_df['work_style_id'] = range(1, len(work_styles_df) + 1)\n",
    "\n",
    "work_styles_df.head(3)"
   ]
  },
  {
   "cell_type": "code",
   "execution_count": 363,
   "metadata": {},
   "outputs": [
    {
     "data": {
      "text/plain": [
       "InsertManyResult([ObjectId('661d2d8a73e95939959a6f6a'), ObjectId('661d2d8a73e95939959a6f6b'), ObjectId('661d2d8a73e95939959a6f6c'), ObjectId('661d2d8a73e95939959a6f6d'), ObjectId('661d2d8a73e95939959a6f6e'), ObjectId('661d2d8a73e95939959a6f6f'), ObjectId('661d2d8a73e95939959a6f70'), ObjectId('661d2d8a73e95939959a6f71'), ObjectId('661d2d8a73e95939959a6f72'), ObjectId('661d2d8a73e95939959a6f73'), ObjectId('661d2d8a73e95939959a6f74'), ObjectId('661d2d8a73e95939959a6f75'), ObjectId('661d2d8a73e95939959a6f76'), ObjectId('661d2d8a73e95939959a6f77'), ObjectId('661d2d8a73e95939959a6f78'), ObjectId('661d2d8a73e95939959a6f79')], acknowledged=True)"
      ]
     },
     "execution_count": 363,
     "metadata": {},
     "output_type": "execute_result"
    }
   ],
   "source": [
    "dbname = get_database()\n",
    "\n",
    "collection_name = dbname[\"work_styles\"]\n",
    "\n",
    "# Insert the dictionaries into the MongoDB collection\n",
    "collection_name.insert_many(work_styles_df.to_dict(\"records\"))"
   ]
  },
  {
   "cell_type": "code",
   "execution_count": 364,
   "metadata": {},
   "outputs": [
    {
     "data": {
      "text/html": [
       "<div>\n",
       "<style scoped>\n",
       "    .dataframe tbody tr th:only-of-type {\n",
       "        vertical-align: middle;\n",
       "    }\n",
       "\n",
       "    .dataframe tbody tr th {\n",
       "        vertical-align: top;\n",
       "    }\n",
       "\n",
       "    .dataframe thead th {\n",
       "        text-align: right;\n",
       "    }\n",
       "</style>\n",
       "<table border=\"1\" class=\"dataframe\">\n",
       "  <thead>\n",
       "    <tr style=\"text-align: right;\">\n",
       "      <th></th>\n",
       "      <th>id</th>\n",
       "      <th>name</th>\n",
       "      <th>description</th>\n",
       "      <th>work_value_id</th>\n",
       "    </tr>\n",
       "  </thead>\n",
       "  <tbody>\n",
       "    <tr>\n",
       "      <th>0</th>\n",
       "      <td>1.B.2.d</td>\n",
       "      <td>Relationships</td>\n",
       "      <td>Occupations that satisfy this work value allow...</td>\n",
       "      <td>1</td>\n",
       "    </tr>\n",
       "    <tr>\n",
       "      <th>1</th>\n",
       "      <td>1.B.2.a</td>\n",
       "      <td>Achievement</td>\n",
       "      <td>Occupations that satisfy this work value are r...</td>\n",
       "      <td>2</td>\n",
       "    </tr>\n",
       "    <tr>\n",
       "      <th>2</th>\n",
       "      <td>1.B.2.f</td>\n",
       "      <td>Independence</td>\n",
       "      <td>Occupations that satisfy this work value allow...</td>\n",
       "      <td>3</td>\n",
       "    </tr>\n",
       "  </tbody>\n",
       "</table>\n",
       "</div>"
      ],
      "text/plain": [
       "        id           name                                        description  \\\n",
       "0  1.B.2.d  Relationships  Occupations that satisfy this work value allow...   \n",
       "1  1.B.2.a    Achievement  Occupations that satisfy this work value are r...   \n",
       "2  1.B.2.f   Independence  Occupations that satisfy this work value allow...   \n",
       "\n",
       "   work_value_id  \n",
       "0              1  \n",
       "1              2  \n",
       "2              3  "
      ]
     },
     "execution_count": 364,
     "metadata": {},
     "output_type": "execute_result"
    }
   ],
   "source": [
    "# Assuming df[\"work_values\"] is a column of lists of dictionaries\n",
    "work_values = df['work_values'].apply(lambda x: x['element']).explode().reset_index(drop=True)\n",
    "\n",
    "# Convert the list of dictionaries into a DataFrame\n",
    "work_values_df = pd.json_normalize(work_values)\n",
    "\n",
    "# Drop duplicates based on 'id'\n",
    "work_values_df = work_values_df.drop_duplicates(subset='id')\n",
    "\n",
    "# Reset the index\n",
    "work_values_df = work_values_df.reset_index(drop=True)\n",
    "\n",
    "work_values_df = work_values_df.dropna()\n",
    "work_values_df = work_values_df.drop(columns=[\"related\"])\n",
    "\n",
    "work_values_df['work_value_id'] = range(1, len(work_values_df) + 1)\n",
    "\n",
    "work_values_df.head(3)"
   ]
  },
  {
   "cell_type": "code",
   "execution_count": 365,
   "metadata": {},
   "outputs": [
    {
     "data": {
      "text/plain": [
       "InsertManyResult([ObjectId('661d2d8a73e95939959a6f7b'), ObjectId('661d2d8a73e95939959a6f7c'), ObjectId('661d2d8a73e95939959a6f7d'), ObjectId('661d2d8a73e95939959a6f7e'), ObjectId('661d2d8a73e95939959a6f7f'), ObjectId('661d2d8a73e95939959a6f80')], acknowledged=True)"
      ]
     },
     "execution_count": 365,
     "metadata": {},
     "output_type": "execute_result"
    }
   ],
   "source": [
    "dbname = get_database()\n",
    "\n",
    "collection_name = dbname[\"work_values\"]\n",
    "\n",
    "# Insert the dictionaries into the MongoDB collection\n",
    "collection_name.insert_many(work_values_df.to_dict(\"records\"))"
   ]
  },
  {
   "cell_type": "code",
   "execution_count": 366,
   "metadata": {},
   "outputs": [
    {
     "data": {
      "text/html": [
       "<div>\n",
       "<style scoped>\n",
       "    .dataframe tbody tr th:only-of-type {\n",
       "        vertical-align: middle;\n",
       "    }\n",
       "\n",
       "    .dataframe tbody tr th {\n",
       "        vertical-align: top;\n",
       "    }\n",
       "\n",
       "    .dataframe thead th {\n",
       "        text-align: right;\n",
       "    }\n",
       "</style>\n",
       "<table border=\"1\" class=\"dataframe\">\n",
       "  <thead>\n",
       "    <tr style=\"text-align: right;\">\n",
       "      <th></th>\n",
       "      <th>value</th>\n",
       "      <th>title</th>\n",
       "      <th>education</th>\n",
       "      <th>related_experience</th>\n",
       "      <th>job_training</th>\n",
       "      <th>job_zone_examples</th>\n",
       "      <th>job_zone_id</th>\n",
       "    </tr>\n",
       "  </thead>\n",
       "  <tbody>\n",
       "    <tr>\n",
       "      <th>0</th>\n",
       "      <td>2</td>\n",
       "      <td>Job Zone Two: Some Preparation Needed</td>\n",
       "      <td>These occupations usually require a high schoo...</td>\n",
       "      <td>Some previous work-related skill, knowledge, o...</td>\n",
       "      <td>Employees in these occupations need anywhere f...</td>\n",
       "      <td>These occupations often involve using your kno...</td>\n",
       "      <td>1</td>\n",
       "    </tr>\n",
       "    <tr>\n",
       "      <th>1</th>\n",
       "      <td>4</td>\n",
       "      <td>Job Zone Four: Considerable Preparation Needed</td>\n",
       "      <td>Most of these occupations require a four-year ...</td>\n",
       "      <td>A considerable amount of work-related skill, k...</td>\n",
       "      <td>Employees in these occupations usually need se...</td>\n",
       "      <td>Many of these occupations involve coordinating...</td>\n",
       "      <td>2</td>\n",
       "    </tr>\n",
       "  </tbody>\n",
       "</table>\n",
       "</div>"
      ],
      "text/plain": [
       "   value                                           title  \\\n",
       "0      2           Job Zone Two: Some Preparation Needed   \n",
       "1      4  Job Zone Four: Considerable Preparation Needed   \n",
       "\n",
       "                                           education  \\\n",
       "0  These occupations usually require a high schoo...   \n",
       "1  Most of these occupations require a four-year ...   \n",
       "\n",
       "                                  related_experience  \\\n",
       "0  Some previous work-related skill, knowledge, o...   \n",
       "1  A considerable amount of work-related skill, k...   \n",
       "\n",
       "                                        job_training  \\\n",
       "0  Employees in these occupations need anywhere f...   \n",
       "1  Employees in these occupations usually need se...   \n",
       "\n",
       "                                   job_zone_examples  job_zone_id  \n",
       "0  These occupations often involve using your kno...            1  \n",
       "1  Many of these occupations involve coordinating...            2  "
      ]
     },
     "execution_count": 366,
     "metadata": {},
     "output_type": "execute_result"
    }
   ],
   "source": [
    "job_zone = pd.DataFrame(list(df[\"job_zone\"]))\n",
    "\n",
    "# Drop duplicates based on 'value'\n",
    "job_zone = job_zone.drop_duplicates(subset='value')\n",
    "job_zone = job_zone.dropna()\n",
    "job_zone = job_zone.drop(columns=[\"svp_range\"])\n",
    "\n",
    "job_zone['job_zone_id'] = range(1, len(job_zone) + 1)\n",
    "\n",
    "job_zone.head(2)"
   ]
  },
  {
   "cell_type": "code",
   "execution_count": 367,
   "metadata": {},
   "outputs": [
    {
     "data": {
      "text/plain": [
       "InsertManyResult([ObjectId('661d2d8a73e95939959a6f82'), ObjectId('661d2d8a73e95939959a6f83'), ObjectId('661d2d8a73e95939959a6f84'), ObjectId('661d2d8a73e95939959a6f85'), ObjectId('661d2d8a73e95939959a6f86')], acknowledged=True)"
      ]
     },
     "execution_count": 367,
     "metadata": {},
     "output_type": "execute_result"
    }
   ],
   "source": [
    "dbname = get_database()\n",
    "\n",
    "collection_name = dbname[\"job_zone\"]\n",
    "\n",
    "# Insert the dictionaries into the MongoDB collection\n",
    "collection_name.insert_many(job_zone.to_dict(\"records\"))"
   ]
  },
  {
   "cell_type": "code",
   "execution_count": 368,
   "metadata": {},
   "outputs": [
    {
     "data": {
      "text/html": [
       "<div>\n",
       "<style scoped>\n",
       "    .dataframe tbody tr th:only-of-type {\n",
       "        vertical-align: middle;\n",
       "    }\n",
       "\n",
       "    .dataframe tbody tr th {\n",
       "        vertical-align: top;\n",
       "    }\n",
       "\n",
       "    .dataframe thead th {\n",
       "        text-align: right;\n",
       "    }\n",
       "</style>\n",
       "<table border=\"1\" class=\"dataframe\">\n",
       "  <thead>\n",
       "    <tr style=\"text-align: right;\">\n",
       "      <th></th>\n",
       "      <th>name</th>\n",
       "      <th>education_id</th>\n",
       "    </tr>\n",
       "  </thead>\n",
       "  <tbody>\n",
       "    <tr>\n",
       "      <th>2</th>\n",
       "      <td>High school diploma or equivalent</td>\n",
       "      <td>1</td>\n",
       "    </tr>\n",
       "    <tr>\n",
       "      <th>4</th>\n",
       "      <td>Post-baccalaureate certificate</td>\n",
       "      <td>2</td>\n",
       "    </tr>\n",
       "    <tr>\n",
       "      <th>5</th>\n",
       "      <td>Professional degree</td>\n",
       "      <td>3</td>\n",
       "    </tr>\n",
       "    <tr>\n",
       "      <th>10</th>\n",
       "      <td>Post-secondary certificate</td>\n",
       "      <td>4</td>\n",
       "    </tr>\n",
       "    <tr>\n",
       "      <th>113</th>\n",
       "      <td>Post-master's certificate</td>\n",
       "      <td>5</td>\n",
       "    </tr>\n",
       "  </tbody>\n",
       "</table>\n",
       "</div>"
      ],
      "text/plain": [
       "                                  name  education_id\n",
       "2    High school diploma or equivalent             1\n",
       "4       Post-baccalaureate certificate             2\n",
       "5                  Professional degree             3\n",
       "10          Post-secondary certificate             4\n",
       "113          Post-master's certificate             5"
      ]
     },
     "execution_count": 368,
     "metadata": {},
     "output_type": "execute_result"
    }
   ],
   "source": [
    "# Assuming df[\"work_values\"] is a column of lists of dictionaries\n",
    "education = df['education'].apply(lambda x: x['level_required']).apply(lambda x : x[\"category\"]).explode().reset_index(drop=True)\n",
    "\n",
    "# Convert the list of dictionaries into a DataFrame\n",
    "education_df = pd.json_normalize(education)\n",
    "\n",
    "# Drop duplicates based on 'name'\n",
    "education_df = education_df.drop_duplicates(subset='name')\n",
    "education_df = education_df.dropna()\n",
    "education_df = education_df.drop(columns=[\"score.scale\", \"score.value\", \"description\"])\n",
    "\n",
    "education_df['education_id'] = range(1, len(education_df) + 1)\n",
    "\n",
    "education_df.head(5)"
   ]
  },
  {
   "cell_type": "code",
   "execution_count": 369,
   "metadata": {},
   "outputs": [
    {
     "data": {
      "text/plain": [
       "InsertManyResult([ObjectId('661d2d8a73e95939959a6f88'), ObjectId('661d2d8a73e95939959a6f89'), ObjectId('661d2d8a73e95939959a6f8a'), ObjectId('661d2d8a73e95939959a6f8b'), ObjectId('661d2d8a73e95939959a6f8c')], acknowledged=True)"
      ]
     },
     "execution_count": 369,
     "metadata": {},
     "output_type": "execute_result"
    }
   ],
   "source": [
    "dbname = get_database()\n",
    "\n",
    "collection_name = dbname[\"education\"]\n",
    "\n",
    "# Insert the dictionaries into the MongoDB collection\n",
    "collection_name.insert_many(education_df.to_dict(\"records\"))"
   ]
  }
 ],
 "metadata": {
  "kernelspec": {
   "display_name": "bachelorarbeit",
   "language": "python",
   "name": "python3"
  },
  "language_info": {
   "codemirror_mode": {
    "name": "ipython",
    "version": 3
   },
   "file_extension": ".py",
   "mimetype": "text/x-python",
   "name": "python",
   "nbconvert_exporter": "python",
   "pygments_lexer": "ipython3",
   "version": "3.11.8"
  }
 },
 "nbformat": 4,
 "nbformat_minor": 2
}
