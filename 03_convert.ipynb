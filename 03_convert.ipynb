{
 "cells": [
  {
   "cell_type": "markdown",
   "metadata": {},
   "source": [
    "### jupyter notebook to convert text to ids\n",
    "\n",
    "author: Jan Jörg\n",
    "date: 14.03.2024"
   ]
  },
  {
   "cell_type": "code",
   "execution_count": 1,
   "metadata": {},
   "outputs": [],
   "source": [
    "# imports\n",
    "import pandas as pd\n",
    "from db import get_database"
   ]
  },
  {
   "cell_type": "code",
   "execution_count": 2,
   "metadata": {},
   "outputs": [
    {
     "data": {
      "text/html": [
       "<div>\n",
       "<style scoped>\n",
       "    .dataframe tbody tr th:only-of-type {\n",
       "        vertical-align: middle;\n",
       "    }\n",
       "\n",
       "    .dataframe tbody tr th {\n",
       "        vertical-align: top;\n",
       "    }\n",
       "\n",
       "    .dataframe thead th {\n",
       "        text-align: right;\n",
       "    }\n",
       "</style>\n",
       "<table border=\"1\" class=\"dataframe\">\n",
       "  <thead>\n",
       "    <tr style=\"text-align: right;\">\n",
       "      <th></th>\n",
       "      <th>_id</th>\n",
       "      <th>onetsoc19</th>\n",
       "      <th>display</th>\n",
       "      <th>occupation</th>\n",
       "      <th>tasks</th>\n",
       "      <th>technology_skills</th>\n",
       "      <th>tools_used</th>\n",
       "      <th>tools_technology</th>\n",
       "      <th>knowledge</th>\n",
       "      <th>skills</th>\n",
       "      <th>...</th>\n",
       "      <th>job_zone</th>\n",
       "      <th>interests</th>\n",
       "      <th>work_styles</th>\n",
       "      <th>work_values</th>\n",
       "      <th>related_occupations</th>\n",
       "      <th>additional_information</th>\n",
       "      <th>education</th>\n",
       "      <th>2010soc</th>\n",
       "      <th>isco08</th>\n",
       "      <th>Name_de</th>\n",
       "    </tr>\n",
       "  </thead>\n",
       "  <tbody>\n",
       "    <tr>\n",
       "      <th>0</th>\n",
       "      <td>661d1a30d05f1cef398e0e97</td>\n",
       "      <td>27-2011.00</td>\n",
       "      <td>short</td>\n",
       "      <td>{'code': '27-2011.00', 'title': 'Actors', 'tag...</td>\n",
       "      <td>{'task': [{'id': 7646, 'green': False, 'relate...</td>\n",
       "      <td>{'category': [{'related': 'https://services.on...</td>\n",
       "      <td>{'category': [{'related': 'https://services.on...</td>\n",
       "      <td>{'tools': {'category': [{'related': 'https://s...</td>\n",
       "      <td>{'element': [{'id': '2.C.7.c', 'related': 'htt...</td>\n",
       "      <td>{'element': [{'id': '2.A.1.a', 'related': 'htt...</td>\n",
       "      <td>...</td>\n",
       "      <td>{'value': 2, 'title': 'Job Zone Two: Some Prep...</td>\n",
       "      <td>{'high_point_code': 'ASE', 'element': [{'id': ...</td>\n",
       "      <td>{'element': [{'id': '1.C.3.a', 'related': 'htt...</td>\n",
       "      <td>{'element': [{'id': '1.B.2.d', 'related': 'htt...</td>\n",
       "      <td>{'occupation': [{'href': 'https://services.one...</td>\n",
       "      <td>{'source': [{'url': 'http://www.actorsequity.o...</td>\n",
       "      <td>{'level_required': {'category': [{'name': 'Les...</td>\n",
       "      <td>27-2011</td>\n",
       "      <td>2655</td>\n",
       "      <td>Schauspieler</td>\n",
       "    </tr>\n",
       "    <tr>\n",
       "      <th>1</th>\n",
       "      <td>661d1a30d05f1cef398e0e98</td>\n",
       "      <td>15-2011.00</td>\n",
       "      <td>short</td>\n",
       "      <td>{'code': '15-2011.00', 'title': 'Actuaries', '...</td>\n",
       "      <td>{'task': [{'id': 3500, 'green': False, 'relate...</td>\n",
       "      <td>{'category': [{'related': 'https://services.on...</td>\n",
       "      <td>{'category': [{'related': 'https://services.on...</td>\n",
       "      <td>{'tools': {'category': [{'related': 'https://s...</td>\n",
       "      <td>{'element': [{'id': '2.C.4.a', 'related': 'htt...</td>\n",
       "      <td>{'element': [{'id': '2.A.2.a', 'related': 'htt...</td>\n",
       "      <td>...</td>\n",
       "      <td>{'value': 4, 'title': 'Job Zone Four: Consider...</td>\n",
       "      <td>{'high_point_code': 'CIE', 'element': [{'id': ...</td>\n",
       "      <td>{'element': [{'id': '1.C.7.b', 'related': 'htt...</td>\n",
       "      <td>{'element': [{'id': '1.B.2.b', 'related': 'htt...</td>\n",
       "      <td>{'occupation': [{'href': 'https://services.one...</td>\n",
       "      <td>{'source': [{'url': 'https://www.actuary.org/'...</td>\n",
       "      <td>{'level_required': {'category': [{'name': \"Bac...</td>\n",
       "      <td>15-2011</td>\n",
       "      <td>2120</td>\n",
       "      <td>Mathematiker, Aktuare und Statistiker</td>\n",
       "    </tr>\n",
       "  </tbody>\n",
       "</table>\n",
       "<p>2 rows × 24 columns</p>\n",
       "</div>"
      ],
      "text/plain": [
       "                        _id   onetsoc19 display  \\\n",
       "0  661d1a30d05f1cef398e0e97  27-2011.00   short   \n",
       "1  661d1a30d05f1cef398e0e98  15-2011.00   short   \n",
       "\n",
       "                                          occupation  \\\n",
       "0  {'code': '27-2011.00', 'title': 'Actors', 'tag...   \n",
       "1  {'code': '15-2011.00', 'title': 'Actuaries', '...   \n",
       "\n",
       "                                               tasks  \\\n",
       "0  {'task': [{'id': 7646, 'green': False, 'relate...   \n",
       "1  {'task': [{'id': 3500, 'green': False, 'relate...   \n",
       "\n",
       "                                   technology_skills  \\\n",
       "0  {'category': [{'related': 'https://services.on...   \n",
       "1  {'category': [{'related': 'https://services.on...   \n",
       "\n",
       "                                          tools_used  \\\n",
       "0  {'category': [{'related': 'https://services.on...   \n",
       "1  {'category': [{'related': 'https://services.on...   \n",
       "\n",
       "                                    tools_technology  \\\n",
       "0  {'tools': {'category': [{'related': 'https://s...   \n",
       "1  {'tools': {'category': [{'related': 'https://s...   \n",
       "\n",
       "                                           knowledge  \\\n",
       "0  {'element': [{'id': '2.C.7.c', 'related': 'htt...   \n",
       "1  {'element': [{'id': '2.C.4.a', 'related': 'htt...   \n",
       "\n",
       "                                              skills  ...  \\\n",
       "0  {'element': [{'id': '2.A.1.a', 'related': 'htt...  ...   \n",
       "1  {'element': [{'id': '2.A.2.a', 'related': 'htt...  ...   \n",
       "\n",
       "                                            job_zone  \\\n",
       "0  {'value': 2, 'title': 'Job Zone Two: Some Prep...   \n",
       "1  {'value': 4, 'title': 'Job Zone Four: Consider...   \n",
       "\n",
       "                                           interests  \\\n",
       "0  {'high_point_code': 'ASE', 'element': [{'id': ...   \n",
       "1  {'high_point_code': 'CIE', 'element': [{'id': ...   \n",
       "\n",
       "                                         work_styles  \\\n",
       "0  {'element': [{'id': '1.C.3.a', 'related': 'htt...   \n",
       "1  {'element': [{'id': '1.C.7.b', 'related': 'htt...   \n",
       "\n",
       "                                         work_values  \\\n",
       "0  {'element': [{'id': '1.B.2.d', 'related': 'htt...   \n",
       "1  {'element': [{'id': '1.B.2.b', 'related': 'htt...   \n",
       "\n",
       "                                 related_occupations  \\\n",
       "0  {'occupation': [{'href': 'https://services.one...   \n",
       "1  {'occupation': [{'href': 'https://services.one...   \n",
       "\n",
       "                              additional_information  \\\n",
       "0  {'source': [{'url': 'http://www.actorsequity.o...   \n",
       "1  {'source': [{'url': 'https://www.actuary.org/'...   \n",
       "\n",
       "                                           education  2010soc isco08  \\\n",
       "0  {'level_required': {'category': [{'name': 'Les...  27-2011   2655   \n",
       "1  {'level_required': {'category': [{'name': \"Bac...  15-2011   2120   \n",
       "\n",
       "                                 Name_de  \n",
       "0                           Schauspieler  \n",
       "1  Mathematiker, Aktuare und Statistiker  \n",
       "\n",
       "[2 rows x 24 columns]"
      ]
     },
     "execution_count": 2,
     "metadata": {},
     "output_type": "execute_result"
    }
   ],
   "source": [
    "dbname = get_database()\n",
    "collection = dbname[\"joined\"]\n",
    "\n",
    "documents = collection.find()\n",
    "df = pd.DataFrame(list(documents))\n",
    "\n",
    "df.head(2)"
   ]
  },
  {
   "cell_type": "code",
   "execution_count": 3,
   "metadata": {},
   "outputs": [],
   "source": [
    "skills = pd.DataFrame()\n",
    "abilities = pd.DataFrame()\n",
    "tasks = pd.DataFrame()\n",
    "knowledge = pd.DataFrame()\n",
    "work_activities = pd.DataFrame()\n",
    "detailed_work_activities = pd.DataFrame()\n",
    "work_context = pd.DataFrame()\n",
    "job_zone = pd.DataFrame()\n",
    "work_styles = pd.DataFrame()\n",
    "work_values = pd.DataFrame()\n",
    "education = pd.DataFrame()"
   ]
  },
  {
   "cell_type": "code",
   "execution_count": 4,
   "metadata": {},
   "outputs": [
    {
     "data": {
      "text/html": [
       "<div>\n",
       "<style scoped>\n",
       "    .dataframe tbody tr th:only-of-type {\n",
       "        vertical-align: middle;\n",
       "    }\n",
       "\n",
       "    .dataframe tbody tr th {\n",
       "        vertical-align: top;\n",
       "    }\n",
       "\n",
       "    .dataframe thead th {\n",
       "        text-align: right;\n",
       "    }\n",
       "</style>\n",
       "<table border=\"1\" class=\"dataframe\">\n",
       "  <thead>\n",
       "    <tr style=\"text-align: right;\">\n",
       "      <th></th>\n",
       "      <th>id</th>\n",
       "      <th>name</th>\n",
       "      <th>description</th>\n",
       "      <th>skill_id</th>\n",
       "    </tr>\n",
       "  </thead>\n",
       "  <tbody>\n",
       "    <tr>\n",
       "      <th>0</th>\n",
       "      <td>2.A.1.a</td>\n",
       "      <td>Reading Comprehension</td>\n",
       "      <td>Understanding written sentences and paragraphs...</td>\n",
       "      <td>1</td>\n",
       "    </tr>\n",
       "    <tr>\n",
       "      <th>1</th>\n",
       "      <td>2.A.1.d</td>\n",
       "      <td>Speaking</td>\n",
       "      <td>Talking to others to convey information effect...</td>\n",
       "      <td>2</td>\n",
       "    </tr>\n",
       "    <tr>\n",
       "      <th>2</th>\n",
       "      <td>2.A.1.b</td>\n",
       "      <td>Active Listening</td>\n",
       "      <td>Giving full attention to what other people are...</td>\n",
       "      <td>3</td>\n",
       "    </tr>\n",
       "  </tbody>\n",
       "</table>\n",
       "</div>"
      ],
      "text/plain": [
       "        id                   name  \\\n",
       "0  2.A.1.a  Reading Comprehension   \n",
       "1  2.A.1.d               Speaking   \n",
       "2  2.A.1.b       Active Listening   \n",
       "\n",
       "                                         description  skill_id  \n",
       "0  Understanding written sentences and paragraphs...         1  \n",
       "1  Talking to others to convey information effect...         2  \n",
       "2  Giving full attention to what other people are...         3  "
      ]
     },
     "execution_count": 4,
     "metadata": {},
     "output_type": "execute_result"
    }
   ],
   "source": [
    "# Assuming df[\"skills\"] is a column of lists of dictionaries\n",
    "skills = df['skills'].apply(lambda x: x['element']).explode().reset_index(drop=True)\n",
    "\n",
    "# Convert the list of dictionaries into a DataFrame\n",
    "skills_df = pd.json_normalize(skills)\n",
    "\n",
    "# Drop duplicates based on 'id'\n",
    "skills_df = skills_df.drop_duplicates(subset='id')\n",
    "\n",
    "# Reset the index\n",
    "skills_df = skills_df.reset_index(drop=True)\n",
    "\n",
    "skills_df = skills_df.dropna()\n",
    "skills_df = skills_df.drop(columns=[\"related\"])\n",
    "\n",
    "skills_df['skill_id'] = range(1, len(skills_df) + 1)\n",
    "\n",
    "skills_df.head(3)"
   ]
  },
  {
   "cell_type": "code",
   "execution_count": 5,
   "metadata": {},
   "outputs": [
    {
     "data": {
      "text/plain": [
       "InsertManyResult([ObjectId('661e6ed0fd6b5ac15377d314'), ObjectId('661e6ed0fd6b5ac15377d315'), ObjectId('661e6ed0fd6b5ac15377d316'), ObjectId('661e6ed0fd6b5ac15377d317'), ObjectId('661e6ed0fd6b5ac15377d318'), ObjectId('661e6ed0fd6b5ac15377d319'), ObjectId('661e6ed0fd6b5ac15377d31a'), ObjectId('661e6ed0fd6b5ac15377d31b'), ObjectId('661e6ed0fd6b5ac15377d31c'), ObjectId('661e6ed0fd6b5ac15377d31d'), ObjectId('661e6ed0fd6b5ac15377d31e'), ObjectId('661e6ed0fd6b5ac15377d31f'), ObjectId('661e6ed0fd6b5ac15377d320'), ObjectId('661e6ed0fd6b5ac15377d321'), ObjectId('661e6ed0fd6b5ac15377d322'), ObjectId('661e6ed0fd6b5ac15377d323'), ObjectId('661e6ed0fd6b5ac15377d324'), ObjectId('661e6ed0fd6b5ac15377d325'), ObjectId('661e6ed0fd6b5ac15377d326'), ObjectId('661e6ed0fd6b5ac15377d327'), ObjectId('661e6ed0fd6b5ac15377d328'), ObjectId('661e6ed0fd6b5ac15377d329'), ObjectId('661e6ed0fd6b5ac15377d32a'), ObjectId('661e6ed0fd6b5ac15377d32b'), ObjectId('661e6ed0fd6b5ac15377d32c'), ObjectId('661e6ed0fd6b5ac15377d32d'), ObjectId('661e6ed0fd6b5ac15377d32e'), ObjectId('661e6ed0fd6b5ac15377d32f'), ObjectId('661e6ed0fd6b5ac15377d330'), ObjectId('661e6ed0fd6b5ac15377d331'), ObjectId('661e6ed0fd6b5ac15377d332')], acknowledged=True)"
      ]
     },
     "execution_count": 5,
     "metadata": {},
     "output_type": "execute_result"
    }
   ],
   "source": [
    "dbname = get_database()\n",
    "\n",
    "collection_name = dbname[\"skills\"]\n",
    "\n",
    "# Insert the dictionaries into the MongoDB collection\n",
    "collection_name.insert_many(skills_df.to_dict(\"records\"))"
   ]
  },
  {
   "cell_type": "code",
   "execution_count": 6,
   "metadata": {},
   "outputs": [
    {
     "data": {
      "text/html": [
       "<div>\n",
       "<style scoped>\n",
       "    .dataframe tbody tr th:only-of-type {\n",
       "        vertical-align: middle;\n",
       "    }\n",
       "\n",
       "    .dataframe tbody tr th {\n",
       "        vertical-align: top;\n",
       "    }\n",
       "\n",
       "    .dataframe thead th {\n",
       "        text-align: right;\n",
       "    }\n",
       "</style>\n",
       "<table border=\"1\" class=\"dataframe\">\n",
       "  <thead>\n",
       "    <tr style=\"text-align: right;\">\n",
       "      <th></th>\n",
       "      <th>id</th>\n",
       "      <th>name</th>\n",
       "      <th>description</th>\n",
       "      <th>ability_id</th>\n",
       "    </tr>\n",
       "  </thead>\n",
       "  <tbody>\n",
       "    <tr>\n",
       "      <th>0</th>\n",
       "      <td>1.A.1.a.3</td>\n",
       "      <td>Oral Expression</td>\n",
       "      <td>The ability to communicate information and ide...</td>\n",
       "      <td>1</td>\n",
       "    </tr>\n",
       "    <tr>\n",
       "      <th>1</th>\n",
       "      <td>1.A.1.a.1</td>\n",
       "      <td>Oral Comprehension</td>\n",
       "      <td>The ability to listen to and understand inform...</td>\n",
       "      <td>2</td>\n",
       "    </tr>\n",
       "    <tr>\n",
       "      <th>2</th>\n",
       "      <td>1.A.1.d.1</td>\n",
       "      <td>Memorization</td>\n",
       "      <td>The ability to remember information such as wo...</td>\n",
       "      <td>3</td>\n",
       "    </tr>\n",
       "  </tbody>\n",
       "</table>\n",
       "</div>"
      ],
      "text/plain": [
       "          id                name  \\\n",
       "0  1.A.1.a.3     Oral Expression   \n",
       "1  1.A.1.a.1  Oral Comprehension   \n",
       "2  1.A.1.d.1        Memorization   \n",
       "\n",
       "                                         description  ability_id  \n",
       "0  The ability to communicate information and ide...           1  \n",
       "1  The ability to listen to and understand inform...           2  \n",
       "2  The ability to remember information such as wo...           3  "
      ]
     },
     "execution_count": 6,
     "metadata": {},
     "output_type": "execute_result"
    }
   ],
   "source": [
    "# Assuming df[\"abilities\"] is a column of lists of dictionaries\n",
    "abilities = df['abilities'].apply(lambda x: x['element']).explode().reset_index(drop=True)\n",
    "\n",
    "# Convert the list of dictionaries into a DataFrame\n",
    "abilities_df = pd.json_normalize(abilities)\n",
    "\n",
    "# Drop duplicates based on 'id'\n",
    "abilities_df = abilities_df.drop_duplicates(subset='id')\n",
    "\n",
    "# Reset the index\n",
    "abilities_df = abilities_df.reset_index(drop=True)\n",
    "\n",
    "abilities_df = abilities_df.dropna()\n",
    "abilities_df = abilities_df.drop(columns=[\"related\"])\n",
    "\n",
    "abilities_df['ability_id'] = range(1, len(abilities_df) + 1)\n",
    "\n",
    "abilities_df.head(3)"
   ]
  },
  {
   "cell_type": "code",
   "execution_count": 7,
   "metadata": {},
   "outputs": [
    {
     "data": {
      "text/plain": [
       "InsertManyResult([ObjectId('661e6ed0fd6b5ac15377d334'), ObjectId('661e6ed0fd6b5ac15377d335'), ObjectId('661e6ed0fd6b5ac15377d336'), ObjectId('661e6ed0fd6b5ac15377d337'), ObjectId('661e6ed0fd6b5ac15377d338'), ObjectId('661e6ed0fd6b5ac15377d339'), ObjectId('661e6ed0fd6b5ac15377d33a'), ObjectId('661e6ed0fd6b5ac15377d33b'), ObjectId('661e6ed0fd6b5ac15377d33c'), ObjectId('661e6ed0fd6b5ac15377d33d'), ObjectId('661e6ed0fd6b5ac15377d33e'), ObjectId('661e6ed0fd6b5ac15377d33f'), ObjectId('661e6ed0fd6b5ac15377d340'), ObjectId('661e6ed0fd6b5ac15377d341'), ObjectId('661e6ed0fd6b5ac15377d342'), ObjectId('661e6ed0fd6b5ac15377d343'), ObjectId('661e6ed0fd6b5ac15377d344'), ObjectId('661e6ed0fd6b5ac15377d345'), ObjectId('661e6ed0fd6b5ac15377d346'), ObjectId('661e6ed0fd6b5ac15377d347'), ObjectId('661e6ed0fd6b5ac15377d348'), ObjectId('661e6ed0fd6b5ac15377d349'), ObjectId('661e6ed0fd6b5ac15377d34a'), ObjectId('661e6ed0fd6b5ac15377d34b'), ObjectId('661e6ed0fd6b5ac15377d34c'), ObjectId('661e6ed0fd6b5ac15377d34d'), ObjectId('661e6ed0fd6b5ac15377d34e'), ObjectId('661e6ed0fd6b5ac15377d34f'), ObjectId('661e6ed0fd6b5ac15377d350'), ObjectId('661e6ed0fd6b5ac15377d351'), ObjectId('661e6ed0fd6b5ac15377d352'), ObjectId('661e6ed0fd6b5ac15377d353'), ObjectId('661e6ed0fd6b5ac15377d354'), ObjectId('661e6ed0fd6b5ac15377d355'), ObjectId('661e6ed0fd6b5ac15377d356'), ObjectId('661e6ed0fd6b5ac15377d357'), ObjectId('661e6ed0fd6b5ac15377d358'), ObjectId('661e6ed0fd6b5ac15377d359'), ObjectId('661e6ed0fd6b5ac15377d35a'), ObjectId('661e6ed0fd6b5ac15377d35b'), ObjectId('661e6ed0fd6b5ac15377d35c'), ObjectId('661e6ed0fd6b5ac15377d35d')], acknowledged=True)"
      ]
     },
     "execution_count": 7,
     "metadata": {},
     "output_type": "execute_result"
    }
   ],
   "source": [
    "dbname = get_database()\n",
    "\n",
    "collection_name = dbname[\"abilities\"]\n",
    "\n",
    "# Insert the dictionaries into the MongoDB collection\n",
    "collection_name.insert_many(abilities_df.to_dict(\"records\"))"
   ]
  },
  {
   "cell_type": "code",
   "execution_count": 8,
   "metadata": {},
   "outputs": [
    {
     "data": {
      "text/html": [
       "<div>\n",
       "<style scoped>\n",
       "    .dataframe tbody tr th:only-of-type {\n",
       "        vertical-align: middle;\n",
       "    }\n",
       "\n",
       "    .dataframe tbody tr th {\n",
       "        vertical-align: top;\n",
       "    }\n",
       "\n",
       "    .dataframe thead th {\n",
       "        text-align: right;\n",
       "    }\n",
       "</style>\n",
       "<table border=\"1\" class=\"dataframe\">\n",
       "  <thead>\n",
       "    <tr style=\"text-align: right;\">\n",
       "      <th></th>\n",
       "      <th>id</th>\n",
       "      <th>name</th>\n",
       "      <th>task_id</th>\n",
       "    </tr>\n",
       "  </thead>\n",
       "  <tbody>\n",
       "    <tr>\n",
       "      <th>0</th>\n",
       "      <td>7646</td>\n",
       "      <td>Collaborate with other actors as part of an en...</td>\n",
       "      <td>1</td>\n",
       "    </tr>\n",
       "    <tr>\n",
       "      <th>1</th>\n",
       "      <td>7649</td>\n",
       "      <td>Portray and interpret roles, using speech, ges...</td>\n",
       "      <td>2</td>\n",
       "    </tr>\n",
       "    <tr>\n",
       "      <th>2</th>\n",
       "      <td>7644</td>\n",
       "      <td>Work closely with directors, other actors, and...</td>\n",
       "      <td>3</td>\n",
       "    </tr>\n",
       "  </tbody>\n",
       "</table>\n",
       "</div>"
      ],
      "text/plain": [
       "     id                                               name  task_id\n",
       "0  7646  Collaborate with other actors as part of an en...        1\n",
       "1  7649  Portray and interpret roles, using speech, ges...        2\n",
       "2  7644  Work closely with directors, other actors, and...        3"
      ]
     },
     "execution_count": 8,
     "metadata": {},
     "output_type": "execute_result"
    }
   ],
   "source": [
    "# Assuming df[\"tasks\"] is a column of lists of dictionaries\n",
    "tasks = df['tasks'].apply(lambda x: x['task']).explode().reset_index(drop=True)\n",
    "\n",
    "# Convert the list of dictionaries into a DataFrame\n",
    "tasks_df = pd.json_normalize(tasks)\n",
    "\n",
    "# Drop duplicates based on 'id'\n",
    "tasks_df = tasks_df.drop_duplicates(subset='id')\n",
    "\n",
    "# Reset the index\n",
    "tasks_df = tasks_df.reset_index(drop=True)\n",
    "\n",
    "tasks_df = tasks_df.dropna()\n",
    "tasks_df = tasks_df.drop(columns=[\"green\", \"related\"])\n",
    "\n",
    "tasks_df['task_id'] = range(1, len(tasks_df) + 1)\n",
    "\n",
    "tasks_df.head(3)"
   ]
  },
  {
   "cell_type": "code",
   "execution_count": 9,
   "metadata": {},
   "outputs": [
    {
     "data": {
      "text/plain": [
       "InsertManyResult([ObjectId('661e6ed1fd6b5ac15377d35f'), ObjectId('661e6ed1fd6b5ac15377d360'), ObjectId('661e6ed1fd6b5ac15377d361'), ObjectId('661e6ed1fd6b5ac15377d362'), ObjectId('661e6ed1fd6b5ac15377d363'), ObjectId('661e6ed1fd6b5ac15377d364'), ObjectId('661e6ed1fd6b5ac15377d365'), ObjectId('661e6ed1fd6b5ac15377d366'), ObjectId('661e6ed1fd6b5ac15377d367'), ObjectId('661e6ed1fd6b5ac15377d368'), ObjectId('661e6ed1fd6b5ac15377d369'), ObjectId('661e6ed1fd6b5ac15377d36a'), ObjectId('661e6ed1fd6b5ac15377d36b'), ObjectId('661e6ed1fd6b5ac15377d36c'), ObjectId('661e6ed1fd6b5ac15377d36d'), ObjectId('661e6ed1fd6b5ac15377d36e'), ObjectId('661e6ed1fd6b5ac15377d36f'), ObjectId('661e6ed1fd6b5ac15377d370'), ObjectId('661e6ed1fd6b5ac15377d371'), ObjectId('661e6ed1fd6b5ac15377d372'), ObjectId('661e6ed1fd6b5ac15377d373'), ObjectId('661e6ed1fd6b5ac15377d374'), ObjectId('661e6ed1fd6b5ac15377d375'), ObjectId('661e6ed1fd6b5ac15377d376'), ObjectId('661e6ed1fd6b5ac15377d377'), ObjectId('661e6ed1fd6b5ac15377d378'), ObjectId('661e6ed1fd6b5ac15377d379'), ObjectId('661e6ed1fd6b5ac15377d37a'), ObjectId('661e6ed1fd6b5ac15377d37b'), ObjectId('661e6ed1fd6b5ac15377d37c'), ObjectId('661e6ed1fd6b5ac15377d37d'), ObjectId('661e6ed1fd6b5ac15377d37e'), ObjectId('661e6ed1fd6b5ac15377d37f'), ObjectId('661e6ed1fd6b5ac15377d380'), ObjectId('661e6ed1fd6b5ac15377d381'), ObjectId('661e6ed1fd6b5ac15377d382'), ObjectId('661e6ed1fd6b5ac15377d383'), ObjectId('661e6ed1fd6b5ac15377d384'), ObjectId('661e6ed1fd6b5ac15377d385'), ObjectId('661e6ed1fd6b5ac15377d386'), ObjectId('661e6ed1fd6b5ac15377d387'), ObjectId('661e6ed1fd6b5ac15377d388'), ObjectId('661e6ed1fd6b5ac15377d389'), ObjectId('661e6ed1fd6b5ac15377d38a'), ObjectId('661e6ed1fd6b5ac15377d38b'), ObjectId('661e6ed1fd6b5ac15377d38c'), ObjectId('661e6ed1fd6b5ac15377d38d'), ObjectId('661e6ed1fd6b5ac15377d38e'), ObjectId('661e6ed1fd6b5ac15377d38f'), ObjectId('661e6ed1fd6b5ac15377d390'), ObjectId('661e6ed1fd6b5ac15377d391'), ObjectId('661e6ed1fd6b5ac15377d392'), ObjectId('661e6ed1fd6b5ac15377d393'), ObjectId('661e6ed1fd6b5ac15377d394'), ObjectId('661e6ed1fd6b5ac15377d395'), ObjectId('661e6ed1fd6b5ac15377d396'), ObjectId('661e6ed1fd6b5ac15377d397'), ObjectId('661e6ed1fd6b5ac15377d398'), ObjectId('661e6ed1fd6b5ac15377d399'), ObjectId('661e6ed1fd6b5ac15377d39a'), ObjectId('661e6ed1fd6b5ac15377d39b'), ObjectId('661e6ed1fd6b5ac15377d39c'), ObjectId('661e6ed1fd6b5ac15377d39d'), ObjectId('661e6ed1fd6b5ac15377d39e'), ObjectId('661e6ed1fd6b5ac15377d39f'), ObjectId('661e6ed1fd6b5ac15377d3a0'), ObjectId('661e6ed1fd6b5ac15377d3a1'), ObjectId('661e6ed1fd6b5ac15377d3a2'), ObjectId('661e6ed1fd6b5ac15377d3a3'), ObjectId('661e6ed1fd6b5ac15377d3a4'), ObjectId('661e6ed1fd6b5ac15377d3a5'), ObjectId('661e6ed1fd6b5ac15377d3a6'), ObjectId('661e6ed1fd6b5ac15377d3a7'), ObjectId('661e6ed1fd6b5ac15377d3a8'), ObjectId('661e6ed1fd6b5ac15377d3a9'), ObjectId('661e6ed1fd6b5ac15377d3aa'), ObjectId('661e6ed1fd6b5ac15377d3ab'), ObjectId('661e6ed1fd6b5ac15377d3ac'), ObjectId('661e6ed1fd6b5ac15377d3ad'), ObjectId('661e6ed1fd6b5ac15377d3ae'), ObjectId('661e6ed1fd6b5ac15377d3af'), ObjectId('661e6ed1fd6b5ac15377d3b0'), ObjectId('661e6ed1fd6b5ac15377d3b1'), ObjectId('661e6ed1fd6b5ac15377d3b2'), ObjectId('661e6ed1fd6b5ac15377d3b3'), ObjectId('661e6ed1fd6b5ac15377d3b4'), ObjectId('661e6ed1fd6b5ac15377d3b5'), ObjectId('661e6ed1fd6b5ac15377d3b6'), ObjectId('661e6ed1fd6b5ac15377d3b7'), ObjectId('661e6ed1fd6b5ac15377d3b8'), ObjectId('661e6ed1fd6b5ac15377d3b9'), ObjectId('661e6ed1fd6b5ac15377d3ba'), ObjectId('661e6ed1fd6b5ac15377d3bb'), ObjectId('661e6ed1fd6b5ac15377d3bc'), ObjectId('661e6ed1fd6b5ac15377d3bd'), ObjectId('661e6ed1fd6b5ac15377d3be'), ObjectId('661e6ed1fd6b5ac15377d3bf'), ObjectId('661e6ed1fd6b5ac15377d3c0'), ObjectId('661e6ed1fd6b5ac15377d3c1'), ObjectId('661e6ed1fd6b5ac15377d3c2'), ObjectId('661e6ed1fd6b5ac15377d3c3'), ObjectId('661e6ed1fd6b5ac15377d3c4'), ObjectId('661e6ed1fd6b5ac15377d3c5'), ObjectId('661e6ed1fd6b5ac15377d3c6'), ObjectId('661e6ed1fd6b5ac15377d3c7'), ObjectId('661e6ed1fd6b5ac15377d3c8'), ObjectId('661e6ed1fd6b5ac15377d3c9'), ObjectId('661e6ed1fd6b5ac15377d3ca'), ObjectId('661e6ed1fd6b5ac15377d3cb'), ObjectId('661e6ed1fd6b5ac15377d3cc'), ObjectId('661e6ed1fd6b5ac15377d3cd'), ObjectId('661e6ed1fd6b5ac15377d3ce'), ObjectId('661e6ed1fd6b5ac15377d3cf'), ObjectId('661e6ed1fd6b5ac15377d3d0'), ObjectId('661e6ed1fd6b5ac15377d3d1'), ObjectId('661e6ed1fd6b5ac15377d3d2'), ObjectId('661e6ed1fd6b5ac15377d3d3'), ObjectId('661e6ed1fd6b5ac15377d3d4'), ObjectId('661e6ed1fd6b5ac15377d3d5'), ObjectId('661e6ed1fd6b5ac15377d3d6'), ObjectId('661e6ed1fd6b5ac15377d3d7'), ObjectId('661e6ed1fd6b5ac15377d3d8'), ObjectId('661e6ed1fd6b5ac15377d3d9'), ObjectId('661e6ed1fd6b5ac15377d3da'), ObjectId('661e6ed1fd6b5ac15377d3db'), ObjectId('661e6ed1fd6b5ac15377d3dc'), ObjectId('661e6ed1fd6b5ac15377d3dd'), ObjectId('661e6ed1fd6b5ac15377d3de'), ObjectId('661e6ed1fd6b5ac15377d3df'), ObjectId('661e6ed1fd6b5ac15377d3e0'), ObjectId('661e6ed1fd6b5ac15377d3e1'), ObjectId('661e6ed1fd6b5ac15377d3e2'), ObjectId('661e6ed1fd6b5ac15377d3e3'), ObjectId('661e6ed1fd6b5ac15377d3e4'), ObjectId('661e6ed1fd6b5ac15377d3e5'), ObjectId('661e6ed1fd6b5ac15377d3e6'), ObjectId('661e6ed1fd6b5ac15377d3e7'), ObjectId('661e6ed1fd6b5ac15377d3e8'), ObjectId('661e6ed1fd6b5ac15377d3e9'), ObjectId('661e6ed1fd6b5ac15377d3ea'), ObjectId('661e6ed1fd6b5ac15377d3eb'), ObjectId('661e6ed1fd6b5ac15377d3ec'), ObjectId('661e6ed1fd6b5ac15377d3ed'), ObjectId('661e6ed1fd6b5ac15377d3ee'), ObjectId('661e6ed1fd6b5ac15377d3ef'), ObjectId('661e6ed1fd6b5ac15377d3f0'), ObjectId('661e6ed1fd6b5ac15377d3f1'), ObjectId('661e6ed1fd6b5ac15377d3f2'), ObjectId('661e6ed1fd6b5ac15377d3f3'), ObjectId('661e6ed1fd6b5ac15377d3f4'), ObjectId('661e6ed1fd6b5ac15377d3f5'), ObjectId('661e6ed1fd6b5ac15377d3f6'), ObjectId('661e6ed1fd6b5ac15377d3f7'), ObjectId('661e6ed1fd6b5ac15377d3f8'), ObjectId('661e6ed1fd6b5ac15377d3f9'), ObjectId('661e6ed1fd6b5ac15377d3fa'), ObjectId('661e6ed1fd6b5ac15377d3fb'), ObjectId('661e6ed1fd6b5ac15377d3fc'), ObjectId('661e6ed1fd6b5ac15377d3fd'), ObjectId('661e6ed1fd6b5ac15377d3fe'), ObjectId('661e6ed1fd6b5ac15377d3ff'), ObjectId('661e6ed1fd6b5ac15377d400'), ObjectId('661e6ed1fd6b5ac15377d401'), ObjectId('661e6ed1fd6b5ac15377d402'), ObjectId('661e6ed1fd6b5ac15377d403'), ObjectId('661e6ed1fd6b5ac15377d404'), ObjectId('661e6ed1fd6b5ac15377d405'), ObjectId('661e6ed1fd6b5ac15377d406'), ObjectId('661e6ed1fd6b5ac15377d407'), ObjectId('661e6ed1fd6b5ac15377d408'), ObjectId('661e6ed1fd6b5ac15377d409'), ObjectId('661e6ed1fd6b5ac15377d40a'), ObjectId('661e6ed1fd6b5ac15377d40b'), ObjectId('661e6ed1fd6b5ac15377d40c'), ObjectId('661e6ed1fd6b5ac15377d40d'), ObjectId('661e6ed1fd6b5ac15377d40e'), ObjectId('661e6ed1fd6b5ac15377d40f'), ObjectId('661e6ed1fd6b5ac15377d410'), ObjectId('661e6ed1fd6b5ac15377d411'), ObjectId('661e6ed1fd6b5ac15377d412'), ObjectId('661e6ed1fd6b5ac15377d413'), ObjectId('661e6ed1fd6b5ac15377d414'), ObjectId('661e6ed1fd6b5ac15377d415'), ObjectId('661e6ed1fd6b5ac15377d416'), ObjectId('661e6ed1fd6b5ac15377d417'), ObjectId('661e6ed1fd6b5ac15377d418'), ObjectId('661e6ed1fd6b5ac15377d419'), ObjectId('661e6ed1fd6b5ac15377d41a'), ObjectId('661e6ed1fd6b5ac15377d41b'), ObjectId('661e6ed1fd6b5ac15377d41c'), ObjectId('661e6ed1fd6b5ac15377d41d'), ObjectId('661e6ed1fd6b5ac15377d41e'), ObjectId('661e6ed1fd6b5ac15377d41f'), ObjectId('661e6ed1fd6b5ac15377d420'), ObjectId('661e6ed1fd6b5ac15377d421'), ObjectId('661e6ed1fd6b5ac15377d422'), ObjectId('661e6ed1fd6b5ac15377d423'), ObjectId('661e6ed1fd6b5ac15377d424'), ObjectId('661e6ed1fd6b5ac15377d425'), ObjectId('661e6ed1fd6b5ac15377d426'), ObjectId('661e6ed1fd6b5ac15377d427'), ObjectId('661e6ed1fd6b5ac15377d428'), ObjectId('661e6ed1fd6b5ac15377d429'), ObjectId('661e6ed1fd6b5ac15377d42a'), ObjectId('661e6ed1fd6b5ac15377d42b'), ObjectId('661e6ed1fd6b5ac15377d42c'), ObjectId('661e6ed1fd6b5ac15377d42d'), ObjectId('661e6ed1fd6b5ac15377d42e'), ObjectId('661e6ed1fd6b5ac15377d42f'), ObjectId('661e6ed1fd6b5ac15377d430'), ObjectId('661e6ed1fd6b5ac15377d431'), ObjectId('661e6ed1fd6b5ac15377d432'), ObjectId('661e6ed1fd6b5ac15377d433'), ObjectId('661e6ed1fd6b5ac15377d434'), ObjectId('661e6ed1fd6b5ac15377d435'), ObjectId('661e6ed1fd6b5ac15377d436'), ObjectId('661e6ed1fd6b5ac15377d437'), ObjectId('661e6ed1fd6b5ac15377d438'), ObjectId('661e6ed1fd6b5ac15377d439'), ObjectId('661e6ed1fd6b5ac15377d43a'), ObjectId('661e6ed1fd6b5ac15377d43b'), ObjectId('661e6ed1fd6b5ac15377d43c'), ObjectId('661e6ed1fd6b5ac15377d43d'), ObjectId('661e6ed1fd6b5ac15377d43e'), ObjectId('661e6ed1fd6b5ac15377d43f'), ObjectId('661e6ed1fd6b5ac15377d440'), ObjectId('661e6ed1fd6b5ac15377d441'), ObjectId('661e6ed1fd6b5ac15377d442'), ObjectId('661e6ed1fd6b5ac15377d443'), ObjectId('661e6ed1fd6b5ac15377d444'), ObjectId('661e6ed1fd6b5ac15377d445'), ObjectId('661e6ed1fd6b5ac15377d446'), ObjectId('661e6ed1fd6b5ac15377d447'), ObjectId('661e6ed1fd6b5ac15377d448'), ObjectId('661e6ed1fd6b5ac15377d449'), ObjectId('661e6ed1fd6b5ac15377d44a'), ObjectId('661e6ed1fd6b5ac15377d44b'), ObjectId('661e6ed1fd6b5ac15377d44c'), ObjectId('661e6ed1fd6b5ac15377d44d'), ObjectId('661e6ed1fd6b5ac15377d44e'), ObjectId('661e6ed1fd6b5ac15377d44f'), ObjectId('661e6ed1fd6b5ac15377d450'), ObjectId('661e6ed1fd6b5ac15377d451'), ObjectId('661e6ed1fd6b5ac15377d452'), ObjectId('661e6ed1fd6b5ac15377d453'), ObjectId('661e6ed1fd6b5ac15377d454'), ObjectId('661e6ed1fd6b5ac15377d455'), ObjectId('661e6ed1fd6b5ac15377d456'), ObjectId('661e6ed1fd6b5ac15377d457'), ObjectId('661e6ed1fd6b5ac15377d458'), ObjectId('661e6ed1fd6b5ac15377d459'), ObjectId('661e6ed1fd6b5ac15377d45a'), ObjectId('661e6ed1fd6b5ac15377d45b'), ObjectId('661e6ed1fd6b5ac15377d45c'), ObjectId('661e6ed1fd6b5ac15377d45d'), ObjectId('661e6ed1fd6b5ac15377d45e'), ObjectId('661e6ed1fd6b5ac15377d45f'), ObjectId('661e6ed1fd6b5ac15377d460'), ObjectId('661e6ed1fd6b5ac15377d461'), ObjectId('661e6ed1fd6b5ac15377d462'), ObjectId('661e6ed1fd6b5ac15377d463'), ObjectId('661e6ed1fd6b5ac15377d464'), ObjectId('661e6ed1fd6b5ac15377d465'), ObjectId('661e6ed1fd6b5ac15377d466'), ObjectId('661e6ed1fd6b5ac15377d467'), ObjectId('661e6ed1fd6b5ac15377d468'), ObjectId('661e6ed1fd6b5ac15377d469'), ObjectId('661e6ed1fd6b5ac15377d46a'), ObjectId('661e6ed1fd6b5ac15377d46b'), ObjectId('661e6ed1fd6b5ac15377d46c'), ObjectId('661e6ed1fd6b5ac15377d46d'), ObjectId('661e6ed1fd6b5ac15377d46e'), ObjectId('661e6ed1fd6b5ac15377d46f'), ObjectId('661e6ed1fd6b5ac15377d470'), ObjectId('661e6ed1fd6b5ac15377d471'), ObjectId('661e6ed1fd6b5ac15377d472'), ObjectId('661e6ed1fd6b5ac15377d473'), ObjectId('661e6ed1fd6b5ac15377d474'), ObjectId('661e6ed1fd6b5ac15377d475'), ObjectId('661e6ed1fd6b5ac15377d476'), ObjectId('661e6ed1fd6b5ac15377d477'), ObjectId('661e6ed1fd6b5ac15377d478'), ObjectId('661e6ed1fd6b5ac15377d479'), ObjectId('661e6ed1fd6b5ac15377d47a'), ObjectId('661e6ed1fd6b5ac15377d47b'), ObjectId('661e6ed1fd6b5ac15377d47c'), ObjectId('661e6ed1fd6b5ac15377d47d'), ObjectId('661e6ed1fd6b5ac15377d47e'), ObjectId('661e6ed1fd6b5ac15377d47f'), ObjectId('661e6ed1fd6b5ac15377d480'), ObjectId('661e6ed1fd6b5ac15377d481'), ObjectId('661e6ed1fd6b5ac15377d482'), ObjectId('661e6ed1fd6b5ac15377d483'), ObjectId('661e6ed1fd6b5ac15377d484'), ObjectId('661e6ed1fd6b5ac15377d485'), ObjectId('661e6ed1fd6b5ac15377d486'), ObjectId('661e6ed1fd6b5ac15377d487'), ObjectId('661e6ed1fd6b5ac15377d488'), ObjectId('661e6ed1fd6b5ac15377d489'), ObjectId('661e6ed1fd6b5ac15377d48a'), ObjectId('661e6ed1fd6b5ac15377d48b'), ObjectId('661e6ed1fd6b5ac15377d48c'), ObjectId('661e6ed1fd6b5ac15377d48d'), ObjectId('661e6ed1fd6b5ac15377d48e'), ObjectId('661e6ed1fd6b5ac15377d48f'), ObjectId('661e6ed1fd6b5ac15377d490'), ObjectId('661e6ed1fd6b5ac15377d491'), ObjectId('661e6ed1fd6b5ac15377d492'), ObjectId('661e6ed1fd6b5ac15377d493'), ObjectId('661e6ed1fd6b5ac15377d494'), ObjectId('661e6ed1fd6b5ac15377d495'), ObjectId('661e6ed1fd6b5ac15377d496'), ObjectId('661e6ed1fd6b5ac15377d497'), ObjectId('661e6ed1fd6b5ac15377d498'), ObjectId('661e6ed1fd6b5ac15377d499'), ObjectId('661e6ed1fd6b5ac15377d49a'), ObjectId('661e6ed1fd6b5ac15377d49b'), ObjectId('661e6ed1fd6b5ac15377d49c'), ObjectId('661e6ed1fd6b5ac15377d49d'), ObjectId('661e6ed1fd6b5ac15377d49e'), ObjectId('661e6ed1fd6b5ac15377d49f'), ObjectId('661e6ed1fd6b5ac15377d4a0'), ObjectId('661e6ed1fd6b5ac15377d4a1'), ObjectId('661e6ed1fd6b5ac15377d4a2'), ObjectId('661e6ed1fd6b5ac15377d4a3'), ObjectId('661e6ed1fd6b5ac15377d4a4'), ObjectId('661e6ed1fd6b5ac15377d4a5'), ObjectId('661e6ed1fd6b5ac15377d4a6'), ObjectId('661e6ed1fd6b5ac15377d4a7'), ObjectId('661e6ed1fd6b5ac15377d4a8'), ObjectId('661e6ed1fd6b5ac15377d4a9'), ObjectId('661e6ed1fd6b5ac15377d4aa'), ObjectId('661e6ed1fd6b5ac15377d4ab'), ObjectId('661e6ed1fd6b5ac15377d4ac'), ObjectId('661e6ed1fd6b5ac15377d4ad'), ObjectId('661e6ed1fd6b5ac15377d4ae'), ObjectId('661e6ed1fd6b5ac15377d4af'), ObjectId('661e6ed1fd6b5ac15377d4b0'), ObjectId('661e6ed1fd6b5ac15377d4b1'), ObjectId('661e6ed1fd6b5ac15377d4b2'), ObjectId('661e6ed1fd6b5ac15377d4b3'), ObjectId('661e6ed1fd6b5ac15377d4b4'), ObjectId('661e6ed1fd6b5ac15377d4b5'), ObjectId('661e6ed1fd6b5ac15377d4b6'), ObjectId('661e6ed1fd6b5ac15377d4b7'), ObjectId('661e6ed1fd6b5ac15377d4b8'), ObjectId('661e6ed1fd6b5ac15377d4b9'), ObjectId('661e6ed1fd6b5ac15377d4ba'), ObjectId('661e6ed1fd6b5ac15377d4bb'), ObjectId('661e6ed1fd6b5ac15377d4bc'), ObjectId('661e6ed1fd6b5ac15377d4bd'), ObjectId('661e6ed1fd6b5ac15377d4be'), ObjectId('661e6ed1fd6b5ac15377d4bf'), ObjectId('661e6ed1fd6b5ac15377d4c0'), ObjectId('661e6ed1fd6b5ac15377d4c1'), ObjectId('661e6ed1fd6b5ac15377d4c2'), ObjectId('661e6ed1fd6b5ac15377d4c3'), ObjectId('661e6ed1fd6b5ac15377d4c4'), ObjectId('661e6ed1fd6b5ac15377d4c5'), ObjectId('661e6ed1fd6b5ac15377d4c6'), ObjectId('661e6ed1fd6b5ac15377d4c7'), ObjectId('661e6ed1fd6b5ac15377d4c8'), ObjectId('661e6ed1fd6b5ac15377d4c9'), ObjectId('661e6ed1fd6b5ac15377d4ca'), ObjectId('661e6ed1fd6b5ac15377d4cb'), ObjectId('661e6ed1fd6b5ac15377d4cc'), ObjectId('661e6ed1fd6b5ac15377d4cd'), ObjectId('661e6ed1fd6b5ac15377d4ce'), ObjectId('661e6ed1fd6b5ac15377d4cf'), ObjectId('661e6ed1fd6b5ac15377d4d0'), ObjectId('661e6ed1fd6b5ac15377d4d1'), ObjectId('661e6ed1fd6b5ac15377d4d2'), ObjectId('661e6ed1fd6b5ac15377d4d3'), ObjectId('661e6ed1fd6b5ac15377d4d4'), ObjectId('661e6ed1fd6b5ac15377d4d5'), ObjectId('661e6ed1fd6b5ac15377d4d6'), ObjectId('661e6ed1fd6b5ac15377d4d7'), ObjectId('661e6ed1fd6b5ac15377d4d8'), ObjectId('661e6ed1fd6b5ac15377d4d9'), ObjectId('661e6ed1fd6b5ac15377d4da'), ObjectId('661e6ed1fd6b5ac15377d4db'), ObjectId('661e6ed1fd6b5ac15377d4dc'), ObjectId('661e6ed1fd6b5ac15377d4dd'), ObjectId('661e6ed1fd6b5ac15377d4de'), ObjectId('661e6ed1fd6b5ac15377d4df'), ObjectId('661e6ed1fd6b5ac15377d4e0'), ObjectId('661e6ed1fd6b5ac15377d4e1'), ObjectId('661e6ed1fd6b5ac15377d4e2'), ObjectId('661e6ed1fd6b5ac15377d4e3'), ObjectId('661e6ed1fd6b5ac15377d4e4'), ObjectId('661e6ed1fd6b5ac15377d4e5'), ObjectId('661e6ed1fd6b5ac15377d4e6'), ObjectId('661e6ed1fd6b5ac15377d4e7'), ObjectId('661e6ed1fd6b5ac15377d4e8'), ObjectId('661e6ed1fd6b5ac15377d4e9'), ObjectId('661e6ed1fd6b5ac15377d4ea'), ObjectId('661e6ed1fd6b5ac15377d4eb'), ObjectId('661e6ed1fd6b5ac15377d4ec'), ObjectId('661e6ed1fd6b5ac15377d4ed'), ObjectId('661e6ed1fd6b5ac15377d4ee'), ObjectId('661e6ed1fd6b5ac15377d4ef'), ObjectId('661e6ed1fd6b5ac15377d4f0'), ObjectId('661e6ed1fd6b5ac15377d4f1'), ObjectId('661e6ed1fd6b5ac15377d4f2'), ObjectId('661e6ed1fd6b5ac15377d4f3'), ObjectId('661e6ed1fd6b5ac15377d4f4'), ObjectId('661e6ed1fd6b5ac15377d4f5'), ObjectId('661e6ed1fd6b5ac15377d4f6'), ObjectId('661e6ed1fd6b5ac15377d4f7'), ObjectId('661e6ed1fd6b5ac15377d4f8'), ObjectId('661e6ed1fd6b5ac15377d4f9'), ObjectId('661e6ed1fd6b5ac15377d4fa'), ObjectId('661e6ed1fd6b5ac15377d4fb'), ObjectId('661e6ed1fd6b5ac15377d4fc'), ObjectId('661e6ed1fd6b5ac15377d4fd'), ObjectId('661e6ed1fd6b5ac15377d4fe'), ObjectId('661e6ed1fd6b5ac15377d4ff'), ObjectId('661e6ed1fd6b5ac15377d500'), ObjectId('661e6ed1fd6b5ac15377d501'), ObjectId('661e6ed1fd6b5ac15377d502'), ObjectId('661e6ed1fd6b5ac15377d503'), ObjectId('661e6ed1fd6b5ac15377d504'), ObjectId('661e6ed1fd6b5ac15377d505'), ObjectId('661e6ed1fd6b5ac15377d506'), ObjectId('661e6ed1fd6b5ac15377d507'), ObjectId('661e6ed1fd6b5ac15377d508'), ObjectId('661e6ed1fd6b5ac15377d509'), ObjectId('661e6ed1fd6b5ac15377d50a'), ObjectId('661e6ed1fd6b5ac15377d50b'), ObjectId('661e6ed1fd6b5ac15377d50c'), ObjectId('661e6ed1fd6b5ac15377d50d'), ObjectId('661e6ed1fd6b5ac15377d50e'), ObjectId('661e6ed1fd6b5ac15377d50f'), ObjectId('661e6ed1fd6b5ac15377d510'), ObjectId('661e6ed1fd6b5ac15377d511'), ObjectId('661e6ed1fd6b5ac15377d512'), ObjectId('661e6ed1fd6b5ac15377d513'), ObjectId('661e6ed1fd6b5ac15377d514'), ObjectId('661e6ed1fd6b5ac15377d515'), ObjectId('661e6ed1fd6b5ac15377d516'), ObjectId('661e6ed1fd6b5ac15377d517'), ObjectId('661e6ed1fd6b5ac15377d518'), ObjectId('661e6ed1fd6b5ac15377d519'), ObjectId('661e6ed1fd6b5ac15377d51a'), ObjectId('661e6ed1fd6b5ac15377d51b'), ObjectId('661e6ed1fd6b5ac15377d51c'), ObjectId('661e6ed1fd6b5ac15377d51d'), ObjectId('661e6ed1fd6b5ac15377d51e'), ObjectId('661e6ed1fd6b5ac15377d51f'), ObjectId('661e6ed1fd6b5ac15377d520'), ObjectId('661e6ed1fd6b5ac15377d521'), ObjectId('661e6ed1fd6b5ac15377d522'), ObjectId('661e6ed1fd6b5ac15377d523'), ObjectId('661e6ed1fd6b5ac15377d524'), ObjectId('661e6ed1fd6b5ac15377d525'), ObjectId('661e6ed1fd6b5ac15377d526'), ObjectId('661e6ed1fd6b5ac15377d527'), ObjectId('661e6ed1fd6b5ac15377d528'), ObjectId('661e6ed1fd6b5ac15377d529'), ObjectId('661e6ed1fd6b5ac15377d52a'), ObjectId('661e6ed1fd6b5ac15377d52b'), ObjectId('661e6ed1fd6b5ac15377d52c'), ObjectId('661e6ed1fd6b5ac15377d52d'), ObjectId('661e6ed1fd6b5ac15377d52e'), ObjectId('661e6ed1fd6b5ac15377d52f'), ObjectId('661e6ed1fd6b5ac15377d530'), ObjectId('661e6ed1fd6b5ac15377d531'), ObjectId('661e6ed1fd6b5ac15377d532'), ObjectId('661e6ed1fd6b5ac15377d533'), ObjectId('661e6ed1fd6b5ac15377d534'), ObjectId('661e6ed1fd6b5ac15377d535'), ObjectId('661e6ed1fd6b5ac15377d536'), ObjectId('661e6ed1fd6b5ac15377d537'), ObjectId('661e6ed1fd6b5ac15377d538'), ObjectId('661e6ed1fd6b5ac15377d539'), ObjectId('661e6ed1fd6b5ac15377d53a'), ObjectId('661e6ed1fd6b5ac15377d53b'), ObjectId('661e6ed1fd6b5ac15377d53c'), ObjectId('661e6ed1fd6b5ac15377d53d'), ObjectId('661e6ed1fd6b5ac15377d53e'), ObjectId('661e6ed1fd6b5ac15377d53f'), ObjectId('661e6ed1fd6b5ac15377d540'), ObjectId('661e6ed1fd6b5ac15377d541'), ObjectId('661e6ed1fd6b5ac15377d542'), ObjectId('661e6ed1fd6b5ac15377d543'), ObjectId('661e6ed1fd6b5ac15377d544'), ObjectId('661e6ed1fd6b5ac15377d545'), ObjectId('661e6ed1fd6b5ac15377d546'), ObjectId('661e6ed1fd6b5ac15377d547'), ObjectId('661e6ed1fd6b5ac15377d548'), ObjectId('661e6ed1fd6b5ac15377d549'), ObjectId('661e6ed1fd6b5ac15377d54a'), ObjectId('661e6ed1fd6b5ac15377d54b'), ObjectId('661e6ed1fd6b5ac15377d54c'), ObjectId('661e6ed1fd6b5ac15377d54d'), ObjectId('661e6ed1fd6b5ac15377d54e'), ObjectId('661e6ed1fd6b5ac15377d54f'), ObjectId('661e6ed1fd6b5ac15377d550'), ObjectId('661e6ed1fd6b5ac15377d551'), ObjectId('661e6ed1fd6b5ac15377d552'), ObjectId('661e6ed1fd6b5ac15377d553'), ObjectId('661e6ed1fd6b5ac15377d554'), ObjectId('661e6ed1fd6b5ac15377d555'), ObjectId('661e6ed1fd6b5ac15377d556'), ObjectId('661e6ed1fd6b5ac15377d557'), ObjectId('661e6ed1fd6b5ac15377d558'), ObjectId('661e6ed1fd6b5ac15377d559'), ObjectId('661e6ed1fd6b5ac15377d55a'), ObjectId('661e6ed1fd6b5ac15377d55b'), ObjectId('661e6ed1fd6b5ac15377d55c'), ObjectId('661e6ed1fd6b5ac15377d55d'), ObjectId('661e6ed1fd6b5ac15377d55e'), ObjectId('661e6ed1fd6b5ac15377d55f'), ObjectId('661e6ed1fd6b5ac15377d560'), ObjectId('661e6ed1fd6b5ac15377d561'), ObjectId('661e6ed1fd6b5ac15377d562'), ObjectId('661e6ed1fd6b5ac15377d563'), ObjectId('661e6ed1fd6b5ac15377d564'), ObjectId('661e6ed1fd6b5ac15377d565'), ObjectId('661e6ed1fd6b5ac15377d566'), ObjectId('661e6ed1fd6b5ac15377d567'), ObjectId('661e6ed1fd6b5ac15377d568'), ObjectId('661e6ed1fd6b5ac15377d569'), ObjectId('661e6ed1fd6b5ac15377d56a'), ObjectId('661e6ed1fd6b5ac15377d56b'), ObjectId('661e6ed1fd6b5ac15377d56c'), ObjectId('661e6ed1fd6b5ac15377d56d'), ObjectId('661e6ed1fd6b5ac15377d56e'), ObjectId('661e6ed1fd6b5ac15377d56f'), ObjectId('661e6ed1fd6b5ac15377d570'), ObjectId('661e6ed1fd6b5ac15377d571'), ObjectId('661e6ed1fd6b5ac15377d572'), ObjectId('661e6ed1fd6b5ac15377d573'), ObjectId('661e6ed1fd6b5ac15377d574'), ObjectId('661e6ed1fd6b5ac15377d575'), ObjectId('661e6ed1fd6b5ac15377d576'), ObjectId('661e6ed1fd6b5ac15377d577'), ObjectId('661e6ed1fd6b5ac15377d578'), ObjectId('661e6ed1fd6b5ac15377d579'), ObjectId('661e6ed1fd6b5ac15377d57a'), ObjectId('661e6ed1fd6b5ac15377d57b'), ObjectId('661e6ed1fd6b5ac15377d57c'), ObjectId('661e6ed1fd6b5ac15377d57d'), ObjectId('661e6ed1fd6b5ac15377d57e'), ObjectId('661e6ed1fd6b5ac15377d57f'), ObjectId('661e6ed1fd6b5ac15377d580'), ObjectId('661e6ed1fd6b5ac15377d581'), ObjectId('661e6ed1fd6b5ac15377d582'), ObjectId('661e6ed1fd6b5ac15377d583'), ObjectId('661e6ed1fd6b5ac15377d584'), ObjectId('661e6ed1fd6b5ac15377d585'), ObjectId('661e6ed1fd6b5ac15377d586'), ObjectId('661e6ed1fd6b5ac15377d587'), ObjectId('661e6ed1fd6b5ac15377d588'), ObjectId('661e6ed1fd6b5ac15377d589'), ObjectId('661e6ed1fd6b5ac15377d58a'), ObjectId('661e6ed1fd6b5ac15377d58b'), ObjectId('661e6ed1fd6b5ac15377d58c'), ObjectId('661e6ed1fd6b5ac15377d58d'), ObjectId('661e6ed1fd6b5ac15377d58e'), ObjectId('661e6ed1fd6b5ac15377d58f'), ObjectId('661e6ed1fd6b5ac15377d590'), ObjectId('661e6ed1fd6b5ac15377d591'), ObjectId('661e6ed1fd6b5ac15377d592'), ObjectId('661e6ed1fd6b5ac15377d593'), ObjectId('661e6ed1fd6b5ac15377d594'), ObjectId('661e6ed1fd6b5ac15377d595'), ObjectId('661e6ed1fd6b5ac15377d596'), ObjectId('661e6ed1fd6b5ac15377d597'), ObjectId('661e6ed1fd6b5ac15377d598'), ObjectId('661e6ed1fd6b5ac15377d599'), ObjectId('661e6ed1fd6b5ac15377d59a'), ObjectId('661e6ed1fd6b5ac15377d59b'), ObjectId('661e6ed1fd6b5ac15377d59c'), ObjectId('661e6ed1fd6b5ac15377d59d'), ObjectId('661e6ed1fd6b5ac15377d59e'), ObjectId('661e6ed1fd6b5ac15377d59f'), ObjectId('661e6ed1fd6b5ac15377d5a0'), ObjectId('661e6ed1fd6b5ac15377d5a1'), ObjectId('661e6ed1fd6b5ac15377d5a2'), ObjectId('661e6ed1fd6b5ac15377d5a3'), ObjectId('661e6ed1fd6b5ac15377d5a4'), ObjectId('661e6ed1fd6b5ac15377d5a5'), ObjectId('661e6ed1fd6b5ac15377d5a6'), ObjectId('661e6ed1fd6b5ac15377d5a7'), ObjectId('661e6ed1fd6b5ac15377d5a8'), ObjectId('661e6ed1fd6b5ac15377d5a9'), ObjectId('661e6ed1fd6b5ac15377d5aa'), ObjectId('661e6ed1fd6b5ac15377d5ab'), ObjectId('661e6ed1fd6b5ac15377d5ac'), ObjectId('661e6ed1fd6b5ac15377d5ad'), ObjectId('661e6ed1fd6b5ac15377d5ae'), ObjectId('661e6ed1fd6b5ac15377d5af'), ObjectId('661e6ed1fd6b5ac15377d5b0'), ObjectId('661e6ed1fd6b5ac15377d5b1'), ObjectId('661e6ed1fd6b5ac15377d5b2'), ObjectId('661e6ed1fd6b5ac15377d5b3'), ObjectId('661e6ed1fd6b5ac15377d5b4'), ObjectId('661e6ed1fd6b5ac15377d5b5'), ObjectId('661e6ed1fd6b5ac15377d5b6'), ObjectId('661e6ed1fd6b5ac15377d5b7'), ObjectId('661e6ed1fd6b5ac15377d5b8'), ObjectId('661e6ed1fd6b5ac15377d5b9'), ObjectId('661e6ed1fd6b5ac15377d5ba'), ObjectId('661e6ed1fd6b5ac15377d5bb'), ObjectId('661e6ed1fd6b5ac15377d5bc'), ObjectId('661e6ed1fd6b5ac15377d5bd'), ObjectId('661e6ed1fd6b5ac15377d5be'), ObjectId('661e6ed1fd6b5ac15377d5bf'), ObjectId('661e6ed1fd6b5ac15377d5c0'), ObjectId('661e6ed1fd6b5ac15377d5c1'), ObjectId('661e6ed1fd6b5ac15377d5c2'), ObjectId('661e6ed1fd6b5ac15377d5c3'), ObjectId('661e6ed1fd6b5ac15377d5c4'), ObjectId('661e6ed1fd6b5ac15377d5c5'), ObjectId('661e6ed1fd6b5ac15377d5c6'), ObjectId('661e6ed1fd6b5ac15377d5c7'), ObjectId('661e6ed1fd6b5ac15377d5c8'), ObjectId('661e6ed1fd6b5ac15377d5c9'), ObjectId('661e6ed1fd6b5ac15377d5ca'), ObjectId('661e6ed1fd6b5ac15377d5cb'), ObjectId('661e6ed1fd6b5ac15377d5cc'), ObjectId('661e6ed1fd6b5ac15377d5cd'), ObjectId('661e6ed1fd6b5ac15377d5ce'), ObjectId('661e6ed1fd6b5ac15377d5cf'), ObjectId('661e6ed1fd6b5ac15377d5d0'), ObjectId('661e6ed1fd6b5ac15377d5d1'), ObjectId('661e6ed1fd6b5ac15377d5d2'), ObjectId('661e6ed1fd6b5ac15377d5d3'), ObjectId('661e6ed1fd6b5ac15377d5d4'), ObjectId('661e6ed1fd6b5ac15377d5d5'), ObjectId('661e6ed1fd6b5ac15377d5d6'), ObjectId('661e6ed1fd6b5ac15377d5d7'), ObjectId('661e6ed1fd6b5ac15377d5d8'), ObjectId('661e6ed1fd6b5ac15377d5d9'), ObjectId('661e6ed1fd6b5ac15377d5da'), ObjectId('661e6ed1fd6b5ac15377d5db'), ObjectId('661e6ed1fd6b5ac15377d5dc'), ObjectId('661e6ed1fd6b5ac15377d5dd'), ObjectId('661e6ed1fd6b5ac15377d5de'), ObjectId('661e6ed1fd6b5ac15377d5df'), ObjectId('661e6ed1fd6b5ac15377d5e0'), ObjectId('661e6ed1fd6b5ac15377d5e1'), ObjectId('661e6ed1fd6b5ac15377d5e2'), ObjectId('661e6ed1fd6b5ac15377d5e3'), ObjectId('661e6ed1fd6b5ac15377d5e4'), ObjectId('661e6ed1fd6b5ac15377d5e5'), ObjectId('661e6ed1fd6b5ac15377d5e6'), ObjectId('661e6ed1fd6b5ac15377d5e7'), ObjectId('661e6ed1fd6b5ac15377d5e8'), ObjectId('661e6ed1fd6b5ac15377d5e9'), ObjectId('661e6ed1fd6b5ac15377d5ea'), ObjectId('661e6ed1fd6b5ac15377d5eb'), ObjectId('661e6ed1fd6b5ac15377d5ec'), ObjectId('661e6ed1fd6b5ac15377d5ed'), ObjectId('661e6ed1fd6b5ac15377d5ee'), ObjectId('661e6ed1fd6b5ac15377d5ef'), ObjectId('661e6ed1fd6b5ac15377d5f0'), ObjectId('661e6ed1fd6b5ac15377d5f1'), ObjectId('661e6ed1fd6b5ac15377d5f2'), ObjectId('661e6ed1fd6b5ac15377d5f3'), ObjectId('661e6ed1fd6b5ac15377d5f4'), ObjectId('661e6ed1fd6b5ac15377d5f5'), ObjectId('661e6ed1fd6b5ac15377d5f6'), ObjectId('661e6ed1fd6b5ac15377d5f7'), ObjectId('661e6ed1fd6b5ac15377d5f8'), ObjectId('661e6ed1fd6b5ac15377d5f9'), ObjectId('661e6ed1fd6b5ac15377d5fa'), ObjectId('661e6ed1fd6b5ac15377d5fb'), ObjectId('661e6ed1fd6b5ac15377d5fc'), ObjectId('661e6ed1fd6b5ac15377d5fd'), ObjectId('661e6ed1fd6b5ac15377d5fe'), ObjectId('661e6ed1fd6b5ac15377d5ff'), ObjectId('661e6ed1fd6b5ac15377d600'), ObjectId('661e6ed1fd6b5ac15377d601'), ObjectId('661e6ed1fd6b5ac15377d602'), ObjectId('661e6ed1fd6b5ac15377d603'), ObjectId('661e6ed1fd6b5ac15377d604'), ObjectId('661e6ed1fd6b5ac15377d605'), ObjectId('661e6ed1fd6b5ac15377d606'), ObjectId('661e6ed1fd6b5ac15377d607'), ObjectId('661e6ed1fd6b5ac15377d608'), ObjectId('661e6ed1fd6b5ac15377d609'), ObjectId('661e6ed1fd6b5ac15377d60a'), ObjectId('661e6ed1fd6b5ac15377d60b'), ObjectId('661e6ed1fd6b5ac15377d60c'), ObjectId('661e6ed1fd6b5ac15377d60d'), ObjectId('661e6ed1fd6b5ac15377d60e'), ObjectId('661e6ed1fd6b5ac15377d60f'), ObjectId('661e6ed1fd6b5ac15377d610'), ObjectId('661e6ed1fd6b5ac15377d611'), ObjectId('661e6ed1fd6b5ac15377d612'), ObjectId('661e6ed1fd6b5ac15377d613'), ObjectId('661e6ed1fd6b5ac15377d614'), ObjectId('661e6ed1fd6b5ac15377d615'), ObjectId('661e6ed1fd6b5ac15377d616'), ObjectId('661e6ed1fd6b5ac15377d617'), ObjectId('661e6ed1fd6b5ac15377d618'), ObjectId('661e6ed1fd6b5ac15377d619'), ObjectId('661e6ed1fd6b5ac15377d61a'), ObjectId('661e6ed1fd6b5ac15377d61b'), ObjectId('661e6ed1fd6b5ac15377d61c'), ObjectId('661e6ed1fd6b5ac15377d61d'), ObjectId('661e6ed1fd6b5ac15377d61e'), ObjectId('661e6ed1fd6b5ac15377d61f'), ObjectId('661e6ed1fd6b5ac15377d620'), ObjectId('661e6ed1fd6b5ac15377d621'), ObjectId('661e6ed1fd6b5ac15377d622'), ObjectId('661e6ed1fd6b5ac15377d623'), ObjectId('661e6ed1fd6b5ac15377d624'), ObjectId('661e6ed1fd6b5ac15377d625'), ObjectId('661e6ed1fd6b5ac15377d626'), ObjectId('661e6ed1fd6b5ac15377d627'), ObjectId('661e6ed1fd6b5ac15377d628'), ObjectId('661e6ed1fd6b5ac15377d629'), ObjectId('661e6ed1fd6b5ac15377d62a'), ObjectId('661e6ed1fd6b5ac15377d62b'), ObjectId('661e6ed1fd6b5ac15377d62c'), ObjectId('661e6ed1fd6b5ac15377d62d'), ObjectId('661e6ed1fd6b5ac15377d62e'), ObjectId('661e6ed1fd6b5ac15377d62f'), ObjectId('661e6ed1fd6b5ac15377d630'), ObjectId('661e6ed1fd6b5ac15377d631'), ObjectId('661e6ed1fd6b5ac15377d632'), ObjectId('661e6ed1fd6b5ac15377d633'), ObjectId('661e6ed1fd6b5ac15377d634'), ObjectId('661e6ed1fd6b5ac15377d635'), ObjectId('661e6ed1fd6b5ac15377d636'), ObjectId('661e6ed1fd6b5ac15377d637'), ObjectId('661e6ed1fd6b5ac15377d638'), ObjectId('661e6ed1fd6b5ac15377d639'), ObjectId('661e6ed1fd6b5ac15377d63a'), ObjectId('661e6ed1fd6b5ac15377d63b'), ObjectId('661e6ed1fd6b5ac15377d63c'), ObjectId('661e6ed1fd6b5ac15377d63d'), ObjectId('661e6ed1fd6b5ac15377d63e'), ObjectId('661e6ed1fd6b5ac15377d63f'), ObjectId('661e6ed1fd6b5ac15377d640'), ObjectId('661e6ed1fd6b5ac15377d641'), ObjectId('661e6ed1fd6b5ac15377d642'), ObjectId('661e6ed1fd6b5ac15377d643'), ObjectId('661e6ed1fd6b5ac15377d644'), ObjectId('661e6ed1fd6b5ac15377d645'), ObjectId('661e6ed1fd6b5ac15377d646'), ObjectId('661e6ed1fd6b5ac15377d647'), ObjectId('661e6ed1fd6b5ac15377d648'), ObjectId('661e6ed1fd6b5ac15377d649'), ObjectId('661e6ed1fd6b5ac15377d64a'), ObjectId('661e6ed1fd6b5ac15377d64b'), ObjectId('661e6ed1fd6b5ac15377d64c'), ObjectId('661e6ed1fd6b5ac15377d64d'), ObjectId('661e6ed1fd6b5ac15377d64e'), ObjectId('661e6ed1fd6b5ac15377d64f'), ObjectId('661e6ed1fd6b5ac15377d650'), ObjectId('661e6ed1fd6b5ac15377d651'), ObjectId('661e6ed1fd6b5ac15377d652'), ObjectId('661e6ed1fd6b5ac15377d653'), ObjectId('661e6ed1fd6b5ac15377d654'), ObjectId('661e6ed1fd6b5ac15377d655'), ObjectId('661e6ed1fd6b5ac15377d656'), ObjectId('661e6ed1fd6b5ac15377d657'), ObjectId('661e6ed1fd6b5ac15377d658'), ObjectId('661e6ed1fd6b5ac15377d659'), ObjectId('661e6ed1fd6b5ac15377d65a'), ObjectId('661e6ed1fd6b5ac15377d65b'), ObjectId('661e6ed1fd6b5ac15377d65c'), ObjectId('661e6ed1fd6b5ac15377d65d'), ObjectId('661e6ed1fd6b5ac15377d65e'), ObjectId('661e6ed1fd6b5ac15377d65f'), ObjectId('661e6ed1fd6b5ac15377d660'), ObjectId('661e6ed1fd6b5ac15377d661'), ObjectId('661e6ed1fd6b5ac15377d662'), ObjectId('661e6ed1fd6b5ac15377d663'), ObjectId('661e6ed1fd6b5ac15377d664'), ObjectId('661e6ed1fd6b5ac15377d665'), ObjectId('661e6ed1fd6b5ac15377d666'), ObjectId('661e6ed1fd6b5ac15377d667'), ObjectId('661e6ed1fd6b5ac15377d668'), ObjectId('661e6ed1fd6b5ac15377d669'), ObjectId('661e6ed1fd6b5ac15377d66a'), ObjectId('661e6ed1fd6b5ac15377d66b'), ObjectId('661e6ed1fd6b5ac15377d66c'), ObjectId('661e6ed1fd6b5ac15377d66d'), ObjectId('661e6ed1fd6b5ac15377d66e'), ObjectId('661e6ed1fd6b5ac15377d66f'), ObjectId('661e6ed1fd6b5ac15377d670'), ObjectId('661e6ed1fd6b5ac15377d671'), ObjectId('661e6ed1fd6b5ac15377d672'), ObjectId('661e6ed1fd6b5ac15377d673'), ObjectId('661e6ed1fd6b5ac15377d674'), ObjectId('661e6ed1fd6b5ac15377d675'), ObjectId('661e6ed1fd6b5ac15377d676'), ObjectId('661e6ed1fd6b5ac15377d677'), ObjectId('661e6ed1fd6b5ac15377d678'), ObjectId('661e6ed1fd6b5ac15377d679'), ObjectId('661e6ed1fd6b5ac15377d67a'), ObjectId('661e6ed1fd6b5ac15377d67b'), ObjectId('661e6ed1fd6b5ac15377d67c'), ObjectId('661e6ed1fd6b5ac15377d67d'), ObjectId('661e6ed1fd6b5ac15377d67e'), ObjectId('661e6ed1fd6b5ac15377d67f'), ObjectId('661e6ed1fd6b5ac15377d680'), ObjectId('661e6ed1fd6b5ac15377d681'), ObjectId('661e6ed1fd6b5ac15377d682'), ObjectId('661e6ed1fd6b5ac15377d683'), ObjectId('661e6ed1fd6b5ac15377d684'), ObjectId('661e6ed1fd6b5ac15377d685'), ObjectId('661e6ed1fd6b5ac15377d686'), ObjectId('661e6ed1fd6b5ac15377d687'), ObjectId('661e6ed1fd6b5ac15377d688'), ObjectId('661e6ed1fd6b5ac15377d689'), ObjectId('661e6ed1fd6b5ac15377d68a'), ObjectId('661e6ed1fd6b5ac15377d68b'), ObjectId('661e6ed1fd6b5ac15377d68c'), ObjectId('661e6ed1fd6b5ac15377d68d'), ObjectId('661e6ed1fd6b5ac15377d68e'), ObjectId('661e6ed1fd6b5ac15377d68f'), ObjectId('661e6ed1fd6b5ac15377d690'), ObjectId('661e6ed1fd6b5ac15377d691'), ObjectId('661e6ed1fd6b5ac15377d692'), ObjectId('661e6ed1fd6b5ac15377d693'), ObjectId('661e6ed1fd6b5ac15377d694'), ObjectId('661e6ed1fd6b5ac15377d695'), ObjectId('661e6ed1fd6b5ac15377d696'), ObjectId('661e6ed1fd6b5ac15377d697'), ObjectId('661e6ed1fd6b5ac15377d698'), ObjectId('661e6ed1fd6b5ac15377d699'), ObjectId('661e6ed1fd6b5ac15377d69a'), ObjectId('661e6ed1fd6b5ac15377d69b'), ObjectId('661e6ed1fd6b5ac15377d69c'), ObjectId('661e6ed1fd6b5ac15377d69d'), ObjectId('661e6ed1fd6b5ac15377d69e'), ObjectId('661e6ed1fd6b5ac15377d69f'), ObjectId('661e6ed1fd6b5ac15377d6a0'), ObjectId('661e6ed1fd6b5ac15377d6a1'), ObjectId('661e6ed1fd6b5ac15377d6a2'), ObjectId('661e6ed1fd6b5ac15377d6a3'), ObjectId('661e6ed1fd6b5ac15377d6a4'), ObjectId('661e6ed1fd6b5ac15377d6a5'), ObjectId('661e6ed1fd6b5ac15377d6a6'), ObjectId('661e6ed1fd6b5ac15377d6a7'), ObjectId('661e6ed1fd6b5ac15377d6a8'), ObjectId('661e6ed1fd6b5ac15377d6a9'), ObjectId('661e6ed1fd6b5ac15377d6aa'), ObjectId('661e6ed1fd6b5ac15377d6ab'), ObjectId('661e6ed1fd6b5ac15377d6ac'), ObjectId('661e6ed1fd6b5ac15377d6ad'), ObjectId('661e6ed1fd6b5ac15377d6ae'), ObjectId('661e6ed1fd6b5ac15377d6af'), ObjectId('661e6ed1fd6b5ac15377d6b0'), ObjectId('661e6ed1fd6b5ac15377d6b1'), ObjectId('661e6ed1fd6b5ac15377d6b2'), ObjectId('661e6ed1fd6b5ac15377d6b3'), ObjectId('661e6ed1fd6b5ac15377d6b4'), ObjectId('661e6ed1fd6b5ac15377d6b5'), ObjectId('661e6ed1fd6b5ac15377d6b6'), ObjectId('661e6ed1fd6b5ac15377d6b7'), ObjectId('661e6ed1fd6b5ac15377d6b8'), ObjectId('661e6ed1fd6b5ac15377d6b9'), ObjectId('661e6ed1fd6b5ac15377d6ba'), ObjectId('661e6ed1fd6b5ac15377d6bb'), ObjectId('661e6ed1fd6b5ac15377d6bc'), ObjectId('661e6ed1fd6b5ac15377d6bd'), ObjectId('661e6ed1fd6b5ac15377d6be'), ObjectId('661e6ed1fd6b5ac15377d6bf'), ObjectId('661e6ed1fd6b5ac15377d6c0'), ObjectId('661e6ed1fd6b5ac15377d6c1'), ObjectId('661e6ed1fd6b5ac15377d6c2'), ObjectId('661e6ed1fd6b5ac15377d6c3'), ObjectId('661e6ed1fd6b5ac15377d6c4'), ObjectId('661e6ed1fd6b5ac15377d6c5'), ObjectId('661e6ed1fd6b5ac15377d6c6'), ObjectId('661e6ed1fd6b5ac15377d6c7'), ObjectId('661e6ed1fd6b5ac15377d6c8'), ObjectId('661e6ed1fd6b5ac15377d6c9'), ObjectId('661e6ed1fd6b5ac15377d6ca'), ObjectId('661e6ed1fd6b5ac15377d6cb'), ObjectId('661e6ed1fd6b5ac15377d6cc'), ObjectId('661e6ed1fd6b5ac15377d6cd'), ObjectId('661e6ed1fd6b5ac15377d6ce'), ObjectId('661e6ed1fd6b5ac15377d6cf'), ObjectId('661e6ed1fd6b5ac15377d6d0'), ObjectId('661e6ed1fd6b5ac15377d6d1'), ObjectId('661e6ed1fd6b5ac15377d6d2'), ObjectId('661e6ed1fd6b5ac15377d6d3'), ObjectId('661e6ed1fd6b5ac15377d6d4'), ObjectId('661e6ed1fd6b5ac15377d6d5'), ObjectId('661e6ed1fd6b5ac15377d6d6'), ObjectId('661e6ed1fd6b5ac15377d6d7'), ObjectId('661e6ed1fd6b5ac15377d6d8'), ObjectId('661e6ed1fd6b5ac15377d6d9'), ObjectId('661e6ed1fd6b5ac15377d6da'), ObjectId('661e6ed1fd6b5ac15377d6db'), ObjectId('661e6ed1fd6b5ac15377d6dc'), ObjectId('661e6ed1fd6b5ac15377d6dd'), ObjectId('661e6ed1fd6b5ac15377d6de'), ObjectId('661e6ed1fd6b5ac15377d6df'), ObjectId('661e6ed1fd6b5ac15377d6e0'), ObjectId('661e6ed1fd6b5ac15377d6e1'), ObjectId('661e6ed1fd6b5ac15377d6e2'), ObjectId('661e6ed1fd6b5ac15377d6e3'), ObjectId('661e6ed1fd6b5ac15377d6e4'), ObjectId('661e6ed1fd6b5ac15377d6e5'), ObjectId('661e6ed1fd6b5ac15377d6e6'), ObjectId('661e6ed1fd6b5ac15377d6e7'), ObjectId('661e6ed1fd6b5ac15377d6e8'), ObjectId('661e6ed1fd6b5ac15377d6e9'), ObjectId('661e6ed1fd6b5ac15377d6ea'), ObjectId('661e6ed1fd6b5ac15377d6eb'), ObjectId('661e6ed1fd6b5ac15377d6ec'), ObjectId('661e6ed1fd6b5ac15377d6ed'), ObjectId('661e6ed1fd6b5ac15377d6ee'), ObjectId('661e6ed1fd6b5ac15377d6ef'), ObjectId('661e6ed1fd6b5ac15377d6f0'), ObjectId('661e6ed1fd6b5ac15377d6f1'), ObjectId('661e6ed1fd6b5ac15377d6f2'), ObjectId('661e6ed1fd6b5ac15377d6f3'), ObjectId('661e6ed1fd6b5ac15377d6f4'), ObjectId('661e6ed1fd6b5ac15377d6f5'), ObjectId('661e6ed1fd6b5ac15377d6f6'), ObjectId('661e6ed1fd6b5ac15377d6f7'), ObjectId('661e6ed1fd6b5ac15377d6f8'), ObjectId('661e6ed1fd6b5ac15377d6f9'), ObjectId('661e6ed1fd6b5ac15377d6fa'), ObjectId('661e6ed1fd6b5ac15377d6fb'), ObjectId('661e6ed1fd6b5ac15377d6fc'), ObjectId('661e6ed1fd6b5ac15377d6fd'), ObjectId('661e6ed1fd6b5ac15377d6fe'), ObjectId('661e6ed1fd6b5ac15377d6ff'), ObjectId('661e6ed1fd6b5ac15377d700'), ObjectId('661e6ed1fd6b5ac15377d701'), ObjectId('661e6ed1fd6b5ac15377d702'), ObjectId('661e6ed1fd6b5ac15377d703'), ObjectId('661e6ed1fd6b5ac15377d704'), ObjectId('661e6ed1fd6b5ac15377d705'), ObjectId('661e6ed1fd6b5ac15377d706'), ObjectId('661e6ed1fd6b5ac15377d707'), ObjectId('661e6ed1fd6b5ac15377d708'), ObjectId('661e6ed1fd6b5ac15377d709'), ObjectId('661e6ed1fd6b5ac15377d70a'), ObjectId('661e6ed1fd6b5ac15377d70b'), ObjectId('661e6ed1fd6b5ac15377d70c'), ObjectId('661e6ed1fd6b5ac15377d70d'), ObjectId('661e6ed1fd6b5ac15377d70e'), ObjectId('661e6ed1fd6b5ac15377d70f'), ObjectId('661e6ed1fd6b5ac15377d710'), ObjectId('661e6ed1fd6b5ac15377d711'), ObjectId('661e6ed1fd6b5ac15377d712'), ObjectId('661e6ed1fd6b5ac15377d713'), ObjectId('661e6ed1fd6b5ac15377d714'), ObjectId('661e6ed1fd6b5ac15377d715'), ObjectId('661e6ed1fd6b5ac15377d716'), ObjectId('661e6ed1fd6b5ac15377d717'), ObjectId('661e6ed1fd6b5ac15377d718'), ObjectId('661e6ed1fd6b5ac15377d719'), ObjectId('661e6ed1fd6b5ac15377d71a'), ObjectId('661e6ed1fd6b5ac15377d71b'), ObjectId('661e6ed1fd6b5ac15377d71c'), ObjectId('661e6ed1fd6b5ac15377d71d'), ObjectId('661e6ed1fd6b5ac15377d71e'), ObjectId('661e6ed1fd6b5ac15377d71f'), ObjectId('661e6ed1fd6b5ac15377d720'), ObjectId('661e6ed1fd6b5ac15377d721'), ObjectId('661e6ed1fd6b5ac15377d722'), ObjectId('661e6ed1fd6b5ac15377d723'), ObjectId('661e6ed1fd6b5ac15377d724'), ObjectId('661e6ed1fd6b5ac15377d725'), ObjectId('661e6ed1fd6b5ac15377d726'), ObjectId('661e6ed1fd6b5ac15377d727'), ObjectId('661e6ed1fd6b5ac15377d728'), ObjectId('661e6ed1fd6b5ac15377d729'), ObjectId('661e6ed1fd6b5ac15377d72a'), ObjectId('661e6ed1fd6b5ac15377d72b'), ObjectId('661e6ed1fd6b5ac15377d72c'), ObjectId('661e6ed1fd6b5ac15377d72d'), ObjectId('661e6ed1fd6b5ac15377d72e'), ObjectId('661e6ed1fd6b5ac15377d72f'), ObjectId('661e6ed1fd6b5ac15377d730'), ObjectId('661e6ed1fd6b5ac15377d731'), ObjectId('661e6ed1fd6b5ac15377d732'), ObjectId('661e6ed1fd6b5ac15377d733'), ObjectId('661e6ed1fd6b5ac15377d734'), ObjectId('661e6ed1fd6b5ac15377d735'), ObjectId('661e6ed1fd6b5ac15377d736'), ObjectId('661e6ed1fd6b5ac15377d737'), ObjectId('661e6ed1fd6b5ac15377d738'), ObjectId('661e6ed1fd6b5ac15377d739'), ObjectId('661e6ed1fd6b5ac15377d73a'), ObjectId('661e6ed1fd6b5ac15377d73b'), ObjectId('661e6ed1fd6b5ac15377d73c'), ObjectId('661e6ed1fd6b5ac15377d73d'), ObjectId('661e6ed1fd6b5ac15377d73e'), ObjectId('661e6ed1fd6b5ac15377d73f'), ObjectId('661e6ed1fd6b5ac15377d740'), ObjectId('661e6ed1fd6b5ac15377d741'), ObjectId('661e6ed1fd6b5ac15377d742'), ObjectId('661e6ed1fd6b5ac15377d743'), ObjectId('661e6ed1fd6b5ac15377d744'), ObjectId('661e6ed1fd6b5ac15377d745'), ObjectId('661e6ed1fd6b5ac15377d746'), ObjectId('661e6ed1fd6b5ac15377d747'), ObjectId('661e6ed1fd6b5ac15377d748'), ObjectId('661e6ed1fd6b5ac15377d749'), ObjectId('661e6ed1fd6b5ac15377d74a'), ObjectId('661e6ed1fd6b5ac15377d74b'), ObjectId('661e6ed1fd6b5ac15377d74c'), ObjectId('661e6ed1fd6b5ac15377d74d'), ObjectId('661e6ed1fd6b5ac15377d74e'), ObjectId('661e6ed1fd6b5ac15377d74f'), ObjectId('661e6ed1fd6b5ac15377d750'), ObjectId('661e6ed1fd6b5ac15377d751'), ObjectId('661e6ed1fd6b5ac15377d752'), ObjectId('661e6ed1fd6b5ac15377d753'), ObjectId('661e6ed1fd6b5ac15377d754'), ObjectId('661e6ed1fd6b5ac15377d755'), ObjectId('661e6ed1fd6b5ac15377d756'), ObjectId('661e6ed1fd6b5ac15377d757'), ObjectId('661e6ed1fd6b5ac15377d758'), ObjectId('661e6ed1fd6b5ac15377d759'), ObjectId('661e6ed1fd6b5ac15377d75a'), ObjectId('661e6ed1fd6b5ac15377d75b'), ObjectId('661e6ed1fd6b5ac15377d75c'), ObjectId('661e6ed1fd6b5ac15377d75d'), ObjectId('661e6ed1fd6b5ac15377d75e'), ObjectId('661e6ed1fd6b5ac15377d75f'), ObjectId('661e6ed1fd6b5ac15377d760'), ObjectId('661e6ed1fd6b5ac15377d761'), ObjectId('661e6ed1fd6b5ac15377d762'), ObjectId('661e6ed1fd6b5ac15377d763'), ObjectId('661e6ed1fd6b5ac15377d764'), ObjectId('661e6ed1fd6b5ac15377d765'), ObjectId('661e6ed1fd6b5ac15377d766'), ObjectId('661e6ed1fd6b5ac15377d767'), ObjectId('661e6ed1fd6b5ac15377d768'), ObjectId('661e6ed1fd6b5ac15377d769'), ObjectId('661e6ed1fd6b5ac15377d76a'), ObjectId('661e6ed1fd6b5ac15377d76b'), ObjectId('661e6ed1fd6b5ac15377d76c'), ObjectId('661e6ed1fd6b5ac15377d76d'), ObjectId('661e6ed1fd6b5ac15377d76e'), ObjectId('661e6ed1fd6b5ac15377d76f'), ObjectId('661e6ed1fd6b5ac15377d770'), ObjectId('661e6ed1fd6b5ac15377d771'), ObjectId('661e6ed1fd6b5ac15377d772'), ObjectId('661e6ed1fd6b5ac15377d773'), ObjectId('661e6ed1fd6b5ac15377d774'), ObjectId('661e6ed1fd6b5ac15377d775'), ObjectId('661e6ed1fd6b5ac15377d776'), ObjectId('661e6ed1fd6b5ac15377d777'), ObjectId('661e6ed1fd6b5ac15377d778'), ObjectId('661e6ed1fd6b5ac15377d779'), ObjectId('661e6ed1fd6b5ac15377d77a'), ObjectId('661e6ed1fd6b5ac15377d77b'), ObjectId('661e6ed1fd6b5ac15377d77c'), ObjectId('661e6ed1fd6b5ac15377d77d'), ObjectId('661e6ed1fd6b5ac15377d77e'), ObjectId('661e6ed1fd6b5ac15377d77f'), ObjectId('661e6ed1fd6b5ac15377d780'), ObjectId('661e6ed1fd6b5ac15377d781'), ObjectId('661e6ed1fd6b5ac15377d782'), ObjectId('661e6ed1fd6b5ac15377d783'), ObjectId('661e6ed1fd6b5ac15377d784'), ObjectId('661e6ed1fd6b5ac15377d785'), ObjectId('661e6ed1fd6b5ac15377d786'), ObjectId('661e6ed1fd6b5ac15377d787'), ObjectId('661e6ed1fd6b5ac15377d788'), ObjectId('661e6ed1fd6b5ac15377d789'), ObjectId('661e6ed1fd6b5ac15377d78a'), ObjectId('661e6ed1fd6b5ac15377d78b'), ObjectId('661e6ed1fd6b5ac15377d78c'), ObjectId('661e6ed1fd6b5ac15377d78d'), ObjectId('661e6ed1fd6b5ac15377d78e'), ObjectId('661e6ed1fd6b5ac15377d78f'), ObjectId('661e6ed1fd6b5ac15377d790'), ObjectId('661e6ed1fd6b5ac15377d791'), ObjectId('661e6ed1fd6b5ac15377d792'), ObjectId('661e6ed1fd6b5ac15377d793'), ObjectId('661e6ed1fd6b5ac15377d794'), ObjectId('661e6ed1fd6b5ac15377d795'), ObjectId('661e6ed1fd6b5ac15377d796'), ObjectId('661e6ed1fd6b5ac15377d797'), ObjectId('661e6ed1fd6b5ac15377d798'), ObjectId('661e6ed1fd6b5ac15377d799'), ObjectId('661e6ed1fd6b5ac15377d79a'), ObjectId('661e6ed1fd6b5ac15377d79b'), ObjectId('661e6ed1fd6b5ac15377d79c'), ObjectId('661e6ed1fd6b5ac15377d79d'), ObjectId('661e6ed1fd6b5ac15377d79e'), ObjectId('661e6ed1fd6b5ac15377d79f'), ObjectId('661e6ed1fd6b5ac15377d7a0'), ObjectId('661e6ed1fd6b5ac15377d7a1'), ObjectId('661e6ed1fd6b5ac15377d7a2'), ObjectId('661e6ed1fd6b5ac15377d7a3'), ObjectId('661e6ed1fd6b5ac15377d7a4'), ObjectId('661e6ed1fd6b5ac15377d7a5'), ObjectId('661e6ed1fd6b5ac15377d7a6'), ObjectId('661e6ed1fd6b5ac15377d7a7'), ObjectId('661e6ed1fd6b5ac15377d7a8'), ObjectId('661e6ed1fd6b5ac15377d7a9'), ObjectId('661e6ed1fd6b5ac15377d7aa'), ObjectId('661e6ed1fd6b5ac15377d7ab'), ObjectId('661e6ed1fd6b5ac15377d7ac'), ObjectId('661e6ed1fd6b5ac15377d7ad'), ObjectId('661e6ed1fd6b5ac15377d7ae'), ObjectId('661e6ed1fd6b5ac15377d7af'), ObjectId('661e6ed1fd6b5ac15377d7b0'), ObjectId('661e6ed1fd6b5ac15377d7b1'), ObjectId('661e6ed1fd6b5ac15377d7b2'), ObjectId('661e6ed1fd6b5ac15377d7b3'), ObjectId('661e6ed1fd6b5ac15377d7b4'), ObjectId('661e6ed1fd6b5ac15377d7b5'), ObjectId('661e6ed1fd6b5ac15377d7b6'), ObjectId('661e6ed1fd6b5ac15377d7b7'), ObjectId('661e6ed1fd6b5ac15377d7b8'), ObjectId('661e6ed1fd6b5ac15377d7b9'), ObjectId('661e6ed1fd6b5ac15377d7ba'), ObjectId('661e6ed1fd6b5ac15377d7bb'), ObjectId('661e6ed1fd6b5ac15377d7bc'), ObjectId('661e6ed1fd6b5ac15377d7bd'), ObjectId('661e6ed1fd6b5ac15377d7be'), ObjectId('661e6ed1fd6b5ac15377d7bf'), ObjectId('661e6ed1fd6b5ac15377d7c0'), ObjectId('661e6ed1fd6b5ac15377d7c1'), ObjectId('661e6ed1fd6b5ac15377d7c2'), ObjectId('661e6ed1fd6b5ac15377d7c3'), ObjectId('661e6ed1fd6b5ac15377d7c4'), ObjectId('661e6ed1fd6b5ac15377d7c5'), ObjectId('661e6ed1fd6b5ac15377d7c6'), ObjectId('661e6ed1fd6b5ac15377d7c7'), ObjectId('661e6ed1fd6b5ac15377d7c8'), ObjectId('661e6ed1fd6b5ac15377d7c9'), ObjectId('661e6ed1fd6b5ac15377d7ca'), ObjectId('661e6ed1fd6b5ac15377d7cb'), ObjectId('661e6ed1fd6b5ac15377d7cc'), ObjectId('661e6ed1fd6b5ac15377d7cd'), ObjectId('661e6ed1fd6b5ac15377d7ce'), ObjectId('661e6ed1fd6b5ac15377d7cf'), ObjectId('661e6ed1fd6b5ac15377d7d0'), ObjectId('661e6ed1fd6b5ac15377d7d1'), ObjectId('661e6ed1fd6b5ac15377d7d2'), ObjectId('661e6ed1fd6b5ac15377d7d3'), ObjectId('661e6ed1fd6b5ac15377d7d4'), ObjectId('661e6ed1fd6b5ac15377d7d5'), ObjectId('661e6ed1fd6b5ac15377d7d6'), ObjectId('661e6ed1fd6b5ac15377d7d7'), ObjectId('661e6ed1fd6b5ac15377d7d8'), ObjectId('661e6ed1fd6b5ac15377d7d9'), ObjectId('661e6ed1fd6b5ac15377d7da'), ObjectId('661e6ed1fd6b5ac15377d7db'), ObjectId('661e6ed1fd6b5ac15377d7dc'), ObjectId('661e6ed1fd6b5ac15377d7dd'), ObjectId('661e6ed1fd6b5ac15377d7de'), ObjectId('661e6ed1fd6b5ac15377d7df'), ObjectId('661e6ed1fd6b5ac15377d7e0'), ObjectId('661e6ed1fd6b5ac15377d7e1'), ObjectId('661e6ed1fd6b5ac15377d7e2'), ObjectId('661e6ed1fd6b5ac15377d7e3'), ObjectId('661e6ed1fd6b5ac15377d7e4'), ObjectId('661e6ed1fd6b5ac15377d7e5'), ObjectId('661e6ed1fd6b5ac15377d7e6'), ObjectId('661e6ed1fd6b5ac15377d7e7'), ObjectId('661e6ed1fd6b5ac15377d7e8'), ObjectId('661e6ed1fd6b5ac15377d7e9'), ObjectId('661e6ed1fd6b5ac15377d7ea'), ObjectId('661e6ed1fd6b5ac15377d7eb'), ObjectId('661e6ed1fd6b5ac15377d7ec'), ObjectId('661e6ed1fd6b5ac15377d7ed'), ObjectId('661e6ed1fd6b5ac15377d7ee'), ObjectId('661e6ed1fd6b5ac15377d7ef'), ObjectId('661e6ed1fd6b5ac15377d7f0'), ObjectId('661e6ed1fd6b5ac15377d7f1'), ObjectId('661e6ed1fd6b5ac15377d7f2'), ObjectId('661e6ed1fd6b5ac15377d7f3'), ObjectId('661e6ed1fd6b5ac15377d7f4'), ObjectId('661e6ed1fd6b5ac15377d7f5'), ObjectId('661e6ed1fd6b5ac15377d7f6'), ObjectId('661e6ed1fd6b5ac15377d7f7'), ObjectId('661e6ed1fd6b5ac15377d7f8'), ObjectId('661e6ed1fd6b5ac15377d7f9'), ObjectId('661e6ed1fd6b5ac15377d7fa'), ObjectId('661e6ed1fd6b5ac15377d7fb'), ObjectId('661e6ed1fd6b5ac15377d7fc'), ObjectId('661e6ed1fd6b5ac15377d7fd'), ObjectId('661e6ed1fd6b5ac15377d7fe'), ObjectId('661e6ed1fd6b5ac15377d7ff'), ObjectId('661e6ed1fd6b5ac15377d800'), ObjectId('661e6ed1fd6b5ac15377d801'), ObjectId('661e6ed1fd6b5ac15377d802'), ObjectId('661e6ed1fd6b5ac15377d803'), ObjectId('661e6ed1fd6b5ac15377d804'), ObjectId('661e6ed1fd6b5ac15377d805'), ObjectId('661e6ed1fd6b5ac15377d806'), ObjectId('661e6ed1fd6b5ac15377d807'), ObjectId('661e6ed1fd6b5ac15377d808'), ObjectId('661e6ed1fd6b5ac15377d809'), ObjectId('661e6ed1fd6b5ac15377d80a'), ObjectId('661e6ed1fd6b5ac15377d80b'), ObjectId('661e6ed1fd6b5ac15377d80c'), ObjectId('661e6ed1fd6b5ac15377d80d'), ObjectId('661e6ed1fd6b5ac15377d80e'), ObjectId('661e6ed1fd6b5ac15377d80f'), ObjectId('661e6ed1fd6b5ac15377d810'), ObjectId('661e6ed1fd6b5ac15377d811'), ObjectId('661e6ed1fd6b5ac15377d812'), ObjectId('661e6ed1fd6b5ac15377d813'), ObjectId('661e6ed1fd6b5ac15377d814'), ObjectId('661e6ed1fd6b5ac15377d815'), ObjectId('661e6ed1fd6b5ac15377d816'), ObjectId('661e6ed1fd6b5ac15377d817'), ObjectId('661e6ed1fd6b5ac15377d818'), ObjectId('661e6ed1fd6b5ac15377d819'), ObjectId('661e6ed1fd6b5ac15377d81a'), ObjectId('661e6ed1fd6b5ac15377d81b'), ObjectId('661e6ed1fd6b5ac15377d81c'), ObjectId('661e6ed1fd6b5ac15377d81d'), ObjectId('661e6ed1fd6b5ac15377d81e'), ObjectId('661e6ed1fd6b5ac15377d81f'), ObjectId('661e6ed1fd6b5ac15377d820'), ObjectId('661e6ed1fd6b5ac15377d821'), ObjectId('661e6ed1fd6b5ac15377d822'), ObjectId('661e6ed1fd6b5ac15377d823'), ObjectId('661e6ed1fd6b5ac15377d824'), ObjectId('661e6ed1fd6b5ac15377d825'), ObjectId('661e6ed1fd6b5ac15377d826'), ObjectId('661e6ed1fd6b5ac15377d827'), ObjectId('661e6ed1fd6b5ac15377d828'), ObjectId('661e6ed1fd6b5ac15377d829'), ObjectId('661e6ed1fd6b5ac15377d82a'), ObjectId('661e6ed1fd6b5ac15377d82b'), ObjectId('661e6ed1fd6b5ac15377d82c'), ObjectId('661e6ed1fd6b5ac15377d82d'), ObjectId('661e6ed1fd6b5ac15377d82e'), ObjectId('661e6ed1fd6b5ac15377d82f'), ObjectId('661e6ed1fd6b5ac15377d830'), ObjectId('661e6ed1fd6b5ac15377d831'), ObjectId('661e6ed1fd6b5ac15377d832'), ObjectId('661e6ed1fd6b5ac15377d833'), ObjectId('661e6ed1fd6b5ac15377d834'), ObjectId('661e6ed1fd6b5ac15377d835'), ObjectId('661e6ed1fd6b5ac15377d836'), ObjectId('661e6ed1fd6b5ac15377d837'), ObjectId('661e6ed1fd6b5ac15377d838'), ObjectId('661e6ed1fd6b5ac15377d839'), ObjectId('661e6ed1fd6b5ac15377d83a'), ObjectId('661e6ed1fd6b5ac15377d83b'), ObjectId('661e6ed1fd6b5ac15377d83c'), ObjectId('661e6ed1fd6b5ac15377d83d'), ObjectId('661e6ed1fd6b5ac15377d83e'), ObjectId('661e6ed1fd6b5ac15377d83f'), ObjectId('661e6ed1fd6b5ac15377d840'), ObjectId('661e6ed1fd6b5ac15377d841'), ObjectId('661e6ed1fd6b5ac15377d842'), ObjectId('661e6ed1fd6b5ac15377d843'), ObjectId('661e6ed1fd6b5ac15377d844'), ObjectId('661e6ed1fd6b5ac15377d845'), ObjectId('661e6ed1fd6b5ac15377d846'), ObjectId('661e6ed1fd6b5ac15377d847'), ObjectId('661e6ed1fd6b5ac15377d848'), ObjectId('661e6ed1fd6b5ac15377d849'), ObjectId('661e6ed1fd6b5ac15377d84a'), ObjectId('661e6ed1fd6b5ac15377d84b'), ObjectId('661e6ed1fd6b5ac15377d84c'), ObjectId('661e6ed1fd6b5ac15377d84d'), ObjectId('661e6ed1fd6b5ac15377d84e'), ObjectId('661e6ed1fd6b5ac15377d84f'), ObjectId('661e6ed1fd6b5ac15377d850'), ObjectId('661e6ed1fd6b5ac15377d851'), ObjectId('661e6ed1fd6b5ac15377d852'), ObjectId('661e6ed1fd6b5ac15377d853'), ObjectId('661e6ed1fd6b5ac15377d854'), ObjectId('661e6ed1fd6b5ac15377d855'), ObjectId('661e6ed1fd6b5ac15377d856'), ObjectId('661e6ed1fd6b5ac15377d857'), ObjectId('661e6ed1fd6b5ac15377d858'), ObjectId('661e6ed1fd6b5ac15377d859'), ObjectId('661e6ed1fd6b5ac15377d85a'), ObjectId('661e6ed1fd6b5ac15377d85b'), ObjectId('661e6ed1fd6b5ac15377d85c'), ObjectId('661e6ed1fd6b5ac15377d85d'), ObjectId('661e6ed1fd6b5ac15377d85e'), ObjectId('661e6ed1fd6b5ac15377d85f'), ObjectId('661e6ed1fd6b5ac15377d860'), ObjectId('661e6ed1fd6b5ac15377d861'), ObjectId('661e6ed1fd6b5ac15377d862'), ObjectId('661e6ed1fd6b5ac15377d863'), ObjectId('661e6ed1fd6b5ac15377d864'), ObjectId('661e6ed1fd6b5ac15377d865'), ObjectId('661e6ed1fd6b5ac15377d866'), ObjectId('661e6ed1fd6b5ac15377d867'), ObjectId('661e6ed1fd6b5ac15377d868'), ObjectId('661e6ed1fd6b5ac15377d869'), ObjectId('661e6ed1fd6b5ac15377d86a'), ObjectId('661e6ed1fd6b5ac15377d86b'), ObjectId('661e6ed1fd6b5ac15377d86c'), ObjectId('661e6ed1fd6b5ac15377d86d'), ObjectId('661e6ed1fd6b5ac15377d86e'), ObjectId('661e6ed1fd6b5ac15377d86f'), ObjectId('661e6ed1fd6b5ac15377d870'), ObjectId('661e6ed1fd6b5ac15377d871'), ObjectId('661e6ed1fd6b5ac15377d872'), ObjectId('661e6ed1fd6b5ac15377d873'), ObjectId('661e6ed1fd6b5ac15377d874'), ObjectId('661e6ed1fd6b5ac15377d875'), ObjectId('661e6ed1fd6b5ac15377d876'), ObjectId('661e6ed1fd6b5ac15377d877'), ObjectId('661e6ed1fd6b5ac15377d878'), ObjectId('661e6ed1fd6b5ac15377d879'), ObjectId('661e6ed1fd6b5ac15377d87a'), ObjectId('661e6ed1fd6b5ac15377d87b'), ObjectId('661e6ed1fd6b5ac15377d87c'), ObjectId('661e6ed1fd6b5ac15377d87d'), ObjectId('661e6ed1fd6b5ac15377d87e'), ObjectId('661e6ed1fd6b5ac15377d87f'), ObjectId('661e6ed1fd6b5ac15377d880'), ObjectId('661e6ed1fd6b5ac15377d881'), ObjectId('661e6ed1fd6b5ac15377d882'), ObjectId('661e6ed1fd6b5ac15377d883'), ObjectId('661e6ed1fd6b5ac15377d884'), ObjectId('661e6ed1fd6b5ac15377d885'), ObjectId('661e6ed1fd6b5ac15377d886'), ObjectId('661e6ed1fd6b5ac15377d887'), ObjectId('661e6ed1fd6b5ac15377d888'), ObjectId('661e6ed1fd6b5ac15377d889'), ObjectId('661e6ed1fd6b5ac15377d88a'), ObjectId('661e6ed1fd6b5ac15377d88b'), ObjectId('661e6ed1fd6b5ac15377d88c'), ObjectId('661e6ed1fd6b5ac15377d88d'), ObjectId('661e6ed1fd6b5ac15377d88e'), ObjectId('661e6ed1fd6b5ac15377d88f'), ObjectId('661e6ed1fd6b5ac15377d890'), ObjectId('661e6ed1fd6b5ac15377d891'), ObjectId('661e6ed1fd6b5ac15377d892'), ObjectId('661e6ed1fd6b5ac15377d893'), ObjectId('661e6ed1fd6b5ac15377d894'), ObjectId('661e6ed1fd6b5ac15377d895'), ObjectId('661e6ed1fd6b5ac15377d896'), ObjectId('661e6ed1fd6b5ac15377d897'), ObjectId('661e6ed1fd6b5ac15377d898'), ObjectId('661e6ed1fd6b5ac15377d899'), ObjectId('661e6ed1fd6b5ac15377d89a'), ObjectId('661e6ed1fd6b5ac15377d89b'), ObjectId('661e6ed1fd6b5ac15377d89c'), ObjectId('661e6ed1fd6b5ac15377d89d'), ObjectId('661e6ed1fd6b5ac15377d89e'), ObjectId('661e6ed1fd6b5ac15377d89f'), ObjectId('661e6ed1fd6b5ac15377d8a0'), ObjectId('661e6ed1fd6b5ac15377d8a1'), ObjectId('661e6ed1fd6b5ac15377d8a2'), ObjectId('661e6ed1fd6b5ac15377d8a3'), ObjectId('661e6ed1fd6b5ac15377d8a4'), ObjectId('661e6ed1fd6b5ac15377d8a5'), ObjectId('661e6ed1fd6b5ac15377d8a6'), ObjectId('661e6ed1fd6b5ac15377d8a7'), ObjectId('661e6ed1fd6b5ac15377d8a8'), ObjectId('661e6ed1fd6b5ac15377d8a9'), ObjectId('661e6ed1fd6b5ac15377d8aa'), ObjectId('661e6ed1fd6b5ac15377d8ab'), ObjectId('661e6ed1fd6b5ac15377d8ac'), ObjectId('661e6ed1fd6b5ac15377d8ad'), ObjectId('661e6ed1fd6b5ac15377d8ae'), ObjectId('661e6ed1fd6b5ac15377d8af'), ObjectId('661e6ed1fd6b5ac15377d8b0'), ObjectId('661e6ed1fd6b5ac15377d8b1'), ObjectId('661e6ed1fd6b5ac15377d8b2'), ObjectId('661e6ed1fd6b5ac15377d8b3'), ObjectId('661e6ed1fd6b5ac15377d8b4'), ObjectId('661e6ed1fd6b5ac15377d8b5'), ObjectId('661e6ed1fd6b5ac15377d8b6'), ObjectId('661e6ed1fd6b5ac15377d8b7'), ObjectId('661e6ed1fd6b5ac15377d8b8'), ObjectId('661e6ed1fd6b5ac15377d8b9'), ObjectId('661e6ed1fd6b5ac15377d8ba'), ObjectId('661e6ed1fd6b5ac15377d8bb'), ObjectId('661e6ed1fd6b5ac15377d8bc'), ObjectId('661e6ed1fd6b5ac15377d8bd'), ObjectId('661e6ed1fd6b5ac15377d8be'), ObjectId('661e6ed1fd6b5ac15377d8bf'), ObjectId('661e6ed1fd6b5ac15377d8c0'), ObjectId('661e6ed1fd6b5ac15377d8c1'), ObjectId('661e6ed1fd6b5ac15377d8c2'), ObjectId('661e6ed1fd6b5ac15377d8c3'), ObjectId('661e6ed1fd6b5ac15377d8c4'), ObjectId('661e6ed1fd6b5ac15377d8c5'), ObjectId('661e6ed1fd6b5ac15377d8c6'), ObjectId('661e6ed1fd6b5ac15377d8c7'), ObjectId('661e6ed1fd6b5ac15377d8c8'), ObjectId('661e6ed1fd6b5ac15377d8c9'), ObjectId('661e6ed1fd6b5ac15377d8ca'), ObjectId('661e6ed1fd6b5ac15377d8cb'), ObjectId('661e6ed1fd6b5ac15377d8cc'), ObjectId('661e6ed1fd6b5ac15377d8cd'), ObjectId('661e6ed1fd6b5ac15377d8ce'), ObjectId('661e6ed1fd6b5ac15377d8cf'), ObjectId('661e6ed1fd6b5ac15377d8d0'), ObjectId('661e6ed1fd6b5ac15377d8d1'), ObjectId('661e6ed1fd6b5ac15377d8d2'), ObjectId('661e6ed1fd6b5ac15377d8d3'), ObjectId('661e6ed1fd6b5ac15377d8d4'), ObjectId('661e6ed1fd6b5ac15377d8d5'), ObjectId('661e6ed1fd6b5ac15377d8d6'), ObjectId('661e6ed1fd6b5ac15377d8d7'), ObjectId('661e6ed1fd6b5ac15377d8d8'), ObjectId('661e6ed1fd6b5ac15377d8d9'), ObjectId('661e6ed1fd6b5ac15377d8da'), ObjectId('661e6ed1fd6b5ac15377d8db'), ObjectId('661e6ed1fd6b5ac15377d8dc'), ObjectId('661e6ed1fd6b5ac15377d8dd'), ObjectId('661e6ed1fd6b5ac15377d8de'), ObjectId('661e6ed1fd6b5ac15377d8df'), ObjectId('661e6ed1fd6b5ac15377d8e0'), ObjectId('661e6ed1fd6b5ac15377d8e1'), ObjectId('661e6ed1fd6b5ac15377d8e2'), ObjectId('661e6ed1fd6b5ac15377d8e3'), ObjectId('661e6ed1fd6b5ac15377d8e4'), ObjectId('661e6ed1fd6b5ac15377d8e5'), ObjectId('661e6ed1fd6b5ac15377d8e6'), ObjectId('661e6ed1fd6b5ac15377d8e7'), ObjectId('661e6ed1fd6b5ac15377d8e8'), ObjectId('661e6ed1fd6b5ac15377d8e9'), ObjectId('661e6ed1fd6b5ac15377d8ea'), ObjectId('661e6ed1fd6b5ac15377d8eb'), ObjectId('661e6ed1fd6b5ac15377d8ec'), ObjectId('661e6ed1fd6b5ac15377d8ed'), ObjectId('661e6ed1fd6b5ac15377d8ee'), ObjectId('661e6ed1fd6b5ac15377d8ef'), ObjectId('661e6ed1fd6b5ac15377d8f0'), ObjectId('661e6ed1fd6b5ac15377d8f1'), ObjectId('661e6ed1fd6b5ac15377d8f2'), ObjectId('661e6ed1fd6b5ac15377d8f3'), ObjectId('661e6ed1fd6b5ac15377d8f4'), ObjectId('661e6ed1fd6b5ac15377d8f5'), ObjectId('661e6ed1fd6b5ac15377d8f6'), ObjectId('661e6ed1fd6b5ac15377d8f7'), ObjectId('661e6ed1fd6b5ac15377d8f8'), ObjectId('661e6ed1fd6b5ac15377d8f9'), ObjectId('661e6ed1fd6b5ac15377d8fa'), ObjectId('661e6ed1fd6b5ac15377d8fb'), ObjectId('661e6ed1fd6b5ac15377d8fc'), ObjectId('661e6ed1fd6b5ac15377d8fd'), ObjectId('661e6ed1fd6b5ac15377d8fe'), ObjectId('661e6ed1fd6b5ac15377d8ff'), ObjectId('661e6ed1fd6b5ac15377d900'), ObjectId('661e6ed1fd6b5ac15377d901'), ObjectId('661e6ed1fd6b5ac15377d902'), ObjectId('661e6ed1fd6b5ac15377d903'), ObjectId('661e6ed1fd6b5ac15377d904'), ObjectId('661e6ed1fd6b5ac15377d905'), ObjectId('661e6ed1fd6b5ac15377d906'), ObjectId('661e6ed1fd6b5ac15377d907'), ObjectId('661e6ed1fd6b5ac15377d908'), ObjectId('661e6ed1fd6b5ac15377d909'), ObjectId('661e6ed1fd6b5ac15377d90a'), ObjectId('661e6ed1fd6b5ac15377d90b'), ObjectId('661e6ed1fd6b5ac15377d90c'), ObjectId('661e6ed1fd6b5ac15377d90d'), ObjectId('661e6ed1fd6b5ac15377d90e'), ObjectId('661e6ed1fd6b5ac15377d90f'), ObjectId('661e6ed1fd6b5ac15377d910'), ObjectId('661e6ed1fd6b5ac15377d911'), ObjectId('661e6ed1fd6b5ac15377d912'), ObjectId('661e6ed1fd6b5ac15377d913'), ObjectId('661e6ed1fd6b5ac15377d914'), ObjectId('661e6ed1fd6b5ac15377d915'), ObjectId('661e6ed1fd6b5ac15377d916'), ObjectId('661e6ed1fd6b5ac15377d917'), ObjectId('661e6ed1fd6b5ac15377d918'), ObjectId('661e6ed1fd6b5ac15377d919'), ObjectId('661e6ed1fd6b5ac15377d91a'), ObjectId('661e6ed1fd6b5ac15377d91b'), ObjectId('661e6ed1fd6b5ac15377d91c'), ObjectId('661e6ed1fd6b5ac15377d91d'), ObjectId('661e6ed1fd6b5ac15377d91e'), ObjectId('661e6ed1fd6b5ac15377d91f'), ObjectId('661e6ed1fd6b5ac15377d920'), ObjectId('661e6ed1fd6b5ac15377d921'), ObjectId('661e6ed1fd6b5ac15377d922'), ObjectId('661e6ed1fd6b5ac15377d923'), ObjectId('661e6ed1fd6b5ac15377d924'), ObjectId('661e6ed1fd6b5ac15377d925'), ObjectId('661e6ed1fd6b5ac15377d926'), ObjectId('661e6ed1fd6b5ac15377d927'), ObjectId('661e6ed1fd6b5ac15377d928'), ObjectId('661e6ed1fd6b5ac15377d929'), ObjectId('661e6ed1fd6b5ac15377d92a'), ObjectId('661e6ed1fd6b5ac15377d92b'), ObjectId('661e6ed1fd6b5ac15377d92c'), ObjectId('661e6ed1fd6b5ac15377d92d'), ObjectId('661e6ed1fd6b5ac15377d92e'), ObjectId('661e6ed1fd6b5ac15377d92f'), ObjectId('661e6ed1fd6b5ac15377d930'), ObjectId('661e6ed1fd6b5ac15377d931'), ObjectId('661e6ed1fd6b5ac15377d932'), ObjectId('661e6ed1fd6b5ac15377d933'), ObjectId('661e6ed1fd6b5ac15377d934'), ObjectId('661e6ed1fd6b5ac15377d935'), ObjectId('661e6ed1fd6b5ac15377d936'), ObjectId('661e6ed1fd6b5ac15377d937'), ObjectId('661e6ed1fd6b5ac15377d938'), ObjectId('661e6ed1fd6b5ac15377d939'), ObjectId('661e6ed1fd6b5ac15377d93a'), ObjectId('661e6ed1fd6b5ac15377d93b'), ObjectId('661e6ed1fd6b5ac15377d93c'), ObjectId('661e6ed1fd6b5ac15377d93d'), ObjectId('661e6ed1fd6b5ac15377d93e'), ObjectId('661e6ed1fd6b5ac15377d93f'), ObjectId('661e6ed1fd6b5ac15377d940'), ObjectId('661e6ed1fd6b5ac15377d941'), ObjectId('661e6ed1fd6b5ac15377d942'), ObjectId('661e6ed1fd6b5ac15377d943'), ObjectId('661e6ed1fd6b5ac15377d944'), ObjectId('661e6ed1fd6b5ac15377d945'), ObjectId('661e6ed1fd6b5ac15377d946'), ObjectId('661e6ed1fd6b5ac15377d947'), ObjectId('661e6ed1fd6b5ac15377d948'), ObjectId('661e6ed1fd6b5ac15377d949'), ObjectId('661e6ed1fd6b5ac15377d94a'), ObjectId('661e6ed1fd6b5ac15377d94b'), ObjectId('661e6ed1fd6b5ac15377d94c'), ObjectId('661e6ed1fd6b5ac15377d94d'), ObjectId('661e6ed1fd6b5ac15377d94e'), ObjectId('661e6ed1fd6b5ac15377d94f'), ObjectId('661e6ed1fd6b5ac15377d950'), ObjectId('661e6ed1fd6b5ac15377d951'), ObjectId('661e6ed1fd6b5ac15377d952'), ObjectId('661e6ed1fd6b5ac15377d953'), ObjectId('661e6ed1fd6b5ac15377d954'), ObjectId('661e6ed1fd6b5ac15377d955'), ObjectId('661e6ed1fd6b5ac15377d956'), ObjectId('661e6ed1fd6b5ac15377d957'), ObjectId('661e6ed1fd6b5ac15377d958'), ObjectId('661e6ed1fd6b5ac15377d959'), ObjectId('661e6ed1fd6b5ac15377d95a'), ObjectId('661e6ed1fd6b5ac15377d95b'), ObjectId('661e6ed1fd6b5ac15377d95c'), ObjectId('661e6ed1fd6b5ac15377d95d'), ObjectId('661e6ed1fd6b5ac15377d95e'), ObjectId('661e6ed1fd6b5ac15377d95f'), ObjectId('661e6ed1fd6b5ac15377d960'), ObjectId('661e6ed1fd6b5ac15377d961'), ObjectId('661e6ed1fd6b5ac15377d962'), ObjectId('661e6ed1fd6b5ac15377d963'), ObjectId('661e6ed1fd6b5ac15377d964'), ObjectId('661e6ed1fd6b5ac15377d965'), ObjectId('661e6ed1fd6b5ac15377d966'), ObjectId('661e6ed1fd6b5ac15377d967'), ObjectId('661e6ed1fd6b5ac15377d968'), ObjectId('661e6ed1fd6b5ac15377d969'), ObjectId('661e6ed1fd6b5ac15377d96a'), ObjectId('661e6ed1fd6b5ac15377d96b'), ObjectId('661e6ed1fd6b5ac15377d96c'), ObjectId('661e6ed1fd6b5ac15377d96d'), ObjectId('661e6ed1fd6b5ac15377d96e'), ObjectId('661e6ed1fd6b5ac15377d96f'), ObjectId('661e6ed1fd6b5ac15377d970'), ObjectId('661e6ed1fd6b5ac15377d971'), ObjectId('661e6ed1fd6b5ac15377d972'), ObjectId('661e6ed1fd6b5ac15377d973'), ObjectId('661e6ed1fd6b5ac15377d974'), ObjectId('661e6ed1fd6b5ac15377d975'), ObjectId('661e6ed1fd6b5ac15377d976'), ObjectId('661e6ed1fd6b5ac15377d977'), ObjectId('661e6ed1fd6b5ac15377d978'), ObjectId('661e6ed1fd6b5ac15377d979'), ObjectId('661e6ed1fd6b5ac15377d97a'), ObjectId('661e6ed1fd6b5ac15377d97b'), ObjectId('661e6ed1fd6b5ac15377d97c'), ObjectId('661e6ed1fd6b5ac15377d97d'), ObjectId('661e6ed1fd6b5ac15377d97e'), ObjectId('661e6ed1fd6b5ac15377d97f'), ObjectId('661e6ed1fd6b5ac15377d980'), ObjectId('661e6ed1fd6b5ac15377d981'), ObjectId('661e6ed1fd6b5ac15377d982'), ObjectId('661e6ed1fd6b5ac15377d983'), ObjectId('661e6ed1fd6b5ac15377d984'), ObjectId('661e6ed1fd6b5ac15377d985'), ObjectId('661e6ed1fd6b5ac15377d986'), ObjectId('661e6ed1fd6b5ac15377d987'), ObjectId('661e6ed1fd6b5ac15377d988'), ObjectId('661e6ed1fd6b5ac15377d989'), ObjectId('661e6ed1fd6b5ac15377d98a'), ObjectId('661e6ed1fd6b5ac15377d98b'), ObjectId('661e6ed1fd6b5ac15377d98c'), ObjectId('661e6ed1fd6b5ac15377d98d'), ObjectId('661e6ed1fd6b5ac15377d98e'), ObjectId('661e6ed1fd6b5ac15377d98f'), ObjectId('661e6ed1fd6b5ac15377d990'), ObjectId('661e6ed1fd6b5ac15377d991'), ObjectId('661e6ed1fd6b5ac15377d992'), ObjectId('661e6ed1fd6b5ac15377d993'), ObjectId('661e6ed1fd6b5ac15377d994'), ObjectId('661e6ed1fd6b5ac15377d995'), ObjectId('661e6ed1fd6b5ac15377d996'), ObjectId('661e6ed1fd6b5ac15377d997'), ObjectId('661e6ed1fd6b5ac15377d998'), ObjectId('661e6ed1fd6b5ac15377d999'), ObjectId('661e6ed1fd6b5ac15377d99a'), ObjectId('661e6ed1fd6b5ac15377d99b'), ObjectId('661e6ed1fd6b5ac15377d99c'), ObjectId('661e6ed1fd6b5ac15377d99d'), ObjectId('661e6ed1fd6b5ac15377d99e'), ObjectId('661e6ed1fd6b5ac15377d99f'), ObjectId('661e6ed1fd6b5ac15377d9a0'), ObjectId('661e6ed1fd6b5ac15377d9a1'), ObjectId('661e6ed1fd6b5ac15377d9a2'), ObjectId('661e6ed1fd6b5ac15377d9a3'), ObjectId('661e6ed1fd6b5ac15377d9a4'), ObjectId('661e6ed1fd6b5ac15377d9a5'), ObjectId('661e6ed1fd6b5ac15377d9a6'), ObjectId('661e6ed1fd6b5ac15377d9a7'), ObjectId('661e6ed1fd6b5ac15377d9a8'), ObjectId('661e6ed1fd6b5ac15377d9a9'), ObjectId('661e6ed1fd6b5ac15377d9aa'), ObjectId('661e6ed1fd6b5ac15377d9ab'), ObjectId('661e6ed1fd6b5ac15377d9ac'), ObjectId('661e6ed1fd6b5ac15377d9ad'), ObjectId('661e6ed1fd6b5ac15377d9ae'), ObjectId('661e6ed1fd6b5ac15377d9af'), ObjectId('661e6ed1fd6b5ac15377d9b0'), ObjectId('661e6ed1fd6b5ac15377d9b1'), ObjectId('661e6ed1fd6b5ac15377d9b2'), ObjectId('661e6ed1fd6b5ac15377d9b3'), ObjectId('661e6ed1fd6b5ac15377d9b4'), ObjectId('661e6ed1fd6b5ac15377d9b5'), ObjectId('661e6ed1fd6b5ac15377d9b6'), ObjectId('661e6ed1fd6b5ac15377d9b7'), ObjectId('661e6ed1fd6b5ac15377d9b8'), ObjectId('661e6ed1fd6b5ac15377d9b9'), ObjectId('661e6ed1fd6b5ac15377d9ba'), ObjectId('661e6ed1fd6b5ac15377d9bb'), ObjectId('661e6ed1fd6b5ac15377d9bc'), ObjectId('661e6ed1fd6b5ac15377d9bd'), ObjectId('661e6ed1fd6b5ac15377d9be'), ObjectId('661e6ed1fd6b5ac15377d9bf'), ObjectId('661e6ed1fd6b5ac15377d9c0'), ObjectId('661e6ed1fd6b5ac15377d9c1'), ObjectId('661e6ed1fd6b5ac15377d9c2'), ObjectId('661e6ed1fd6b5ac15377d9c3'), ObjectId('661e6ed1fd6b5ac15377d9c4'), ObjectId('661e6ed1fd6b5ac15377d9c5'), ObjectId('661e6ed1fd6b5ac15377d9c6'), ObjectId('661e6ed1fd6b5ac15377d9c7'), ObjectId('661e6ed1fd6b5ac15377d9c8'), ObjectId('661e6ed1fd6b5ac15377d9c9'), ObjectId('661e6ed1fd6b5ac15377d9ca'), ObjectId('661e6ed1fd6b5ac15377d9cb'), ObjectId('661e6ed1fd6b5ac15377d9cc'), ObjectId('661e6ed1fd6b5ac15377d9cd'), ObjectId('661e6ed1fd6b5ac15377d9ce'), ObjectId('661e6ed1fd6b5ac15377d9cf'), ObjectId('661e6ed1fd6b5ac15377d9d0'), ObjectId('661e6ed1fd6b5ac15377d9d1'), ObjectId('661e6ed1fd6b5ac15377d9d2'), ObjectId('661e6ed1fd6b5ac15377d9d3'), ObjectId('661e6ed1fd6b5ac15377d9d4'), ObjectId('661e6ed1fd6b5ac15377d9d5'), ObjectId('661e6ed1fd6b5ac15377d9d6'), ObjectId('661e6ed1fd6b5ac15377d9d7'), ObjectId('661e6ed1fd6b5ac15377d9d8'), ObjectId('661e6ed1fd6b5ac15377d9d9'), ObjectId('661e6ed1fd6b5ac15377d9da'), ObjectId('661e6ed1fd6b5ac15377d9db'), ObjectId('661e6ed1fd6b5ac15377d9dc'), ObjectId('661e6ed1fd6b5ac15377d9dd'), ObjectId('661e6ed1fd6b5ac15377d9de'), ObjectId('661e6ed1fd6b5ac15377d9df'), ObjectId('661e6ed1fd6b5ac15377d9e0'), ObjectId('661e6ed1fd6b5ac15377d9e1'), ObjectId('661e6ed1fd6b5ac15377d9e2'), ObjectId('661e6ed1fd6b5ac15377d9e3'), ObjectId('661e6ed1fd6b5ac15377d9e4'), ObjectId('661e6ed1fd6b5ac15377d9e5'), ObjectId('661e6ed1fd6b5ac15377d9e6'), ObjectId('661e6ed1fd6b5ac15377d9e7'), ObjectId('661e6ed1fd6b5ac15377d9e8'), ObjectId('661e6ed1fd6b5ac15377d9e9'), ObjectId('661e6ed1fd6b5ac15377d9ea'), ObjectId('661e6ed1fd6b5ac15377d9eb'), ObjectId('661e6ed1fd6b5ac15377d9ec'), ObjectId('661e6ed1fd6b5ac15377d9ed'), ObjectId('661e6ed1fd6b5ac15377d9ee'), ObjectId('661e6ed1fd6b5ac15377d9ef'), ObjectId('661e6ed1fd6b5ac15377d9f0'), ObjectId('661e6ed1fd6b5ac15377d9f1'), ObjectId('661e6ed1fd6b5ac15377d9f2'), ObjectId('661e6ed1fd6b5ac15377d9f3'), ObjectId('661e6ed1fd6b5ac15377d9f4'), ObjectId('661e6ed1fd6b5ac15377d9f5'), ObjectId('661e6ed1fd6b5ac15377d9f6'), ObjectId('661e6ed1fd6b5ac15377d9f7'), ObjectId('661e6ed1fd6b5ac15377d9f8'), ObjectId('661e6ed1fd6b5ac15377d9f9'), ObjectId('661e6ed1fd6b5ac15377d9fa'), ObjectId('661e6ed1fd6b5ac15377d9fb'), ObjectId('661e6ed1fd6b5ac15377d9fc'), ObjectId('661e6ed1fd6b5ac15377d9fd'), ObjectId('661e6ed1fd6b5ac15377d9fe'), ObjectId('661e6ed1fd6b5ac15377d9ff'), ObjectId('661e6ed1fd6b5ac15377da00'), ObjectId('661e6ed1fd6b5ac15377da01'), ObjectId('661e6ed1fd6b5ac15377da02'), ObjectId('661e6ed1fd6b5ac15377da03'), ObjectId('661e6ed1fd6b5ac15377da04'), ObjectId('661e6ed1fd6b5ac15377da05'), ObjectId('661e6ed1fd6b5ac15377da06'), ObjectId('661e6ed1fd6b5ac15377da07'), ObjectId('661e6ed1fd6b5ac15377da08'), ObjectId('661e6ed1fd6b5ac15377da09'), ObjectId('661e6ed1fd6b5ac15377da0a'), ObjectId('661e6ed1fd6b5ac15377da0b'), ObjectId('661e6ed1fd6b5ac15377da0c'), ObjectId('661e6ed1fd6b5ac15377da0d'), ObjectId('661e6ed1fd6b5ac15377da0e'), ObjectId('661e6ed1fd6b5ac15377da0f'), ObjectId('661e6ed1fd6b5ac15377da10'), ObjectId('661e6ed1fd6b5ac15377da11'), ObjectId('661e6ed1fd6b5ac15377da12'), ObjectId('661e6ed1fd6b5ac15377da13'), ObjectId('661e6ed1fd6b5ac15377da14'), ObjectId('661e6ed1fd6b5ac15377da15'), ObjectId('661e6ed1fd6b5ac15377da16'), ObjectId('661e6ed1fd6b5ac15377da17'), ObjectId('661e6ed1fd6b5ac15377da18'), ObjectId('661e6ed1fd6b5ac15377da19'), ObjectId('661e6ed1fd6b5ac15377da1a'), ObjectId('661e6ed1fd6b5ac15377da1b'), ObjectId('661e6ed1fd6b5ac15377da1c'), ObjectId('661e6ed1fd6b5ac15377da1d'), ObjectId('661e6ed1fd6b5ac15377da1e'), ObjectId('661e6ed1fd6b5ac15377da1f'), ObjectId('661e6ed1fd6b5ac15377da20'), ObjectId('661e6ed1fd6b5ac15377da21'), ObjectId('661e6ed1fd6b5ac15377da22'), ObjectId('661e6ed1fd6b5ac15377da23'), ObjectId('661e6ed1fd6b5ac15377da24'), ObjectId('661e6ed1fd6b5ac15377da25'), ObjectId('661e6ed1fd6b5ac15377da26'), ObjectId('661e6ed1fd6b5ac15377da27'), ObjectId('661e6ed1fd6b5ac15377da28'), ObjectId('661e6ed1fd6b5ac15377da29'), ObjectId('661e6ed1fd6b5ac15377da2a'), ObjectId('661e6ed1fd6b5ac15377da2b'), ObjectId('661e6ed1fd6b5ac15377da2c'), ObjectId('661e6ed1fd6b5ac15377da2d'), ObjectId('661e6ed1fd6b5ac15377da2e'), ObjectId('661e6ed1fd6b5ac15377da2f'), ObjectId('661e6ed1fd6b5ac15377da30'), ObjectId('661e6ed1fd6b5ac15377da31'), ObjectId('661e6ed1fd6b5ac15377da32'), ObjectId('661e6ed1fd6b5ac15377da33'), ObjectId('661e6ed1fd6b5ac15377da34'), ObjectId('661e6ed1fd6b5ac15377da35'), ObjectId('661e6ed1fd6b5ac15377da36'), ObjectId('661e6ed1fd6b5ac15377da37'), ObjectId('661e6ed1fd6b5ac15377da38'), ObjectId('661e6ed1fd6b5ac15377da39'), ObjectId('661e6ed1fd6b5ac15377da3a'), ObjectId('661e6ed1fd6b5ac15377da3b'), ObjectId('661e6ed1fd6b5ac15377da3c'), ObjectId('661e6ed1fd6b5ac15377da3d'), ObjectId('661e6ed1fd6b5ac15377da3e'), ObjectId('661e6ed1fd6b5ac15377da3f'), ObjectId('661e6ed1fd6b5ac15377da40'), ObjectId('661e6ed1fd6b5ac15377da41'), ObjectId('661e6ed1fd6b5ac15377da42'), ObjectId('661e6ed1fd6b5ac15377da43'), ObjectId('661e6ed1fd6b5ac15377da44'), ObjectId('661e6ed1fd6b5ac15377da45'), ObjectId('661e6ed1fd6b5ac15377da46'), ObjectId('661e6ed1fd6b5ac15377da47'), ObjectId('661e6ed1fd6b5ac15377da48'), ObjectId('661e6ed1fd6b5ac15377da49'), ObjectId('661e6ed1fd6b5ac15377da4a'), ObjectId('661e6ed1fd6b5ac15377da4b'), ObjectId('661e6ed1fd6b5ac15377da4c'), ObjectId('661e6ed1fd6b5ac15377da4d'), ObjectId('661e6ed1fd6b5ac15377da4e'), ObjectId('661e6ed1fd6b5ac15377da4f'), ObjectId('661e6ed1fd6b5ac15377da50'), ObjectId('661e6ed1fd6b5ac15377da51'), ObjectId('661e6ed1fd6b5ac15377da52'), ObjectId('661e6ed1fd6b5ac15377da53'), ObjectId('661e6ed1fd6b5ac15377da54'), ObjectId('661e6ed1fd6b5ac15377da55'), ObjectId('661e6ed1fd6b5ac15377da56'), ObjectId('661e6ed1fd6b5ac15377da57'), ObjectId('661e6ed1fd6b5ac15377da58'), ObjectId('661e6ed1fd6b5ac15377da59'), ObjectId('661e6ed1fd6b5ac15377da5a'), ObjectId('661e6ed1fd6b5ac15377da5b'), ObjectId('661e6ed1fd6b5ac15377da5c'), ObjectId('661e6ed1fd6b5ac15377da5d'), ObjectId('661e6ed1fd6b5ac15377da5e'), ObjectId('661e6ed1fd6b5ac15377da5f'), ObjectId('661e6ed1fd6b5ac15377da60'), ObjectId('661e6ed1fd6b5ac15377da61'), ObjectId('661e6ed1fd6b5ac15377da62'), ObjectId('661e6ed1fd6b5ac15377da63'), ObjectId('661e6ed1fd6b5ac15377da64'), ObjectId('661e6ed1fd6b5ac15377da65'), ObjectId('661e6ed1fd6b5ac15377da66'), ObjectId('661e6ed1fd6b5ac15377da67'), ObjectId('661e6ed1fd6b5ac15377da68'), ObjectId('661e6ed1fd6b5ac15377da69'), ObjectId('661e6ed1fd6b5ac15377da6a'), ObjectId('661e6ed1fd6b5ac15377da6b'), ObjectId('661e6ed1fd6b5ac15377da6c'), ObjectId('661e6ed1fd6b5ac15377da6d'), ObjectId('661e6ed1fd6b5ac15377da6e'), ObjectId('661e6ed1fd6b5ac15377da6f'), ObjectId('661e6ed1fd6b5ac15377da70'), ObjectId('661e6ed1fd6b5ac15377da71'), ObjectId('661e6ed1fd6b5ac15377da72'), ObjectId('661e6ed1fd6b5ac15377da73'), ObjectId('661e6ed1fd6b5ac15377da74'), ObjectId('661e6ed1fd6b5ac15377da75'), ObjectId('661e6ed1fd6b5ac15377da76'), ObjectId('661e6ed1fd6b5ac15377da77'), ObjectId('661e6ed1fd6b5ac15377da78'), ObjectId('661e6ed1fd6b5ac15377da79'), ObjectId('661e6ed1fd6b5ac15377da7a'), ObjectId('661e6ed1fd6b5ac15377da7b'), ObjectId('661e6ed1fd6b5ac15377da7c'), ObjectId('661e6ed1fd6b5ac15377da7d'), ObjectId('661e6ed1fd6b5ac15377da7e'), ObjectId('661e6ed1fd6b5ac15377da7f'), ObjectId('661e6ed1fd6b5ac15377da80'), ObjectId('661e6ed1fd6b5ac15377da81'), ObjectId('661e6ed1fd6b5ac15377da82'), ObjectId('661e6ed1fd6b5ac15377da83'), ObjectId('661e6ed1fd6b5ac15377da84'), ObjectId('661e6ed1fd6b5ac15377da85'), ObjectId('661e6ed1fd6b5ac15377da86'), ObjectId('661e6ed1fd6b5ac15377da87'), ObjectId('661e6ed1fd6b5ac15377da88'), ObjectId('661e6ed1fd6b5ac15377da89'), ObjectId('661e6ed1fd6b5ac15377da8a'), ObjectId('661e6ed1fd6b5ac15377da8b'), ObjectId('661e6ed1fd6b5ac15377da8c'), ObjectId('661e6ed1fd6b5ac15377da8d'), ObjectId('661e6ed1fd6b5ac15377da8e'), ObjectId('661e6ed1fd6b5ac15377da8f'), ObjectId('661e6ed1fd6b5ac15377da90'), ObjectId('661e6ed1fd6b5ac15377da91'), ObjectId('661e6ed1fd6b5ac15377da92'), ObjectId('661e6ed1fd6b5ac15377da93'), ObjectId('661e6ed1fd6b5ac15377da94'), ObjectId('661e6ed1fd6b5ac15377da95'), ObjectId('661e6ed1fd6b5ac15377da96'), ObjectId('661e6ed1fd6b5ac15377da97'), ObjectId('661e6ed1fd6b5ac15377da98'), ObjectId('661e6ed1fd6b5ac15377da99'), ObjectId('661e6ed1fd6b5ac15377da9a'), ObjectId('661e6ed1fd6b5ac15377da9b'), ObjectId('661e6ed1fd6b5ac15377da9c'), ObjectId('661e6ed1fd6b5ac15377da9d'), ObjectId('661e6ed1fd6b5ac15377da9e'), ObjectId('661e6ed1fd6b5ac15377da9f'), ObjectId('661e6ed1fd6b5ac15377daa0'), ObjectId('661e6ed1fd6b5ac15377daa1'), ObjectId('661e6ed1fd6b5ac15377daa2'), ObjectId('661e6ed1fd6b5ac15377daa3'), ObjectId('661e6ed1fd6b5ac15377daa4'), ObjectId('661e6ed1fd6b5ac15377daa5'), ObjectId('661e6ed1fd6b5ac15377daa6'), ObjectId('661e6ed1fd6b5ac15377daa7'), ObjectId('661e6ed1fd6b5ac15377daa8'), ObjectId('661e6ed1fd6b5ac15377daa9'), ObjectId('661e6ed1fd6b5ac15377daaa'), ObjectId('661e6ed1fd6b5ac15377daab'), ObjectId('661e6ed1fd6b5ac15377daac'), ObjectId('661e6ed1fd6b5ac15377daad'), ObjectId('661e6ed1fd6b5ac15377daae'), ObjectId('661e6ed1fd6b5ac15377daaf'), ObjectId('661e6ed1fd6b5ac15377dab0'), ObjectId('661e6ed1fd6b5ac15377dab1'), ObjectId('661e6ed1fd6b5ac15377dab2'), ObjectId('661e6ed1fd6b5ac15377dab3'), ObjectId('661e6ed1fd6b5ac15377dab4'), ObjectId('661e6ed1fd6b5ac15377dab5'), ObjectId('661e6ed1fd6b5ac15377dab6'), ObjectId('661e6ed1fd6b5ac15377dab7'), ObjectId('661e6ed1fd6b5ac15377dab8'), ObjectId('661e6ed1fd6b5ac15377dab9'), ObjectId('661e6ed1fd6b5ac15377daba'), ObjectId('661e6ed1fd6b5ac15377dabb'), ObjectId('661e6ed1fd6b5ac15377dabc'), ObjectId('661e6ed1fd6b5ac15377dabd'), ObjectId('661e6ed1fd6b5ac15377dabe'), ObjectId('661e6ed1fd6b5ac15377dabf'), ObjectId('661e6ed1fd6b5ac15377dac0'), ObjectId('661e6ed1fd6b5ac15377dac1'), ObjectId('661e6ed1fd6b5ac15377dac2'), ObjectId('661e6ed1fd6b5ac15377dac3'), ObjectId('661e6ed1fd6b5ac15377dac4'), ObjectId('661e6ed1fd6b5ac15377dac5'), ObjectId('661e6ed1fd6b5ac15377dac6'), ObjectId('661e6ed1fd6b5ac15377dac7'), ObjectId('661e6ed1fd6b5ac15377dac8'), ObjectId('661e6ed1fd6b5ac15377dac9'), ObjectId('661e6ed1fd6b5ac15377daca'), ObjectId('661e6ed1fd6b5ac15377dacb'), ObjectId('661e6ed1fd6b5ac15377dacc'), ObjectId('661e6ed1fd6b5ac15377dacd'), ObjectId('661e6ed1fd6b5ac15377dace'), ObjectId('661e6ed1fd6b5ac15377dacf'), ObjectId('661e6ed1fd6b5ac15377dad0'), ObjectId('661e6ed1fd6b5ac15377dad1'), ObjectId('661e6ed1fd6b5ac15377dad2'), ObjectId('661e6ed1fd6b5ac15377dad3'), ObjectId('661e6ed1fd6b5ac15377dad4'), ObjectId('661e6ed1fd6b5ac15377dad5'), ObjectId('661e6ed1fd6b5ac15377dad6'), ObjectId('661e6ed1fd6b5ac15377dad7'), ObjectId('661e6ed1fd6b5ac15377dad8'), ObjectId('661e6ed1fd6b5ac15377dad9'), ObjectId('661e6ed1fd6b5ac15377dada'), ObjectId('661e6ed1fd6b5ac15377dadb'), ObjectId('661e6ed1fd6b5ac15377dadc'), ObjectId('661e6ed1fd6b5ac15377dadd'), ObjectId('661e6ed1fd6b5ac15377dade'), ObjectId('661e6ed1fd6b5ac15377dadf'), ObjectId('661e6ed1fd6b5ac15377dae0'), ObjectId('661e6ed1fd6b5ac15377dae1'), ObjectId('661e6ed1fd6b5ac15377dae2'), ObjectId('661e6ed1fd6b5ac15377dae3'), ObjectId('661e6ed1fd6b5ac15377dae4'), ObjectId('661e6ed1fd6b5ac15377dae5'), ObjectId('661e6ed1fd6b5ac15377dae6'), ObjectId('661e6ed1fd6b5ac15377dae7'), ObjectId('661e6ed1fd6b5ac15377dae8'), ObjectId('661e6ed1fd6b5ac15377dae9'), ObjectId('661e6ed1fd6b5ac15377daea'), ObjectId('661e6ed1fd6b5ac15377daeb'), ObjectId('661e6ed1fd6b5ac15377daec'), ObjectId('661e6ed1fd6b5ac15377daed'), ObjectId('661e6ed1fd6b5ac15377daee'), ObjectId('661e6ed1fd6b5ac15377daef'), ObjectId('661e6ed1fd6b5ac15377daf0'), ObjectId('661e6ed1fd6b5ac15377daf1'), ObjectId('661e6ed1fd6b5ac15377daf2'), ObjectId('661e6ed1fd6b5ac15377daf3'), ObjectId('661e6ed1fd6b5ac15377daf4'), ObjectId('661e6ed1fd6b5ac15377daf5'), ObjectId('661e6ed1fd6b5ac15377daf6'), ObjectId('661e6ed1fd6b5ac15377daf7'), ObjectId('661e6ed1fd6b5ac15377daf8'), ObjectId('661e6ed1fd6b5ac15377daf9'), ObjectId('661e6ed1fd6b5ac15377dafa'), ObjectId('661e6ed1fd6b5ac15377dafb'), ObjectId('661e6ed1fd6b5ac15377dafc'), ObjectId('661e6ed1fd6b5ac15377dafd'), ObjectId('661e6ed1fd6b5ac15377dafe'), ObjectId('661e6ed1fd6b5ac15377daff'), ObjectId('661e6ed1fd6b5ac15377db00'), ObjectId('661e6ed1fd6b5ac15377db01'), ObjectId('661e6ed1fd6b5ac15377db02'), ObjectId('661e6ed1fd6b5ac15377db03'), ObjectId('661e6ed1fd6b5ac15377db04'), ObjectId('661e6ed1fd6b5ac15377db05'), ObjectId('661e6ed1fd6b5ac15377db06'), ObjectId('661e6ed1fd6b5ac15377db07'), ObjectId('661e6ed1fd6b5ac15377db08'), ObjectId('661e6ed1fd6b5ac15377db09'), ObjectId('661e6ed1fd6b5ac15377db0a'), ObjectId('661e6ed1fd6b5ac15377db0b'), ObjectId('661e6ed1fd6b5ac15377db0c'), ObjectId('661e6ed1fd6b5ac15377db0d'), ObjectId('661e6ed1fd6b5ac15377db0e'), ObjectId('661e6ed1fd6b5ac15377db0f'), ObjectId('661e6ed1fd6b5ac15377db10'), ObjectId('661e6ed1fd6b5ac15377db11'), ObjectId('661e6ed1fd6b5ac15377db12'), ObjectId('661e6ed1fd6b5ac15377db13'), ObjectId('661e6ed1fd6b5ac15377db14'), ObjectId('661e6ed1fd6b5ac15377db15'), ObjectId('661e6ed1fd6b5ac15377db16'), ObjectId('661e6ed1fd6b5ac15377db17'), ObjectId('661e6ed1fd6b5ac15377db18'), ObjectId('661e6ed1fd6b5ac15377db19'), ObjectId('661e6ed1fd6b5ac15377db1a'), ObjectId('661e6ed1fd6b5ac15377db1b'), ObjectId('661e6ed1fd6b5ac15377db1c'), ObjectId('661e6ed1fd6b5ac15377db1d'), ObjectId('661e6ed1fd6b5ac15377db1e'), ObjectId('661e6ed1fd6b5ac15377db1f'), ObjectId('661e6ed1fd6b5ac15377db20'), ObjectId('661e6ed1fd6b5ac15377db21'), ObjectId('661e6ed1fd6b5ac15377db22'), ObjectId('661e6ed1fd6b5ac15377db23'), ObjectId('661e6ed1fd6b5ac15377db24'), ObjectId('661e6ed1fd6b5ac15377db25'), ObjectId('661e6ed1fd6b5ac15377db26'), ObjectId('661e6ed1fd6b5ac15377db27'), ObjectId('661e6ed1fd6b5ac15377db28'), ObjectId('661e6ed1fd6b5ac15377db29'), ObjectId('661e6ed1fd6b5ac15377db2a'), ObjectId('661e6ed1fd6b5ac15377db2b'), ObjectId('661e6ed1fd6b5ac15377db2c'), ObjectId('661e6ed1fd6b5ac15377db2d'), ObjectId('661e6ed1fd6b5ac15377db2e'), ObjectId('661e6ed1fd6b5ac15377db2f'), ObjectId('661e6ed1fd6b5ac15377db30'), ObjectId('661e6ed1fd6b5ac15377db31'), ObjectId('661e6ed1fd6b5ac15377db32'), ObjectId('661e6ed1fd6b5ac15377db33'), ObjectId('661e6ed1fd6b5ac15377db34'), ObjectId('661e6ed1fd6b5ac15377db35'), ObjectId('661e6ed1fd6b5ac15377db36'), ObjectId('661e6ed1fd6b5ac15377db37'), ObjectId('661e6ed1fd6b5ac15377db38'), ObjectId('661e6ed1fd6b5ac15377db39'), ObjectId('661e6ed1fd6b5ac15377db3a'), ObjectId('661e6ed1fd6b5ac15377db3b'), ObjectId('661e6ed1fd6b5ac15377db3c'), ObjectId('661e6ed1fd6b5ac15377db3d'), ObjectId('661e6ed1fd6b5ac15377db3e'), ObjectId('661e6ed1fd6b5ac15377db3f'), ObjectId('661e6ed1fd6b5ac15377db40'), ObjectId('661e6ed1fd6b5ac15377db41'), ObjectId('661e6ed1fd6b5ac15377db42'), ObjectId('661e6ed1fd6b5ac15377db43'), ObjectId('661e6ed1fd6b5ac15377db44'), ObjectId('661e6ed1fd6b5ac15377db45'), ObjectId('661e6ed1fd6b5ac15377db46'), ObjectId('661e6ed1fd6b5ac15377db47'), ObjectId('661e6ed1fd6b5ac15377db48'), ObjectId('661e6ed1fd6b5ac15377db49'), ObjectId('661e6ed1fd6b5ac15377db4a'), ObjectId('661e6ed1fd6b5ac15377db4b'), ObjectId('661e6ed1fd6b5ac15377db4c'), ObjectId('661e6ed1fd6b5ac15377db4d'), ObjectId('661e6ed1fd6b5ac15377db4e'), ObjectId('661e6ed1fd6b5ac15377db4f'), ObjectId('661e6ed1fd6b5ac15377db50'), ObjectId('661e6ed1fd6b5ac15377db51'), ObjectId('661e6ed1fd6b5ac15377db52'), ObjectId('661e6ed1fd6b5ac15377db53'), ObjectId('661e6ed1fd6b5ac15377db54'), ObjectId('661e6ed1fd6b5ac15377db55'), ObjectId('661e6ed1fd6b5ac15377db56'), ObjectId('661e6ed1fd6b5ac15377db57'), ObjectId('661e6ed1fd6b5ac15377db58'), ObjectId('661e6ed1fd6b5ac15377db59'), ObjectId('661e6ed1fd6b5ac15377db5a'), ObjectId('661e6ed1fd6b5ac15377db5b'), ObjectId('661e6ed1fd6b5ac15377db5c'), ObjectId('661e6ed1fd6b5ac15377db5d'), ObjectId('661e6ed1fd6b5ac15377db5e'), ObjectId('661e6ed1fd6b5ac15377db5f'), ObjectId('661e6ed1fd6b5ac15377db60'), ObjectId('661e6ed1fd6b5ac15377db61'), ObjectId('661e6ed1fd6b5ac15377db62'), ObjectId('661e6ed1fd6b5ac15377db63'), ObjectId('661e6ed1fd6b5ac15377db64'), ObjectId('661e6ed1fd6b5ac15377db65'), ObjectId('661e6ed1fd6b5ac15377db66'), ObjectId('661e6ed1fd6b5ac15377db67'), ObjectId('661e6ed1fd6b5ac15377db68'), ObjectId('661e6ed1fd6b5ac15377db69'), ObjectId('661e6ed1fd6b5ac15377db6a'), ObjectId('661e6ed1fd6b5ac15377db6b'), ObjectId('661e6ed1fd6b5ac15377db6c'), ObjectId('661e6ed1fd6b5ac15377db6d'), ObjectId('661e6ed1fd6b5ac15377db6e'), ObjectId('661e6ed1fd6b5ac15377db6f'), ObjectId('661e6ed1fd6b5ac15377db70'), ObjectId('661e6ed1fd6b5ac15377db71'), ObjectId('661e6ed1fd6b5ac15377db72'), ObjectId('661e6ed1fd6b5ac15377db73'), ObjectId('661e6ed1fd6b5ac15377db74'), ObjectId('661e6ed1fd6b5ac15377db75'), ObjectId('661e6ed1fd6b5ac15377db76'), ObjectId('661e6ed1fd6b5ac15377db77'), ObjectId('661e6ed1fd6b5ac15377db78'), ObjectId('661e6ed1fd6b5ac15377db79'), ObjectId('661e6ed1fd6b5ac15377db7a'), ObjectId('661e6ed1fd6b5ac15377db7b'), ObjectId('661e6ed1fd6b5ac15377db7c'), ObjectId('661e6ed1fd6b5ac15377db7d'), ObjectId('661e6ed1fd6b5ac15377db7e'), ObjectId('661e6ed1fd6b5ac15377db7f'), ObjectId('661e6ed1fd6b5ac15377db80'), ObjectId('661e6ed1fd6b5ac15377db81'), ObjectId('661e6ed1fd6b5ac15377db82'), ObjectId('661e6ed1fd6b5ac15377db83'), ObjectId('661e6ed1fd6b5ac15377db84'), ObjectId('661e6ed1fd6b5ac15377db85'), ObjectId('661e6ed1fd6b5ac15377db86'), ObjectId('661e6ed1fd6b5ac15377db87'), ObjectId('661e6ed1fd6b5ac15377db88'), ObjectId('661e6ed1fd6b5ac15377db89'), ObjectId('661e6ed1fd6b5ac15377db8a'), ObjectId('661e6ed1fd6b5ac15377db8b'), ObjectId('661e6ed1fd6b5ac15377db8c'), ObjectId('661e6ed1fd6b5ac15377db8d'), ObjectId('661e6ed1fd6b5ac15377db8e'), ObjectId('661e6ed1fd6b5ac15377db8f'), ObjectId('661e6ed1fd6b5ac15377db90'), ObjectId('661e6ed1fd6b5ac15377db91'), ObjectId('661e6ed1fd6b5ac15377db92'), ObjectId('661e6ed1fd6b5ac15377db93'), ObjectId('661e6ed1fd6b5ac15377db94'), ObjectId('661e6ed1fd6b5ac15377db95'), ObjectId('661e6ed1fd6b5ac15377db96'), ObjectId('661e6ed1fd6b5ac15377db97'), ObjectId('661e6ed1fd6b5ac15377db98'), ObjectId('661e6ed1fd6b5ac15377db99'), ObjectId('661e6ed1fd6b5ac15377db9a'), ObjectId('661e6ed1fd6b5ac15377db9b'), ObjectId('661e6ed1fd6b5ac15377db9c'), ObjectId('661e6ed1fd6b5ac15377db9d'), ObjectId('661e6ed1fd6b5ac15377db9e'), ObjectId('661e6ed1fd6b5ac15377db9f'), ObjectId('661e6ed1fd6b5ac15377dba0'), ObjectId('661e6ed1fd6b5ac15377dba1'), ObjectId('661e6ed1fd6b5ac15377dba2'), ObjectId('661e6ed1fd6b5ac15377dba3'), ObjectId('661e6ed1fd6b5ac15377dba4'), ObjectId('661e6ed1fd6b5ac15377dba5'), ObjectId('661e6ed1fd6b5ac15377dba6'), ObjectId('661e6ed1fd6b5ac15377dba7'), ObjectId('661e6ed1fd6b5ac15377dba8'), ObjectId('661e6ed1fd6b5ac15377dba9'), ObjectId('661e6ed1fd6b5ac15377dbaa'), ObjectId('661e6ed1fd6b5ac15377dbab'), ObjectId('661e6ed1fd6b5ac15377dbac'), ObjectId('661e6ed1fd6b5ac15377dbad'), ObjectId('661e6ed1fd6b5ac15377dbae'), ObjectId('661e6ed1fd6b5ac15377dbaf'), ObjectId('661e6ed1fd6b5ac15377dbb0'), ObjectId('661e6ed1fd6b5ac15377dbb1'), ObjectId('661e6ed1fd6b5ac15377dbb2'), ObjectId('661e6ed1fd6b5ac15377dbb3'), ObjectId('661e6ed1fd6b5ac15377dbb4'), ObjectId('661e6ed1fd6b5ac15377dbb5'), ObjectId('661e6ed1fd6b5ac15377dbb6'), ObjectId('661e6ed1fd6b5ac15377dbb7'), ObjectId('661e6ed1fd6b5ac15377dbb8'), ObjectId('661e6ed1fd6b5ac15377dbb9'), ObjectId('661e6ed1fd6b5ac15377dbba'), ObjectId('661e6ed1fd6b5ac15377dbbb'), ObjectId('661e6ed1fd6b5ac15377dbbc'), ObjectId('661e6ed1fd6b5ac15377dbbd'), ObjectId('661e6ed1fd6b5ac15377dbbe'), ObjectId('661e6ed1fd6b5ac15377dbbf'), ObjectId('661e6ed1fd6b5ac15377dbc0'), ObjectId('661e6ed1fd6b5ac15377dbc1'), ObjectId('661e6ed1fd6b5ac15377dbc2'), ObjectId('661e6ed1fd6b5ac15377dbc3'), ObjectId('661e6ed1fd6b5ac15377dbc4'), ObjectId('661e6ed1fd6b5ac15377dbc5'), ObjectId('661e6ed1fd6b5ac15377dbc6'), ObjectId('661e6ed1fd6b5ac15377dbc7'), ObjectId('661e6ed1fd6b5ac15377dbc8'), ObjectId('661e6ed1fd6b5ac15377dbc9'), ObjectId('661e6ed1fd6b5ac15377dbca'), ObjectId('661e6ed1fd6b5ac15377dbcb'), ObjectId('661e6ed1fd6b5ac15377dbcc'), ObjectId('661e6ed1fd6b5ac15377dbcd'), ObjectId('661e6ed1fd6b5ac15377dbce'), ObjectId('661e6ed1fd6b5ac15377dbcf'), ObjectId('661e6ed1fd6b5ac15377dbd0'), ObjectId('661e6ed1fd6b5ac15377dbd1'), ObjectId('661e6ed1fd6b5ac15377dbd2'), ObjectId('661e6ed1fd6b5ac15377dbd3'), ObjectId('661e6ed1fd6b5ac15377dbd4'), ObjectId('661e6ed1fd6b5ac15377dbd5'), ObjectId('661e6ed1fd6b5ac15377dbd6'), ObjectId('661e6ed1fd6b5ac15377dbd7'), ObjectId('661e6ed1fd6b5ac15377dbd8'), ObjectId('661e6ed1fd6b5ac15377dbd9'), ObjectId('661e6ed1fd6b5ac15377dbda'), ObjectId('661e6ed1fd6b5ac15377dbdb'), ObjectId('661e6ed1fd6b5ac15377dbdc'), ObjectId('661e6ed1fd6b5ac15377dbdd'), ObjectId('661e6ed1fd6b5ac15377dbde'), ObjectId('661e6ed1fd6b5ac15377dbdf'), ObjectId('661e6ed1fd6b5ac15377dbe0'), ObjectId('661e6ed1fd6b5ac15377dbe1'), ObjectId('661e6ed1fd6b5ac15377dbe2'), ObjectId('661e6ed1fd6b5ac15377dbe3'), ObjectId('661e6ed1fd6b5ac15377dbe4'), ObjectId('661e6ed1fd6b5ac15377dbe5'), ObjectId('661e6ed1fd6b5ac15377dbe6'), ObjectId('661e6ed1fd6b5ac15377dbe7'), ObjectId('661e6ed1fd6b5ac15377dbe8'), ObjectId('661e6ed1fd6b5ac15377dbe9'), ObjectId('661e6ed1fd6b5ac15377dbea'), ObjectId('661e6ed1fd6b5ac15377dbeb'), ObjectId('661e6ed1fd6b5ac15377dbec'), ObjectId('661e6ed1fd6b5ac15377dbed'), ObjectId('661e6ed1fd6b5ac15377dbee'), ObjectId('661e6ed1fd6b5ac15377dbef'), ObjectId('661e6ed1fd6b5ac15377dbf0'), ObjectId('661e6ed1fd6b5ac15377dbf1'), ObjectId('661e6ed1fd6b5ac15377dbf2'), ObjectId('661e6ed1fd6b5ac15377dbf3'), ObjectId('661e6ed1fd6b5ac15377dbf4'), ObjectId('661e6ed1fd6b5ac15377dbf5'), ObjectId('661e6ed1fd6b5ac15377dbf6'), ObjectId('661e6ed1fd6b5ac15377dbf7'), ObjectId('661e6ed1fd6b5ac15377dbf8'), ObjectId('661e6ed1fd6b5ac15377dbf9'), ObjectId('661e6ed1fd6b5ac15377dbfa'), ObjectId('661e6ed1fd6b5ac15377dbfb'), ObjectId('661e6ed1fd6b5ac15377dbfc'), ObjectId('661e6ed1fd6b5ac15377dbfd'), ObjectId('661e6ed1fd6b5ac15377dbfe'), ObjectId('661e6ed1fd6b5ac15377dbff'), ObjectId('661e6ed1fd6b5ac15377dc00'), ObjectId('661e6ed1fd6b5ac15377dc01'), ObjectId('661e6ed1fd6b5ac15377dc02'), ObjectId('661e6ed1fd6b5ac15377dc03'), ObjectId('661e6ed1fd6b5ac15377dc04'), ObjectId('661e6ed1fd6b5ac15377dc05'), ObjectId('661e6ed1fd6b5ac15377dc06'), ObjectId('661e6ed1fd6b5ac15377dc07'), ObjectId('661e6ed1fd6b5ac15377dc08'), ObjectId('661e6ed1fd6b5ac15377dc09'), ObjectId('661e6ed1fd6b5ac15377dc0a'), ObjectId('661e6ed1fd6b5ac15377dc0b'), ObjectId('661e6ed1fd6b5ac15377dc0c'), ObjectId('661e6ed1fd6b5ac15377dc0d'), ObjectId('661e6ed1fd6b5ac15377dc0e'), ObjectId('661e6ed1fd6b5ac15377dc0f'), ObjectId('661e6ed1fd6b5ac15377dc10'), ObjectId('661e6ed1fd6b5ac15377dc11'), ObjectId('661e6ed1fd6b5ac15377dc12'), ObjectId('661e6ed1fd6b5ac15377dc13'), ObjectId('661e6ed1fd6b5ac15377dc14'), ObjectId('661e6ed1fd6b5ac15377dc15'), ObjectId('661e6ed1fd6b5ac15377dc16'), ObjectId('661e6ed1fd6b5ac15377dc17'), ObjectId('661e6ed1fd6b5ac15377dc18'), ObjectId('661e6ed1fd6b5ac15377dc19'), ObjectId('661e6ed1fd6b5ac15377dc1a'), ObjectId('661e6ed1fd6b5ac15377dc1b'), ObjectId('661e6ed1fd6b5ac15377dc1c'), ObjectId('661e6ed1fd6b5ac15377dc1d'), ObjectId('661e6ed1fd6b5ac15377dc1e'), ObjectId('661e6ed1fd6b5ac15377dc1f'), ObjectId('661e6ed1fd6b5ac15377dc20'), ObjectId('661e6ed1fd6b5ac15377dc21'), ObjectId('661e6ed1fd6b5ac15377dc22'), ObjectId('661e6ed1fd6b5ac15377dc23'), ObjectId('661e6ed1fd6b5ac15377dc24'), ObjectId('661e6ed1fd6b5ac15377dc25'), ObjectId('661e6ed1fd6b5ac15377dc26'), ObjectId('661e6ed1fd6b5ac15377dc27'), ObjectId('661e6ed1fd6b5ac15377dc28'), ObjectId('661e6ed1fd6b5ac15377dc29'), ObjectId('661e6ed1fd6b5ac15377dc2a'), ObjectId('661e6ed1fd6b5ac15377dc2b'), ObjectId('661e6ed1fd6b5ac15377dc2c'), ObjectId('661e6ed1fd6b5ac15377dc2d'), ObjectId('661e6ed1fd6b5ac15377dc2e'), ObjectId('661e6ed1fd6b5ac15377dc2f'), ObjectId('661e6ed1fd6b5ac15377dc30'), ObjectId('661e6ed1fd6b5ac15377dc31'), ObjectId('661e6ed1fd6b5ac15377dc32'), ObjectId('661e6ed1fd6b5ac15377dc33'), ObjectId('661e6ed1fd6b5ac15377dc34'), ObjectId('661e6ed1fd6b5ac15377dc35'), ObjectId('661e6ed1fd6b5ac15377dc36'), ObjectId('661e6ed1fd6b5ac15377dc37'), ObjectId('661e6ed1fd6b5ac15377dc38'), ObjectId('661e6ed1fd6b5ac15377dc39'), ObjectId('661e6ed1fd6b5ac15377dc3a'), ObjectId('661e6ed1fd6b5ac15377dc3b'), ObjectId('661e6ed1fd6b5ac15377dc3c'), ObjectId('661e6ed1fd6b5ac15377dc3d'), ObjectId('661e6ed1fd6b5ac15377dc3e'), ObjectId('661e6ed1fd6b5ac15377dc3f'), ObjectId('661e6ed1fd6b5ac15377dc40'), ObjectId('661e6ed1fd6b5ac15377dc41'), ObjectId('661e6ed1fd6b5ac15377dc42'), ObjectId('661e6ed1fd6b5ac15377dc43'), ObjectId('661e6ed1fd6b5ac15377dc44'), ObjectId('661e6ed1fd6b5ac15377dc45'), ObjectId('661e6ed1fd6b5ac15377dc46'), ObjectId('661e6ed1fd6b5ac15377dc47'), ObjectId('661e6ed1fd6b5ac15377dc48'), ObjectId('661e6ed1fd6b5ac15377dc49'), ObjectId('661e6ed1fd6b5ac15377dc4a'), ObjectId('661e6ed1fd6b5ac15377dc4b'), ObjectId('661e6ed1fd6b5ac15377dc4c'), ObjectId('661e6ed1fd6b5ac15377dc4d'), ObjectId('661e6ed1fd6b5ac15377dc4e'), ObjectId('661e6ed1fd6b5ac15377dc4f'), ObjectId('661e6ed1fd6b5ac15377dc50'), ObjectId('661e6ed1fd6b5ac15377dc51'), ObjectId('661e6ed1fd6b5ac15377dc52'), ObjectId('661e6ed1fd6b5ac15377dc53'), ObjectId('661e6ed1fd6b5ac15377dc54'), ObjectId('661e6ed1fd6b5ac15377dc55'), ObjectId('661e6ed1fd6b5ac15377dc56'), ObjectId('661e6ed1fd6b5ac15377dc57'), ObjectId('661e6ed1fd6b5ac15377dc58'), ObjectId('661e6ed1fd6b5ac15377dc59'), ObjectId('661e6ed1fd6b5ac15377dc5a'), ObjectId('661e6ed1fd6b5ac15377dc5b'), ObjectId('661e6ed1fd6b5ac15377dc5c'), ObjectId('661e6ed1fd6b5ac15377dc5d'), ObjectId('661e6ed1fd6b5ac15377dc5e'), ObjectId('661e6ed1fd6b5ac15377dc5f'), ObjectId('661e6ed1fd6b5ac15377dc60'), ObjectId('661e6ed1fd6b5ac15377dc61'), ObjectId('661e6ed1fd6b5ac15377dc62'), ObjectId('661e6ed1fd6b5ac15377dc63'), ObjectId('661e6ed1fd6b5ac15377dc64'), ObjectId('661e6ed1fd6b5ac15377dc65'), ObjectId('661e6ed1fd6b5ac15377dc66'), ObjectId('661e6ed1fd6b5ac15377dc67'), ObjectId('661e6ed1fd6b5ac15377dc68'), ObjectId('661e6ed1fd6b5ac15377dc69'), ObjectId('661e6ed1fd6b5ac15377dc6a'), ObjectId('661e6ed1fd6b5ac15377dc6b'), ObjectId('661e6ed1fd6b5ac15377dc6c'), ObjectId('661e6ed1fd6b5ac15377dc6d'), ObjectId('661e6ed1fd6b5ac15377dc6e'), ObjectId('661e6ed1fd6b5ac15377dc6f'), ObjectId('661e6ed1fd6b5ac15377dc70'), ObjectId('661e6ed1fd6b5ac15377dc71'), ObjectId('661e6ed1fd6b5ac15377dc72'), ObjectId('661e6ed1fd6b5ac15377dc73'), ObjectId('661e6ed1fd6b5ac15377dc74'), ObjectId('661e6ed1fd6b5ac15377dc75'), ObjectId('661e6ed1fd6b5ac15377dc76'), ObjectId('661e6ed1fd6b5ac15377dc77'), ObjectId('661e6ed1fd6b5ac15377dc78'), ObjectId('661e6ed1fd6b5ac15377dc79'), ObjectId('661e6ed1fd6b5ac15377dc7a'), ObjectId('661e6ed1fd6b5ac15377dc7b'), ObjectId('661e6ed1fd6b5ac15377dc7c'), ObjectId('661e6ed1fd6b5ac15377dc7d'), ObjectId('661e6ed1fd6b5ac15377dc7e'), ObjectId('661e6ed1fd6b5ac15377dc7f'), ObjectId('661e6ed1fd6b5ac15377dc80'), ObjectId('661e6ed1fd6b5ac15377dc81'), ObjectId('661e6ed1fd6b5ac15377dc82'), ObjectId('661e6ed1fd6b5ac15377dc83'), ObjectId('661e6ed1fd6b5ac15377dc84'), ObjectId('661e6ed1fd6b5ac15377dc85'), ObjectId('661e6ed1fd6b5ac15377dc86'), ObjectId('661e6ed1fd6b5ac15377dc87'), ObjectId('661e6ed1fd6b5ac15377dc88'), ObjectId('661e6ed1fd6b5ac15377dc89'), ObjectId('661e6ed1fd6b5ac15377dc8a'), ObjectId('661e6ed1fd6b5ac15377dc8b'), ObjectId('661e6ed1fd6b5ac15377dc8c'), ObjectId('661e6ed1fd6b5ac15377dc8d'), ObjectId('661e6ed1fd6b5ac15377dc8e'), ObjectId('661e6ed1fd6b5ac15377dc8f'), ObjectId('661e6ed1fd6b5ac15377dc90'), ObjectId('661e6ed1fd6b5ac15377dc91'), ObjectId('661e6ed1fd6b5ac15377dc92'), ObjectId('661e6ed1fd6b5ac15377dc93'), ObjectId('661e6ed1fd6b5ac15377dc94'), ObjectId('661e6ed1fd6b5ac15377dc95'), ObjectId('661e6ed1fd6b5ac15377dc96'), ObjectId('661e6ed1fd6b5ac15377dc97'), ObjectId('661e6ed1fd6b5ac15377dc98'), ObjectId('661e6ed1fd6b5ac15377dc99'), ObjectId('661e6ed1fd6b5ac15377dc9a'), ObjectId('661e6ed1fd6b5ac15377dc9b'), ObjectId('661e6ed1fd6b5ac15377dc9c'), ObjectId('661e6ed1fd6b5ac15377dc9d'), ObjectId('661e6ed1fd6b5ac15377dc9e'), ObjectId('661e6ed1fd6b5ac15377dc9f'), ObjectId('661e6ed1fd6b5ac15377dca0'), ObjectId('661e6ed1fd6b5ac15377dca1'), ObjectId('661e6ed1fd6b5ac15377dca2'), ObjectId('661e6ed1fd6b5ac15377dca3'), ObjectId('661e6ed1fd6b5ac15377dca4'), ObjectId('661e6ed1fd6b5ac15377dca5'), ObjectId('661e6ed1fd6b5ac15377dca6'), ObjectId('661e6ed1fd6b5ac15377dca7'), ObjectId('661e6ed1fd6b5ac15377dca8'), ObjectId('661e6ed1fd6b5ac15377dca9'), ObjectId('661e6ed1fd6b5ac15377dcaa'), ObjectId('661e6ed1fd6b5ac15377dcab'), ObjectId('661e6ed1fd6b5ac15377dcac'), ObjectId('661e6ed1fd6b5ac15377dcad'), ObjectId('661e6ed1fd6b5ac15377dcae'), ObjectId('661e6ed1fd6b5ac15377dcaf'), ObjectId('661e6ed1fd6b5ac15377dcb0'), ObjectId('661e6ed1fd6b5ac15377dcb1'), ObjectId('661e6ed1fd6b5ac15377dcb2'), ObjectId('661e6ed1fd6b5ac15377dcb3'), ObjectId('661e6ed1fd6b5ac15377dcb4'), ObjectId('661e6ed1fd6b5ac15377dcb5'), ObjectId('661e6ed1fd6b5ac15377dcb6'), ObjectId('661e6ed1fd6b5ac15377dcb7'), ObjectId('661e6ed1fd6b5ac15377dcb8'), ObjectId('661e6ed1fd6b5ac15377dcb9'), ObjectId('661e6ed1fd6b5ac15377dcba'), ObjectId('661e6ed1fd6b5ac15377dcbb'), ObjectId('661e6ed1fd6b5ac15377dcbc'), ObjectId('661e6ed1fd6b5ac15377dcbd'), ObjectId('661e6ed1fd6b5ac15377dcbe'), ObjectId('661e6ed1fd6b5ac15377dcbf'), ObjectId('661e6ed1fd6b5ac15377dcc0'), ObjectId('661e6ed1fd6b5ac15377dcc1'), ObjectId('661e6ed1fd6b5ac15377dcc2'), ObjectId('661e6ed1fd6b5ac15377dcc3'), ObjectId('661e6ed1fd6b5ac15377dcc4'), ObjectId('661e6ed1fd6b5ac15377dcc5'), ObjectId('661e6ed1fd6b5ac15377dcc6'), ObjectId('661e6ed1fd6b5ac15377dcc7'), ObjectId('661e6ed1fd6b5ac15377dcc8'), ObjectId('661e6ed1fd6b5ac15377dcc9'), ObjectId('661e6ed1fd6b5ac15377dcca'), ObjectId('661e6ed1fd6b5ac15377dccb'), ObjectId('661e6ed1fd6b5ac15377dccc'), ObjectId('661e6ed1fd6b5ac15377dccd'), ObjectId('661e6ed1fd6b5ac15377dcce'), ObjectId('661e6ed1fd6b5ac15377dccf'), ObjectId('661e6ed1fd6b5ac15377dcd0'), ObjectId('661e6ed1fd6b5ac15377dcd1'), ObjectId('661e6ed1fd6b5ac15377dcd2'), ObjectId('661e6ed1fd6b5ac15377dcd3'), ObjectId('661e6ed1fd6b5ac15377dcd4'), ObjectId('661e6ed1fd6b5ac15377dcd5'), ObjectId('661e6ed1fd6b5ac15377dcd6'), ObjectId('661e6ed1fd6b5ac15377dcd7'), ObjectId('661e6ed1fd6b5ac15377dcd8'), ObjectId('661e6ed1fd6b5ac15377dcd9'), ObjectId('661e6ed1fd6b5ac15377dcda'), ObjectId('661e6ed1fd6b5ac15377dcdb'), ObjectId('661e6ed1fd6b5ac15377dcdc'), ObjectId('661e6ed1fd6b5ac15377dcdd'), ObjectId('661e6ed1fd6b5ac15377dcde'), ObjectId('661e6ed1fd6b5ac15377dcdf'), ObjectId('661e6ed1fd6b5ac15377dce0'), ObjectId('661e6ed1fd6b5ac15377dce1'), ObjectId('661e6ed1fd6b5ac15377dce2'), ObjectId('661e6ed1fd6b5ac15377dce3'), ObjectId('661e6ed1fd6b5ac15377dce4'), ObjectId('661e6ed1fd6b5ac15377dce5'), ObjectId('661e6ed1fd6b5ac15377dce6'), ObjectId('661e6ed1fd6b5ac15377dce7'), ObjectId('661e6ed1fd6b5ac15377dce8'), ObjectId('661e6ed1fd6b5ac15377dce9'), ObjectId('661e6ed1fd6b5ac15377dcea'), ObjectId('661e6ed1fd6b5ac15377dceb'), ObjectId('661e6ed1fd6b5ac15377dcec'), ObjectId('661e6ed1fd6b5ac15377dced'), ObjectId('661e6ed1fd6b5ac15377dcee'), ObjectId('661e6ed1fd6b5ac15377dcef'), ObjectId('661e6ed1fd6b5ac15377dcf0'), ObjectId('661e6ed1fd6b5ac15377dcf1'), ObjectId('661e6ed1fd6b5ac15377dcf2'), ObjectId('661e6ed1fd6b5ac15377dcf3'), ObjectId('661e6ed1fd6b5ac15377dcf4'), ObjectId('661e6ed1fd6b5ac15377dcf5'), ObjectId('661e6ed1fd6b5ac15377dcf6'), ObjectId('661e6ed1fd6b5ac15377dcf7'), ObjectId('661e6ed1fd6b5ac15377dcf8'), ObjectId('661e6ed1fd6b5ac15377dcf9'), ObjectId('661e6ed1fd6b5ac15377dcfa'), ObjectId('661e6ed1fd6b5ac15377dcfb'), ObjectId('661e6ed1fd6b5ac15377dcfc'), ObjectId('661e6ed1fd6b5ac15377dcfd'), ObjectId('661e6ed1fd6b5ac15377dcfe'), ObjectId('661e6ed1fd6b5ac15377dcff'), ObjectId('661e6ed1fd6b5ac15377dd00'), ObjectId('661e6ed1fd6b5ac15377dd01'), ObjectId('661e6ed1fd6b5ac15377dd02'), ObjectId('661e6ed1fd6b5ac15377dd03'), ObjectId('661e6ed1fd6b5ac15377dd04'), ObjectId('661e6ed1fd6b5ac15377dd05'), ObjectId('661e6ed1fd6b5ac15377dd06'), ObjectId('661e6ed1fd6b5ac15377dd07'), ObjectId('661e6ed1fd6b5ac15377dd08'), ObjectId('661e6ed1fd6b5ac15377dd09'), ObjectId('661e6ed1fd6b5ac15377dd0a'), ObjectId('661e6ed1fd6b5ac15377dd0b'), ObjectId('661e6ed1fd6b5ac15377dd0c'), ObjectId('661e6ed1fd6b5ac15377dd0d'), ObjectId('661e6ed1fd6b5ac15377dd0e'), ObjectId('661e6ed1fd6b5ac15377dd0f'), ObjectId('661e6ed1fd6b5ac15377dd10'), ObjectId('661e6ed1fd6b5ac15377dd11'), ObjectId('661e6ed1fd6b5ac15377dd12'), ObjectId('661e6ed1fd6b5ac15377dd13'), ObjectId('661e6ed1fd6b5ac15377dd14'), ObjectId('661e6ed1fd6b5ac15377dd15'), ObjectId('661e6ed1fd6b5ac15377dd16'), ObjectId('661e6ed1fd6b5ac15377dd17'), ObjectId('661e6ed1fd6b5ac15377dd18'), ObjectId('661e6ed1fd6b5ac15377dd19'), ObjectId('661e6ed1fd6b5ac15377dd1a'), ObjectId('661e6ed1fd6b5ac15377dd1b'), ObjectId('661e6ed1fd6b5ac15377dd1c'), ObjectId('661e6ed1fd6b5ac15377dd1d'), ObjectId('661e6ed1fd6b5ac15377dd1e'), ObjectId('661e6ed1fd6b5ac15377dd1f'), ObjectId('661e6ed1fd6b5ac15377dd20'), ObjectId('661e6ed1fd6b5ac15377dd21'), ObjectId('661e6ed1fd6b5ac15377dd22'), ObjectId('661e6ed1fd6b5ac15377dd23'), ObjectId('661e6ed1fd6b5ac15377dd24'), ObjectId('661e6ed1fd6b5ac15377dd25'), ObjectId('661e6ed1fd6b5ac15377dd26'), ObjectId('661e6ed1fd6b5ac15377dd27'), ObjectId('661e6ed1fd6b5ac15377dd28'), ObjectId('661e6ed1fd6b5ac15377dd29'), ObjectId('661e6ed1fd6b5ac15377dd2a'), ObjectId('661e6ed1fd6b5ac15377dd2b'), ObjectId('661e6ed1fd6b5ac15377dd2c'), ObjectId('661e6ed1fd6b5ac15377dd2d'), ObjectId('661e6ed1fd6b5ac15377dd2e'), ObjectId('661e6ed1fd6b5ac15377dd2f'), ObjectId('661e6ed1fd6b5ac15377dd30'), ObjectId('661e6ed1fd6b5ac15377dd31'), ObjectId('661e6ed1fd6b5ac15377dd32'), ObjectId('661e6ed1fd6b5ac15377dd33'), ObjectId('661e6ed1fd6b5ac15377dd34'), ObjectId('661e6ed1fd6b5ac15377dd35'), ObjectId('661e6ed1fd6b5ac15377dd36'), ObjectId('661e6ed1fd6b5ac15377dd37'), ObjectId('661e6ed1fd6b5ac15377dd38'), ObjectId('661e6ed1fd6b5ac15377dd39'), ObjectId('661e6ed1fd6b5ac15377dd3a'), ObjectId('661e6ed1fd6b5ac15377dd3b'), ObjectId('661e6ed1fd6b5ac15377dd3c'), ObjectId('661e6ed1fd6b5ac15377dd3d'), ObjectId('661e6ed1fd6b5ac15377dd3e'), ObjectId('661e6ed1fd6b5ac15377dd3f'), ObjectId('661e6ed1fd6b5ac15377dd40'), ObjectId('661e6ed1fd6b5ac15377dd41'), ObjectId('661e6ed1fd6b5ac15377dd42'), ObjectId('661e6ed1fd6b5ac15377dd43'), ObjectId('661e6ed1fd6b5ac15377dd44'), ObjectId('661e6ed1fd6b5ac15377dd45'), ObjectId('661e6ed1fd6b5ac15377dd46'), ObjectId('661e6ed1fd6b5ac15377dd47'), ObjectId('661e6ed1fd6b5ac15377dd48'), ObjectId('661e6ed1fd6b5ac15377dd49'), ObjectId('661e6ed1fd6b5ac15377dd4a'), ObjectId('661e6ed1fd6b5ac15377dd4b'), ObjectId('661e6ed1fd6b5ac15377dd4c'), ObjectId('661e6ed1fd6b5ac15377dd4d'), ObjectId('661e6ed1fd6b5ac15377dd4e'), ObjectId('661e6ed1fd6b5ac15377dd4f'), ObjectId('661e6ed1fd6b5ac15377dd50'), ObjectId('661e6ed1fd6b5ac15377dd51'), ObjectId('661e6ed1fd6b5ac15377dd52'), ObjectId('661e6ed1fd6b5ac15377dd53'), ObjectId('661e6ed1fd6b5ac15377dd54'), ObjectId('661e6ed1fd6b5ac15377dd55'), ObjectId('661e6ed1fd6b5ac15377dd56'), ObjectId('661e6ed1fd6b5ac15377dd57'), ObjectId('661e6ed1fd6b5ac15377dd58'), ObjectId('661e6ed1fd6b5ac15377dd59'), ObjectId('661e6ed1fd6b5ac15377dd5a'), ObjectId('661e6ed1fd6b5ac15377dd5b'), ObjectId('661e6ed1fd6b5ac15377dd5c'), ObjectId('661e6ed1fd6b5ac15377dd5d'), ObjectId('661e6ed1fd6b5ac15377dd5e'), ObjectId('661e6ed1fd6b5ac15377dd5f'), ObjectId('661e6ed1fd6b5ac15377dd60'), ObjectId('661e6ed1fd6b5ac15377dd61'), ObjectId('661e6ed1fd6b5ac15377dd62'), ObjectId('661e6ed1fd6b5ac15377dd63'), ObjectId('661e6ed1fd6b5ac15377dd64'), ObjectId('661e6ed1fd6b5ac15377dd65'), ObjectId('661e6ed1fd6b5ac15377dd66'), ObjectId('661e6ed1fd6b5ac15377dd67'), ObjectId('661e6ed1fd6b5ac15377dd68'), ObjectId('661e6ed1fd6b5ac15377dd69'), ObjectId('661e6ed1fd6b5ac15377dd6a'), ObjectId('661e6ed1fd6b5ac15377dd6b'), ObjectId('661e6ed1fd6b5ac15377dd6c'), ObjectId('661e6ed1fd6b5ac15377dd6d'), ObjectId('661e6ed1fd6b5ac15377dd6e'), ObjectId('661e6ed1fd6b5ac15377dd6f'), ObjectId('661e6ed1fd6b5ac15377dd70'), ObjectId('661e6ed1fd6b5ac15377dd71'), ObjectId('661e6ed1fd6b5ac15377dd72'), ObjectId('661e6ed1fd6b5ac15377dd73'), ObjectId('661e6ed1fd6b5ac15377dd74'), ObjectId('661e6ed1fd6b5ac15377dd75'), ObjectId('661e6ed1fd6b5ac15377dd76'), ObjectId('661e6ed1fd6b5ac15377dd77'), ObjectId('661e6ed1fd6b5ac15377dd78'), ObjectId('661e6ed1fd6b5ac15377dd79'), ObjectId('661e6ed1fd6b5ac15377dd7a'), ObjectId('661e6ed1fd6b5ac15377dd7b'), ObjectId('661e6ed1fd6b5ac15377dd7c'), ObjectId('661e6ed1fd6b5ac15377dd7d'), ObjectId('661e6ed1fd6b5ac15377dd7e'), ObjectId('661e6ed1fd6b5ac15377dd7f'), ObjectId('661e6ed1fd6b5ac15377dd80'), ObjectId('661e6ed1fd6b5ac15377dd81'), ObjectId('661e6ed1fd6b5ac15377dd82'), ObjectId('661e6ed1fd6b5ac15377dd83'), ObjectId('661e6ed1fd6b5ac15377dd84'), ObjectId('661e6ed1fd6b5ac15377dd85'), ObjectId('661e6ed1fd6b5ac15377dd86'), ObjectId('661e6ed1fd6b5ac15377dd87'), ObjectId('661e6ed1fd6b5ac15377dd88'), ObjectId('661e6ed1fd6b5ac15377dd89'), ObjectId('661e6ed1fd6b5ac15377dd8a'), ObjectId('661e6ed1fd6b5ac15377dd8b'), ObjectId('661e6ed1fd6b5ac15377dd8c'), ObjectId('661e6ed1fd6b5ac15377dd8d'), ObjectId('661e6ed1fd6b5ac15377dd8e'), ObjectId('661e6ed1fd6b5ac15377dd8f'), ObjectId('661e6ed1fd6b5ac15377dd90'), ObjectId('661e6ed1fd6b5ac15377dd91'), ObjectId('661e6ed1fd6b5ac15377dd92'), ObjectId('661e6ed1fd6b5ac15377dd93'), ObjectId('661e6ed1fd6b5ac15377dd94'), ObjectId('661e6ed1fd6b5ac15377dd95'), ObjectId('661e6ed1fd6b5ac15377dd96'), ObjectId('661e6ed1fd6b5ac15377dd97'), ObjectId('661e6ed1fd6b5ac15377dd98'), ObjectId('661e6ed1fd6b5ac15377dd99'), ObjectId('661e6ed1fd6b5ac15377dd9a'), ObjectId('661e6ed1fd6b5ac15377dd9b'), ObjectId('661e6ed1fd6b5ac15377dd9c'), ObjectId('661e6ed1fd6b5ac15377dd9d'), ObjectId('661e6ed1fd6b5ac15377dd9e'), ObjectId('661e6ed1fd6b5ac15377dd9f'), ObjectId('661e6ed1fd6b5ac15377dda0'), ObjectId('661e6ed1fd6b5ac15377dda1'), ObjectId('661e6ed1fd6b5ac15377dda2'), ObjectId('661e6ed1fd6b5ac15377dda3'), ObjectId('661e6ed1fd6b5ac15377dda4'), ObjectId('661e6ed1fd6b5ac15377dda5'), ObjectId('661e6ed1fd6b5ac15377dda6'), ObjectId('661e6ed1fd6b5ac15377dda7'), ObjectId('661e6ed1fd6b5ac15377dda8'), ObjectId('661e6ed1fd6b5ac15377dda9'), ObjectId('661e6ed1fd6b5ac15377ddaa'), ObjectId('661e6ed1fd6b5ac15377ddab'), ObjectId('661e6ed1fd6b5ac15377ddac'), ObjectId('661e6ed1fd6b5ac15377ddad'), ObjectId('661e6ed1fd6b5ac15377ddae'), ObjectId('661e6ed1fd6b5ac15377ddaf'), ObjectId('661e6ed1fd6b5ac15377ddb0'), ObjectId('661e6ed1fd6b5ac15377ddb1'), ObjectId('661e6ed1fd6b5ac15377ddb2'), ObjectId('661e6ed1fd6b5ac15377ddb3'), ObjectId('661e6ed1fd6b5ac15377ddb4'), ObjectId('661e6ed1fd6b5ac15377ddb5'), ObjectId('661e6ed1fd6b5ac15377ddb6'), ObjectId('661e6ed1fd6b5ac15377ddb7'), ObjectId('661e6ed1fd6b5ac15377ddb8'), ObjectId('661e6ed1fd6b5ac15377ddb9'), ObjectId('661e6ed1fd6b5ac15377ddba'), ObjectId('661e6ed1fd6b5ac15377ddbb'), ObjectId('661e6ed1fd6b5ac15377ddbc'), ObjectId('661e6ed1fd6b5ac15377ddbd'), ObjectId('661e6ed1fd6b5ac15377ddbe'), ObjectId('661e6ed1fd6b5ac15377ddbf'), ObjectId('661e6ed1fd6b5ac15377ddc0'), ObjectId('661e6ed1fd6b5ac15377ddc1'), ObjectId('661e6ed1fd6b5ac15377ddc2'), ObjectId('661e6ed1fd6b5ac15377ddc3'), ObjectId('661e6ed1fd6b5ac15377ddc4'), ObjectId('661e6ed1fd6b5ac15377ddc5'), ObjectId('661e6ed1fd6b5ac15377ddc6'), ObjectId('661e6ed1fd6b5ac15377ddc7'), ObjectId('661e6ed1fd6b5ac15377ddc8'), ObjectId('661e6ed1fd6b5ac15377ddc9'), ObjectId('661e6ed1fd6b5ac15377ddca'), ObjectId('661e6ed1fd6b5ac15377ddcb'), ObjectId('661e6ed1fd6b5ac15377ddcc'), ObjectId('661e6ed1fd6b5ac15377ddcd'), ObjectId('661e6ed1fd6b5ac15377ddce'), ObjectId('661e6ed1fd6b5ac15377ddcf'), ObjectId('661e6ed1fd6b5ac15377ddd0'), ObjectId('661e6ed1fd6b5ac15377ddd1'), ObjectId('661e6ed1fd6b5ac15377ddd2'), ObjectId('661e6ed1fd6b5ac15377ddd3'), ObjectId('661e6ed1fd6b5ac15377ddd4'), ObjectId('661e6ed1fd6b5ac15377ddd5'), ObjectId('661e6ed1fd6b5ac15377ddd6'), ObjectId('661e6ed1fd6b5ac15377ddd7'), ObjectId('661e6ed1fd6b5ac15377ddd8'), ObjectId('661e6ed1fd6b5ac15377ddd9'), ObjectId('661e6ed1fd6b5ac15377ddda'), ObjectId('661e6ed1fd6b5ac15377dddb'), ObjectId('661e6ed1fd6b5ac15377dddc'), ObjectId('661e6ed1fd6b5ac15377dddd'), ObjectId('661e6ed1fd6b5ac15377ddde'), ObjectId('661e6ed1fd6b5ac15377dddf'), ObjectId('661e6ed1fd6b5ac15377dde0'), ObjectId('661e6ed1fd6b5ac15377dde1'), ObjectId('661e6ed1fd6b5ac15377dde2'), ObjectId('661e6ed1fd6b5ac15377dde3'), ObjectId('661e6ed1fd6b5ac15377dde4'), ObjectId('661e6ed1fd6b5ac15377dde5'), ObjectId('661e6ed1fd6b5ac15377dde6'), ObjectId('661e6ed1fd6b5ac15377dde7'), ObjectId('661e6ed1fd6b5ac15377dde8'), ObjectId('661e6ed1fd6b5ac15377dde9'), ObjectId('661e6ed1fd6b5ac15377ddea'), ObjectId('661e6ed1fd6b5ac15377ddeb'), ObjectId('661e6ed1fd6b5ac15377ddec'), ObjectId('661e6ed1fd6b5ac15377dded'), ObjectId('661e6ed1fd6b5ac15377ddee'), ObjectId('661e6ed1fd6b5ac15377ddef'), ObjectId('661e6ed1fd6b5ac15377ddf0'), ObjectId('661e6ed1fd6b5ac15377ddf1'), ObjectId('661e6ed1fd6b5ac15377ddf2'), ObjectId('661e6ed1fd6b5ac15377ddf3'), ObjectId('661e6ed1fd6b5ac15377ddf4'), ObjectId('661e6ed1fd6b5ac15377ddf5'), ObjectId('661e6ed1fd6b5ac15377ddf6'), ObjectId('661e6ed1fd6b5ac15377ddf7'), ObjectId('661e6ed1fd6b5ac15377ddf8'), ObjectId('661e6ed1fd6b5ac15377ddf9'), ObjectId('661e6ed1fd6b5ac15377ddfa'), ObjectId('661e6ed1fd6b5ac15377ddfb'), ObjectId('661e6ed1fd6b5ac15377ddfc'), ObjectId('661e6ed1fd6b5ac15377ddfd'), ObjectId('661e6ed1fd6b5ac15377ddfe'), ObjectId('661e6ed1fd6b5ac15377ddff'), ObjectId('661e6ed1fd6b5ac15377de00'), ObjectId('661e6ed1fd6b5ac15377de01'), ObjectId('661e6ed1fd6b5ac15377de02'), ObjectId('661e6ed1fd6b5ac15377de03'), ObjectId('661e6ed1fd6b5ac15377de04'), ObjectId('661e6ed1fd6b5ac15377de05'), ObjectId('661e6ed1fd6b5ac15377de06'), ObjectId('661e6ed1fd6b5ac15377de07'), ObjectId('661e6ed1fd6b5ac15377de08'), ObjectId('661e6ed1fd6b5ac15377de09'), ObjectId('661e6ed1fd6b5ac15377de0a'), ObjectId('661e6ed1fd6b5ac15377de0b'), ObjectId('661e6ed1fd6b5ac15377de0c'), ObjectId('661e6ed1fd6b5ac15377de0d'), ObjectId('661e6ed1fd6b5ac15377de0e'), ObjectId('661e6ed1fd6b5ac15377de0f'), ObjectId('661e6ed1fd6b5ac15377de10'), ObjectId('661e6ed1fd6b5ac15377de11'), ObjectId('661e6ed1fd6b5ac15377de12'), ObjectId('661e6ed1fd6b5ac15377de13'), ObjectId('661e6ed1fd6b5ac15377de14'), ObjectId('661e6ed1fd6b5ac15377de15'), ObjectId('661e6ed1fd6b5ac15377de16'), ObjectId('661e6ed1fd6b5ac15377de17'), ObjectId('661e6ed1fd6b5ac15377de18'), ObjectId('661e6ed1fd6b5ac15377de19'), ObjectId('661e6ed1fd6b5ac15377de1a'), ObjectId('661e6ed1fd6b5ac15377de1b'), ObjectId('661e6ed1fd6b5ac15377de1c'), ObjectId('661e6ed1fd6b5ac15377de1d'), ObjectId('661e6ed1fd6b5ac15377de1e'), ObjectId('661e6ed1fd6b5ac15377de1f'), ObjectId('661e6ed1fd6b5ac15377de20'), ObjectId('661e6ed1fd6b5ac15377de21'), ObjectId('661e6ed1fd6b5ac15377de22'), ObjectId('661e6ed1fd6b5ac15377de23'), ObjectId('661e6ed1fd6b5ac15377de24'), ObjectId('661e6ed1fd6b5ac15377de25'), ObjectId('661e6ed1fd6b5ac15377de26'), ObjectId('661e6ed1fd6b5ac15377de27'), ObjectId('661e6ed1fd6b5ac15377de28'), ObjectId('661e6ed1fd6b5ac15377de29'), ObjectId('661e6ed1fd6b5ac15377de2a'), ObjectId('661e6ed1fd6b5ac15377de2b'), ObjectId('661e6ed1fd6b5ac15377de2c'), ObjectId('661e6ed1fd6b5ac15377de2d'), ObjectId('661e6ed1fd6b5ac15377de2e'), ObjectId('661e6ed1fd6b5ac15377de2f'), ObjectId('661e6ed1fd6b5ac15377de30'), ObjectId('661e6ed1fd6b5ac15377de31'), ObjectId('661e6ed1fd6b5ac15377de32'), ObjectId('661e6ed1fd6b5ac15377de33'), ObjectId('661e6ed1fd6b5ac15377de34'), ObjectId('661e6ed1fd6b5ac15377de35'), ObjectId('661e6ed1fd6b5ac15377de36'), ObjectId('661e6ed1fd6b5ac15377de37'), ObjectId('661e6ed1fd6b5ac15377de38'), ObjectId('661e6ed1fd6b5ac15377de39'), ObjectId('661e6ed1fd6b5ac15377de3a'), ObjectId('661e6ed1fd6b5ac15377de3b'), ObjectId('661e6ed1fd6b5ac15377de3c'), ObjectId('661e6ed1fd6b5ac15377de3d'), ObjectId('661e6ed1fd6b5ac15377de3e'), ObjectId('661e6ed1fd6b5ac15377de3f'), ObjectId('661e6ed1fd6b5ac15377de40'), ObjectId('661e6ed1fd6b5ac15377de41'), ObjectId('661e6ed1fd6b5ac15377de42'), ObjectId('661e6ed1fd6b5ac15377de43'), ObjectId('661e6ed1fd6b5ac15377de44'), ObjectId('661e6ed1fd6b5ac15377de45'), ObjectId('661e6ed1fd6b5ac15377de46'), ObjectId('661e6ed1fd6b5ac15377de47'), ObjectId('661e6ed1fd6b5ac15377de48'), ObjectId('661e6ed1fd6b5ac15377de49'), ObjectId('661e6ed1fd6b5ac15377de4a'), ObjectId('661e6ed1fd6b5ac15377de4b'), ObjectId('661e6ed1fd6b5ac15377de4c'), ObjectId('661e6ed1fd6b5ac15377de4d'), ObjectId('661e6ed1fd6b5ac15377de4e'), ObjectId('661e6ed1fd6b5ac15377de4f'), ObjectId('661e6ed1fd6b5ac15377de50'), ObjectId('661e6ed1fd6b5ac15377de51'), ObjectId('661e6ed1fd6b5ac15377de52'), ObjectId('661e6ed1fd6b5ac15377de53'), ObjectId('661e6ed1fd6b5ac15377de54'), ObjectId('661e6ed1fd6b5ac15377de55'), ObjectId('661e6ed1fd6b5ac15377de56'), ObjectId('661e6ed1fd6b5ac15377de57'), ObjectId('661e6ed1fd6b5ac15377de58'), ObjectId('661e6ed1fd6b5ac15377de59'), ObjectId('661e6ed1fd6b5ac15377de5a'), ObjectId('661e6ed1fd6b5ac15377de5b'), ObjectId('661e6ed1fd6b5ac15377de5c'), ObjectId('661e6ed1fd6b5ac15377de5d'), ObjectId('661e6ed1fd6b5ac15377de5e'), ObjectId('661e6ed1fd6b5ac15377de5f'), ObjectId('661e6ed1fd6b5ac15377de60'), ObjectId('661e6ed1fd6b5ac15377de61'), ObjectId('661e6ed1fd6b5ac15377de62'), ObjectId('661e6ed1fd6b5ac15377de63'), ObjectId('661e6ed1fd6b5ac15377de64'), ObjectId('661e6ed1fd6b5ac15377de65'), ObjectId('661e6ed1fd6b5ac15377de66'), ObjectId('661e6ed1fd6b5ac15377de67'), ObjectId('661e6ed1fd6b5ac15377de68'), ObjectId('661e6ed1fd6b5ac15377de69'), ObjectId('661e6ed1fd6b5ac15377de6a'), ObjectId('661e6ed1fd6b5ac15377de6b'), ObjectId('661e6ed1fd6b5ac15377de6c'), ObjectId('661e6ed1fd6b5ac15377de6d'), ObjectId('661e6ed1fd6b5ac15377de6e'), ObjectId('661e6ed1fd6b5ac15377de6f'), ObjectId('661e6ed1fd6b5ac15377de70'), ObjectId('661e6ed1fd6b5ac15377de71'), ObjectId('661e6ed1fd6b5ac15377de72'), ObjectId('661e6ed1fd6b5ac15377de73'), ObjectId('661e6ed1fd6b5ac15377de74'), ObjectId('661e6ed1fd6b5ac15377de75'), ObjectId('661e6ed1fd6b5ac15377de76'), ObjectId('661e6ed1fd6b5ac15377de77'), ObjectId('661e6ed1fd6b5ac15377de78'), ObjectId('661e6ed1fd6b5ac15377de79'), ObjectId('661e6ed1fd6b5ac15377de7a'), ObjectId('661e6ed1fd6b5ac15377de7b'), ObjectId('661e6ed1fd6b5ac15377de7c'), ObjectId('661e6ed1fd6b5ac15377de7d'), ObjectId('661e6ed1fd6b5ac15377de7e'), ObjectId('661e6ed1fd6b5ac15377de7f'), ObjectId('661e6ed1fd6b5ac15377de80'), ObjectId('661e6ed1fd6b5ac15377de81'), ObjectId('661e6ed1fd6b5ac15377de82'), ObjectId('661e6ed1fd6b5ac15377de83'), ObjectId('661e6ed1fd6b5ac15377de84'), ObjectId('661e6ed1fd6b5ac15377de85'), ObjectId('661e6ed1fd6b5ac15377de86'), ObjectId('661e6ed1fd6b5ac15377de87'), ObjectId('661e6ed1fd6b5ac15377de88'), ObjectId('661e6ed1fd6b5ac15377de89'), ObjectId('661e6ed1fd6b5ac15377de8a'), ObjectId('661e6ed1fd6b5ac15377de8b'), ObjectId('661e6ed1fd6b5ac15377de8c'), ObjectId('661e6ed1fd6b5ac15377de8d'), ObjectId('661e6ed1fd6b5ac15377de8e'), ObjectId('661e6ed1fd6b5ac15377de8f'), ObjectId('661e6ed1fd6b5ac15377de90'), ObjectId('661e6ed1fd6b5ac15377de91'), ObjectId('661e6ed1fd6b5ac15377de92'), ObjectId('661e6ed1fd6b5ac15377de93'), ObjectId('661e6ed1fd6b5ac15377de94'), ObjectId('661e6ed1fd6b5ac15377de95'), ObjectId('661e6ed1fd6b5ac15377de96'), ObjectId('661e6ed1fd6b5ac15377de97'), ObjectId('661e6ed1fd6b5ac15377de98'), ObjectId('661e6ed1fd6b5ac15377de99'), ObjectId('661e6ed1fd6b5ac15377de9a'), ObjectId('661e6ed1fd6b5ac15377de9b'), ObjectId('661e6ed1fd6b5ac15377de9c'), ObjectId('661e6ed1fd6b5ac15377de9d'), ObjectId('661e6ed1fd6b5ac15377de9e'), ObjectId('661e6ed1fd6b5ac15377de9f'), ObjectId('661e6ed1fd6b5ac15377dea0'), ObjectId('661e6ed1fd6b5ac15377dea1'), ObjectId('661e6ed1fd6b5ac15377dea2'), ObjectId('661e6ed1fd6b5ac15377dea3'), ObjectId('661e6ed1fd6b5ac15377dea4'), ObjectId('661e6ed1fd6b5ac15377dea5'), ObjectId('661e6ed1fd6b5ac15377dea6'), ObjectId('661e6ed1fd6b5ac15377dea7'), ObjectId('661e6ed1fd6b5ac15377dea8'), ObjectId('661e6ed1fd6b5ac15377dea9'), ObjectId('661e6ed1fd6b5ac15377deaa'), ObjectId('661e6ed1fd6b5ac15377deab'), ObjectId('661e6ed1fd6b5ac15377deac'), ObjectId('661e6ed1fd6b5ac15377dead'), ObjectId('661e6ed1fd6b5ac15377deae'), ObjectId('661e6ed1fd6b5ac15377deaf'), ObjectId('661e6ed1fd6b5ac15377deb0'), ObjectId('661e6ed1fd6b5ac15377deb1'), ObjectId('661e6ed1fd6b5ac15377deb2'), ObjectId('661e6ed1fd6b5ac15377deb3'), ObjectId('661e6ed1fd6b5ac15377deb4'), ObjectId('661e6ed1fd6b5ac15377deb5'), ObjectId('661e6ed1fd6b5ac15377deb6'), ObjectId('661e6ed1fd6b5ac15377deb7'), ObjectId('661e6ed1fd6b5ac15377deb8'), ObjectId('661e6ed1fd6b5ac15377deb9'), ObjectId('661e6ed1fd6b5ac15377deba'), ObjectId('661e6ed1fd6b5ac15377debb'), ObjectId('661e6ed1fd6b5ac15377debc'), ObjectId('661e6ed1fd6b5ac15377debd'), ObjectId('661e6ed1fd6b5ac15377debe'), ObjectId('661e6ed1fd6b5ac15377debf'), ObjectId('661e6ed1fd6b5ac15377dec0'), ObjectId('661e6ed1fd6b5ac15377dec1'), ObjectId('661e6ed1fd6b5ac15377dec2'), ObjectId('661e6ed1fd6b5ac15377dec3'), ObjectId('661e6ed1fd6b5ac15377dec4'), ObjectId('661e6ed1fd6b5ac15377dec5'), ObjectId('661e6ed1fd6b5ac15377dec6'), ObjectId('661e6ed1fd6b5ac15377dec7'), ObjectId('661e6ed1fd6b5ac15377dec8'), ObjectId('661e6ed1fd6b5ac15377dec9'), ObjectId('661e6ed1fd6b5ac15377deca'), ObjectId('661e6ed1fd6b5ac15377decb'), ObjectId('661e6ed1fd6b5ac15377decc'), ObjectId('661e6ed1fd6b5ac15377decd'), ObjectId('661e6ed1fd6b5ac15377dece'), ObjectId('661e6ed1fd6b5ac15377decf'), ObjectId('661e6ed1fd6b5ac15377ded0'), ObjectId('661e6ed1fd6b5ac15377ded1'), ObjectId('661e6ed1fd6b5ac15377ded2'), ObjectId('661e6ed1fd6b5ac15377ded3'), ObjectId('661e6ed1fd6b5ac15377ded4'), ObjectId('661e6ed1fd6b5ac15377ded5'), ObjectId('661e6ed1fd6b5ac15377ded6'), ObjectId('661e6ed1fd6b5ac15377ded7'), ObjectId('661e6ed1fd6b5ac15377ded8'), ObjectId('661e6ed1fd6b5ac15377ded9'), ObjectId('661e6ed1fd6b5ac15377deda'), ObjectId('661e6ed1fd6b5ac15377dedb'), ObjectId('661e6ed1fd6b5ac15377dedc'), ObjectId('661e6ed1fd6b5ac15377dedd'), ObjectId('661e6ed1fd6b5ac15377dede'), ObjectId('661e6ed1fd6b5ac15377dedf'), ObjectId('661e6ed1fd6b5ac15377dee0'), ObjectId('661e6ed1fd6b5ac15377dee1'), ObjectId('661e6ed1fd6b5ac15377dee2'), ObjectId('661e6ed1fd6b5ac15377dee3'), ObjectId('661e6ed1fd6b5ac15377dee4'), ObjectId('661e6ed1fd6b5ac15377dee5'), ObjectId('661e6ed1fd6b5ac15377dee6'), ObjectId('661e6ed1fd6b5ac15377dee7'), ObjectId('661e6ed1fd6b5ac15377dee8'), ObjectId('661e6ed1fd6b5ac15377dee9'), ObjectId('661e6ed1fd6b5ac15377deea'), ObjectId('661e6ed1fd6b5ac15377deeb'), ObjectId('661e6ed1fd6b5ac15377deec'), ObjectId('661e6ed1fd6b5ac15377deed'), ObjectId('661e6ed1fd6b5ac15377deee'), ObjectId('661e6ed1fd6b5ac15377deef'), ObjectId('661e6ed1fd6b5ac15377def0'), ObjectId('661e6ed1fd6b5ac15377def1'), ObjectId('661e6ed1fd6b5ac15377def2'), ObjectId('661e6ed1fd6b5ac15377def3'), ObjectId('661e6ed1fd6b5ac15377def4'), ObjectId('661e6ed1fd6b5ac15377def5'), ObjectId('661e6ed1fd6b5ac15377def6'), ObjectId('661e6ed1fd6b5ac15377def7'), ObjectId('661e6ed1fd6b5ac15377def8'), ObjectId('661e6ed1fd6b5ac15377def9'), ObjectId('661e6ed1fd6b5ac15377defa'), ObjectId('661e6ed1fd6b5ac15377defb'), ObjectId('661e6ed1fd6b5ac15377defc'), ObjectId('661e6ed1fd6b5ac15377defd'), ObjectId('661e6ed1fd6b5ac15377defe'), ObjectId('661e6ed1fd6b5ac15377deff'), ObjectId('661e6ed1fd6b5ac15377df00'), ObjectId('661e6ed1fd6b5ac15377df01'), ObjectId('661e6ed1fd6b5ac15377df02'), ObjectId('661e6ed1fd6b5ac15377df03'), ObjectId('661e6ed1fd6b5ac15377df04'), ObjectId('661e6ed1fd6b5ac15377df05'), ObjectId('661e6ed1fd6b5ac15377df06'), ObjectId('661e6ed1fd6b5ac15377df07'), ObjectId('661e6ed1fd6b5ac15377df08'), ObjectId('661e6ed1fd6b5ac15377df09'), ObjectId('661e6ed1fd6b5ac15377df0a'), ObjectId('661e6ed1fd6b5ac15377df0b'), ObjectId('661e6ed1fd6b5ac15377df0c'), ObjectId('661e6ed1fd6b5ac15377df0d'), ObjectId('661e6ed1fd6b5ac15377df0e'), ObjectId('661e6ed1fd6b5ac15377df0f'), ObjectId('661e6ed1fd6b5ac15377df10'), ObjectId('661e6ed1fd6b5ac15377df11'), ObjectId('661e6ed1fd6b5ac15377df12'), ObjectId('661e6ed1fd6b5ac15377df13'), ObjectId('661e6ed1fd6b5ac15377df14'), ObjectId('661e6ed1fd6b5ac15377df15'), ObjectId('661e6ed1fd6b5ac15377df16'), ObjectId('661e6ed1fd6b5ac15377df17'), ObjectId('661e6ed1fd6b5ac15377df18'), ObjectId('661e6ed1fd6b5ac15377df19'), ObjectId('661e6ed1fd6b5ac15377df1a'), ObjectId('661e6ed1fd6b5ac15377df1b'), ObjectId('661e6ed1fd6b5ac15377df1c'), ObjectId('661e6ed1fd6b5ac15377df1d'), ObjectId('661e6ed1fd6b5ac15377df1e'), ObjectId('661e6ed1fd6b5ac15377df1f'), ObjectId('661e6ed1fd6b5ac15377df20'), ObjectId('661e6ed1fd6b5ac15377df21'), ObjectId('661e6ed1fd6b5ac15377df22'), ObjectId('661e6ed1fd6b5ac15377df23'), ObjectId('661e6ed1fd6b5ac15377df24'), ObjectId('661e6ed1fd6b5ac15377df25'), ObjectId('661e6ed1fd6b5ac15377df26'), ObjectId('661e6ed1fd6b5ac15377df27'), ObjectId('661e6ed1fd6b5ac15377df28'), ObjectId('661e6ed1fd6b5ac15377df29'), ObjectId('661e6ed1fd6b5ac15377df2a'), ObjectId('661e6ed1fd6b5ac15377df2b'), ObjectId('661e6ed1fd6b5ac15377df2c'), ObjectId('661e6ed1fd6b5ac15377df2d'), ObjectId('661e6ed1fd6b5ac15377df2e'), ObjectId('661e6ed1fd6b5ac15377df2f'), ObjectId('661e6ed1fd6b5ac15377df30'), ObjectId('661e6ed1fd6b5ac15377df31'), ObjectId('661e6ed1fd6b5ac15377df32'), ObjectId('661e6ed1fd6b5ac15377df33'), ObjectId('661e6ed1fd6b5ac15377df34'), ObjectId('661e6ed1fd6b5ac15377df35'), ObjectId('661e6ed1fd6b5ac15377df36'), ObjectId('661e6ed1fd6b5ac15377df37'), ObjectId('661e6ed1fd6b5ac15377df38'), ObjectId('661e6ed1fd6b5ac15377df39'), ObjectId('661e6ed1fd6b5ac15377df3a'), ObjectId('661e6ed1fd6b5ac15377df3b'), ObjectId('661e6ed1fd6b5ac15377df3c'), ObjectId('661e6ed1fd6b5ac15377df3d'), ObjectId('661e6ed1fd6b5ac15377df3e'), ObjectId('661e6ed1fd6b5ac15377df3f'), ObjectId('661e6ed1fd6b5ac15377df40'), ObjectId('661e6ed1fd6b5ac15377df41'), ObjectId('661e6ed1fd6b5ac15377df42'), ObjectId('661e6ed1fd6b5ac15377df43'), ObjectId('661e6ed1fd6b5ac15377df44'), ObjectId('661e6ed1fd6b5ac15377df45'), ObjectId('661e6ed1fd6b5ac15377df46'), ObjectId('661e6ed1fd6b5ac15377df47'), ObjectId('661e6ed1fd6b5ac15377df48'), ObjectId('661e6ed1fd6b5ac15377df49'), ObjectId('661e6ed1fd6b5ac15377df4a'), ObjectId('661e6ed1fd6b5ac15377df4b'), ObjectId('661e6ed1fd6b5ac15377df4c'), ObjectId('661e6ed1fd6b5ac15377df4d'), ObjectId('661e6ed1fd6b5ac15377df4e'), ObjectId('661e6ed1fd6b5ac15377df4f'), ObjectId('661e6ed1fd6b5ac15377df50'), ObjectId('661e6ed1fd6b5ac15377df51'), ObjectId('661e6ed1fd6b5ac15377df52'), ObjectId('661e6ed1fd6b5ac15377df53'), ObjectId('661e6ed1fd6b5ac15377df54'), ObjectId('661e6ed1fd6b5ac15377df55'), ObjectId('661e6ed1fd6b5ac15377df56'), ObjectId('661e6ed1fd6b5ac15377df57'), ObjectId('661e6ed1fd6b5ac15377df58'), ObjectId('661e6ed1fd6b5ac15377df59'), ObjectId('661e6ed1fd6b5ac15377df5a'), ObjectId('661e6ed1fd6b5ac15377df5b'), ObjectId('661e6ed1fd6b5ac15377df5c'), ObjectId('661e6ed1fd6b5ac15377df5d'), ObjectId('661e6ed1fd6b5ac15377df5e'), ObjectId('661e6ed1fd6b5ac15377df5f'), ObjectId('661e6ed1fd6b5ac15377df60'), ObjectId('661e6ed1fd6b5ac15377df61'), ObjectId('661e6ed1fd6b5ac15377df62'), ObjectId('661e6ed1fd6b5ac15377df63'), ObjectId('661e6ed1fd6b5ac15377df64'), ObjectId('661e6ed1fd6b5ac15377df65'), ObjectId('661e6ed1fd6b5ac15377df66'), ObjectId('661e6ed1fd6b5ac15377df67'), ObjectId('661e6ed1fd6b5ac15377df68'), ObjectId('661e6ed1fd6b5ac15377df69'), ObjectId('661e6ed1fd6b5ac15377df6a'), ObjectId('661e6ed1fd6b5ac15377df6b'), ObjectId('661e6ed1fd6b5ac15377df6c'), ObjectId('661e6ed1fd6b5ac15377df6d'), ObjectId('661e6ed1fd6b5ac15377df6e'), ObjectId('661e6ed1fd6b5ac15377df6f'), ObjectId('661e6ed1fd6b5ac15377df70'), ObjectId('661e6ed1fd6b5ac15377df71'), ObjectId('661e6ed1fd6b5ac15377df72'), ObjectId('661e6ed1fd6b5ac15377df73'), ObjectId('661e6ed1fd6b5ac15377df74'), ObjectId('661e6ed1fd6b5ac15377df75'), ObjectId('661e6ed1fd6b5ac15377df76'), ObjectId('661e6ed1fd6b5ac15377df77'), ObjectId('661e6ed1fd6b5ac15377df78'), ObjectId('661e6ed1fd6b5ac15377df79'), ObjectId('661e6ed1fd6b5ac15377df7a'), ObjectId('661e6ed1fd6b5ac15377df7b'), ObjectId('661e6ed1fd6b5ac15377df7c'), ObjectId('661e6ed1fd6b5ac15377df7d'), ObjectId('661e6ed1fd6b5ac15377df7e'), ObjectId('661e6ed1fd6b5ac15377df7f'), ObjectId('661e6ed1fd6b5ac15377df80'), ObjectId('661e6ed1fd6b5ac15377df81'), ObjectId('661e6ed1fd6b5ac15377df82'), ObjectId('661e6ed1fd6b5ac15377df83'), ObjectId('661e6ed1fd6b5ac15377df84'), ObjectId('661e6ed1fd6b5ac15377df85'), ObjectId('661e6ed1fd6b5ac15377df86'), ObjectId('661e6ed1fd6b5ac15377df87'), ObjectId('661e6ed1fd6b5ac15377df88'), ObjectId('661e6ed1fd6b5ac15377df89'), ObjectId('661e6ed1fd6b5ac15377df8a'), ObjectId('661e6ed1fd6b5ac15377df8b'), ObjectId('661e6ed1fd6b5ac15377df8c'), ObjectId('661e6ed1fd6b5ac15377df8d'), ObjectId('661e6ed1fd6b5ac15377df8e'), ObjectId('661e6ed1fd6b5ac15377df8f'), ObjectId('661e6ed1fd6b5ac15377df90'), ObjectId('661e6ed1fd6b5ac15377df91'), ObjectId('661e6ed1fd6b5ac15377df92'), ObjectId('661e6ed1fd6b5ac15377df93'), ObjectId('661e6ed1fd6b5ac15377df94'), ObjectId('661e6ed1fd6b5ac15377df95'), ObjectId('661e6ed1fd6b5ac15377df96'), ObjectId('661e6ed1fd6b5ac15377df97'), ObjectId('661e6ed1fd6b5ac15377df98'), ObjectId('661e6ed1fd6b5ac15377df99'), ObjectId('661e6ed1fd6b5ac15377df9a'), ObjectId('661e6ed1fd6b5ac15377df9b'), ObjectId('661e6ed1fd6b5ac15377df9c'), ObjectId('661e6ed1fd6b5ac15377df9d'), ObjectId('661e6ed1fd6b5ac15377df9e'), ObjectId('661e6ed1fd6b5ac15377df9f'), ObjectId('661e6ed1fd6b5ac15377dfa0'), ObjectId('661e6ed1fd6b5ac15377dfa1'), ObjectId('661e6ed1fd6b5ac15377dfa2'), ObjectId('661e6ed1fd6b5ac15377dfa3'), ObjectId('661e6ed1fd6b5ac15377dfa4'), ObjectId('661e6ed1fd6b5ac15377dfa5'), ObjectId('661e6ed1fd6b5ac15377dfa6'), ObjectId('661e6ed1fd6b5ac15377dfa7'), ObjectId('661e6ed1fd6b5ac15377dfa8'), ObjectId('661e6ed1fd6b5ac15377dfa9'), ObjectId('661e6ed1fd6b5ac15377dfaa'), ObjectId('661e6ed1fd6b5ac15377dfab'), ObjectId('661e6ed1fd6b5ac15377dfac'), ObjectId('661e6ed1fd6b5ac15377dfad'), ObjectId('661e6ed1fd6b5ac15377dfae'), ObjectId('661e6ed1fd6b5ac15377dfaf'), ObjectId('661e6ed1fd6b5ac15377dfb0'), ObjectId('661e6ed1fd6b5ac15377dfb1'), ObjectId('661e6ed1fd6b5ac15377dfb2'), ObjectId('661e6ed1fd6b5ac15377dfb3'), ObjectId('661e6ed1fd6b5ac15377dfb4'), ObjectId('661e6ed1fd6b5ac15377dfb5')], acknowledged=True)"
      ]
     },
     "execution_count": 9,
     "metadata": {},
     "output_type": "execute_result"
    }
   ],
   "source": [
    "dbname = get_database()\n",
    "\n",
    "collection_name = dbname[\"tasks\"]\n",
    "\n",
    "# Insert the dictionaries into the MongoDB collection\n",
    "collection_name.insert_many(tasks_df.to_dict(\"records\"))"
   ]
  },
  {
   "cell_type": "code",
   "execution_count": 10,
   "metadata": {},
   "outputs": [
    {
     "data": {
      "text/html": [
       "<div>\n",
       "<style scoped>\n",
       "    .dataframe tbody tr th:only-of-type {\n",
       "        vertical-align: middle;\n",
       "    }\n",
       "\n",
       "    .dataframe tbody tr th {\n",
       "        vertical-align: top;\n",
       "    }\n",
       "\n",
       "    .dataframe thead th {\n",
       "        text-align: right;\n",
       "    }\n",
       "</style>\n",
       "<table border=\"1\" class=\"dataframe\">\n",
       "  <thead>\n",
       "    <tr style=\"text-align: right;\">\n",
       "      <th></th>\n",
       "      <th>id</th>\n",
       "      <th>name</th>\n",
       "      <th>description</th>\n",
       "      <th>knowledge_id</th>\n",
       "    </tr>\n",
       "  </thead>\n",
       "  <tbody>\n",
       "    <tr>\n",
       "      <th>0</th>\n",
       "      <td>2.C.7.c</td>\n",
       "      <td>Fine Arts</td>\n",
       "      <td>Knowledge of the theory and techniques require...</td>\n",
       "      <td>1</td>\n",
       "    </tr>\n",
       "    <tr>\n",
       "      <th>1</th>\n",
       "      <td>2.C.7.a</td>\n",
       "      <td>English Language</td>\n",
       "      <td>Knowledge of the structure and content of the ...</td>\n",
       "      <td>2</td>\n",
       "    </tr>\n",
       "    <tr>\n",
       "      <th>2</th>\n",
       "      <td>2.C.9.b</td>\n",
       "      <td>Communications and Media</td>\n",
       "      <td>Knowledge of media production, communication, ...</td>\n",
       "      <td>3</td>\n",
       "    </tr>\n",
       "  </tbody>\n",
       "</table>\n",
       "</div>"
      ],
      "text/plain": [
       "        id                      name  \\\n",
       "0  2.C.7.c                 Fine Arts   \n",
       "1  2.C.7.a          English Language   \n",
       "2  2.C.9.b  Communications and Media   \n",
       "\n",
       "                                         description  knowledge_id  \n",
       "0  Knowledge of the theory and techniques require...             1  \n",
       "1  Knowledge of the structure and content of the ...             2  \n",
       "2  Knowledge of media production, communication, ...             3  "
      ]
     },
     "execution_count": 10,
     "metadata": {},
     "output_type": "execute_result"
    }
   ],
   "source": [
    "# Assuming df[\"knowledge\"] is a column of lists of dictionaries\n",
    "knowledge = df['knowledge'].apply(lambda x: x['element']).explode().reset_index(drop=True)\n",
    "\n",
    "# Convert the list of dictionaries into a DataFrame\n",
    "knowledge_df = pd.json_normalize(knowledge)\n",
    "\n",
    "# Drop duplicates based on 'id'\n",
    "knowledge_df = knowledge_df.drop_duplicates(subset='id')\n",
    "\n",
    "# Reset the index\n",
    "knowledge_df = knowledge_df.reset_index(drop=True)\n",
    "\n",
    "knowledge_df = knowledge_df.dropna()\n",
    "knowledge_df = knowledge_df.drop(columns=[\"related\"])\n",
    "\n",
    "knowledge_df['knowledge_id'] = range(1, len(knowledge_df) + 1)\n",
    "\n",
    "knowledge_df.head(3)"
   ]
  },
  {
   "cell_type": "code",
   "execution_count": 11,
   "metadata": {},
   "outputs": [
    {
     "data": {
      "text/plain": [
       "InsertManyResult([ObjectId('661e6ed6fd6b5ac15377dfb7'), ObjectId('661e6ed6fd6b5ac15377dfb8'), ObjectId('661e6ed6fd6b5ac15377dfb9'), ObjectId('661e6ed6fd6b5ac15377dfba'), ObjectId('661e6ed6fd6b5ac15377dfbb'), ObjectId('661e6ed6fd6b5ac15377dfbc'), ObjectId('661e6ed6fd6b5ac15377dfbd'), ObjectId('661e6ed6fd6b5ac15377dfbe'), ObjectId('661e6ed6fd6b5ac15377dfbf'), ObjectId('661e6ed6fd6b5ac15377dfc0'), ObjectId('661e6ed6fd6b5ac15377dfc1'), ObjectId('661e6ed6fd6b5ac15377dfc2'), ObjectId('661e6ed6fd6b5ac15377dfc3'), ObjectId('661e6ed6fd6b5ac15377dfc4'), ObjectId('661e6ed6fd6b5ac15377dfc5'), ObjectId('661e6ed6fd6b5ac15377dfc6'), ObjectId('661e6ed6fd6b5ac15377dfc7'), ObjectId('661e6ed6fd6b5ac15377dfc8'), ObjectId('661e6ed6fd6b5ac15377dfc9'), ObjectId('661e6ed6fd6b5ac15377dfca'), ObjectId('661e6ed6fd6b5ac15377dfcb'), ObjectId('661e6ed6fd6b5ac15377dfcc'), ObjectId('661e6ed6fd6b5ac15377dfcd'), ObjectId('661e6ed6fd6b5ac15377dfce'), ObjectId('661e6ed6fd6b5ac15377dfcf'), ObjectId('661e6ed6fd6b5ac15377dfd0'), ObjectId('661e6ed6fd6b5ac15377dfd1'), ObjectId('661e6ed6fd6b5ac15377dfd2'), ObjectId('661e6ed6fd6b5ac15377dfd3'), ObjectId('661e6ed6fd6b5ac15377dfd4'), ObjectId('661e6ed6fd6b5ac15377dfd5'), ObjectId('661e6ed6fd6b5ac15377dfd6'), ObjectId('661e6ed6fd6b5ac15377dfd7')], acknowledged=True)"
      ]
     },
     "execution_count": 11,
     "metadata": {},
     "output_type": "execute_result"
    }
   ],
   "source": [
    "dbname = get_database()\n",
    "\n",
    "collection_name = dbname[\"knowledge\"]\n",
    "\n",
    "# Insert the dictionaries into the MongoDB collection\n",
    "collection_name.insert_many(knowledge_df.to_dict(\"records\"))"
   ]
  },
  {
   "cell_type": "code",
   "execution_count": 12,
   "metadata": {},
   "outputs": [
    {
     "data": {
      "text/html": [
       "<div>\n",
       "<style scoped>\n",
       "    .dataframe tbody tr th:only-of-type {\n",
       "        vertical-align: middle;\n",
       "    }\n",
       "\n",
       "    .dataframe tbody tr th {\n",
       "        vertical-align: top;\n",
       "    }\n",
       "\n",
       "    .dataframe thead th {\n",
       "        text-align: right;\n",
       "    }\n",
       "</style>\n",
       "<table border=\"1\" class=\"dataframe\">\n",
       "  <thead>\n",
       "    <tr style=\"text-align: right;\">\n",
       "      <th></th>\n",
       "      <th>id</th>\n",
       "      <th>name</th>\n",
       "      <th>description</th>\n",
       "      <th>work_activity_id</th>\n",
       "    </tr>\n",
       "  </thead>\n",
       "  <tbody>\n",
       "    <tr>\n",
       "      <th>0</th>\n",
       "      <td>4.A.4.a.4</td>\n",
       "      <td>Establishing and Maintaining Interpersonal Rel...</td>\n",
       "      <td>Developing constructive and cooperative workin...</td>\n",
       "      <td>1</td>\n",
       "    </tr>\n",
       "    <tr>\n",
       "      <th>1</th>\n",
       "      <td>4.A.2.b.2</td>\n",
       "      <td>Thinking Creatively</td>\n",
       "      <td>Developing, designing, or creating new applica...</td>\n",
       "      <td>2</td>\n",
       "    </tr>\n",
       "    <tr>\n",
       "      <th>2</th>\n",
       "      <td>4.A.4.a.8</td>\n",
       "      <td>Performing for or Working Directly with the Pu...</td>\n",
       "      <td>Performing for people or dealing directly with...</td>\n",
       "      <td>3</td>\n",
       "    </tr>\n",
       "  </tbody>\n",
       "</table>\n",
       "</div>"
      ],
      "text/plain": [
       "          id                                               name  \\\n",
       "0  4.A.4.a.4  Establishing and Maintaining Interpersonal Rel...   \n",
       "1  4.A.2.b.2                                Thinking Creatively   \n",
       "2  4.A.4.a.8  Performing for or Working Directly with the Pu...   \n",
       "\n",
       "                                         description  work_activity_id  \n",
       "0  Developing constructive and cooperative workin...                 1  \n",
       "1  Developing, designing, or creating new applica...                 2  \n",
       "2  Performing for people or dealing directly with...                 3  "
      ]
     },
     "execution_count": 12,
     "metadata": {},
     "output_type": "execute_result"
    }
   ],
   "source": [
    "# Assuming df[\"work_activities\"] is a column of lists of dictionaries\n",
    "work_activities = df['work_activities'].apply(lambda x: x['element']).explode().reset_index(drop=True)\n",
    "\n",
    "# Convert the list of dictionaries into a DataFrame\n",
    "work_activities_df = pd.json_normalize(work_activities)\n",
    "\n",
    "# Drop duplicates based on 'id'\n",
    "work_activities_df = work_activities_df.drop_duplicates(subset='id')\n",
    "\n",
    "# Reset the index\n",
    "work_activities_df = work_activities_df.reset_index(drop=True)\n",
    "\n",
    "work_activities_df = work_activities_df.dropna()\n",
    "work_activities_df = work_activities_df.drop(columns=[\"related\"])\n",
    "\n",
    "work_activities_df['work_activity_id'] = range(1, len(work_activities_df) + 1)\n",
    "\n",
    "work_activities_df.head(3)"
   ]
  },
  {
   "cell_type": "code",
   "execution_count": 13,
   "metadata": {},
   "outputs": [
    {
     "data": {
      "text/plain": [
       "InsertManyResult([ObjectId('661e6ed6fd6b5ac15377dfd9'), ObjectId('661e6ed6fd6b5ac15377dfda'), ObjectId('661e6ed6fd6b5ac15377dfdb'), ObjectId('661e6ed6fd6b5ac15377dfdc'), ObjectId('661e6ed6fd6b5ac15377dfdd'), ObjectId('661e6ed6fd6b5ac15377dfde'), ObjectId('661e6ed6fd6b5ac15377dfdf'), ObjectId('661e6ed6fd6b5ac15377dfe0'), ObjectId('661e6ed6fd6b5ac15377dfe1'), ObjectId('661e6ed6fd6b5ac15377dfe2'), ObjectId('661e6ed6fd6b5ac15377dfe3'), ObjectId('661e6ed6fd6b5ac15377dfe4'), ObjectId('661e6ed6fd6b5ac15377dfe5'), ObjectId('661e6ed6fd6b5ac15377dfe6'), ObjectId('661e6ed6fd6b5ac15377dfe7'), ObjectId('661e6ed6fd6b5ac15377dfe8'), ObjectId('661e6ed6fd6b5ac15377dfe9'), ObjectId('661e6ed6fd6b5ac15377dfea'), ObjectId('661e6ed6fd6b5ac15377dfeb'), ObjectId('661e6ed6fd6b5ac15377dfec'), ObjectId('661e6ed6fd6b5ac15377dfed'), ObjectId('661e6ed6fd6b5ac15377dfee'), ObjectId('661e6ed6fd6b5ac15377dfef'), ObjectId('661e6ed6fd6b5ac15377dff0'), ObjectId('661e6ed6fd6b5ac15377dff1'), ObjectId('661e6ed6fd6b5ac15377dff2'), ObjectId('661e6ed6fd6b5ac15377dff3'), ObjectId('661e6ed6fd6b5ac15377dff4'), ObjectId('661e6ed6fd6b5ac15377dff5'), ObjectId('661e6ed6fd6b5ac15377dff6'), ObjectId('661e6ed6fd6b5ac15377dff7'), ObjectId('661e6ed6fd6b5ac15377dff8'), ObjectId('661e6ed6fd6b5ac15377dff9'), ObjectId('661e6ed6fd6b5ac15377dffa'), ObjectId('661e6ed6fd6b5ac15377dffb'), ObjectId('661e6ed6fd6b5ac15377dffc'), ObjectId('661e6ed6fd6b5ac15377dffd'), ObjectId('661e6ed6fd6b5ac15377dffe'), ObjectId('661e6ed6fd6b5ac15377dfff'), ObjectId('661e6ed6fd6b5ac15377e000')], acknowledged=True)"
      ]
     },
     "execution_count": 13,
     "metadata": {},
     "output_type": "execute_result"
    }
   ],
   "source": [
    "dbname = get_database()\n",
    "\n",
    "collection_name = dbname[\"work_activities\"]\n",
    "\n",
    "# Insert the dictionaries into the MongoDB collection\n",
    "collection_name.insert_many(work_activities_df.to_dict(\"records\"))"
   ]
  },
  {
   "cell_type": "code",
   "execution_count": 14,
   "metadata": {},
   "outputs": [
    {
     "data": {
      "text/html": [
       "<div>\n",
       "<style scoped>\n",
       "    .dataframe tbody tr th:only-of-type {\n",
       "        vertical-align: middle;\n",
       "    }\n",
       "\n",
       "    .dataframe tbody tr th {\n",
       "        vertical-align: top;\n",
       "    }\n",
       "\n",
       "    .dataframe thead th {\n",
       "        text-align: right;\n",
       "    }\n",
       "</style>\n",
       "<table border=\"1\" class=\"dataframe\">\n",
       "  <thead>\n",
       "    <tr style=\"text-align: right;\">\n",
       "      <th></th>\n",
       "      <th>id</th>\n",
       "      <th>name</th>\n",
       "      <th>detailed_work_activity_id</th>\n",
       "    </tr>\n",
       "  </thead>\n",
       "  <tbody>\n",
       "    <tr>\n",
       "      <th>0</th>\n",
       "      <td>4.A.4.a.8.I01.D04</td>\n",
       "      <td>Collaborate with others to prepare or perform ...</td>\n",
       "      <td>1</td>\n",
       "    </tr>\n",
       "    <tr>\n",
       "      <th>1</th>\n",
       "      <td>4.A.4.a.8.I01.D05</td>\n",
       "      <td>Entertain public with comedic or dramatic perf...</td>\n",
       "      <td>2</td>\n",
       "    </tr>\n",
       "    <tr>\n",
       "      <th>2</th>\n",
       "      <td>4.A.1.a.1.I01.D04</td>\n",
       "      <td>Study scripts to determine project requirements.</td>\n",
       "      <td>3</td>\n",
       "    </tr>\n",
       "  </tbody>\n",
       "</table>\n",
       "</div>"
      ],
      "text/plain": [
       "                  id                                               name  \\\n",
       "0  4.A.4.a.8.I01.D04  Collaborate with others to prepare or perform ...   \n",
       "1  4.A.4.a.8.I01.D05  Entertain public with comedic or dramatic perf...   \n",
       "2  4.A.1.a.1.I01.D04   Study scripts to determine project requirements.   \n",
       "\n",
       "   detailed_work_activity_id  \n",
       "0                          1  \n",
       "1                          2  \n",
       "2                          3  "
      ]
     },
     "execution_count": 14,
     "metadata": {},
     "output_type": "execute_result"
    }
   ],
   "source": [
    "# Assuming df[\"detailed_work_activities\"] is a column of lists of dictionaries\n",
    "detailed_work_activities = df['detailed_work_activities'].apply(lambda x: x['activity']).explode().reset_index(drop=True)\n",
    "\n",
    "# Convert the list of dictionaries into a DataFrame\n",
    "detailed_work_activities_df = pd.json_normalize(detailed_work_activities)\n",
    "\n",
    "# Drop duplicates based on 'id'\n",
    "detailed_work_activities_df = detailed_work_activities_df.drop_duplicates(subset='id')\n",
    "\n",
    "# Reset the index\n",
    "detailed_work_activities_df = detailed_work_activities_df.reset_index(drop=True)\n",
    "\n",
    "detailed_work_activities_df = detailed_work_activities_df.dropna()\n",
    "detailed_work_activities_df = detailed_work_activities_df.drop(columns=[\"related\"])\n",
    "\n",
    "detailed_work_activities_df['detailed_work_activity_id'] = range(1, len(detailed_work_activities_df) + 1)\n",
    "\n",
    "detailed_work_activities_df.head(3)"
   ]
  },
  {
   "cell_type": "code",
   "execution_count": 15,
   "metadata": {},
   "outputs": [
    {
     "data": {
      "text/plain": [
       "InsertManyResult([ObjectId('661e6ed6fd6b5ac15377e002'), ObjectId('661e6ed6fd6b5ac15377e003'), ObjectId('661e6ed6fd6b5ac15377e004'), ObjectId('661e6ed6fd6b5ac15377e005'), ObjectId('661e6ed6fd6b5ac15377e006'), ObjectId('661e6ed6fd6b5ac15377e007'), ObjectId('661e6ed6fd6b5ac15377e008'), ObjectId('661e6ed6fd6b5ac15377e009'), ObjectId('661e6ed6fd6b5ac15377e00a'), ObjectId('661e6ed6fd6b5ac15377e00b'), ObjectId('661e6ed6fd6b5ac15377e00c'), ObjectId('661e6ed6fd6b5ac15377e00d'), ObjectId('661e6ed6fd6b5ac15377e00e'), ObjectId('661e6ed6fd6b5ac15377e00f'), ObjectId('661e6ed6fd6b5ac15377e010'), ObjectId('661e6ed6fd6b5ac15377e011'), ObjectId('661e6ed6fd6b5ac15377e012'), ObjectId('661e6ed6fd6b5ac15377e013'), ObjectId('661e6ed6fd6b5ac15377e014'), ObjectId('661e6ed6fd6b5ac15377e015'), ObjectId('661e6ed6fd6b5ac15377e016'), ObjectId('661e6ed6fd6b5ac15377e017'), ObjectId('661e6ed6fd6b5ac15377e018'), ObjectId('661e6ed6fd6b5ac15377e019'), ObjectId('661e6ed6fd6b5ac15377e01a'), ObjectId('661e6ed6fd6b5ac15377e01b'), ObjectId('661e6ed6fd6b5ac15377e01c'), ObjectId('661e6ed6fd6b5ac15377e01d'), ObjectId('661e6ed6fd6b5ac15377e01e'), ObjectId('661e6ed6fd6b5ac15377e01f'), ObjectId('661e6ed6fd6b5ac15377e020'), ObjectId('661e6ed6fd6b5ac15377e021'), ObjectId('661e6ed6fd6b5ac15377e022'), ObjectId('661e6ed6fd6b5ac15377e023'), ObjectId('661e6ed6fd6b5ac15377e024'), ObjectId('661e6ed6fd6b5ac15377e025'), ObjectId('661e6ed6fd6b5ac15377e026'), ObjectId('661e6ed6fd6b5ac15377e027'), ObjectId('661e6ed6fd6b5ac15377e028'), ObjectId('661e6ed6fd6b5ac15377e029'), ObjectId('661e6ed6fd6b5ac15377e02a'), ObjectId('661e6ed6fd6b5ac15377e02b'), ObjectId('661e6ed6fd6b5ac15377e02c'), ObjectId('661e6ed6fd6b5ac15377e02d'), ObjectId('661e6ed6fd6b5ac15377e02e'), ObjectId('661e6ed6fd6b5ac15377e02f'), ObjectId('661e6ed6fd6b5ac15377e030'), ObjectId('661e6ed6fd6b5ac15377e031'), ObjectId('661e6ed6fd6b5ac15377e032'), ObjectId('661e6ed6fd6b5ac15377e033'), ObjectId('661e6ed6fd6b5ac15377e034'), ObjectId('661e6ed6fd6b5ac15377e035'), ObjectId('661e6ed6fd6b5ac15377e036'), ObjectId('661e6ed6fd6b5ac15377e037'), ObjectId('661e6ed6fd6b5ac15377e038'), ObjectId('661e6ed6fd6b5ac15377e039'), ObjectId('661e6ed6fd6b5ac15377e03a'), ObjectId('661e6ed6fd6b5ac15377e03b'), ObjectId('661e6ed6fd6b5ac15377e03c'), ObjectId('661e6ed6fd6b5ac15377e03d'), ObjectId('661e6ed6fd6b5ac15377e03e'), ObjectId('661e6ed6fd6b5ac15377e03f'), ObjectId('661e6ed6fd6b5ac15377e040'), ObjectId('661e6ed6fd6b5ac15377e041'), ObjectId('661e6ed6fd6b5ac15377e042'), ObjectId('661e6ed6fd6b5ac15377e043'), ObjectId('661e6ed6fd6b5ac15377e044'), ObjectId('661e6ed6fd6b5ac15377e045'), ObjectId('661e6ed6fd6b5ac15377e046'), ObjectId('661e6ed6fd6b5ac15377e047'), ObjectId('661e6ed6fd6b5ac15377e048'), ObjectId('661e6ed6fd6b5ac15377e049'), ObjectId('661e6ed6fd6b5ac15377e04a'), ObjectId('661e6ed6fd6b5ac15377e04b'), ObjectId('661e6ed6fd6b5ac15377e04c'), ObjectId('661e6ed6fd6b5ac15377e04d'), ObjectId('661e6ed6fd6b5ac15377e04e'), ObjectId('661e6ed6fd6b5ac15377e04f'), ObjectId('661e6ed6fd6b5ac15377e050'), ObjectId('661e6ed6fd6b5ac15377e051'), ObjectId('661e6ed6fd6b5ac15377e052'), ObjectId('661e6ed6fd6b5ac15377e053'), ObjectId('661e6ed6fd6b5ac15377e054'), ObjectId('661e6ed6fd6b5ac15377e055'), ObjectId('661e6ed6fd6b5ac15377e056'), ObjectId('661e6ed6fd6b5ac15377e057'), ObjectId('661e6ed6fd6b5ac15377e058'), ObjectId('661e6ed6fd6b5ac15377e059'), ObjectId('661e6ed6fd6b5ac15377e05a'), ObjectId('661e6ed6fd6b5ac15377e05b'), ObjectId('661e6ed6fd6b5ac15377e05c'), ObjectId('661e6ed6fd6b5ac15377e05d'), ObjectId('661e6ed6fd6b5ac15377e05e'), ObjectId('661e6ed6fd6b5ac15377e05f'), ObjectId('661e6ed6fd6b5ac15377e060'), ObjectId('661e6ed6fd6b5ac15377e061'), ObjectId('661e6ed6fd6b5ac15377e062'), ObjectId('661e6ed6fd6b5ac15377e063'), ObjectId('661e6ed6fd6b5ac15377e064'), ObjectId('661e6ed6fd6b5ac15377e065'), ObjectId('661e6ed6fd6b5ac15377e066'), ObjectId('661e6ed6fd6b5ac15377e067'), ObjectId('661e6ed6fd6b5ac15377e068'), ObjectId('661e6ed6fd6b5ac15377e069'), ObjectId('661e6ed6fd6b5ac15377e06a'), ObjectId('661e6ed6fd6b5ac15377e06b'), ObjectId('661e6ed6fd6b5ac15377e06c'), ObjectId('661e6ed6fd6b5ac15377e06d'), ObjectId('661e6ed6fd6b5ac15377e06e'), ObjectId('661e6ed6fd6b5ac15377e06f'), ObjectId('661e6ed6fd6b5ac15377e070'), ObjectId('661e6ed6fd6b5ac15377e071'), ObjectId('661e6ed6fd6b5ac15377e072'), ObjectId('661e6ed6fd6b5ac15377e073'), ObjectId('661e6ed6fd6b5ac15377e074'), ObjectId('661e6ed6fd6b5ac15377e075'), ObjectId('661e6ed6fd6b5ac15377e076'), ObjectId('661e6ed6fd6b5ac15377e077'), ObjectId('661e6ed6fd6b5ac15377e078'), ObjectId('661e6ed6fd6b5ac15377e079'), ObjectId('661e6ed6fd6b5ac15377e07a'), ObjectId('661e6ed6fd6b5ac15377e07b'), ObjectId('661e6ed6fd6b5ac15377e07c'), ObjectId('661e6ed6fd6b5ac15377e07d'), ObjectId('661e6ed6fd6b5ac15377e07e'), ObjectId('661e6ed6fd6b5ac15377e07f'), ObjectId('661e6ed6fd6b5ac15377e080'), ObjectId('661e6ed6fd6b5ac15377e081'), ObjectId('661e6ed6fd6b5ac15377e082'), ObjectId('661e6ed6fd6b5ac15377e083'), ObjectId('661e6ed6fd6b5ac15377e084'), ObjectId('661e6ed6fd6b5ac15377e085'), ObjectId('661e6ed6fd6b5ac15377e086'), ObjectId('661e6ed6fd6b5ac15377e087'), ObjectId('661e6ed6fd6b5ac15377e088'), ObjectId('661e6ed6fd6b5ac15377e089'), ObjectId('661e6ed6fd6b5ac15377e08a'), ObjectId('661e6ed6fd6b5ac15377e08b'), ObjectId('661e6ed6fd6b5ac15377e08c'), ObjectId('661e6ed6fd6b5ac15377e08d'), ObjectId('661e6ed6fd6b5ac15377e08e'), ObjectId('661e6ed6fd6b5ac15377e08f'), ObjectId('661e6ed6fd6b5ac15377e090'), ObjectId('661e6ed6fd6b5ac15377e091'), ObjectId('661e6ed6fd6b5ac15377e092'), ObjectId('661e6ed6fd6b5ac15377e093'), ObjectId('661e6ed6fd6b5ac15377e094'), ObjectId('661e6ed6fd6b5ac15377e095'), ObjectId('661e6ed6fd6b5ac15377e096'), ObjectId('661e6ed6fd6b5ac15377e097'), ObjectId('661e6ed6fd6b5ac15377e098'), ObjectId('661e6ed6fd6b5ac15377e099'), ObjectId('661e6ed6fd6b5ac15377e09a'), ObjectId('661e6ed6fd6b5ac15377e09b'), ObjectId('661e6ed6fd6b5ac15377e09c'), ObjectId('661e6ed6fd6b5ac15377e09d'), ObjectId('661e6ed6fd6b5ac15377e09e'), ObjectId('661e6ed6fd6b5ac15377e09f'), ObjectId('661e6ed6fd6b5ac15377e0a0'), ObjectId('661e6ed6fd6b5ac15377e0a1'), ObjectId('661e6ed6fd6b5ac15377e0a2'), ObjectId('661e6ed6fd6b5ac15377e0a3'), ObjectId('661e6ed6fd6b5ac15377e0a4'), ObjectId('661e6ed6fd6b5ac15377e0a5'), ObjectId('661e6ed6fd6b5ac15377e0a6'), ObjectId('661e6ed6fd6b5ac15377e0a7'), ObjectId('661e6ed6fd6b5ac15377e0a8'), ObjectId('661e6ed6fd6b5ac15377e0a9'), ObjectId('661e6ed6fd6b5ac15377e0aa'), ObjectId('661e6ed6fd6b5ac15377e0ab'), ObjectId('661e6ed6fd6b5ac15377e0ac'), ObjectId('661e6ed6fd6b5ac15377e0ad'), ObjectId('661e6ed6fd6b5ac15377e0ae'), ObjectId('661e6ed6fd6b5ac15377e0af'), ObjectId('661e6ed6fd6b5ac15377e0b0'), ObjectId('661e6ed6fd6b5ac15377e0b1'), ObjectId('661e6ed6fd6b5ac15377e0b2'), ObjectId('661e6ed6fd6b5ac15377e0b3'), ObjectId('661e6ed6fd6b5ac15377e0b4'), ObjectId('661e6ed6fd6b5ac15377e0b5'), ObjectId('661e6ed6fd6b5ac15377e0b6'), ObjectId('661e6ed6fd6b5ac15377e0b7'), ObjectId('661e6ed6fd6b5ac15377e0b8'), ObjectId('661e6ed6fd6b5ac15377e0b9'), ObjectId('661e6ed6fd6b5ac15377e0ba'), ObjectId('661e6ed6fd6b5ac15377e0bb'), ObjectId('661e6ed6fd6b5ac15377e0bc'), ObjectId('661e6ed6fd6b5ac15377e0bd'), ObjectId('661e6ed6fd6b5ac15377e0be'), ObjectId('661e6ed6fd6b5ac15377e0bf'), ObjectId('661e6ed6fd6b5ac15377e0c0'), ObjectId('661e6ed6fd6b5ac15377e0c1'), ObjectId('661e6ed6fd6b5ac15377e0c2'), ObjectId('661e6ed6fd6b5ac15377e0c3'), ObjectId('661e6ed6fd6b5ac15377e0c4'), ObjectId('661e6ed6fd6b5ac15377e0c5'), ObjectId('661e6ed6fd6b5ac15377e0c6'), ObjectId('661e6ed6fd6b5ac15377e0c7'), ObjectId('661e6ed6fd6b5ac15377e0c8'), ObjectId('661e6ed6fd6b5ac15377e0c9'), ObjectId('661e6ed6fd6b5ac15377e0ca'), ObjectId('661e6ed6fd6b5ac15377e0cb'), ObjectId('661e6ed6fd6b5ac15377e0cc'), ObjectId('661e6ed6fd6b5ac15377e0cd'), ObjectId('661e6ed6fd6b5ac15377e0ce'), ObjectId('661e6ed6fd6b5ac15377e0cf'), ObjectId('661e6ed6fd6b5ac15377e0d0'), ObjectId('661e6ed6fd6b5ac15377e0d1'), ObjectId('661e6ed6fd6b5ac15377e0d2'), ObjectId('661e6ed6fd6b5ac15377e0d3'), ObjectId('661e6ed6fd6b5ac15377e0d4'), ObjectId('661e6ed6fd6b5ac15377e0d5'), ObjectId('661e6ed6fd6b5ac15377e0d6'), ObjectId('661e6ed6fd6b5ac15377e0d7'), ObjectId('661e6ed6fd6b5ac15377e0d8'), ObjectId('661e6ed6fd6b5ac15377e0d9'), ObjectId('661e6ed6fd6b5ac15377e0da'), ObjectId('661e6ed6fd6b5ac15377e0db'), ObjectId('661e6ed6fd6b5ac15377e0dc'), ObjectId('661e6ed6fd6b5ac15377e0dd'), ObjectId('661e6ed6fd6b5ac15377e0de'), ObjectId('661e6ed6fd6b5ac15377e0df'), ObjectId('661e6ed6fd6b5ac15377e0e0'), ObjectId('661e6ed6fd6b5ac15377e0e1'), ObjectId('661e6ed6fd6b5ac15377e0e2'), ObjectId('661e6ed6fd6b5ac15377e0e3'), ObjectId('661e6ed6fd6b5ac15377e0e4'), ObjectId('661e6ed6fd6b5ac15377e0e5'), ObjectId('661e6ed6fd6b5ac15377e0e6'), ObjectId('661e6ed6fd6b5ac15377e0e7'), ObjectId('661e6ed6fd6b5ac15377e0e8'), ObjectId('661e6ed6fd6b5ac15377e0e9'), ObjectId('661e6ed6fd6b5ac15377e0ea'), ObjectId('661e6ed6fd6b5ac15377e0eb'), ObjectId('661e6ed6fd6b5ac15377e0ec'), ObjectId('661e6ed6fd6b5ac15377e0ed'), ObjectId('661e6ed6fd6b5ac15377e0ee'), ObjectId('661e6ed6fd6b5ac15377e0ef'), ObjectId('661e6ed6fd6b5ac15377e0f0'), ObjectId('661e6ed6fd6b5ac15377e0f1'), ObjectId('661e6ed6fd6b5ac15377e0f2'), ObjectId('661e6ed6fd6b5ac15377e0f3'), ObjectId('661e6ed6fd6b5ac15377e0f4'), ObjectId('661e6ed6fd6b5ac15377e0f5'), ObjectId('661e6ed6fd6b5ac15377e0f6'), ObjectId('661e6ed6fd6b5ac15377e0f7'), ObjectId('661e6ed6fd6b5ac15377e0f8'), ObjectId('661e6ed6fd6b5ac15377e0f9'), ObjectId('661e6ed6fd6b5ac15377e0fa'), ObjectId('661e6ed6fd6b5ac15377e0fb'), ObjectId('661e6ed6fd6b5ac15377e0fc'), ObjectId('661e6ed6fd6b5ac15377e0fd'), ObjectId('661e6ed6fd6b5ac15377e0fe'), ObjectId('661e6ed6fd6b5ac15377e0ff'), ObjectId('661e6ed6fd6b5ac15377e100'), ObjectId('661e6ed6fd6b5ac15377e101'), ObjectId('661e6ed6fd6b5ac15377e102'), ObjectId('661e6ed6fd6b5ac15377e103'), ObjectId('661e6ed6fd6b5ac15377e104'), ObjectId('661e6ed6fd6b5ac15377e105'), ObjectId('661e6ed6fd6b5ac15377e106'), ObjectId('661e6ed6fd6b5ac15377e107'), ObjectId('661e6ed6fd6b5ac15377e108'), ObjectId('661e6ed6fd6b5ac15377e109'), ObjectId('661e6ed6fd6b5ac15377e10a'), ObjectId('661e6ed6fd6b5ac15377e10b'), ObjectId('661e6ed6fd6b5ac15377e10c'), ObjectId('661e6ed6fd6b5ac15377e10d'), ObjectId('661e6ed6fd6b5ac15377e10e'), ObjectId('661e6ed6fd6b5ac15377e10f'), ObjectId('661e6ed6fd6b5ac15377e110'), ObjectId('661e6ed6fd6b5ac15377e111'), ObjectId('661e6ed6fd6b5ac15377e112'), ObjectId('661e6ed6fd6b5ac15377e113'), ObjectId('661e6ed6fd6b5ac15377e114'), ObjectId('661e6ed6fd6b5ac15377e115'), ObjectId('661e6ed6fd6b5ac15377e116'), ObjectId('661e6ed6fd6b5ac15377e117'), ObjectId('661e6ed6fd6b5ac15377e118'), ObjectId('661e6ed6fd6b5ac15377e119'), ObjectId('661e6ed6fd6b5ac15377e11a'), ObjectId('661e6ed6fd6b5ac15377e11b'), ObjectId('661e6ed6fd6b5ac15377e11c'), ObjectId('661e6ed6fd6b5ac15377e11d'), ObjectId('661e6ed6fd6b5ac15377e11e'), ObjectId('661e6ed6fd6b5ac15377e11f'), ObjectId('661e6ed6fd6b5ac15377e120'), ObjectId('661e6ed6fd6b5ac15377e121'), ObjectId('661e6ed6fd6b5ac15377e122'), ObjectId('661e6ed6fd6b5ac15377e123'), ObjectId('661e6ed6fd6b5ac15377e124'), ObjectId('661e6ed6fd6b5ac15377e125'), ObjectId('661e6ed6fd6b5ac15377e126'), ObjectId('661e6ed6fd6b5ac15377e127'), ObjectId('661e6ed6fd6b5ac15377e128'), ObjectId('661e6ed6fd6b5ac15377e129'), ObjectId('661e6ed6fd6b5ac15377e12a'), ObjectId('661e6ed6fd6b5ac15377e12b'), ObjectId('661e6ed6fd6b5ac15377e12c'), ObjectId('661e6ed6fd6b5ac15377e12d'), ObjectId('661e6ed6fd6b5ac15377e12e'), ObjectId('661e6ed6fd6b5ac15377e12f'), ObjectId('661e6ed6fd6b5ac15377e130'), ObjectId('661e6ed6fd6b5ac15377e131'), ObjectId('661e6ed6fd6b5ac15377e132'), ObjectId('661e6ed6fd6b5ac15377e133'), ObjectId('661e6ed6fd6b5ac15377e134'), ObjectId('661e6ed6fd6b5ac15377e135'), ObjectId('661e6ed6fd6b5ac15377e136'), ObjectId('661e6ed6fd6b5ac15377e137'), ObjectId('661e6ed6fd6b5ac15377e138'), ObjectId('661e6ed6fd6b5ac15377e139'), ObjectId('661e6ed6fd6b5ac15377e13a'), ObjectId('661e6ed6fd6b5ac15377e13b'), ObjectId('661e6ed6fd6b5ac15377e13c'), ObjectId('661e6ed6fd6b5ac15377e13d'), ObjectId('661e6ed6fd6b5ac15377e13e'), ObjectId('661e6ed6fd6b5ac15377e13f'), ObjectId('661e6ed6fd6b5ac15377e140'), ObjectId('661e6ed6fd6b5ac15377e141'), ObjectId('661e6ed6fd6b5ac15377e142'), ObjectId('661e6ed6fd6b5ac15377e143'), ObjectId('661e6ed6fd6b5ac15377e144'), ObjectId('661e6ed6fd6b5ac15377e145'), ObjectId('661e6ed6fd6b5ac15377e146'), ObjectId('661e6ed6fd6b5ac15377e147'), ObjectId('661e6ed6fd6b5ac15377e148'), ObjectId('661e6ed6fd6b5ac15377e149'), ObjectId('661e6ed6fd6b5ac15377e14a'), ObjectId('661e6ed6fd6b5ac15377e14b'), ObjectId('661e6ed6fd6b5ac15377e14c'), ObjectId('661e6ed6fd6b5ac15377e14d'), ObjectId('661e6ed6fd6b5ac15377e14e'), ObjectId('661e6ed6fd6b5ac15377e14f'), ObjectId('661e6ed6fd6b5ac15377e150'), ObjectId('661e6ed6fd6b5ac15377e151'), ObjectId('661e6ed6fd6b5ac15377e152'), ObjectId('661e6ed6fd6b5ac15377e153'), ObjectId('661e6ed6fd6b5ac15377e154'), ObjectId('661e6ed6fd6b5ac15377e155'), ObjectId('661e6ed6fd6b5ac15377e156'), ObjectId('661e6ed6fd6b5ac15377e157'), ObjectId('661e6ed6fd6b5ac15377e158'), ObjectId('661e6ed6fd6b5ac15377e159'), ObjectId('661e6ed6fd6b5ac15377e15a'), ObjectId('661e6ed6fd6b5ac15377e15b'), ObjectId('661e6ed6fd6b5ac15377e15c'), ObjectId('661e6ed6fd6b5ac15377e15d'), ObjectId('661e6ed6fd6b5ac15377e15e'), ObjectId('661e6ed6fd6b5ac15377e15f'), ObjectId('661e6ed6fd6b5ac15377e160'), ObjectId('661e6ed6fd6b5ac15377e161'), ObjectId('661e6ed6fd6b5ac15377e162'), ObjectId('661e6ed6fd6b5ac15377e163'), ObjectId('661e6ed6fd6b5ac15377e164'), ObjectId('661e6ed6fd6b5ac15377e165'), ObjectId('661e6ed6fd6b5ac15377e166'), ObjectId('661e6ed6fd6b5ac15377e167'), ObjectId('661e6ed6fd6b5ac15377e168'), ObjectId('661e6ed6fd6b5ac15377e169'), ObjectId('661e6ed6fd6b5ac15377e16a'), ObjectId('661e6ed6fd6b5ac15377e16b'), ObjectId('661e6ed6fd6b5ac15377e16c'), ObjectId('661e6ed6fd6b5ac15377e16d'), ObjectId('661e6ed6fd6b5ac15377e16e'), ObjectId('661e6ed6fd6b5ac15377e16f'), ObjectId('661e6ed6fd6b5ac15377e170'), ObjectId('661e6ed6fd6b5ac15377e171'), ObjectId('661e6ed6fd6b5ac15377e172'), ObjectId('661e6ed6fd6b5ac15377e173'), ObjectId('661e6ed6fd6b5ac15377e174'), ObjectId('661e6ed6fd6b5ac15377e175'), ObjectId('661e6ed6fd6b5ac15377e176'), ObjectId('661e6ed6fd6b5ac15377e177'), ObjectId('661e6ed6fd6b5ac15377e178'), ObjectId('661e6ed6fd6b5ac15377e179'), ObjectId('661e6ed6fd6b5ac15377e17a'), ObjectId('661e6ed6fd6b5ac15377e17b'), ObjectId('661e6ed6fd6b5ac15377e17c'), ObjectId('661e6ed6fd6b5ac15377e17d'), ObjectId('661e6ed6fd6b5ac15377e17e'), ObjectId('661e6ed6fd6b5ac15377e17f'), ObjectId('661e6ed6fd6b5ac15377e180'), ObjectId('661e6ed6fd6b5ac15377e181'), ObjectId('661e6ed6fd6b5ac15377e182'), ObjectId('661e6ed6fd6b5ac15377e183'), ObjectId('661e6ed6fd6b5ac15377e184'), ObjectId('661e6ed6fd6b5ac15377e185'), ObjectId('661e6ed6fd6b5ac15377e186'), ObjectId('661e6ed6fd6b5ac15377e187'), ObjectId('661e6ed6fd6b5ac15377e188'), ObjectId('661e6ed6fd6b5ac15377e189'), ObjectId('661e6ed6fd6b5ac15377e18a'), ObjectId('661e6ed6fd6b5ac15377e18b'), ObjectId('661e6ed6fd6b5ac15377e18c'), ObjectId('661e6ed6fd6b5ac15377e18d'), ObjectId('661e6ed6fd6b5ac15377e18e'), ObjectId('661e6ed6fd6b5ac15377e18f'), ObjectId('661e6ed6fd6b5ac15377e190'), ObjectId('661e6ed6fd6b5ac15377e191'), ObjectId('661e6ed6fd6b5ac15377e192'), ObjectId('661e6ed6fd6b5ac15377e193'), ObjectId('661e6ed6fd6b5ac15377e194'), ObjectId('661e6ed6fd6b5ac15377e195'), ObjectId('661e6ed6fd6b5ac15377e196'), ObjectId('661e6ed6fd6b5ac15377e197'), ObjectId('661e6ed6fd6b5ac15377e198'), ObjectId('661e6ed6fd6b5ac15377e199'), ObjectId('661e6ed6fd6b5ac15377e19a'), ObjectId('661e6ed6fd6b5ac15377e19b'), ObjectId('661e6ed6fd6b5ac15377e19c'), ObjectId('661e6ed6fd6b5ac15377e19d'), ObjectId('661e6ed6fd6b5ac15377e19e'), ObjectId('661e6ed6fd6b5ac15377e19f'), ObjectId('661e6ed6fd6b5ac15377e1a0'), ObjectId('661e6ed6fd6b5ac15377e1a1'), ObjectId('661e6ed6fd6b5ac15377e1a2'), ObjectId('661e6ed6fd6b5ac15377e1a3'), ObjectId('661e6ed6fd6b5ac15377e1a4'), ObjectId('661e6ed6fd6b5ac15377e1a5'), ObjectId('661e6ed6fd6b5ac15377e1a6'), ObjectId('661e6ed6fd6b5ac15377e1a7'), ObjectId('661e6ed6fd6b5ac15377e1a8'), ObjectId('661e6ed6fd6b5ac15377e1a9'), ObjectId('661e6ed6fd6b5ac15377e1aa'), ObjectId('661e6ed6fd6b5ac15377e1ab'), ObjectId('661e6ed6fd6b5ac15377e1ac'), ObjectId('661e6ed6fd6b5ac15377e1ad'), ObjectId('661e6ed6fd6b5ac15377e1ae'), ObjectId('661e6ed6fd6b5ac15377e1af'), ObjectId('661e6ed6fd6b5ac15377e1b0'), ObjectId('661e6ed6fd6b5ac15377e1b1'), ObjectId('661e6ed6fd6b5ac15377e1b2'), ObjectId('661e6ed6fd6b5ac15377e1b3'), ObjectId('661e6ed6fd6b5ac15377e1b4'), ObjectId('661e6ed6fd6b5ac15377e1b5'), ObjectId('661e6ed6fd6b5ac15377e1b6'), ObjectId('661e6ed6fd6b5ac15377e1b7'), ObjectId('661e6ed6fd6b5ac15377e1b8'), ObjectId('661e6ed6fd6b5ac15377e1b9'), ObjectId('661e6ed6fd6b5ac15377e1ba'), ObjectId('661e6ed6fd6b5ac15377e1bb'), ObjectId('661e6ed6fd6b5ac15377e1bc'), ObjectId('661e6ed6fd6b5ac15377e1bd'), ObjectId('661e6ed6fd6b5ac15377e1be'), ObjectId('661e6ed6fd6b5ac15377e1bf'), ObjectId('661e6ed6fd6b5ac15377e1c0'), ObjectId('661e6ed6fd6b5ac15377e1c1'), ObjectId('661e6ed6fd6b5ac15377e1c2'), ObjectId('661e6ed6fd6b5ac15377e1c3'), ObjectId('661e6ed6fd6b5ac15377e1c4'), ObjectId('661e6ed6fd6b5ac15377e1c5'), ObjectId('661e6ed6fd6b5ac15377e1c6'), ObjectId('661e6ed6fd6b5ac15377e1c7'), ObjectId('661e6ed6fd6b5ac15377e1c8'), ObjectId('661e6ed6fd6b5ac15377e1c9'), ObjectId('661e6ed6fd6b5ac15377e1ca'), ObjectId('661e6ed6fd6b5ac15377e1cb'), ObjectId('661e6ed6fd6b5ac15377e1cc'), ObjectId('661e6ed6fd6b5ac15377e1cd'), ObjectId('661e6ed6fd6b5ac15377e1ce'), ObjectId('661e6ed6fd6b5ac15377e1cf'), ObjectId('661e6ed6fd6b5ac15377e1d0'), ObjectId('661e6ed6fd6b5ac15377e1d1'), ObjectId('661e6ed6fd6b5ac15377e1d2'), ObjectId('661e6ed6fd6b5ac15377e1d3'), ObjectId('661e6ed6fd6b5ac15377e1d4'), ObjectId('661e6ed6fd6b5ac15377e1d5'), ObjectId('661e6ed6fd6b5ac15377e1d6'), ObjectId('661e6ed6fd6b5ac15377e1d7'), ObjectId('661e6ed6fd6b5ac15377e1d8'), ObjectId('661e6ed6fd6b5ac15377e1d9'), ObjectId('661e6ed6fd6b5ac15377e1da'), ObjectId('661e6ed6fd6b5ac15377e1db'), ObjectId('661e6ed6fd6b5ac15377e1dc'), ObjectId('661e6ed6fd6b5ac15377e1dd'), ObjectId('661e6ed6fd6b5ac15377e1de'), ObjectId('661e6ed6fd6b5ac15377e1df'), ObjectId('661e6ed6fd6b5ac15377e1e0'), ObjectId('661e6ed6fd6b5ac15377e1e1'), ObjectId('661e6ed6fd6b5ac15377e1e2'), ObjectId('661e6ed6fd6b5ac15377e1e3'), ObjectId('661e6ed6fd6b5ac15377e1e4'), ObjectId('661e6ed6fd6b5ac15377e1e5'), ObjectId('661e6ed6fd6b5ac15377e1e6'), ObjectId('661e6ed6fd6b5ac15377e1e7'), ObjectId('661e6ed6fd6b5ac15377e1e8'), ObjectId('661e6ed6fd6b5ac15377e1e9'), ObjectId('661e6ed6fd6b5ac15377e1ea'), ObjectId('661e6ed6fd6b5ac15377e1eb'), ObjectId('661e6ed6fd6b5ac15377e1ec'), ObjectId('661e6ed6fd6b5ac15377e1ed'), ObjectId('661e6ed6fd6b5ac15377e1ee'), ObjectId('661e6ed6fd6b5ac15377e1ef'), ObjectId('661e6ed6fd6b5ac15377e1f0'), ObjectId('661e6ed6fd6b5ac15377e1f1'), ObjectId('661e6ed6fd6b5ac15377e1f2'), ObjectId('661e6ed6fd6b5ac15377e1f3'), ObjectId('661e6ed6fd6b5ac15377e1f4'), ObjectId('661e6ed6fd6b5ac15377e1f5'), ObjectId('661e6ed6fd6b5ac15377e1f6'), ObjectId('661e6ed6fd6b5ac15377e1f7'), ObjectId('661e6ed6fd6b5ac15377e1f8'), ObjectId('661e6ed6fd6b5ac15377e1f9'), ObjectId('661e6ed6fd6b5ac15377e1fa'), ObjectId('661e6ed6fd6b5ac15377e1fb'), ObjectId('661e6ed6fd6b5ac15377e1fc'), ObjectId('661e6ed6fd6b5ac15377e1fd'), ObjectId('661e6ed6fd6b5ac15377e1fe'), ObjectId('661e6ed6fd6b5ac15377e1ff'), ObjectId('661e6ed6fd6b5ac15377e200'), ObjectId('661e6ed6fd6b5ac15377e201'), ObjectId('661e6ed6fd6b5ac15377e202'), ObjectId('661e6ed6fd6b5ac15377e203'), ObjectId('661e6ed6fd6b5ac15377e204'), ObjectId('661e6ed6fd6b5ac15377e205'), ObjectId('661e6ed6fd6b5ac15377e206'), ObjectId('661e6ed6fd6b5ac15377e207'), ObjectId('661e6ed6fd6b5ac15377e208'), ObjectId('661e6ed6fd6b5ac15377e209'), ObjectId('661e6ed6fd6b5ac15377e20a'), ObjectId('661e6ed6fd6b5ac15377e20b'), ObjectId('661e6ed6fd6b5ac15377e20c'), ObjectId('661e6ed6fd6b5ac15377e20d'), ObjectId('661e6ed6fd6b5ac15377e20e'), ObjectId('661e6ed6fd6b5ac15377e20f'), ObjectId('661e6ed6fd6b5ac15377e210'), ObjectId('661e6ed6fd6b5ac15377e211'), ObjectId('661e6ed6fd6b5ac15377e212'), ObjectId('661e6ed6fd6b5ac15377e213'), ObjectId('661e6ed6fd6b5ac15377e214'), ObjectId('661e6ed6fd6b5ac15377e215'), ObjectId('661e6ed6fd6b5ac15377e216'), ObjectId('661e6ed6fd6b5ac15377e217'), ObjectId('661e6ed6fd6b5ac15377e218'), ObjectId('661e6ed6fd6b5ac15377e219'), ObjectId('661e6ed6fd6b5ac15377e21a'), ObjectId('661e6ed6fd6b5ac15377e21b'), ObjectId('661e6ed6fd6b5ac15377e21c'), ObjectId('661e6ed6fd6b5ac15377e21d'), ObjectId('661e6ed6fd6b5ac15377e21e'), ObjectId('661e6ed6fd6b5ac15377e21f'), ObjectId('661e6ed6fd6b5ac15377e220'), ObjectId('661e6ed6fd6b5ac15377e221'), ObjectId('661e6ed6fd6b5ac15377e222'), ObjectId('661e6ed6fd6b5ac15377e223'), ObjectId('661e6ed6fd6b5ac15377e224'), ObjectId('661e6ed6fd6b5ac15377e225'), ObjectId('661e6ed6fd6b5ac15377e226'), ObjectId('661e6ed6fd6b5ac15377e227'), ObjectId('661e6ed6fd6b5ac15377e228'), ObjectId('661e6ed6fd6b5ac15377e229'), ObjectId('661e6ed6fd6b5ac15377e22a'), ObjectId('661e6ed6fd6b5ac15377e22b'), ObjectId('661e6ed6fd6b5ac15377e22c'), ObjectId('661e6ed6fd6b5ac15377e22d'), ObjectId('661e6ed6fd6b5ac15377e22e'), ObjectId('661e6ed6fd6b5ac15377e22f'), ObjectId('661e6ed6fd6b5ac15377e230'), ObjectId('661e6ed6fd6b5ac15377e231'), ObjectId('661e6ed6fd6b5ac15377e232'), ObjectId('661e6ed6fd6b5ac15377e233'), ObjectId('661e6ed6fd6b5ac15377e234'), ObjectId('661e6ed6fd6b5ac15377e235'), ObjectId('661e6ed6fd6b5ac15377e236'), ObjectId('661e6ed6fd6b5ac15377e237'), ObjectId('661e6ed6fd6b5ac15377e238'), ObjectId('661e6ed6fd6b5ac15377e239'), ObjectId('661e6ed6fd6b5ac15377e23a'), ObjectId('661e6ed6fd6b5ac15377e23b'), ObjectId('661e6ed6fd6b5ac15377e23c'), ObjectId('661e6ed6fd6b5ac15377e23d'), ObjectId('661e6ed6fd6b5ac15377e23e'), ObjectId('661e6ed6fd6b5ac15377e23f'), ObjectId('661e6ed6fd6b5ac15377e240'), ObjectId('661e6ed6fd6b5ac15377e241'), ObjectId('661e6ed6fd6b5ac15377e242'), ObjectId('661e6ed6fd6b5ac15377e243'), ObjectId('661e6ed6fd6b5ac15377e244'), ObjectId('661e6ed6fd6b5ac15377e245'), ObjectId('661e6ed6fd6b5ac15377e246'), ObjectId('661e6ed6fd6b5ac15377e247'), ObjectId('661e6ed6fd6b5ac15377e248'), ObjectId('661e6ed6fd6b5ac15377e249'), ObjectId('661e6ed6fd6b5ac15377e24a'), ObjectId('661e6ed6fd6b5ac15377e24b'), ObjectId('661e6ed6fd6b5ac15377e24c'), ObjectId('661e6ed6fd6b5ac15377e24d'), ObjectId('661e6ed6fd6b5ac15377e24e'), ObjectId('661e6ed6fd6b5ac15377e24f'), ObjectId('661e6ed6fd6b5ac15377e250'), ObjectId('661e6ed6fd6b5ac15377e251'), ObjectId('661e6ed6fd6b5ac15377e252'), ObjectId('661e6ed6fd6b5ac15377e253'), ObjectId('661e6ed6fd6b5ac15377e254'), ObjectId('661e6ed6fd6b5ac15377e255'), ObjectId('661e6ed6fd6b5ac15377e256'), ObjectId('661e6ed6fd6b5ac15377e257'), ObjectId('661e6ed6fd6b5ac15377e258'), ObjectId('661e6ed6fd6b5ac15377e259'), ObjectId('661e6ed6fd6b5ac15377e25a'), ObjectId('661e6ed6fd6b5ac15377e25b'), ObjectId('661e6ed6fd6b5ac15377e25c'), ObjectId('661e6ed6fd6b5ac15377e25d'), ObjectId('661e6ed6fd6b5ac15377e25e'), ObjectId('661e6ed6fd6b5ac15377e25f'), ObjectId('661e6ed6fd6b5ac15377e260'), ObjectId('661e6ed6fd6b5ac15377e261'), ObjectId('661e6ed6fd6b5ac15377e262'), ObjectId('661e6ed6fd6b5ac15377e263'), ObjectId('661e6ed6fd6b5ac15377e264'), ObjectId('661e6ed6fd6b5ac15377e265'), ObjectId('661e6ed6fd6b5ac15377e266'), ObjectId('661e6ed6fd6b5ac15377e267'), ObjectId('661e6ed6fd6b5ac15377e268'), ObjectId('661e6ed6fd6b5ac15377e269'), ObjectId('661e6ed6fd6b5ac15377e26a'), ObjectId('661e6ed6fd6b5ac15377e26b'), ObjectId('661e6ed6fd6b5ac15377e26c'), ObjectId('661e6ed6fd6b5ac15377e26d'), ObjectId('661e6ed6fd6b5ac15377e26e'), ObjectId('661e6ed6fd6b5ac15377e26f'), ObjectId('661e6ed6fd6b5ac15377e270'), ObjectId('661e6ed6fd6b5ac15377e271'), ObjectId('661e6ed6fd6b5ac15377e272'), ObjectId('661e6ed6fd6b5ac15377e273'), ObjectId('661e6ed6fd6b5ac15377e274'), ObjectId('661e6ed6fd6b5ac15377e275'), ObjectId('661e6ed6fd6b5ac15377e276'), ObjectId('661e6ed6fd6b5ac15377e277'), ObjectId('661e6ed6fd6b5ac15377e278'), ObjectId('661e6ed6fd6b5ac15377e279'), ObjectId('661e6ed6fd6b5ac15377e27a'), ObjectId('661e6ed6fd6b5ac15377e27b'), ObjectId('661e6ed6fd6b5ac15377e27c'), ObjectId('661e6ed6fd6b5ac15377e27d'), ObjectId('661e6ed6fd6b5ac15377e27e'), ObjectId('661e6ed6fd6b5ac15377e27f'), ObjectId('661e6ed6fd6b5ac15377e280'), ObjectId('661e6ed6fd6b5ac15377e281'), ObjectId('661e6ed6fd6b5ac15377e282'), ObjectId('661e6ed6fd6b5ac15377e283'), ObjectId('661e6ed6fd6b5ac15377e284'), ObjectId('661e6ed6fd6b5ac15377e285'), ObjectId('661e6ed6fd6b5ac15377e286'), ObjectId('661e6ed6fd6b5ac15377e287'), ObjectId('661e6ed6fd6b5ac15377e288'), ObjectId('661e6ed6fd6b5ac15377e289'), ObjectId('661e6ed6fd6b5ac15377e28a'), ObjectId('661e6ed6fd6b5ac15377e28b'), ObjectId('661e6ed6fd6b5ac15377e28c'), ObjectId('661e6ed6fd6b5ac15377e28d'), ObjectId('661e6ed6fd6b5ac15377e28e'), ObjectId('661e6ed6fd6b5ac15377e28f'), ObjectId('661e6ed6fd6b5ac15377e290'), ObjectId('661e6ed6fd6b5ac15377e291'), ObjectId('661e6ed6fd6b5ac15377e292'), ObjectId('661e6ed6fd6b5ac15377e293'), ObjectId('661e6ed6fd6b5ac15377e294'), ObjectId('661e6ed6fd6b5ac15377e295'), ObjectId('661e6ed6fd6b5ac15377e296'), ObjectId('661e6ed6fd6b5ac15377e297'), ObjectId('661e6ed6fd6b5ac15377e298'), ObjectId('661e6ed6fd6b5ac15377e299'), ObjectId('661e6ed6fd6b5ac15377e29a'), ObjectId('661e6ed6fd6b5ac15377e29b'), ObjectId('661e6ed6fd6b5ac15377e29c'), ObjectId('661e6ed6fd6b5ac15377e29d'), ObjectId('661e6ed6fd6b5ac15377e29e'), ObjectId('661e6ed6fd6b5ac15377e29f'), ObjectId('661e6ed6fd6b5ac15377e2a0'), ObjectId('661e6ed6fd6b5ac15377e2a1'), ObjectId('661e6ed6fd6b5ac15377e2a2'), ObjectId('661e6ed6fd6b5ac15377e2a3'), ObjectId('661e6ed6fd6b5ac15377e2a4'), ObjectId('661e6ed6fd6b5ac15377e2a5'), ObjectId('661e6ed6fd6b5ac15377e2a6'), ObjectId('661e6ed6fd6b5ac15377e2a7'), ObjectId('661e6ed6fd6b5ac15377e2a8'), ObjectId('661e6ed6fd6b5ac15377e2a9'), ObjectId('661e6ed6fd6b5ac15377e2aa'), ObjectId('661e6ed6fd6b5ac15377e2ab'), ObjectId('661e6ed6fd6b5ac15377e2ac'), ObjectId('661e6ed6fd6b5ac15377e2ad'), ObjectId('661e6ed6fd6b5ac15377e2ae'), ObjectId('661e6ed6fd6b5ac15377e2af'), ObjectId('661e6ed6fd6b5ac15377e2b0'), ObjectId('661e6ed6fd6b5ac15377e2b1'), ObjectId('661e6ed6fd6b5ac15377e2b2'), ObjectId('661e6ed6fd6b5ac15377e2b3'), ObjectId('661e6ed6fd6b5ac15377e2b4'), ObjectId('661e6ed6fd6b5ac15377e2b5'), ObjectId('661e6ed6fd6b5ac15377e2b6'), ObjectId('661e6ed6fd6b5ac15377e2b7'), ObjectId('661e6ed6fd6b5ac15377e2b8'), ObjectId('661e6ed6fd6b5ac15377e2b9'), ObjectId('661e6ed6fd6b5ac15377e2ba'), ObjectId('661e6ed6fd6b5ac15377e2bb'), ObjectId('661e6ed6fd6b5ac15377e2bc'), ObjectId('661e6ed6fd6b5ac15377e2bd'), ObjectId('661e6ed6fd6b5ac15377e2be'), ObjectId('661e6ed6fd6b5ac15377e2bf'), ObjectId('661e6ed6fd6b5ac15377e2c0'), ObjectId('661e6ed6fd6b5ac15377e2c1'), ObjectId('661e6ed6fd6b5ac15377e2c2'), ObjectId('661e6ed6fd6b5ac15377e2c3'), ObjectId('661e6ed6fd6b5ac15377e2c4'), ObjectId('661e6ed6fd6b5ac15377e2c5'), ObjectId('661e6ed6fd6b5ac15377e2c6'), ObjectId('661e6ed6fd6b5ac15377e2c7'), ObjectId('661e6ed6fd6b5ac15377e2c8'), ObjectId('661e6ed6fd6b5ac15377e2c9'), ObjectId('661e6ed6fd6b5ac15377e2ca'), ObjectId('661e6ed6fd6b5ac15377e2cb'), ObjectId('661e6ed6fd6b5ac15377e2cc'), ObjectId('661e6ed6fd6b5ac15377e2cd'), ObjectId('661e6ed6fd6b5ac15377e2ce'), ObjectId('661e6ed6fd6b5ac15377e2cf'), ObjectId('661e6ed6fd6b5ac15377e2d0'), ObjectId('661e6ed6fd6b5ac15377e2d1'), ObjectId('661e6ed6fd6b5ac15377e2d2'), ObjectId('661e6ed6fd6b5ac15377e2d3'), ObjectId('661e6ed6fd6b5ac15377e2d4'), ObjectId('661e6ed6fd6b5ac15377e2d5'), ObjectId('661e6ed6fd6b5ac15377e2d6'), ObjectId('661e6ed6fd6b5ac15377e2d7'), ObjectId('661e6ed6fd6b5ac15377e2d8'), ObjectId('661e6ed6fd6b5ac15377e2d9'), ObjectId('661e6ed6fd6b5ac15377e2da'), ObjectId('661e6ed6fd6b5ac15377e2db'), ObjectId('661e6ed6fd6b5ac15377e2dc'), ObjectId('661e6ed6fd6b5ac15377e2dd'), ObjectId('661e6ed6fd6b5ac15377e2de'), ObjectId('661e6ed6fd6b5ac15377e2df'), ObjectId('661e6ed6fd6b5ac15377e2e0'), ObjectId('661e6ed6fd6b5ac15377e2e1'), ObjectId('661e6ed6fd6b5ac15377e2e2'), ObjectId('661e6ed6fd6b5ac15377e2e3'), ObjectId('661e6ed6fd6b5ac15377e2e4'), ObjectId('661e6ed6fd6b5ac15377e2e5'), ObjectId('661e6ed6fd6b5ac15377e2e6'), ObjectId('661e6ed6fd6b5ac15377e2e7'), ObjectId('661e6ed6fd6b5ac15377e2e8'), ObjectId('661e6ed6fd6b5ac15377e2e9'), ObjectId('661e6ed6fd6b5ac15377e2ea'), ObjectId('661e6ed6fd6b5ac15377e2eb'), ObjectId('661e6ed6fd6b5ac15377e2ec'), ObjectId('661e6ed6fd6b5ac15377e2ed'), ObjectId('661e6ed6fd6b5ac15377e2ee'), ObjectId('661e6ed6fd6b5ac15377e2ef'), ObjectId('661e6ed6fd6b5ac15377e2f0'), ObjectId('661e6ed6fd6b5ac15377e2f1'), ObjectId('661e6ed6fd6b5ac15377e2f2'), ObjectId('661e6ed6fd6b5ac15377e2f3'), ObjectId('661e6ed6fd6b5ac15377e2f4'), ObjectId('661e6ed6fd6b5ac15377e2f5'), ObjectId('661e6ed6fd6b5ac15377e2f6'), ObjectId('661e6ed6fd6b5ac15377e2f7'), ObjectId('661e6ed6fd6b5ac15377e2f8'), ObjectId('661e6ed6fd6b5ac15377e2f9'), ObjectId('661e6ed6fd6b5ac15377e2fa'), ObjectId('661e6ed6fd6b5ac15377e2fb'), ObjectId('661e6ed6fd6b5ac15377e2fc'), ObjectId('661e6ed6fd6b5ac15377e2fd'), ObjectId('661e6ed6fd6b5ac15377e2fe'), ObjectId('661e6ed6fd6b5ac15377e2ff'), ObjectId('661e6ed6fd6b5ac15377e300'), ObjectId('661e6ed6fd6b5ac15377e301'), ObjectId('661e6ed6fd6b5ac15377e302'), ObjectId('661e6ed6fd6b5ac15377e303'), ObjectId('661e6ed6fd6b5ac15377e304'), ObjectId('661e6ed6fd6b5ac15377e305'), ObjectId('661e6ed6fd6b5ac15377e306'), ObjectId('661e6ed6fd6b5ac15377e307'), ObjectId('661e6ed6fd6b5ac15377e308'), ObjectId('661e6ed6fd6b5ac15377e309'), ObjectId('661e6ed6fd6b5ac15377e30a'), ObjectId('661e6ed6fd6b5ac15377e30b'), ObjectId('661e6ed6fd6b5ac15377e30c'), ObjectId('661e6ed6fd6b5ac15377e30d'), ObjectId('661e6ed6fd6b5ac15377e30e'), ObjectId('661e6ed6fd6b5ac15377e30f'), ObjectId('661e6ed6fd6b5ac15377e310'), ObjectId('661e6ed6fd6b5ac15377e311'), ObjectId('661e6ed6fd6b5ac15377e312'), ObjectId('661e6ed6fd6b5ac15377e313'), ObjectId('661e6ed6fd6b5ac15377e314'), ObjectId('661e6ed6fd6b5ac15377e315'), ObjectId('661e6ed6fd6b5ac15377e316'), ObjectId('661e6ed6fd6b5ac15377e317'), ObjectId('661e6ed6fd6b5ac15377e318'), ObjectId('661e6ed6fd6b5ac15377e319'), ObjectId('661e6ed6fd6b5ac15377e31a'), ObjectId('661e6ed6fd6b5ac15377e31b'), ObjectId('661e6ed6fd6b5ac15377e31c'), ObjectId('661e6ed6fd6b5ac15377e31d'), ObjectId('661e6ed6fd6b5ac15377e31e'), ObjectId('661e6ed6fd6b5ac15377e31f'), ObjectId('661e6ed6fd6b5ac15377e320'), ObjectId('661e6ed6fd6b5ac15377e321'), ObjectId('661e6ed6fd6b5ac15377e322'), ObjectId('661e6ed6fd6b5ac15377e323'), ObjectId('661e6ed6fd6b5ac15377e324'), ObjectId('661e6ed6fd6b5ac15377e325'), ObjectId('661e6ed6fd6b5ac15377e326'), ObjectId('661e6ed6fd6b5ac15377e327'), ObjectId('661e6ed6fd6b5ac15377e328'), ObjectId('661e6ed6fd6b5ac15377e329'), ObjectId('661e6ed6fd6b5ac15377e32a'), ObjectId('661e6ed6fd6b5ac15377e32b'), ObjectId('661e6ed6fd6b5ac15377e32c'), ObjectId('661e6ed6fd6b5ac15377e32d'), ObjectId('661e6ed6fd6b5ac15377e32e'), ObjectId('661e6ed6fd6b5ac15377e32f'), ObjectId('661e6ed6fd6b5ac15377e330'), ObjectId('661e6ed6fd6b5ac15377e331'), ObjectId('661e6ed6fd6b5ac15377e332'), ObjectId('661e6ed6fd6b5ac15377e333'), ObjectId('661e6ed6fd6b5ac15377e334'), ObjectId('661e6ed6fd6b5ac15377e335'), ObjectId('661e6ed6fd6b5ac15377e336'), ObjectId('661e6ed6fd6b5ac15377e337'), ObjectId('661e6ed6fd6b5ac15377e338'), ObjectId('661e6ed6fd6b5ac15377e339'), ObjectId('661e6ed6fd6b5ac15377e33a'), ObjectId('661e6ed6fd6b5ac15377e33b'), ObjectId('661e6ed6fd6b5ac15377e33c'), ObjectId('661e6ed6fd6b5ac15377e33d'), ObjectId('661e6ed6fd6b5ac15377e33e'), ObjectId('661e6ed6fd6b5ac15377e33f'), ObjectId('661e6ed6fd6b5ac15377e340'), ObjectId('661e6ed6fd6b5ac15377e341'), ObjectId('661e6ed6fd6b5ac15377e342'), ObjectId('661e6ed6fd6b5ac15377e343'), ObjectId('661e6ed6fd6b5ac15377e344'), ObjectId('661e6ed6fd6b5ac15377e345'), ObjectId('661e6ed6fd6b5ac15377e346'), ObjectId('661e6ed6fd6b5ac15377e347'), ObjectId('661e6ed6fd6b5ac15377e348'), ObjectId('661e6ed6fd6b5ac15377e349'), ObjectId('661e6ed6fd6b5ac15377e34a'), ObjectId('661e6ed6fd6b5ac15377e34b'), ObjectId('661e6ed6fd6b5ac15377e34c'), ObjectId('661e6ed6fd6b5ac15377e34d'), ObjectId('661e6ed6fd6b5ac15377e34e'), ObjectId('661e6ed6fd6b5ac15377e34f'), ObjectId('661e6ed6fd6b5ac15377e350'), ObjectId('661e6ed6fd6b5ac15377e351'), ObjectId('661e6ed6fd6b5ac15377e352'), ObjectId('661e6ed6fd6b5ac15377e353'), ObjectId('661e6ed6fd6b5ac15377e354'), ObjectId('661e6ed6fd6b5ac15377e355'), ObjectId('661e6ed6fd6b5ac15377e356'), ObjectId('661e6ed6fd6b5ac15377e357'), ObjectId('661e6ed6fd6b5ac15377e358'), ObjectId('661e6ed6fd6b5ac15377e359'), ObjectId('661e6ed6fd6b5ac15377e35a'), ObjectId('661e6ed6fd6b5ac15377e35b'), ObjectId('661e6ed6fd6b5ac15377e35c'), ObjectId('661e6ed6fd6b5ac15377e35d'), ObjectId('661e6ed6fd6b5ac15377e35e'), ObjectId('661e6ed6fd6b5ac15377e35f'), ObjectId('661e6ed6fd6b5ac15377e360'), ObjectId('661e6ed6fd6b5ac15377e361'), ObjectId('661e6ed6fd6b5ac15377e362'), ObjectId('661e6ed6fd6b5ac15377e363'), ObjectId('661e6ed6fd6b5ac15377e364'), ObjectId('661e6ed6fd6b5ac15377e365'), ObjectId('661e6ed6fd6b5ac15377e366'), ObjectId('661e6ed6fd6b5ac15377e367'), ObjectId('661e6ed6fd6b5ac15377e368'), ObjectId('661e6ed6fd6b5ac15377e369'), ObjectId('661e6ed6fd6b5ac15377e36a'), ObjectId('661e6ed6fd6b5ac15377e36b'), ObjectId('661e6ed6fd6b5ac15377e36c'), ObjectId('661e6ed6fd6b5ac15377e36d'), ObjectId('661e6ed6fd6b5ac15377e36e'), ObjectId('661e6ed6fd6b5ac15377e36f'), ObjectId('661e6ed6fd6b5ac15377e370'), ObjectId('661e6ed6fd6b5ac15377e371'), ObjectId('661e6ed6fd6b5ac15377e372'), ObjectId('661e6ed6fd6b5ac15377e373'), ObjectId('661e6ed6fd6b5ac15377e374'), ObjectId('661e6ed6fd6b5ac15377e375'), ObjectId('661e6ed6fd6b5ac15377e376'), ObjectId('661e6ed6fd6b5ac15377e377'), ObjectId('661e6ed6fd6b5ac15377e378'), ObjectId('661e6ed6fd6b5ac15377e379'), ObjectId('661e6ed6fd6b5ac15377e37a'), ObjectId('661e6ed6fd6b5ac15377e37b'), ObjectId('661e6ed6fd6b5ac15377e37c'), ObjectId('661e6ed6fd6b5ac15377e37d'), ObjectId('661e6ed6fd6b5ac15377e37e'), ObjectId('661e6ed6fd6b5ac15377e37f'), ObjectId('661e6ed6fd6b5ac15377e380'), ObjectId('661e6ed6fd6b5ac15377e381'), ObjectId('661e6ed6fd6b5ac15377e382'), ObjectId('661e6ed6fd6b5ac15377e383'), ObjectId('661e6ed6fd6b5ac15377e384'), ObjectId('661e6ed6fd6b5ac15377e385'), ObjectId('661e6ed6fd6b5ac15377e386'), ObjectId('661e6ed6fd6b5ac15377e387'), ObjectId('661e6ed6fd6b5ac15377e388'), ObjectId('661e6ed6fd6b5ac15377e389'), ObjectId('661e6ed6fd6b5ac15377e38a'), ObjectId('661e6ed6fd6b5ac15377e38b'), ObjectId('661e6ed6fd6b5ac15377e38c'), ObjectId('661e6ed6fd6b5ac15377e38d'), ObjectId('661e6ed6fd6b5ac15377e38e'), ObjectId('661e6ed6fd6b5ac15377e38f'), ObjectId('661e6ed6fd6b5ac15377e390'), ObjectId('661e6ed6fd6b5ac15377e391'), ObjectId('661e6ed6fd6b5ac15377e392'), ObjectId('661e6ed6fd6b5ac15377e393'), ObjectId('661e6ed6fd6b5ac15377e394'), ObjectId('661e6ed6fd6b5ac15377e395'), ObjectId('661e6ed6fd6b5ac15377e396'), ObjectId('661e6ed6fd6b5ac15377e397'), ObjectId('661e6ed6fd6b5ac15377e398'), ObjectId('661e6ed6fd6b5ac15377e399'), ObjectId('661e6ed6fd6b5ac15377e39a'), ObjectId('661e6ed6fd6b5ac15377e39b'), ObjectId('661e6ed6fd6b5ac15377e39c'), ObjectId('661e6ed6fd6b5ac15377e39d'), ObjectId('661e6ed6fd6b5ac15377e39e'), ObjectId('661e6ed6fd6b5ac15377e39f'), ObjectId('661e6ed6fd6b5ac15377e3a0'), ObjectId('661e6ed6fd6b5ac15377e3a1'), ObjectId('661e6ed6fd6b5ac15377e3a2'), ObjectId('661e6ed6fd6b5ac15377e3a3'), ObjectId('661e6ed6fd6b5ac15377e3a4'), ObjectId('661e6ed6fd6b5ac15377e3a5'), ObjectId('661e6ed6fd6b5ac15377e3a6'), ObjectId('661e6ed6fd6b5ac15377e3a7'), ObjectId('661e6ed6fd6b5ac15377e3a8'), ObjectId('661e6ed6fd6b5ac15377e3a9'), ObjectId('661e6ed6fd6b5ac15377e3aa'), ObjectId('661e6ed6fd6b5ac15377e3ab'), ObjectId('661e6ed6fd6b5ac15377e3ac'), ObjectId('661e6ed6fd6b5ac15377e3ad'), ObjectId('661e6ed6fd6b5ac15377e3ae'), ObjectId('661e6ed6fd6b5ac15377e3af'), ObjectId('661e6ed6fd6b5ac15377e3b0'), ObjectId('661e6ed6fd6b5ac15377e3b1'), ObjectId('661e6ed6fd6b5ac15377e3b2'), ObjectId('661e6ed6fd6b5ac15377e3b3'), ObjectId('661e6ed6fd6b5ac15377e3b4'), ObjectId('661e6ed6fd6b5ac15377e3b5'), ObjectId('661e6ed6fd6b5ac15377e3b6'), ObjectId('661e6ed6fd6b5ac15377e3b7'), ObjectId('661e6ed6fd6b5ac15377e3b8'), ObjectId('661e6ed6fd6b5ac15377e3b9'), ObjectId('661e6ed6fd6b5ac15377e3ba'), ObjectId('661e6ed6fd6b5ac15377e3bb'), ObjectId('661e6ed6fd6b5ac15377e3bc'), ObjectId('661e6ed6fd6b5ac15377e3bd'), ObjectId('661e6ed6fd6b5ac15377e3be'), ObjectId('661e6ed6fd6b5ac15377e3bf'), ObjectId('661e6ed6fd6b5ac15377e3c0'), ObjectId('661e6ed6fd6b5ac15377e3c1'), ObjectId('661e6ed6fd6b5ac15377e3c2'), ObjectId('661e6ed6fd6b5ac15377e3c3'), ObjectId('661e6ed6fd6b5ac15377e3c4'), ObjectId('661e6ed6fd6b5ac15377e3c5'), ObjectId('661e6ed6fd6b5ac15377e3c6'), ObjectId('661e6ed6fd6b5ac15377e3c7'), ObjectId('661e6ed6fd6b5ac15377e3c8'), ObjectId('661e6ed6fd6b5ac15377e3c9'), ObjectId('661e6ed6fd6b5ac15377e3ca'), ObjectId('661e6ed6fd6b5ac15377e3cb'), ObjectId('661e6ed6fd6b5ac15377e3cc'), ObjectId('661e6ed6fd6b5ac15377e3cd'), ObjectId('661e6ed6fd6b5ac15377e3ce'), ObjectId('661e6ed6fd6b5ac15377e3cf'), ObjectId('661e6ed6fd6b5ac15377e3d0'), ObjectId('661e6ed6fd6b5ac15377e3d1'), ObjectId('661e6ed6fd6b5ac15377e3d2'), ObjectId('661e6ed6fd6b5ac15377e3d3'), ObjectId('661e6ed6fd6b5ac15377e3d4'), ObjectId('661e6ed6fd6b5ac15377e3d5'), ObjectId('661e6ed6fd6b5ac15377e3d6'), ObjectId('661e6ed6fd6b5ac15377e3d7'), ObjectId('661e6ed6fd6b5ac15377e3d8'), ObjectId('661e6ed6fd6b5ac15377e3d9'), ObjectId('661e6ed6fd6b5ac15377e3da'), ObjectId('661e6ed6fd6b5ac15377e3db'), ObjectId('661e6ed6fd6b5ac15377e3dc'), ObjectId('661e6ed6fd6b5ac15377e3dd'), ObjectId('661e6ed6fd6b5ac15377e3de'), ObjectId('661e6ed6fd6b5ac15377e3df'), ObjectId('661e6ed6fd6b5ac15377e3e0'), ObjectId('661e6ed6fd6b5ac15377e3e1'), ObjectId('661e6ed6fd6b5ac15377e3e2'), ObjectId('661e6ed6fd6b5ac15377e3e3'), ObjectId('661e6ed6fd6b5ac15377e3e4'), ObjectId('661e6ed6fd6b5ac15377e3e5'), ObjectId('661e6ed6fd6b5ac15377e3e6'), ObjectId('661e6ed6fd6b5ac15377e3e7'), ObjectId('661e6ed6fd6b5ac15377e3e8'), ObjectId('661e6ed6fd6b5ac15377e3e9'), ObjectId('661e6ed6fd6b5ac15377e3ea'), ObjectId('661e6ed6fd6b5ac15377e3eb'), ObjectId('661e6ed6fd6b5ac15377e3ec'), ObjectId('661e6ed6fd6b5ac15377e3ed'), ObjectId('661e6ed6fd6b5ac15377e3ee'), ObjectId('661e6ed6fd6b5ac15377e3ef'), ObjectId('661e6ed6fd6b5ac15377e3f0'), ObjectId('661e6ed6fd6b5ac15377e3f1'), ObjectId('661e6ed6fd6b5ac15377e3f2'), ObjectId('661e6ed6fd6b5ac15377e3f3'), ObjectId('661e6ed6fd6b5ac15377e3f4'), ObjectId('661e6ed6fd6b5ac15377e3f5'), ObjectId('661e6ed6fd6b5ac15377e3f6'), ObjectId('661e6ed6fd6b5ac15377e3f7'), ObjectId('661e6ed6fd6b5ac15377e3f8'), ObjectId('661e6ed6fd6b5ac15377e3f9'), ObjectId('661e6ed6fd6b5ac15377e3fa'), ObjectId('661e6ed6fd6b5ac15377e3fb'), ObjectId('661e6ed6fd6b5ac15377e3fc'), ObjectId('661e6ed6fd6b5ac15377e3fd'), ObjectId('661e6ed6fd6b5ac15377e3fe'), ObjectId('661e6ed6fd6b5ac15377e3ff'), ObjectId('661e6ed6fd6b5ac15377e400'), ObjectId('661e6ed6fd6b5ac15377e401'), ObjectId('661e6ed6fd6b5ac15377e402'), ObjectId('661e6ed6fd6b5ac15377e403'), ObjectId('661e6ed6fd6b5ac15377e404'), ObjectId('661e6ed6fd6b5ac15377e405'), ObjectId('661e6ed6fd6b5ac15377e406'), ObjectId('661e6ed6fd6b5ac15377e407'), ObjectId('661e6ed6fd6b5ac15377e408'), ObjectId('661e6ed6fd6b5ac15377e409'), ObjectId('661e6ed6fd6b5ac15377e40a'), ObjectId('661e6ed6fd6b5ac15377e40b'), ObjectId('661e6ed6fd6b5ac15377e40c'), ObjectId('661e6ed6fd6b5ac15377e40d'), ObjectId('661e6ed6fd6b5ac15377e40e'), ObjectId('661e6ed6fd6b5ac15377e40f'), ObjectId('661e6ed6fd6b5ac15377e410'), ObjectId('661e6ed6fd6b5ac15377e411'), ObjectId('661e6ed6fd6b5ac15377e412'), ObjectId('661e6ed6fd6b5ac15377e413'), ObjectId('661e6ed6fd6b5ac15377e414'), ObjectId('661e6ed6fd6b5ac15377e415'), ObjectId('661e6ed6fd6b5ac15377e416'), ObjectId('661e6ed6fd6b5ac15377e417'), ObjectId('661e6ed6fd6b5ac15377e418'), ObjectId('661e6ed6fd6b5ac15377e419'), ObjectId('661e6ed6fd6b5ac15377e41a'), ObjectId('661e6ed6fd6b5ac15377e41b'), ObjectId('661e6ed6fd6b5ac15377e41c'), ObjectId('661e6ed6fd6b5ac15377e41d'), ObjectId('661e6ed6fd6b5ac15377e41e'), ObjectId('661e6ed6fd6b5ac15377e41f'), ObjectId('661e6ed6fd6b5ac15377e420'), ObjectId('661e6ed6fd6b5ac15377e421'), ObjectId('661e6ed6fd6b5ac15377e422'), ObjectId('661e6ed6fd6b5ac15377e423'), ObjectId('661e6ed6fd6b5ac15377e424'), ObjectId('661e6ed6fd6b5ac15377e425'), ObjectId('661e6ed6fd6b5ac15377e426'), ObjectId('661e6ed6fd6b5ac15377e427'), ObjectId('661e6ed6fd6b5ac15377e428'), ObjectId('661e6ed6fd6b5ac15377e429'), ObjectId('661e6ed6fd6b5ac15377e42a'), ObjectId('661e6ed6fd6b5ac15377e42b'), ObjectId('661e6ed6fd6b5ac15377e42c'), ObjectId('661e6ed6fd6b5ac15377e42d'), ObjectId('661e6ed6fd6b5ac15377e42e'), ObjectId('661e6ed6fd6b5ac15377e42f'), ObjectId('661e6ed6fd6b5ac15377e430'), ObjectId('661e6ed6fd6b5ac15377e431'), ObjectId('661e6ed6fd6b5ac15377e432'), ObjectId('661e6ed6fd6b5ac15377e433'), ObjectId('661e6ed6fd6b5ac15377e434'), ObjectId('661e6ed6fd6b5ac15377e435'), ObjectId('661e6ed6fd6b5ac15377e436'), ObjectId('661e6ed6fd6b5ac15377e437'), ObjectId('661e6ed6fd6b5ac15377e438'), ObjectId('661e6ed6fd6b5ac15377e439'), ObjectId('661e6ed6fd6b5ac15377e43a'), ObjectId('661e6ed6fd6b5ac15377e43b'), ObjectId('661e6ed6fd6b5ac15377e43c'), ObjectId('661e6ed6fd6b5ac15377e43d'), ObjectId('661e6ed6fd6b5ac15377e43e'), ObjectId('661e6ed6fd6b5ac15377e43f'), ObjectId('661e6ed6fd6b5ac15377e440'), ObjectId('661e6ed6fd6b5ac15377e441'), ObjectId('661e6ed6fd6b5ac15377e442'), ObjectId('661e6ed6fd6b5ac15377e443'), ObjectId('661e6ed6fd6b5ac15377e444'), ObjectId('661e6ed6fd6b5ac15377e445'), ObjectId('661e6ed6fd6b5ac15377e446'), ObjectId('661e6ed6fd6b5ac15377e447'), ObjectId('661e6ed6fd6b5ac15377e448'), ObjectId('661e6ed6fd6b5ac15377e449'), ObjectId('661e6ed6fd6b5ac15377e44a'), ObjectId('661e6ed6fd6b5ac15377e44b'), ObjectId('661e6ed6fd6b5ac15377e44c'), ObjectId('661e6ed6fd6b5ac15377e44d'), ObjectId('661e6ed6fd6b5ac15377e44e'), ObjectId('661e6ed6fd6b5ac15377e44f'), ObjectId('661e6ed6fd6b5ac15377e450'), ObjectId('661e6ed6fd6b5ac15377e451'), ObjectId('661e6ed6fd6b5ac15377e452'), ObjectId('661e6ed6fd6b5ac15377e453'), ObjectId('661e6ed6fd6b5ac15377e454'), ObjectId('661e6ed6fd6b5ac15377e455'), ObjectId('661e6ed6fd6b5ac15377e456'), ObjectId('661e6ed6fd6b5ac15377e457'), ObjectId('661e6ed6fd6b5ac15377e458'), ObjectId('661e6ed6fd6b5ac15377e459'), ObjectId('661e6ed6fd6b5ac15377e45a'), ObjectId('661e6ed6fd6b5ac15377e45b'), ObjectId('661e6ed6fd6b5ac15377e45c'), ObjectId('661e6ed6fd6b5ac15377e45d'), ObjectId('661e6ed6fd6b5ac15377e45e'), ObjectId('661e6ed6fd6b5ac15377e45f'), ObjectId('661e6ed6fd6b5ac15377e460'), ObjectId('661e6ed6fd6b5ac15377e461'), ObjectId('661e6ed6fd6b5ac15377e462'), ObjectId('661e6ed6fd6b5ac15377e463'), ObjectId('661e6ed6fd6b5ac15377e464'), ObjectId('661e6ed6fd6b5ac15377e465'), ObjectId('661e6ed6fd6b5ac15377e466'), ObjectId('661e6ed6fd6b5ac15377e467'), ObjectId('661e6ed6fd6b5ac15377e468'), ObjectId('661e6ed6fd6b5ac15377e469'), ObjectId('661e6ed6fd6b5ac15377e46a'), ObjectId('661e6ed6fd6b5ac15377e46b'), ObjectId('661e6ed6fd6b5ac15377e46c'), ObjectId('661e6ed6fd6b5ac15377e46d'), ObjectId('661e6ed6fd6b5ac15377e46e'), ObjectId('661e6ed6fd6b5ac15377e46f'), ObjectId('661e6ed6fd6b5ac15377e470'), ObjectId('661e6ed6fd6b5ac15377e471'), ObjectId('661e6ed6fd6b5ac15377e472'), ObjectId('661e6ed6fd6b5ac15377e473'), ObjectId('661e6ed6fd6b5ac15377e474'), ObjectId('661e6ed6fd6b5ac15377e475'), ObjectId('661e6ed6fd6b5ac15377e476'), ObjectId('661e6ed6fd6b5ac15377e477'), ObjectId('661e6ed6fd6b5ac15377e478'), ObjectId('661e6ed6fd6b5ac15377e479'), ObjectId('661e6ed6fd6b5ac15377e47a'), ObjectId('661e6ed6fd6b5ac15377e47b'), ObjectId('661e6ed6fd6b5ac15377e47c'), ObjectId('661e6ed6fd6b5ac15377e47d'), ObjectId('661e6ed6fd6b5ac15377e47e'), ObjectId('661e6ed6fd6b5ac15377e47f'), ObjectId('661e6ed6fd6b5ac15377e480'), ObjectId('661e6ed6fd6b5ac15377e481'), ObjectId('661e6ed6fd6b5ac15377e482'), ObjectId('661e6ed6fd6b5ac15377e483'), ObjectId('661e6ed6fd6b5ac15377e484'), ObjectId('661e6ed6fd6b5ac15377e485'), ObjectId('661e6ed6fd6b5ac15377e486'), ObjectId('661e6ed6fd6b5ac15377e487'), ObjectId('661e6ed6fd6b5ac15377e488'), ObjectId('661e6ed6fd6b5ac15377e489'), ObjectId('661e6ed6fd6b5ac15377e48a'), ObjectId('661e6ed6fd6b5ac15377e48b'), ObjectId('661e6ed6fd6b5ac15377e48c'), ObjectId('661e6ed6fd6b5ac15377e48d'), ObjectId('661e6ed6fd6b5ac15377e48e'), ObjectId('661e6ed6fd6b5ac15377e48f'), ObjectId('661e6ed6fd6b5ac15377e490'), ObjectId('661e6ed6fd6b5ac15377e491'), ObjectId('661e6ed6fd6b5ac15377e492'), ObjectId('661e6ed6fd6b5ac15377e493'), ObjectId('661e6ed6fd6b5ac15377e494'), ObjectId('661e6ed6fd6b5ac15377e495'), ObjectId('661e6ed6fd6b5ac15377e496'), ObjectId('661e6ed6fd6b5ac15377e497'), ObjectId('661e6ed6fd6b5ac15377e498'), ObjectId('661e6ed6fd6b5ac15377e499'), ObjectId('661e6ed6fd6b5ac15377e49a'), ObjectId('661e6ed6fd6b5ac15377e49b'), ObjectId('661e6ed6fd6b5ac15377e49c'), ObjectId('661e6ed6fd6b5ac15377e49d'), ObjectId('661e6ed6fd6b5ac15377e49e'), ObjectId('661e6ed6fd6b5ac15377e49f'), ObjectId('661e6ed6fd6b5ac15377e4a0'), ObjectId('661e6ed6fd6b5ac15377e4a1'), ObjectId('661e6ed6fd6b5ac15377e4a2'), ObjectId('661e6ed6fd6b5ac15377e4a3'), ObjectId('661e6ed6fd6b5ac15377e4a4'), ObjectId('661e6ed6fd6b5ac15377e4a5'), ObjectId('661e6ed6fd6b5ac15377e4a6'), ObjectId('661e6ed6fd6b5ac15377e4a7'), ObjectId('661e6ed6fd6b5ac15377e4a8'), ObjectId('661e6ed6fd6b5ac15377e4a9'), ObjectId('661e6ed6fd6b5ac15377e4aa'), ObjectId('661e6ed6fd6b5ac15377e4ab'), ObjectId('661e6ed6fd6b5ac15377e4ac'), ObjectId('661e6ed6fd6b5ac15377e4ad'), ObjectId('661e6ed6fd6b5ac15377e4ae'), ObjectId('661e6ed6fd6b5ac15377e4af'), ObjectId('661e6ed6fd6b5ac15377e4b0'), ObjectId('661e6ed6fd6b5ac15377e4b1'), ObjectId('661e6ed6fd6b5ac15377e4b2'), ObjectId('661e6ed6fd6b5ac15377e4b3'), ObjectId('661e6ed6fd6b5ac15377e4b4'), ObjectId('661e6ed6fd6b5ac15377e4b5'), ObjectId('661e6ed6fd6b5ac15377e4b6'), ObjectId('661e6ed6fd6b5ac15377e4b7'), ObjectId('661e6ed6fd6b5ac15377e4b8'), ObjectId('661e6ed6fd6b5ac15377e4b9'), ObjectId('661e6ed6fd6b5ac15377e4ba'), ObjectId('661e6ed6fd6b5ac15377e4bb'), ObjectId('661e6ed6fd6b5ac15377e4bc'), ObjectId('661e6ed6fd6b5ac15377e4bd'), ObjectId('661e6ed6fd6b5ac15377e4be'), ObjectId('661e6ed6fd6b5ac15377e4bf'), ObjectId('661e6ed6fd6b5ac15377e4c0'), ObjectId('661e6ed6fd6b5ac15377e4c1'), ObjectId('661e6ed6fd6b5ac15377e4c2'), ObjectId('661e6ed6fd6b5ac15377e4c3'), ObjectId('661e6ed6fd6b5ac15377e4c4'), ObjectId('661e6ed6fd6b5ac15377e4c5'), ObjectId('661e6ed6fd6b5ac15377e4c6'), ObjectId('661e6ed6fd6b5ac15377e4c7'), ObjectId('661e6ed6fd6b5ac15377e4c8'), ObjectId('661e6ed6fd6b5ac15377e4c9'), ObjectId('661e6ed6fd6b5ac15377e4ca'), ObjectId('661e6ed6fd6b5ac15377e4cb'), ObjectId('661e6ed6fd6b5ac15377e4cc'), ObjectId('661e6ed6fd6b5ac15377e4cd'), ObjectId('661e6ed6fd6b5ac15377e4ce'), ObjectId('661e6ed6fd6b5ac15377e4cf'), ObjectId('661e6ed6fd6b5ac15377e4d0'), ObjectId('661e6ed6fd6b5ac15377e4d1'), ObjectId('661e6ed6fd6b5ac15377e4d2'), ObjectId('661e6ed6fd6b5ac15377e4d3'), ObjectId('661e6ed6fd6b5ac15377e4d4'), ObjectId('661e6ed6fd6b5ac15377e4d5'), ObjectId('661e6ed6fd6b5ac15377e4d6'), ObjectId('661e6ed6fd6b5ac15377e4d7'), ObjectId('661e6ed6fd6b5ac15377e4d8'), ObjectId('661e6ed6fd6b5ac15377e4d9'), ObjectId('661e6ed6fd6b5ac15377e4da'), ObjectId('661e6ed6fd6b5ac15377e4db'), ObjectId('661e6ed6fd6b5ac15377e4dc'), ObjectId('661e6ed6fd6b5ac15377e4dd'), ObjectId('661e6ed6fd6b5ac15377e4de'), ObjectId('661e6ed6fd6b5ac15377e4df'), ObjectId('661e6ed6fd6b5ac15377e4e0'), ObjectId('661e6ed6fd6b5ac15377e4e1'), ObjectId('661e6ed6fd6b5ac15377e4e2'), ObjectId('661e6ed6fd6b5ac15377e4e3'), ObjectId('661e6ed6fd6b5ac15377e4e4'), ObjectId('661e6ed6fd6b5ac15377e4e5'), ObjectId('661e6ed6fd6b5ac15377e4e6'), ObjectId('661e6ed6fd6b5ac15377e4e7'), ObjectId('661e6ed6fd6b5ac15377e4e8'), ObjectId('661e6ed6fd6b5ac15377e4e9'), ObjectId('661e6ed6fd6b5ac15377e4ea'), ObjectId('661e6ed6fd6b5ac15377e4eb'), ObjectId('661e6ed6fd6b5ac15377e4ec'), ObjectId('661e6ed6fd6b5ac15377e4ed'), ObjectId('661e6ed6fd6b5ac15377e4ee'), ObjectId('661e6ed6fd6b5ac15377e4ef'), ObjectId('661e6ed6fd6b5ac15377e4f0'), ObjectId('661e6ed6fd6b5ac15377e4f1'), ObjectId('661e6ed6fd6b5ac15377e4f2'), ObjectId('661e6ed6fd6b5ac15377e4f3'), ObjectId('661e6ed6fd6b5ac15377e4f4'), ObjectId('661e6ed6fd6b5ac15377e4f5'), ObjectId('661e6ed6fd6b5ac15377e4f6'), ObjectId('661e6ed6fd6b5ac15377e4f7'), ObjectId('661e6ed6fd6b5ac15377e4f8'), ObjectId('661e6ed6fd6b5ac15377e4f9'), ObjectId('661e6ed6fd6b5ac15377e4fa'), ObjectId('661e6ed6fd6b5ac15377e4fb'), ObjectId('661e6ed6fd6b5ac15377e4fc'), ObjectId('661e6ed6fd6b5ac15377e4fd'), ObjectId('661e6ed6fd6b5ac15377e4fe'), ObjectId('661e6ed6fd6b5ac15377e4ff'), ObjectId('661e6ed6fd6b5ac15377e500'), ObjectId('661e6ed6fd6b5ac15377e501'), ObjectId('661e6ed6fd6b5ac15377e502'), ObjectId('661e6ed6fd6b5ac15377e503'), ObjectId('661e6ed6fd6b5ac15377e504'), ObjectId('661e6ed6fd6b5ac15377e505'), ObjectId('661e6ed6fd6b5ac15377e506'), ObjectId('661e6ed6fd6b5ac15377e507'), ObjectId('661e6ed6fd6b5ac15377e508'), ObjectId('661e6ed6fd6b5ac15377e509'), ObjectId('661e6ed6fd6b5ac15377e50a'), ObjectId('661e6ed6fd6b5ac15377e50b'), ObjectId('661e6ed6fd6b5ac15377e50c'), ObjectId('661e6ed6fd6b5ac15377e50d'), ObjectId('661e6ed6fd6b5ac15377e50e'), ObjectId('661e6ed6fd6b5ac15377e50f'), ObjectId('661e6ed6fd6b5ac15377e510'), ObjectId('661e6ed6fd6b5ac15377e511'), ObjectId('661e6ed6fd6b5ac15377e512'), ObjectId('661e6ed6fd6b5ac15377e513'), ObjectId('661e6ed6fd6b5ac15377e514'), ObjectId('661e6ed6fd6b5ac15377e515'), ObjectId('661e6ed6fd6b5ac15377e516'), ObjectId('661e6ed6fd6b5ac15377e517'), ObjectId('661e6ed6fd6b5ac15377e518'), ObjectId('661e6ed6fd6b5ac15377e519'), ObjectId('661e6ed6fd6b5ac15377e51a'), ObjectId('661e6ed6fd6b5ac15377e51b'), ObjectId('661e6ed6fd6b5ac15377e51c'), ObjectId('661e6ed6fd6b5ac15377e51d'), ObjectId('661e6ed6fd6b5ac15377e51e'), ObjectId('661e6ed6fd6b5ac15377e51f'), ObjectId('661e6ed6fd6b5ac15377e520'), ObjectId('661e6ed6fd6b5ac15377e521'), ObjectId('661e6ed6fd6b5ac15377e522'), ObjectId('661e6ed6fd6b5ac15377e523'), ObjectId('661e6ed6fd6b5ac15377e524'), ObjectId('661e6ed6fd6b5ac15377e525'), ObjectId('661e6ed6fd6b5ac15377e526'), ObjectId('661e6ed6fd6b5ac15377e527'), ObjectId('661e6ed6fd6b5ac15377e528'), ObjectId('661e6ed6fd6b5ac15377e529'), ObjectId('661e6ed6fd6b5ac15377e52a'), ObjectId('661e6ed6fd6b5ac15377e52b'), ObjectId('661e6ed6fd6b5ac15377e52c'), ObjectId('661e6ed6fd6b5ac15377e52d'), ObjectId('661e6ed6fd6b5ac15377e52e'), ObjectId('661e6ed6fd6b5ac15377e52f'), ObjectId('661e6ed6fd6b5ac15377e530'), ObjectId('661e6ed6fd6b5ac15377e531'), ObjectId('661e6ed6fd6b5ac15377e532'), ObjectId('661e6ed6fd6b5ac15377e533'), ObjectId('661e6ed6fd6b5ac15377e534'), ObjectId('661e6ed6fd6b5ac15377e535'), ObjectId('661e6ed6fd6b5ac15377e536'), ObjectId('661e6ed6fd6b5ac15377e537'), ObjectId('661e6ed6fd6b5ac15377e538'), ObjectId('661e6ed6fd6b5ac15377e539'), ObjectId('661e6ed6fd6b5ac15377e53a'), ObjectId('661e6ed6fd6b5ac15377e53b'), ObjectId('661e6ed6fd6b5ac15377e53c'), ObjectId('661e6ed6fd6b5ac15377e53d'), ObjectId('661e6ed6fd6b5ac15377e53e'), ObjectId('661e6ed6fd6b5ac15377e53f'), ObjectId('661e6ed6fd6b5ac15377e540'), ObjectId('661e6ed6fd6b5ac15377e541'), ObjectId('661e6ed6fd6b5ac15377e542'), ObjectId('661e6ed6fd6b5ac15377e543'), ObjectId('661e6ed6fd6b5ac15377e544'), ObjectId('661e6ed6fd6b5ac15377e545'), ObjectId('661e6ed6fd6b5ac15377e546'), ObjectId('661e6ed6fd6b5ac15377e547'), ObjectId('661e6ed6fd6b5ac15377e548'), ObjectId('661e6ed6fd6b5ac15377e549'), ObjectId('661e6ed6fd6b5ac15377e54a'), ObjectId('661e6ed6fd6b5ac15377e54b'), ObjectId('661e6ed6fd6b5ac15377e54c'), ObjectId('661e6ed6fd6b5ac15377e54d'), ObjectId('661e6ed6fd6b5ac15377e54e'), ObjectId('661e6ed6fd6b5ac15377e54f'), ObjectId('661e6ed6fd6b5ac15377e550'), ObjectId('661e6ed6fd6b5ac15377e551'), ObjectId('661e6ed6fd6b5ac15377e552'), ObjectId('661e6ed6fd6b5ac15377e553'), ObjectId('661e6ed6fd6b5ac15377e554'), ObjectId('661e6ed6fd6b5ac15377e555'), ObjectId('661e6ed6fd6b5ac15377e556'), ObjectId('661e6ed6fd6b5ac15377e557'), ObjectId('661e6ed6fd6b5ac15377e558'), ObjectId('661e6ed6fd6b5ac15377e559'), ObjectId('661e6ed6fd6b5ac15377e55a'), ObjectId('661e6ed6fd6b5ac15377e55b'), ObjectId('661e6ed6fd6b5ac15377e55c'), ObjectId('661e6ed6fd6b5ac15377e55d'), ObjectId('661e6ed6fd6b5ac15377e55e'), ObjectId('661e6ed6fd6b5ac15377e55f'), ObjectId('661e6ed6fd6b5ac15377e560'), ObjectId('661e6ed6fd6b5ac15377e561'), ObjectId('661e6ed6fd6b5ac15377e562'), ObjectId('661e6ed6fd6b5ac15377e563'), ObjectId('661e6ed6fd6b5ac15377e564'), ObjectId('661e6ed6fd6b5ac15377e565')], acknowledged=True)"
      ]
     },
     "execution_count": 15,
     "metadata": {},
     "output_type": "execute_result"
    }
   ],
   "source": [
    "dbname = get_database()\n",
    "\n",
    "collection_name = dbname[\"detailed_work_activities\"]\n",
    "\n",
    "# Insert the dictionaries into the MongoDB collection\n",
    "collection_name.insert_many(detailed_work_activities_df.to_dict(\"records\"))"
   ]
  },
  {
   "cell_type": "code",
   "execution_count": 16,
   "metadata": {},
   "outputs": [
    {
     "data": {
      "text/html": [
       "<div>\n",
       "<style scoped>\n",
       "    .dataframe tbody tr th:only-of-type {\n",
       "        vertical-align: middle;\n",
       "    }\n",
       "\n",
       "    .dataframe tbody tr th {\n",
       "        vertical-align: top;\n",
       "    }\n",
       "\n",
       "    .dataframe thead th {\n",
       "        text-align: right;\n",
       "    }\n",
       "</style>\n",
       "<table border=\"1\" class=\"dataframe\">\n",
       "  <thead>\n",
       "    <tr style=\"text-align: right;\">\n",
       "      <th></th>\n",
       "      <th>id</th>\n",
       "      <th>name</th>\n",
       "      <th>description</th>\n",
       "      <th>work_context_id</th>\n",
       "    </tr>\n",
       "  </thead>\n",
       "  <tbody>\n",
       "    <tr>\n",
       "      <th>0</th>\n",
       "      <td>4.C.1.b.1.e</td>\n",
       "      <td>Work With Work Group or Team</td>\n",
       "      <td>How important is it to work with others in a g...</td>\n",
       "      <td>1</td>\n",
       "    </tr>\n",
       "    <tr>\n",
       "      <th>1</th>\n",
       "      <td>4.C.2.a.3</td>\n",
       "      <td>Physical Proximity</td>\n",
       "      <td>To what extent does this job require the worke...</td>\n",
       "      <td>2</td>\n",
       "    </tr>\n",
       "    <tr>\n",
       "      <th>2</th>\n",
       "      <td>4.C.1.a.4</td>\n",
       "      <td>Contact With Others</td>\n",
       "      <td>How much does this job require the worker to b...</td>\n",
       "      <td>3</td>\n",
       "    </tr>\n",
       "  </tbody>\n",
       "</table>\n",
       "</div>"
      ],
      "text/plain": [
       "            id                          name  \\\n",
       "0  4.C.1.b.1.e  Work With Work Group or Team   \n",
       "1    4.C.2.a.3            Physical Proximity   \n",
       "2    4.C.1.a.4           Contact With Others   \n",
       "\n",
       "                                         description  work_context_id  \n",
       "0  How important is it to work with others in a g...                1  \n",
       "1  To what extent does this job require the worke...                2  \n",
       "2  How much does this job require the worker to b...                3  "
      ]
     },
     "execution_count": 16,
     "metadata": {},
     "output_type": "execute_result"
    }
   ],
   "source": [
    "# Assuming df[\"work_context\"] is a column of lists of dictionaries\n",
    "work_context = df['work_context'].apply(lambda x: x['element']).explode().reset_index(drop=True)\n",
    "\n",
    "# Convert the list of dictionaries into a DataFrame\n",
    "work_context_df = pd.json_normalize(work_context)\n",
    "\n",
    "# Drop duplicates based on 'id'\n",
    "work_context_df = work_context_df.drop_duplicates(subset='id')\n",
    "\n",
    "# Reset the index\n",
    "work_context_df = work_context_df.reset_index(drop=True)\n",
    "\n",
    "work_context_df = work_context_df.dropna()\n",
    "work_context_df = work_context_df.drop(columns=[\"related\", \"response\"])\n",
    "\n",
    "work_context_df['work_context_id'] = range(1, len(work_context_df) + 1)\n",
    "\n",
    "work_context_df.head(3)"
   ]
  },
  {
   "cell_type": "code",
   "execution_count": 17,
   "metadata": {},
   "outputs": [
    {
     "data": {
      "text/plain": [
       "InsertManyResult([ObjectId('661e6ed8fd6b5ac15377e567'), ObjectId('661e6ed8fd6b5ac15377e568'), ObjectId('661e6ed8fd6b5ac15377e569'), ObjectId('661e6ed8fd6b5ac15377e56a'), ObjectId('661e6ed8fd6b5ac15377e56b'), ObjectId('661e6ed8fd6b5ac15377e56c'), ObjectId('661e6ed8fd6b5ac15377e56d'), ObjectId('661e6ed8fd6b5ac15377e56e'), ObjectId('661e6ed8fd6b5ac15377e56f'), ObjectId('661e6ed8fd6b5ac15377e570'), ObjectId('661e6ed8fd6b5ac15377e571'), ObjectId('661e6ed8fd6b5ac15377e572'), ObjectId('661e6ed8fd6b5ac15377e573'), ObjectId('661e6ed8fd6b5ac15377e574'), ObjectId('661e6ed8fd6b5ac15377e575'), ObjectId('661e6ed8fd6b5ac15377e576'), ObjectId('661e6ed8fd6b5ac15377e577'), ObjectId('661e6ed8fd6b5ac15377e578'), ObjectId('661e6ed8fd6b5ac15377e579'), ObjectId('661e6ed8fd6b5ac15377e57a'), ObjectId('661e6ed8fd6b5ac15377e57b'), ObjectId('661e6ed8fd6b5ac15377e57c'), ObjectId('661e6ed8fd6b5ac15377e57d'), ObjectId('661e6ed8fd6b5ac15377e57e'), ObjectId('661e6ed8fd6b5ac15377e57f'), ObjectId('661e6ed8fd6b5ac15377e580'), ObjectId('661e6ed8fd6b5ac15377e581'), ObjectId('661e6ed8fd6b5ac15377e582'), ObjectId('661e6ed8fd6b5ac15377e583'), ObjectId('661e6ed8fd6b5ac15377e584'), ObjectId('661e6ed8fd6b5ac15377e585'), ObjectId('661e6ed8fd6b5ac15377e586'), ObjectId('661e6ed8fd6b5ac15377e587'), ObjectId('661e6ed8fd6b5ac15377e588'), ObjectId('661e6ed8fd6b5ac15377e589'), ObjectId('661e6ed8fd6b5ac15377e58a'), ObjectId('661e6ed8fd6b5ac15377e58b'), ObjectId('661e6ed8fd6b5ac15377e58c'), ObjectId('661e6ed8fd6b5ac15377e58d'), ObjectId('661e6ed8fd6b5ac15377e58e'), ObjectId('661e6ed8fd6b5ac15377e58f'), ObjectId('661e6ed8fd6b5ac15377e590'), ObjectId('661e6ed8fd6b5ac15377e591'), ObjectId('661e6ed8fd6b5ac15377e592'), ObjectId('661e6ed8fd6b5ac15377e593'), ObjectId('661e6ed8fd6b5ac15377e594'), ObjectId('661e6ed8fd6b5ac15377e595'), ObjectId('661e6ed8fd6b5ac15377e596'), ObjectId('661e6ed8fd6b5ac15377e597'), ObjectId('661e6ed8fd6b5ac15377e598')], acknowledged=True)"
      ]
     },
     "execution_count": 17,
     "metadata": {},
     "output_type": "execute_result"
    }
   ],
   "source": [
    "dbname = get_database()\n",
    "\n",
    "collection_name = dbname[\"work_context\"]\n",
    "\n",
    "# Insert the dictionaries into the MongoDB collection\n",
    "collection_name.insert_many(work_context_df.to_dict(\"records\"))"
   ]
  },
  {
   "cell_type": "code",
   "execution_count": 18,
   "metadata": {},
   "outputs": [
    {
     "data": {
      "text/html": [
       "<div>\n",
       "<style scoped>\n",
       "    .dataframe tbody tr th:only-of-type {\n",
       "        vertical-align: middle;\n",
       "    }\n",
       "\n",
       "    .dataframe tbody tr th {\n",
       "        vertical-align: top;\n",
       "    }\n",
       "\n",
       "    .dataframe thead th {\n",
       "        text-align: right;\n",
       "    }\n",
       "</style>\n",
       "<table border=\"1\" class=\"dataframe\">\n",
       "  <thead>\n",
       "    <tr style=\"text-align: right;\">\n",
       "      <th></th>\n",
       "      <th>id</th>\n",
       "      <th>name</th>\n",
       "      <th>description</th>\n",
       "      <th>work_style_id</th>\n",
       "    </tr>\n",
       "  </thead>\n",
       "  <tbody>\n",
       "    <tr>\n",
       "      <th>0</th>\n",
       "      <td>1.C.3.a</td>\n",
       "      <td>Cooperation</td>\n",
       "      <td>Job requires being pleasant with others on the...</td>\n",
       "      <td>1</td>\n",
       "    </tr>\n",
       "    <tr>\n",
       "      <th>1</th>\n",
       "      <td>1.C.1.b</td>\n",
       "      <td>Persistence</td>\n",
       "      <td>Job requires persistence in the face of obstac...</td>\n",
       "      <td>2</td>\n",
       "    </tr>\n",
       "    <tr>\n",
       "      <th>2</th>\n",
       "      <td>1.C.4.c</td>\n",
       "      <td>Adaptability/Flexibility</td>\n",
       "      <td>Job requires being open to change (positive or...</td>\n",
       "      <td>3</td>\n",
       "    </tr>\n",
       "  </tbody>\n",
       "</table>\n",
       "</div>"
      ],
      "text/plain": [
       "        id                      name  \\\n",
       "0  1.C.3.a               Cooperation   \n",
       "1  1.C.1.b               Persistence   \n",
       "2  1.C.4.c  Adaptability/Flexibility   \n",
       "\n",
       "                                         description  work_style_id  \n",
       "0  Job requires being pleasant with others on the...              1  \n",
       "1  Job requires persistence in the face of obstac...              2  \n",
       "2  Job requires being open to change (positive or...              3  "
      ]
     },
     "execution_count": 18,
     "metadata": {},
     "output_type": "execute_result"
    }
   ],
   "source": [
    "# Assuming df[\"work_styles\"] is a column of lists of dictionaries\n",
    "work_styles = df['work_styles'].apply(lambda x: x['element']).explode().reset_index(drop=True)\n",
    "\n",
    "# Convert the list of dictionaries into a DataFrame\n",
    "work_styles_df = pd.json_normalize(work_styles)\n",
    "\n",
    "# Drop duplicates based on 'id'\n",
    "work_styles_df = work_styles_df.drop_duplicates(subset='id')\n",
    "\n",
    "# Reset the index\n",
    "work_styles_df = work_styles_df.reset_index(drop=True)\n",
    "\n",
    "work_styles_df = work_styles_df.dropna()\n",
    "work_styles_df = work_styles_df.drop(columns=[\"related\"])\n",
    "\n",
    "work_styles_df['work_style_id'] = range(1, len(work_styles_df) + 1)\n",
    "\n",
    "work_styles_df.head(3)"
   ]
  },
  {
   "cell_type": "code",
   "execution_count": 19,
   "metadata": {},
   "outputs": [
    {
     "data": {
      "text/plain": [
       "InsertManyResult([ObjectId('661e6edafd6b5ac15377e59a'), ObjectId('661e6edafd6b5ac15377e59b'), ObjectId('661e6edafd6b5ac15377e59c'), ObjectId('661e6edafd6b5ac15377e59d'), ObjectId('661e6edafd6b5ac15377e59e'), ObjectId('661e6edafd6b5ac15377e59f'), ObjectId('661e6edafd6b5ac15377e5a0'), ObjectId('661e6edafd6b5ac15377e5a1'), ObjectId('661e6edafd6b5ac15377e5a2'), ObjectId('661e6edafd6b5ac15377e5a3'), ObjectId('661e6edafd6b5ac15377e5a4'), ObjectId('661e6edafd6b5ac15377e5a5'), ObjectId('661e6edafd6b5ac15377e5a6'), ObjectId('661e6edafd6b5ac15377e5a7'), ObjectId('661e6edafd6b5ac15377e5a8'), ObjectId('661e6edafd6b5ac15377e5a9')], acknowledged=True)"
      ]
     },
     "execution_count": 19,
     "metadata": {},
     "output_type": "execute_result"
    }
   ],
   "source": [
    "dbname = get_database()\n",
    "\n",
    "collection_name = dbname[\"work_styles\"]\n",
    "\n",
    "# Insert the dictionaries into the MongoDB collection\n",
    "collection_name.insert_many(work_styles_df.to_dict(\"records\"))"
   ]
  },
  {
   "cell_type": "code",
   "execution_count": 20,
   "metadata": {},
   "outputs": [
    {
     "data": {
      "text/html": [
       "<div>\n",
       "<style scoped>\n",
       "    .dataframe tbody tr th:only-of-type {\n",
       "        vertical-align: middle;\n",
       "    }\n",
       "\n",
       "    .dataframe tbody tr th {\n",
       "        vertical-align: top;\n",
       "    }\n",
       "\n",
       "    .dataframe thead th {\n",
       "        text-align: right;\n",
       "    }\n",
       "</style>\n",
       "<table border=\"1\" class=\"dataframe\">\n",
       "  <thead>\n",
       "    <tr style=\"text-align: right;\">\n",
       "      <th></th>\n",
       "      <th>id</th>\n",
       "      <th>name</th>\n",
       "      <th>description</th>\n",
       "      <th>work_value_id</th>\n",
       "    </tr>\n",
       "  </thead>\n",
       "  <tbody>\n",
       "    <tr>\n",
       "      <th>0</th>\n",
       "      <td>1.B.2.d</td>\n",
       "      <td>Relationships</td>\n",
       "      <td>Occupations that satisfy this work value allow...</td>\n",
       "      <td>1</td>\n",
       "    </tr>\n",
       "    <tr>\n",
       "      <th>1</th>\n",
       "      <td>1.B.2.a</td>\n",
       "      <td>Achievement</td>\n",
       "      <td>Occupations that satisfy this work value are r...</td>\n",
       "      <td>2</td>\n",
       "    </tr>\n",
       "    <tr>\n",
       "      <th>2</th>\n",
       "      <td>1.B.2.f</td>\n",
       "      <td>Independence</td>\n",
       "      <td>Occupations that satisfy this work value allow...</td>\n",
       "      <td>3</td>\n",
       "    </tr>\n",
       "  </tbody>\n",
       "</table>\n",
       "</div>"
      ],
      "text/plain": [
       "        id           name                                        description  \\\n",
       "0  1.B.2.d  Relationships  Occupations that satisfy this work value allow...   \n",
       "1  1.B.2.a    Achievement  Occupations that satisfy this work value are r...   \n",
       "2  1.B.2.f   Independence  Occupations that satisfy this work value allow...   \n",
       "\n",
       "   work_value_id  \n",
       "0              1  \n",
       "1              2  \n",
       "2              3  "
      ]
     },
     "execution_count": 20,
     "metadata": {},
     "output_type": "execute_result"
    }
   ],
   "source": [
    "# Assuming df[\"work_values\"] is a column of lists of dictionaries\n",
    "work_values = df['work_values'].apply(lambda x: x['element']).explode().reset_index(drop=True)\n",
    "\n",
    "# Convert the list of dictionaries into a DataFrame\n",
    "work_values_df = pd.json_normalize(work_values)\n",
    "\n",
    "# Drop duplicates based on 'id'\n",
    "work_values_df = work_values_df.drop_duplicates(subset='id')\n",
    "\n",
    "# Reset the index\n",
    "work_values_df = work_values_df.reset_index(drop=True)\n",
    "\n",
    "work_values_df = work_values_df.dropna()\n",
    "work_values_df = work_values_df.drop(columns=[\"related\"])\n",
    "\n",
    "work_values_df['work_value_id'] = range(1, len(work_values_df) + 1)\n",
    "\n",
    "work_values_df.head(3)"
   ]
  },
  {
   "cell_type": "code",
   "execution_count": 21,
   "metadata": {},
   "outputs": [
    {
     "data": {
      "text/plain": [
       "InsertManyResult([ObjectId('661e6edafd6b5ac15377e5ab'), ObjectId('661e6edafd6b5ac15377e5ac'), ObjectId('661e6edafd6b5ac15377e5ad'), ObjectId('661e6edafd6b5ac15377e5ae'), ObjectId('661e6edafd6b5ac15377e5af'), ObjectId('661e6edafd6b5ac15377e5b0')], acknowledged=True)"
      ]
     },
     "execution_count": 21,
     "metadata": {},
     "output_type": "execute_result"
    }
   ],
   "source": [
    "dbname = get_database()\n",
    "\n",
    "collection_name = dbname[\"work_values\"]\n",
    "\n",
    "# Insert the dictionaries into the MongoDB collection\n",
    "collection_name.insert_many(work_values_df.to_dict(\"records\"))"
   ]
  },
  {
   "cell_type": "code",
   "execution_count": 22,
   "metadata": {},
   "outputs": [
    {
     "data": {
      "text/html": [
       "<div>\n",
       "<style scoped>\n",
       "    .dataframe tbody tr th:only-of-type {\n",
       "        vertical-align: middle;\n",
       "    }\n",
       "\n",
       "    .dataframe tbody tr th {\n",
       "        vertical-align: top;\n",
       "    }\n",
       "\n",
       "    .dataframe thead th {\n",
       "        text-align: right;\n",
       "    }\n",
       "</style>\n",
       "<table border=\"1\" class=\"dataframe\">\n",
       "  <thead>\n",
       "    <tr style=\"text-align: right;\">\n",
       "      <th></th>\n",
       "      <th>value</th>\n",
       "      <th>title</th>\n",
       "      <th>education</th>\n",
       "      <th>related_experience</th>\n",
       "      <th>job_training</th>\n",
       "      <th>job_zone_examples</th>\n",
       "      <th>job_zone_id</th>\n",
       "    </tr>\n",
       "  </thead>\n",
       "  <tbody>\n",
       "    <tr>\n",
       "      <th>0</th>\n",
       "      <td>2</td>\n",
       "      <td>Job Zone Two: Some Preparation Needed</td>\n",
       "      <td>These occupations usually require a high schoo...</td>\n",
       "      <td>Some previous work-related skill, knowledge, o...</td>\n",
       "      <td>Employees in these occupations need anywhere f...</td>\n",
       "      <td>These occupations often involve using your kno...</td>\n",
       "      <td>1</td>\n",
       "    </tr>\n",
       "    <tr>\n",
       "      <th>1</th>\n",
       "      <td>4</td>\n",
       "      <td>Job Zone Four: Considerable Preparation Needed</td>\n",
       "      <td>Most of these occupations require a four-year ...</td>\n",
       "      <td>A considerable amount of work-related skill, k...</td>\n",
       "      <td>Employees in these occupations usually need se...</td>\n",
       "      <td>Many of these occupations involve coordinating...</td>\n",
       "      <td>2</td>\n",
       "    </tr>\n",
       "  </tbody>\n",
       "</table>\n",
       "</div>"
      ],
      "text/plain": [
       "   value                                           title  \\\n",
       "0      2           Job Zone Two: Some Preparation Needed   \n",
       "1      4  Job Zone Four: Considerable Preparation Needed   \n",
       "\n",
       "                                           education  \\\n",
       "0  These occupations usually require a high schoo...   \n",
       "1  Most of these occupations require a four-year ...   \n",
       "\n",
       "                                  related_experience  \\\n",
       "0  Some previous work-related skill, knowledge, o...   \n",
       "1  A considerable amount of work-related skill, k...   \n",
       "\n",
       "                                        job_training  \\\n",
       "0  Employees in these occupations need anywhere f...   \n",
       "1  Employees in these occupations usually need se...   \n",
       "\n",
       "                                   job_zone_examples  job_zone_id  \n",
       "0  These occupations often involve using your kno...            1  \n",
       "1  Many of these occupations involve coordinating...            2  "
      ]
     },
     "execution_count": 22,
     "metadata": {},
     "output_type": "execute_result"
    }
   ],
   "source": [
    "job_zone = pd.DataFrame(list(df[\"job_zone\"]))\n",
    "\n",
    "# Drop duplicates based on 'value'\n",
    "job_zone = job_zone.drop_duplicates(subset='value')\n",
    "job_zone = job_zone.dropna()\n",
    "job_zone = job_zone.drop(columns=[\"svp_range\"])\n",
    "\n",
    "job_zone['job_zone_id'] = range(1, len(job_zone) + 1)\n",
    "\n",
    "job_zone.head(2)"
   ]
  },
  {
   "cell_type": "code",
   "execution_count": 23,
   "metadata": {},
   "outputs": [
    {
     "data": {
      "text/plain": [
       "InsertManyResult([ObjectId('661e6edafd6b5ac15377e5b2'), ObjectId('661e6edafd6b5ac15377e5b3'), ObjectId('661e6edafd6b5ac15377e5b4'), ObjectId('661e6edafd6b5ac15377e5b5'), ObjectId('661e6edafd6b5ac15377e5b6')], acknowledged=True)"
      ]
     },
     "execution_count": 23,
     "metadata": {},
     "output_type": "execute_result"
    }
   ],
   "source": [
    "dbname = get_database()\n",
    "\n",
    "collection_name = dbname[\"job_zone\"]\n",
    "\n",
    "# Insert the dictionaries into the MongoDB collection\n",
    "collection_name.insert_many(job_zone.to_dict(\"records\"))"
   ]
  },
  {
   "cell_type": "code",
   "execution_count": 24,
   "metadata": {},
   "outputs": [
    {
     "data": {
      "text/html": [
       "<div>\n",
       "<style scoped>\n",
       "    .dataframe tbody tr th:only-of-type {\n",
       "        vertical-align: middle;\n",
       "    }\n",
       "\n",
       "    .dataframe tbody tr th {\n",
       "        vertical-align: top;\n",
       "    }\n",
       "\n",
       "    .dataframe thead th {\n",
       "        text-align: right;\n",
       "    }\n",
       "</style>\n",
       "<table border=\"1\" class=\"dataframe\">\n",
       "  <thead>\n",
       "    <tr style=\"text-align: right;\">\n",
       "      <th></th>\n",
       "      <th>name</th>\n",
       "      <th>education_id</th>\n",
       "    </tr>\n",
       "  </thead>\n",
       "  <tbody>\n",
       "    <tr>\n",
       "      <th>0</th>\n",
       "      <td>Less than high school diploma</td>\n",
       "      <td>1</td>\n",
       "    </tr>\n",
       "    <tr>\n",
       "      <th>1</th>\n",
       "      <td>Bachelor's degree</td>\n",
       "      <td>2</td>\n",
       "    </tr>\n",
       "    <tr>\n",
       "      <th>2</th>\n",
       "      <td>High school diploma or equivalent</td>\n",
       "      <td>3</td>\n",
       "    </tr>\n",
       "    <tr>\n",
       "      <th>4</th>\n",
       "      <td>Post-baccalaureate certificate</td>\n",
       "      <td>4</td>\n",
       "    </tr>\n",
       "    <tr>\n",
       "      <th>5</th>\n",
       "      <td>Professional degree</td>\n",
       "      <td>5</td>\n",
       "    </tr>\n",
       "  </tbody>\n",
       "</table>\n",
       "</div>"
      ],
      "text/plain": [
       "                                name  education_id\n",
       "0      Less than high school diploma             1\n",
       "1                  Bachelor's degree             2\n",
       "2  High school diploma or equivalent             3\n",
       "4     Post-baccalaureate certificate             4\n",
       "5                Professional degree             5"
      ]
     },
     "execution_count": 24,
     "metadata": {},
     "output_type": "execute_result"
    }
   ],
   "source": [
    "# Assuming df[\"work_values\"] is a column of lists of dictionaries\n",
    "education = df['education'].apply(lambda x: x['level_required']).apply(lambda x : x[\"category\"]).explode().reset_index(drop=True)\n",
    "\n",
    "# Convert the list of dictionaries into a DataFrame\n",
    "education_df = pd.json_normalize(education)\n",
    "\n",
    "# Drop duplicates based on 'name'\n",
    "education_df = education_df.drop_duplicates(subset='name')\n",
    "education_df = education_df.drop(columns=[\"score.scale\", \"score.value\", \"description\"])\n",
    "education_df = education_df.dropna()\n",
    "\n",
    "education_df['education_id'] = range(1, len(education_df) + 1)\n",
    "\n",
    "education_df.head(5)"
   ]
  },
  {
   "cell_type": "code",
   "execution_count": 25,
   "metadata": {},
   "outputs": [
    {
     "data": {
      "text/plain": [
       "InsertManyResult([ObjectId('661e6edbfd6b5ac15377e5b8'), ObjectId('661e6edbfd6b5ac15377e5b9'), ObjectId('661e6edbfd6b5ac15377e5ba'), ObjectId('661e6edbfd6b5ac15377e5bb'), ObjectId('661e6edbfd6b5ac15377e5bc'), ObjectId('661e6edbfd6b5ac15377e5bd'), ObjectId('661e6edbfd6b5ac15377e5be'), ObjectId('661e6edbfd6b5ac15377e5bf'), ObjectId('661e6edbfd6b5ac15377e5c0'), ObjectId('661e6edbfd6b5ac15377e5c1'), ObjectId('661e6edbfd6b5ac15377e5c2'), ObjectId('661e6edbfd6b5ac15377e5c3')], acknowledged=True)"
      ]
     },
     "execution_count": 25,
     "metadata": {},
     "output_type": "execute_result"
    }
   ],
   "source": [
    "dbname = get_database()\n",
    "\n",
    "collection_name = dbname[\"education\"]\n",
    "\n",
    "# Insert the dictionaries into the MongoDB collection\n",
    "collection_name.insert_many(education_df.to_dict(\"records\"))"
   ]
  }
 ],
 "metadata": {
  "kernelspec": {
   "display_name": "bachelorarbeit",
   "language": "python",
   "name": "python3"
  },
  "language_info": {
   "codemirror_mode": {
    "name": "ipython",
    "version": 3
   },
   "file_extension": ".py",
   "mimetype": "text/x-python",
   "name": "python",
   "nbconvert_exporter": "python",
   "pygments_lexer": "ipython3",
   "version": "3.11.8"
  }
 },
 "nbformat": 4,
 "nbformat_minor": 2
}
