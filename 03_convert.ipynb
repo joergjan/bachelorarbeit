{
 "cells": [
  {
   "cell_type": "markdown",
   "metadata": {},
   "source": [
    "### jupyter notebook to convert text to ids\n",
    "\n",
    "author: Jan Jörg\n",
    "date: 14.03.2024"
   ]
  },
  {
   "cell_type": "code",
   "execution_count": 53,
   "metadata": {},
   "outputs": [],
   "source": [
    "# imports\n",
    "import pandas as pd\n",
    "from db import get_database"
   ]
  },
  {
   "cell_type": "code",
   "execution_count": 54,
   "metadata": {},
   "outputs": [
    {
     "data": {
      "text/html": [
       "<div>\n",
       "<style scoped>\n",
       "    .dataframe tbody tr th:only-of-type {\n",
       "        vertical-align: middle;\n",
       "    }\n",
       "\n",
       "    .dataframe tbody tr th {\n",
       "        vertical-align: top;\n",
       "    }\n",
       "\n",
       "    .dataframe thead th {\n",
       "        text-align: right;\n",
       "    }\n",
       "</style>\n",
       "<table border=\"1\" class=\"dataframe\">\n",
       "  <thead>\n",
       "    <tr style=\"text-align: right;\">\n",
       "      <th></th>\n",
       "      <th>_id</th>\n",
       "      <th>onetsoc19</th>\n",
       "      <th>display</th>\n",
       "      <th>occupation</th>\n",
       "      <th>tasks</th>\n",
       "      <th>technology_skills</th>\n",
       "      <th>tools_used</th>\n",
       "      <th>tools_technology</th>\n",
       "      <th>knowledge</th>\n",
       "      <th>skills</th>\n",
       "      <th>...</th>\n",
       "      <th>job_zone</th>\n",
       "      <th>interests</th>\n",
       "      <th>work_styles</th>\n",
       "      <th>work_values</th>\n",
       "      <th>related_occupations</th>\n",
       "      <th>additional_information</th>\n",
       "      <th>education</th>\n",
       "      <th>2010soc</th>\n",
       "      <th>isco08</th>\n",
       "      <th>Name_de</th>\n",
       "    </tr>\n",
       "  </thead>\n",
       "  <tbody>\n",
       "    <tr>\n",
       "      <th>0</th>\n",
       "      <td>6620dfe3e366d70e7b9073fc</td>\n",
       "      <td>27-2011.00</td>\n",
       "      <td>long</td>\n",
       "      <td>{'code': '27-2011.00', 'title': 'Actors', 'tag...</td>\n",
       "      <td>{'task': [{'id': 7646, 'green': False, 'relate...</td>\n",
       "      <td>{'category': [{'related': 'https://services.on...</td>\n",
       "      <td>{'category': [{'related': 'https://services.on...</td>\n",
       "      <td>{'tools': {'category': [{'related': 'https://s...</td>\n",
       "      <td>{'element': [{'id': '2.C.7.c', 'related': 'htt...</td>\n",
       "      <td>{'element': [{'id': '2.A.1.a', 'related': 'htt...</td>\n",
       "      <td>...</td>\n",
       "      <td>{'value': 2, 'title': 'Job Zone Two: Some Prep...</td>\n",
       "      <td>{'element': [{'id': '1.B.1.c', 'related': 'htt...</td>\n",
       "      <td>{'element': [{'id': '1.C.3.a', 'related': 'htt...</td>\n",
       "      <td>{'element': [{'id': '1.B.2.d', 'related': 'htt...</td>\n",
       "      <td>{'occupation': [{'href': 'https://services.one...</td>\n",
       "      <td>{'source': [{'url': 'https://www.actorsequity....</td>\n",
       "      <td>{'level_required': {'category': [{'name': 'Les...</td>\n",
       "      <td>27-2011</td>\n",
       "      <td>2655</td>\n",
       "      <td>Schauspieler</td>\n",
       "    </tr>\n",
       "    <tr>\n",
       "      <th>1</th>\n",
       "      <td>6620dfe3e366d70e7b9073fd</td>\n",
       "      <td>15-2011.00</td>\n",
       "      <td>long</td>\n",
       "      <td>{'code': '15-2011.00', 'title': 'Actuaries', '...</td>\n",
       "      <td>{'task': [{'id': 3500, 'green': False, 'relate...</td>\n",
       "      <td>{'see_all': {'href': 'https://services.onetcen...</td>\n",
       "      <td>{'category': [{'related': 'https://services.on...</td>\n",
       "      <td>{'tools': {'category': [{'related': 'https://s...</td>\n",
       "      <td>{'element': [{'id': '2.C.4.a', 'related': 'htt...</td>\n",
       "      <td>{'element': [{'id': '2.A.2.a', 'related': 'htt...</td>\n",
       "      <td>...</td>\n",
       "      <td>{'value': 4, 'title': 'Job Zone Four: Consider...</td>\n",
       "      <td>{'element': [{'id': '1.B.1.f', 'related': 'htt...</td>\n",
       "      <td>{'element': [{'id': '1.C.7.b', 'related': 'htt...</td>\n",
       "      <td>{'element': [{'id': '1.B.2.b', 'related': 'htt...</td>\n",
       "      <td>{'occupation': [{'href': 'https://services.one...</td>\n",
       "      <td>{'source': [{'url': 'https://www.actuary.org/'...</td>\n",
       "      <td>{'level_required': {'category': [{'name': \"Bac...</td>\n",
       "      <td>15-2011</td>\n",
       "      <td>2120</td>\n",
       "      <td>Mathematiker, Aktuare und Statistiker</td>\n",
       "    </tr>\n",
       "  </tbody>\n",
       "</table>\n",
       "<p>2 rows × 24 columns</p>\n",
       "</div>"
      ],
      "text/plain": [
       "                        _id   onetsoc19 display  \\\n",
       "0  6620dfe3e366d70e7b9073fc  27-2011.00    long   \n",
       "1  6620dfe3e366d70e7b9073fd  15-2011.00    long   \n",
       "\n",
       "                                          occupation  \\\n",
       "0  {'code': '27-2011.00', 'title': 'Actors', 'tag...   \n",
       "1  {'code': '15-2011.00', 'title': 'Actuaries', '...   \n",
       "\n",
       "                                               tasks  \\\n",
       "0  {'task': [{'id': 7646, 'green': False, 'relate...   \n",
       "1  {'task': [{'id': 3500, 'green': False, 'relate...   \n",
       "\n",
       "                                   technology_skills  \\\n",
       "0  {'category': [{'related': 'https://services.on...   \n",
       "1  {'see_all': {'href': 'https://services.onetcen...   \n",
       "\n",
       "                                          tools_used  \\\n",
       "0  {'category': [{'related': 'https://services.on...   \n",
       "1  {'category': [{'related': 'https://services.on...   \n",
       "\n",
       "                                    tools_technology  \\\n",
       "0  {'tools': {'category': [{'related': 'https://s...   \n",
       "1  {'tools': {'category': [{'related': 'https://s...   \n",
       "\n",
       "                                           knowledge  \\\n",
       "0  {'element': [{'id': '2.C.7.c', 'related': 'htt...   \n",
       "1  {'element': [{'id': '2.C.4.a', 'related': 'htt...   \n",
       "\n",
       "                                              skills  ...  \\\n",
       "0  {'element': [{'id': '2.A.1.a', 'related': 'htt...  ...   \n",
       "1  {'element': [{'id': '2.A.2.a', 'related': 'htt...  ...   \n",
       "\n",
       "                                            job_zone  \\\n",
       "0  {'value': 2, 'title': 'Job Zone Two: Some Prep...   \n",
       "1  {'value': 4, 'title': 'Job Zone Four: Consider...   \n",
       "\n",
       "                                           interests  \\\n",
       "0  {'element': [{'id': '1.B.1.c', 'related': 'htt...   \n",
       "1  {'element': [{'id': '1.B.1.f', 'related': 'htt...   \n",
       "\n",
       "                                         work_styles  \\\n",
       "0  {'element': [{'id': '1.C.3.a', 'related': 'htt...   \n",
       "1  {'element': [{'id': '1.C.7.b', 'related': 'htt...   \n",
       "\n",
       "                                         work_values  \\\n",
       "0  {'element': [{'id': '1.B.2.d', 'related': 'htt...   \n",
       "1  {'element': [{'id': '1.B.2.b', 'related': 'htt...   \n",
       "\n",
       "                                 related_occupations  \\\n",
       "0  {'occupation': [{'href': 'https://services.one...   \n",
       "1  {'occupation': [{'href': 'https://services.one...   \n",
       "\n",
       "                              additional_information  \\\n",
       "0  {'source': [{'url': 'https://www.actorsequity....   \n",
       "1  {'source': [{'url': 'https://www.actuary.org/'...   \n",
       "\n",
       "                                           education  2010soc isco08  \\\n",
       "0  {'level_required': {'category': [{'name': 'Les...  27-2011   2655   \n",
       "1  {'level_required': {'category': [{'name': \"Bac...  15-2011   2120   \n",
       "\n",
       "                                 Name_de  \n",
       "0                           Schauspieler  \n",
       "1  Mathematiker, Aktuare und Statistiker  \n",
       "\n",
       "[2 rows x 24 columns]"
      ]
     },
     "execution_count": 54,
     "metadata": {},
     "output_type": "execute_result"
    }
   ],
   "source": [
    "dbname = get_database()\n",
    "collection = dbname[\"joined\"]\n",
    "\n",
    "documents = collection.find()\n",
    "df = pd.DataFrame(list(documents))\n",
    "\n",
    "df.head(2)"
   ]
  },
  {
   "cell_type": "code",
   "execution_count": 55,
   "metadata": {},
   "outputs": [],
   "source": [
    "skills = pd.DataFrame()\n",
    "abilities = pd.DataFrame()\n",
    "job_zone = pd.DataFrame()\n",
    "education = pd.DataFrame()"
   ]
  },
  {
   "cell_type": "code",
   "execution_count": 56,
   "metadata": {},
   "outputs": [
    {
     "data": {
      "text/html": [
       "<div>\n",
       "<style scoped>\n",
       "    .dataframe tbody tr th:only-of-type {\n",
       "        vertical-align: middle;\n",
       "    }\n",
       "\n",
       "    .dataframe tbody tr th {\n",
       "        vertical-align: top;\n",
       "    }\n",
       "\n",
       "    .dataframe thead th {\n",
       "        text-align: right;\n",
       "    }\n",
       "</style>\n",
       "<table border=\"1\" class=\"dataframe\">\n",
       "  <thead>\n",
       "    <tr style=\"text-align: right;\">\n",
       "      <th></th>\n",
       "      <th>id</th>\n",
       "      <th>name</th>\n",
       "      <th>description</th>\n",
       "      <th>skill_id</th>\n",
       "    </tr>\n",
       "  </thead>\n",
       "  <tbody>\n",
       "    <tr>\n",
       "      <th>0</th>\n",
       "      <td>2.A.1.a</td>\n",
       "      <td>Reading Comprehension</td>\n",
       "      <td>Understanding written sentences and paragraphs...</td>\n",
       "      <td>1</td>\n",
       "    </tr>\n",
       "    <tr>\n",
       "      <th>1</th>\n",
       "      <td>2.A.1.d</td>\n",
       "      <td>Speaking</td>\n",
       "      <td>Talking to others to convey information effect...</td>\n",
       "      <td>2</td>\n",
       "    </tr>\n",
       "    <tr>\n",
       "      <th>2</th>\n",
       "      <td>2.A.1.b</td>\n",
       "      <td>Active Listening</td>\n",
       "      <td>Giving full attention to what other people are...</td>\n",
       "      <td>3</td>\n",
       "    </tr>\n",
       "  </tbody>\n",
       "</table>\n",
       "</div>"
      ],
      "text/plain": [
       "        id                   name  \\\n",
       "0  2.A.1.a  Reading Comprehension   \n",
       "1  2.A.1.d               Speaking   \n",
       "2  2.A.1.b       Active Listening   \n",
       "\n",
       "                                         description  skill_id  \n",
       "0  Understanding written sentences and paragraphs...         1  \n",
       "1  Talking to others to convey information effect...         2  \n",
       "2  Giving full attention to what other people are...         3  "
      ]
     },
     "execution_count": 56,
     "metadata": {},
     "output_type": "execute_result"
    }
   ],
   "source": [
    "# Assuming df[\"skills\"] is a column of lists of dictionaries\n",
    "skills = df['skills'].apply(lambda x: x['element']).explode().reset_index(drop=True)\n",
    "\n",
    "# Convert the list of dictionaries into a DataFrame\n",
    "skills_df = pd.json_normalize(skills)\n",
    "\n",
    "# Drop duplicates based on 'id'\n",
    "skills_df = skills_df.drop_duplicates(subset='id')\n",
    "\n",
    "# Reset the index\n",
    "skills_df = skills_df.reset_index(drop=True)\n",
    "\n",
    "skills_df = skills_df.drop(columns=[\"related\", \"score.scale\", \"score.important\", \"score.value\"])\n",
    "\n",
    "skills_df['skill_id'] = range(1, len(skills_df) + 1)\n",
    "\n",
    "skills_df.head(3)"
   ]
  },
  {
   "cell_type": "code",
   "execution_count": 57,
   "metadata": {},
   "outputs": [
    {
     "data": {
      "text/plain": [
       "InsertManyResult([ObjectId('662553db621afd872127145b'), ObjectId('662553db621afd872127145c'), ObjectId('662553db621afd872127145d'), ObjectId('662553db621afd872127145e'), ObjectId('662553db621afd872127145f'), ObjectId('662553db621afd8721271460'), ObjectId('662553db621afd8721271461'), ObjectId('662553db621afd8721271462'), ObjectId('662553db621afd8721271463'), ObjectId('662553db621afd8721271464'), ObjectId('662553db621afd8721271465'), ObjectId('662553db621afd8721271466'), ObjectId('662553db621afd8721271467'), ObjectId('662553db621afd8721271468'), ObjectId('662553db621afd8721271469'), ObjectId('662553db621afd872127146a'), ObjectId('662553db621afd872127146b'), ObjectId('662553db621afd872127146c'), ObjectId('662553db621afd872127146d'), ObjectId('662553db621afd872127146e'), ObjectId('662553db621afd872127146f'), ObjectId('662553db621afd8721271470'), ObjectId('662553db621afd8721271471'), ObjectId('662553db621afd8721271472'), ObjectId('662553db621afd8721271473'), ObjectId('662553db621afd8721271474'), ObjectId('662553db621afd8721271475'), ObjectId('662553db621afd8721271476'), ObjectId('662553db621afd8721271477'), ObjectId('662553db621afd8721271478'), ObjectId('662553db621afd8721271479'), ObjectId('662553db621afd872127147a'), ObjectId('662553db621afd872127147b'), ObjectId('662553db621afd872127147c'), ObjectId('662553db621afd872127147d')], acknowledged=True)"
      ]
     },
     "execution_count": 57,
     "metadata": {},
     "output_type": "execute_result"
    }
   ],
   "source": [
    "dbname = get_database()\n",
    "\n",
    "collection_name = dbname[\"skills\"]\n",
    "\n",
    "# Insert the dictionaries into the MongoDB collection\n",
    "collection_name.insert_many(skills_df.to_dict(\"records\"))"
   ]
  },
  {
   "cell_type": "code",
   "execution_count": 58,
   "metadata": {},
   "outputs": [
    {
     "data": {
      "text/html": [
       "<div>\n",
       "<style scoped>\n",
       "    .dataframe tbody tr th:only-of-type {\n",
       "        vertical-align: middle;\n",
       "    }\n",
       "\n",
       "    .dataframe tbody tr th {\n",
       "        vertical-align: top;\n",
       "    }\n",
       "\n",
       "    .dataframe thead th {\n",
       "        text-align: right;\n",
       "    }\n",
       "</style>\n",
       "<table border=\"1\" class=\"dataframe\">\n",
       "  <thead>\n",
       "    <tr style=\"text-align: right;\">\n",
       "      <th></th>\n",
       "      <th>id</th>\n",
       "      <th>name</th>\n",
       "      <th>description</th>\n",
       "      <th>ability_id</th>\n",
       "    </tr>\n",
       "  </thead>\n",
       "  <tbody>\n",
       "    <tr>\n",
       "      <th>0</th>\n",
       "      <td>1.A.1.a.3</td>\n",
       "      <td>Oral Expression</td>\n",
       "      <td>The ability to communicate information and ide...</td>\n",
       "      <td>1</td>\n",
       "    </tr>\n",
       "    <tr>\n",
       "      <th>1</th>\n",
       "      <td>1.A.1.a.1</td>\n",
       "      <td>Oral Comprehension</td>\n",
       "      <td>The ability to listen to and understand inform...</td>\n",
       "      <td>2</td>\n",
       "    </tr>\n",
       "    <tr>\n",
       "      <th>2</th>\n",
       "      <td>1.A.1.d.1</td>\n",
       "      <td>Memorization</td>\n",
       "      <td>The ability to remember information such as wo...</td>\n",
       "      <td>3</td>\n",
       "    </tr>\n",
       "  </tbody>\n",
       "</table>\n",
       "</div>"
      ],
      "text/plain": [
       "          id                name  \\\n",
       "0  1.A.1.a.3     Oral Expression   \n",
       "1  1.A.1.a.1  Oral Comprehension   \n",
       "2  1.A.1.d.1        Memorization   \n",
       "\n",
       "                                         description  ability_id  \n",
       "0  The ability to communicate information and ide...           1  \n",
       "1  The ability to listen to and understand inform...           2  \n",
       "2  The ability to remember information such as wo...           3  "
      ]
     },
     "execution_count": 58,
     "metadata": {},
     "output_type": "execute_result"
    }
   ],
   "source": [
    "# Assuming df[\"abilities\"] is a column of lists of dictionaries\n",
    "abilities = df['abilities'].apply(lambda x: x['element']).explode().reset_index(drop=True)\n",
    "\n",
    "# Convert the list of dictionaries into a DataFrame\n",
    "abilities_df = pd.json_normalize(abilities)\n",
    "\n",
    "# Drop duplicates based on 'id'\n",
    "abilities_df = abilities_df.drop_duplicates(subset='id')\n",
    "\n",
    "# Reset the index\n",
    "abilities_df = abilities_df.reset_index(drop=True)\n",
    "\n",
    "abilities_df = abilities_df.drop(columns=[\"related\", \"score.scale\", \"score.important\" ,\"score.value\"])\n",
    "\n",
    "abilities_df['ability_id'] = range(1, len(abilities_df) + 1)\n",
    "\n",
    "abilities_df.head(3)"
   ]
  },
  {
   "cell_type": "code",
   "execution_count": 59,
   "metadata": {},
   "outputs": [
    {
     "data": {
      "text/plain": [
       "InsertManyResult([ObjectId('662553db621afd872127147f'), ObjectId('662553db621afd8721271480'), ObjectId('662553db621afd8721271481'), ObjectId('662553db621afd8721271482'), ObjectId('662553db621afd8721271483'), ObjectId('662553db621afd8721271484'), ObjectId('662553db621afd8721271485'), ObjectId('662553db621afd8721271486'), ObjectId('662553db621afd8721271487'), ObjectId('662553db621afd8721271488'), ObjectId('662553db621afd8721271489'), ObjectId('662553db621afd872127148a'), ObjectId('662553db621afd872127148b'), ObjectId('662553db621afd872127148c'), ObjectId('662553db621afd872127148d'), ObjectId('662553db621afd872127148e'), ObjectId('662553db621afd872127148f'), ObjectId('662553db621afd8721271490'), ObjectId('662553db621afd8721271491'), ObjectId('662553db621afd8721271492'), ObjectId('662553db621afd8721271493'), ObjectId('662553db621afd8721271494'), ObjectId('662553db621afd8721271495'), ObjectId('662553db621afd8721271496'), ObjectId('662553db621afd8721271497'), ObjectId('662553db621afd8721271498'), ObjectId('662553db621afd8721271499'), ObjectId('662553db621afd872127149a'), ObjectId('662553db621afd872127149b'), ObjectId('662553db621afd872127149c'), ObjectId('662553db621afd872127149d'), ObjectId('662553db621afd872127149e'), ObjectId('662553db621afd872127149f'), ObjectId('662553db621afd87212714a0'), ObjectId('662553db621afd87212714a1'), ObjectId('662553db621afd87212714a2'), ObjectId('662553db621afd87212714a3'), ObjectId('662553db621afd87212714a4'), ObjectId('662553db621afd87212714a5'), ObjectId('662553db621afd87212714a6'), ObjectId('662553db621afd87212714a7'), ObjectId('662553db621afd87212714a8'), ObjectId('662553db621afd87212714a9'), ObjectId('662553db621afd87212714aa'), ObjectId('662553db621afd87212714ab'), ObjectId('662553db621afd87212714ac'), ObjectId('662553db621afd87212714ad'), ObjectId('662553db621afd87212714ae'), ObjectId('662553db621afd87212714af'), ObjectId('662553db621afd87212714b0'), ObjectId('662553db621afd87212714b1'), ObjectId('662553db621afd87212714b2')], acknowledged=True)"
      ]
     },
     "execution_count": 59,
     "metadata": {},
     "output_type": "execute_result"
    }
   ],
   "source": [
    "dbname = get_database()\n",
    "\n",
    "collection_name = dbname[\"abilities\"]\n",
    "\n",
    "# Insert the dictionaries into the MongoDB collection\n",
    "collection_name.insert_many(abilities_df.to_dict(\"records\"))"
   ]
  },
  {
   "cell_type": "code",
   "execution_count": 74,
   "metadata": {},
   "outputs": [
    {
     "data": {
      "text/html": [
       "<div>\n",
       "<style scoped>\n",
       "    .dataframe tbody tr th:only-of-type {\n",
       "        vertical-align: middle;\n",
       "    }\n",
       "\n",
       "    .dataframe tbody tr th {\n",
       "        vertical-align: top;\n",
       "    }\n",
       "\n",
       "    .dataframe thead th {\n",
       "        text-align: right;\n",
       "    }\n",
       "</style>\n",
       "<table border=\"1\" class=\"dataframe\">\n",
       "  <thead>\n",
       "    <tr style=\"text-align: right;\">\n",
       "      <th></th>\n",
       "      <th>value</th>\n",
       "      <th>title</th>\n",
       "      <th>education</th>\n",
       "      <th>job_training</th>\n",
       "      <th>job_zone_examples</th>\n",
       "      <th>job_zone_id</th>\n",
       "    </tr>\n",
       "  </thead>\n",
       "  <tbody>\n",
       "    <tr>\n",
       "      <th>0</th>\n",
       "      <td>2</td>\n",
       "      <td>Job Zone Two: Some Preparation Needed</td>\n",
       "      <td>These occupations usually require a high schoo...</td>\n",
       "      <td>Employees in these occupations need anywhere f...</td>\n",
       "      <td>These occupations often involve using your kno...</td>\n",
       "      <td>1</td>\n",
       "    </tr>\n",
       "    <tr>\n",
       "      <th>1</th>\n",
       "      <td>4</td>\n",
       "      <td>Job Zone Four: Considerable Preparation Needed</td>\n",
       "      <td>Most of these occupations require a four-year ...</td>\n",
       "      <td>Employees in these occupations usually need se...</td>\n",
       "      <td>Many of these occupations involve coordinating...</td>\n",
       "      <td>2</td>\n",
       "    </tr>\n",
       "  </tbody>\n",
       "</table>\n",
       "</div>"
      ],
      "text/plain": [
       "   value                                           title  \\\n",
       "0      2           Job Zone Two: Some Preparation Needed   \n",
       "1      4  Job Zone Four: Considerable Preparation Needed   \n",
       "\n",
       "                                           education  \\\n",
       "0  These occupations usually require a high schoo...   \n",
       "1  Most of these occupations require a four-year ...   \n",
       "\n",
       "                                        job_training  \\\n",
       "0  Employees in these occupations need anywhere f...   \n",
       "1  Employees in these occupations usually need se...   \n",
       "\n",
       "                                   job_zone_examples  job_zone_id  \n",
       "0  These occupations often involve using your kno...            1  \n",
       "1  Many of these occupations involve coordinating...            2  "
      ]
     },
     "execution_count": 74,
     "metadata": {},
     "output_type": "execute_result"
    }
   ],
   "source": [
    "job_zone = pd.DataFrame(list(df[\"job_zone\"]))\n",
    "\n",
    "# Drop duplicates based on 'value'\n",
    "job_zone = job_zone.drop_duplicates(subset='value')\n",
    "job_zone = job_zone.drop(columns=[\"svp_range\", \"related_experience\"])\n",
    "\n",
    "job_zone['job_zone_id'] = range(1, len(job_zone) + 1)\n",
    "\n",
    "job_zone.head(2)"
   ]
  },
  {
   "cell_type": "code",
   "execution_count": 75,
   "metadata": {},
   "outputs": [
    {
     "data": {
      "text/plain": [
       "InsertManyResult([ObjectId('662553e9621afd8721275024'), ObjectId('662553e9621afd8721275025'), ObjectId('662553e9621afd8721275026'), ObjectId('662553e9621afd8721275027'), ObjectId('662553e9621afd8721275028')], acknowledged=True)"
      ]
     },
     "execution_count": 75,
     "metadata": {},
     "output_type": "execute_result"
    }
   ],
   "source": [
    "dbname = get_database()\n",
    "\n",
    "collection_name = dbname[\"job_zone\"]\n",
    "\n",
    "# Insert the dictionaries into the MongoDB collection\n",
    "collection_name.insert_many(job_zone.to_dict(\"records\"))"
   ]
  },
  {
   "cell_type": "code",
   "execution_count": 76,
   "metadata": {},
   "outputs": [
    {
     "data": {
      "text/html": [
       "<div>\n",
       "<style scoped>\n",
       "    .dataframe tbody tr th:only-of-type {\n",
       "        vertical-align: middle;\n",
       "    }\n",
       "\n",
       "    .dataframe tbody tr th {\n",
       "        vertical-align: top;\n",
       "    }\n",
       "\n",
       "    .dataframe thead th {\n",
       "        text-align: right;\n",
       "    }\n",
       "</style>\n",
       "<table border=\"1\" class=\"dataframe\">\n",
       "  <thead>\n",
       "    <tr style=\"text-align: right;\">\n",
       "      <th></th>\n",
       "      <th>name</th>\n",
       "      <th>education_id</th>\n",
       "    </tr>\n",
       "  </thead>\n",
       "  <tbody>\n",
       "    <tr>\n",
       "      <th>0</th>\n",
       "      <td>Less than high school diploma</td>\n",
       "      <td>1</td>\n",
       "    </tr>\n",
       "    <tr>\n",
       "      <th>1</th>\n",
       "      <td>Bachelor's degree</td>\n",
       "      <td>2</td>\n",
       "    </tr>\n",
       "    <tr>\n",
       "      <th>2</th>\n",
       "      <td>High school diploma or equivalent</td>\n",
       "      <td>3</td>\n",
       "    </tr>\n",
       "    <tr>\n",
       "      <th>4</th>\n",
       "      <td>Post-baccalaureate certificate</td>\n",
       "      <td>4</td>\n",
       "    </tr>\n",
       "    <tr>\n",
       "      <th>5</th>\n",
       "      <td>Professional degree</td>\n",
       "      <td>5</td>\n",
       "    </tr>\n",
       "  </tbody>\n",
       "</table>\n",
       "</div>"
      ],
      "text/plain": [
       "                                name  education_id\n",
       "0      Less than high school diploma             1\n",
       "1                  Bachelor's degree             2\n",
       "2  High school diploma or equivalent             3\n",
       "4     Post-baccalaureate certificate             4\n",
       "5                Professional degree             5"
      ]
     },
     "execution_count": 76,
     "metadata": {},
     "output_type": "execute_result"
    }
   ],
   "source": [
    "# Assuming df[\"work_values\"] is a column of lists of dictionaries\n",
    "education = df['education'].apply(lambda x: x['level_required']).apply(lambda x : x[\"category\"]).explode().reset_index(drop=True)\n",
    "\n",
    "# Convert the list of dictionaries into a DataFrame\n",
    "education_df = pd.json_normalize(education)\n",
    "\n",
    "# Drop duplicates based on 'name'\n",
    "education_df = education_df.drop_duplicates(subset='name')\n",
    "education_df = education_df.drop(columns=[\"score.scale\", \"score.value\", \"description\"])\n",
    "\n",
    "education_df['education_id'] = range(1, len(education_df) + 1)\n",
    "\n",
    "education_df.head(5)"
   ]
  },
  {
   "cell_type": "code",
   "execution_count": 77,
   "metadata": {},
   "outputs": [
    {
     "data": {
      "text/plain": [
       "InsertManyResult([ObjectId('662553e9621afd872127502a'), ObjectId('662553e9621afd872127502b'), ObjectId('662553e9621afd872127502c'), ObjectId('662553e9621afd872127502d'), ObjectId('662553e9621afd872127502e'), ObjectId('662553e9621afd872127502f'), ObjectId('662553e9621afd8721275030'), ObjectId('662553e9621afd8721275031'), ObjectId('662553e9621afd8721275032'), ObjectId('662553e9621afd8721275033'), ObjectId('662553e9621afd8721275034'), ObjectId('662553e9621afd8721275035')], acknowledged=True)"
      ]
     },
     "execution_count": 77,
     "metadata": {},
     "output_type": "execute_result"
    }
   ],
   "source": [
    "dbname = get_database()\n",
    "\n",
    "collection_name = dbname[\"education\"]\n",
    "\n",
    "# Insert the dictionaries into the MongoDB collection\n",
    "collection_name.insert_many(education_df.to_dict(\"records\"))"
   ]
  }
 ],
 "metadata": {
  "kernelspec": {
   "display_name": "bachelorarbeit",
   "language": "python",
   "name": "python3"
  },
  "language_info": {
   "codemirror_mode": {
    "name": "ipython",
    "version": 3
   },
   "file_extension": ".py",
   "mimetype": "text/x-python",
   "name": "python",
   "nbconvert_exporter": "python",
   "pygments_lexer": "ipython3",
   "version": "3.11.8"
  }
 },
 "nbformat": 4,
 "nbformat_minor": 2
}
