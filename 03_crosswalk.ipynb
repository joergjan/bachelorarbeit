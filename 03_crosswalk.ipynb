{
 "cells": [
  {
   "cell_type": "markdown",
   "metadata": {},
   "source": [
    "### jupyter notebook to adjust the data from onet to the Swiss labour market\n",
    "\n",
    "author: Jan Jörg\n",
    "date: 14.03.2024"
   ]
  }
 ],
 "metadata": {
  "language_info": {
   "name": "python"
  }
 },
 "nbformat": 4,
 "nbformat_minor": 2
}
