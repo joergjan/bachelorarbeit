{
 "cells": [
  {
   "cell_type": "markdown",
   "metadata": {},
   "source": [
    "# Evaluate Classification with XGBoost"
   ]
  },
  {
   "cell_type": "markdown",
   "metadata": {},
   "source": [
    "## Content\n",
    "1. [Import Data](#import)\n",
    "2. [Create / Train Model](#create-train)\n",
    "3. [Metrics / Confusion Matrix](#metrics)\n",
    "4. [Grid Search](#grid)"
   ]
  },
  {
   "cell_type": "code",
   "execution_count": 192,
   "metadata": {},
   "outputs": [],
   "source": [
    "\n",
    "import numpy as np\n",
    "import matplotlib.pyplot as plt\n",
    "import pandas as pd\n",
    "import xgboost as xgb\n",
    "from sklearn.model_selection import train_test_split\n",
    "from xgboost import XGBClassifier\n",
    "from xgboost import plot_importance\n",
    "from matplotlib import pyplot\n",
    "from sklearn.metrics import confusion_matrix\n",
    "from sklearn.model_selection import cross_val_score\n",
    "from sklearn.metrics import roc_curve, auc\n",
    "from sklearn.model_selection import GridSearchCV\n",
    "from sklearn.preprocessing import StandardScaler\n",
    "from sklearn.metrics import ConfusionMatrixDisplay\n",
    "from sklearn.metrics import accuracy_score, precision_score, recall_score, f1_score, roc_auc_score"
   ]
  },
  {
   "cell_type": "markdown",
   "metadata": {},
   "source": [
    "<a id=\"import\"></a>\n",
    "## Import Data"
   ]
  },
  {
   "cell_type": "code",
   "execution_count": 193,
   "metadata": {},
   "outputs": [
    {
     "data": {
      "text/html": [
       "<div>\n",
       "<style scoped>\n",
       "    .dataframe tbody tr th:only-of-type {\n",
       "        vertical-align: middle;\n",
       "    }\n",
       "\n",
       "    .dataframe tbody tr th {\n",
       "        vertical-align: top;\n",
       "    }\n",
       "\n",
       "    .dataframe thead th {\n",
       "        text-align: right;\n",
       "    }\n",
       "</style>\n",
       "<table border=\"1\" class=\"dataframe\">\n",
       "  <thead>\n",
       "    <tr style=\"text-align: right;\">\n",
       "      <th></th>\n",
       "      <th>isco08</th>\n",
       "      <th>Berufshauptgruppe</th>\n",
       "      <th>s1</th>\n",
       "      <th>s2</th>\n",
       "      <th>s3</th>\n",
       "      <th>s4</th>\n",
       "      <th>s5</th>\n",
       "      <th>s6</th>\n",
       "      <th>s7</th>\n",
       "      <th>s8</th>\n",
       "      <th>...</th>\n",
       "      <th>a45</th>\n",
       "      <th>a46</th>\n",
       "      <th>a47</th>\n",
       "      <th>a48</th>\n",
       "      <th>a49</th>\n",
       "      <th>a50</th>\n",
       "      <th>a51</th>\n",
       "      <th>a52</th>\n",
       "      <th>fo_probability</th>\n",
       "      <th>fo_computerisation</th>\n",
       "    </tr>\n",
       "  </thead>\n",
       "  <tbody>\n",
       "    <tr>\n",
       "      <th>0</th>\n",
       "      <td>2655</td>\n",
       "      <td>2</td>\n",
       "      <td>0.72</td>\n",
       "      <td>0.72</td>\n",
       "      <td>0.69</td>\n",
       "      <td>0.69</td>\n",
       "      <td>0.50</td>\n",
       "      <td>0.50</td>\n",
       "      <td>0.50</td>\n",
       "      <td>0.47</td>\n",
       "      <td>...</td>\n",
       "      <td>0.0</td>\n",
       "      <td>0.0</td>\n",
       "      <td>0.0</td>\n",
       "      <td>0.0</td>\n",
       "      <td>0.0</td>\n",
       "      <td>0.0</td>\n",
       "      <td>0.0</td>\n",
       "      <td>0.0</td>\n",
       "      <td>0.37</td>\n",
       "      <td>0</td>\n",
       "    </tr>\n",
       "    <tr>\n",
       "      <th>1</th>\n",
       "      <td>2612</td>\n",
       "      <td>2</td>\n",
       "      <td>0.81</td>\n",
       "      <td>0.75</td>\n",
       "      <td>0.81</td>\n",
       "      <td>0.72</td>\n",
       "      <td>0.81</td>\n",
       "      <td>0.66</td>\n",
       "      <td>0.56</td>\n",
       "      <td>0.72</td>\n",
       "      <td>...</td>\n",
       "      <td>0.0</td>\n",
       "      <td>0.0</td>\n",
       "      <td>0.0</td>\n",
       "      <td>0.0</td>\n",
       "      <td>0.0</td>\n",
       "      <td>0.0</td>\n",
       "      <td>0.0</td>\n",
       "      <td>0.0</td>\n",
       "      <td>0.40</td>\n",
       "      <td>0</td>\n",
       "    </tr>\n",
       "  </tbody>\n",
       "</table>\n",
       "<p>2 rows × 91 columns</p>\n",
       "</div>"
      ],
      "text/plain": [
       "   isco08  Berufshauptgruppe    s1    s2    s3    s4    s5    s6    s7    s8  \\\n",
       "0    2655                  2  0.72  0.72  0.69  0.69  0.50  0.50  0.50  0.47   \n",
       "1    2612                  2  0.81  0.75  0.81  0.72  0.81  0.66  0.56  0.72   \n",
       "\n",
       "   ...  a45  a46  a47  a48  a49  a50  a51  a52  fo_probability  \\\n",
       "0  ...  0.0  0.0  0.0  0.0  0.0  0.0  0.0  0.0            0.37   \n",
       "1  ...  0.0  0.0  0.0  0.0  0.0  0.0  0.0  0.0            0.40   \n",
       "\n",
       "   fo_computerisation  \n",
       "0                   0  \n",
       "1                   0  \n",
       "\n",
       "[2 rows x 91 columns]"
      ]
     },
     "execution_count": 193,
     "metadata": {},
     "output_type": "execute_result"
    }
   ],
   "source": [
    "df = pd.read_csv('files/fo_smote.csv')\n",
    "not_automatable = [item[0] for item in pd.read_csv(\"files/not_automatable.csv\").values.tolist()]\n",
    "\n",
    "# calculate fo_computerisation based on 'df_probability'\n",
    "df['fo_computerisation'] = df['fo_probability'].apply(lambda x: 1 if x >= 0.5 else 0)\n",
    "\n",
    "df.head(2)"
   ]
  },
  {
   "cell_type": "markdown",
   "metadata": {},
   "source": [
    "<a id=\"create-train\"></a>\n",
    "## Split in Train / Test Set and train Model"
   ]
  },
  {
   "cell_type": "code",
   "execution_count": 194,
   "metadata": {},
   "outputs": [],
   "source": [
    "# Declare x, y & split Data in training and test (80/20)\n",
    "X = df[not_automatable]\n",
    "y = df['fo_computerisation']\n",
    "\n",
    "# Split the data into training and test sets\n",
    "X_train, X_test, y_train, y_test = train_test_split(X, y, test_size=0.2, random_state=42)"
   ]
  },
  {
   "cell_type": "code",
   "execution_count": 195,
   "metadata": {},
   "outputs": [
    {
     "data": {
      "text/html": [
       "<div>\n",
       "<style scoped>\n",
       "    .dataframe tbody tr th:only-of-type {\n",
       "        vertical-align: middle;\n",
       "    }\n",
       "\n",
       "    .dataframe tbody tr th {\n",
       "        vertical-align: top;\n",
       "    }\n",
       "\n",
       "    .dataframe thead th {\n",
       "        text-align: right;\n",
       "    }\n",
       "</style>\n",
       "<table border=\"1\" class=\"dataframe\">\n",
       "  <thead>\n",
       "    <tr style=\"text-align: right;\">\n",
       "      <th></th>\n",
       "      <th>a6</th>\n",
       "      <th>s35</th>\n",
       "      <th>s19</th>\n",
       "      <th>a8</th>\n",
       "      <th>s21</th>\n",
       "      <th>s27</th>\n",
       "      <th>s17</th>\n",
       "      <th>s32</th>\n",
       "      <th>a38</th>\n",
       "      <th>s16</th>\n",
       "      <th>s5</th>\n",
       "      <th>s34</th>\n",
       "      <th>s24</th>\n",
       "      <th>s8</th>\n",
       "    </tr>\n",
       "  </thead>\n",
       "  <tbody>\n",
       "    <tr>\n",
       "      <th>0</th>\n",
       "      <td>0.69</td>\n",
       "      <td>0.0</td>\n",
       "      <td>0.25</td>\n",
       "      <td>0.53</td>\n",
       "      <td>0.19</td>\n",
       "      <td>0.0</td>\n",
       "      <td>0.35</td>\n",
       "      <td>0.00</td>\n",
       "      <td>0.13</td>\n",
       "      <td>0.38</td>\n",
       "      <td>0.50</td>\n",
       "      <td>0.0</td>\n",
       "      <td>0.06</td>\n",
       "      <td>0.47</td>\n",
       "    </tr>\n",
       "    <tr>\n",
       "      <th>1</th>\n",
       "      <td>0.47</td>\n",
       "      <td>0.0</td>\n",
       "      <td>0.44</td>\n",
       "      <td>0.75</td>\n",
       "      <td>0.22</td>\n",
       "      <td>0.0</td>\n",
       "      <td>0.41</td>\n",
       "      <td>0.13</td>\n",
       "      <td>0.00</td>\n",
       "      <td>0.50</td>\n",
       "      <td>0.81</td>\n",
       "      <td>0.0</td>\n",
       "      <td>0.19</td>\n",
       "      <td>0.72</td>\n",
       "    </tr>\n",
       "  </tbody>\n",
       "</table>\n",
       "</div>"
      ],
      "text/plain": [
       "     a6  s35   s19    a8   s21  s27   s17   s32   a38   s16    s5  s34   s24  \\\n",
       "0  0.69  0.0  0.25  0.53  0.19  0.0  0.35  0.00  0.13  0.38  0.50  0.0  0.06   \n",
       "1  0.47  0.0  0.44  0.75  0.22  0.0  0.41  0.13  0.00  0.50  0.81  0.0  0.19   \n",
       "\n",
       "     s8  \n",
       "0  0.47  \n",
       "1  0.72  "
      ]
     },
     "execution_count": 195,
     "metadata": {},
     "output_type": "execute_result"
    }
   ],
   "source": [
    "X.head(2)"
   ]
  },
  {
   "cell_type": "code",
   "execution_count": 196,
   "metadata": {},
   "outputs": [],
   "source": [
    "# Scale the features\n",
    "scaler = StandardScaler()\n",
    "X_train_scaled = scaler.fit_transform(X_train)\n",
    "X_test_scaled = scaler.transform(X_test)\n",
    "\n",
    "# Create and train the model\n",
    "model = XGBClassifier(random_state=42, learning_rate=0.1, max_depth=2, n_estimators=100)\n",
    "model.fit(X_train_scaled, y_train)\n",
    "\n",
    "# You can now use model.predict to make predictions on unseen data\n",
    "predictions = model.predict(X_test_scaled)"
   ]
  },
  {
   "cell_type": "code",
   "execution_count": 197,
   "metadata": {},
   "outputs": [
    {
     "data": {
      "text/html": [
       "<div>\n",
       "<style scoped>\n",
       "    .dataframe tbody tr th:only-of-type {\n",
       "        vertical-align: middle;\n",
       "    }\n",
       "\n",
       "    .dataframe tbody tr th {\n",
       "        vertical-align: top;\n",
       "    }\n",
       "\n",
       "    .dataframe thead th {\n",
       "        text-align: right;\n",
       "    }\n",
       "</style>\n",
       "<table border=\"1\" class=\"dataframe\">\n",
       "  <thead>\n",
       "    <tr style=\"text-align: right;\">\n",
       "      <th></th>\n",
       "      <th>Wkt Nicht Substituierbar</th>\n",
       "      <th>Wkt Substituierbar</th>\n",
       "      <th>Vorhersage der Klasse</th>\n",
       "    </tr>\n",
       "  </thead>\n",
       "  <tbody>\n",
       "    <tr>\n",
       "      <th>0</th>\n",
       "      <td>0.819056</td>\n",
       "      <td>0.180944</td>\n",
       "      <td>0.0</td>\n",
       "    </tr>\n",
       "    <tr>\n",
       "      <th>1</th>\n",
       "      <td>0.593265</td>\n",
       "      <td>0.406735</td>\n",
       "      <td>0.0</td>\n",
       "    </tr>\n",
       "    <tr>\n",
       "      <th>2</th>\n",
       "      <td>0.180330</td>\n",
       "      <td>0.819670</td>\n",
       "      <td>1.0</td>\n",
       "    </tr>\n",
       "    <tr>\n",
       "      <th>3</th>\n",
       "      <td>0.798494</td>\n",
       "      <td>0.201506</td>\n",
       "      <td>0.0</td>\n",
       "    </tr>\n",
       "    <tr>\n",
       "      <th>4</th>\n",
       "      <td>0.163998</td>\n",
       "      <td>0.836002</td>\n",
       "      <td>1.0</td>\n",
       "    </tr>\n",
       "  </tbody>\n",
       "</table>\n",
       "</div>"
      ],
      "text/plain": [
       "   Wkt Nicht Substituierbar  Wkt Substituierbar  Vorhersage der Klasse\n",
       "0                  0.819056            0.180944                    0.0\n",
       "1                  0.593265            0.406735                    0.0\n",
       "2                  0.180330            0.819670                    1.0\n",
       "3                  0.798494            0.201506                    0.0\n",
       "4                  0.163998            0.836002                    1.0"
      ]
     },
     "execution_count": 197,
     "metadata": {},
     "output_type": "execute_result"
    }
   ],
   "source": [
    "# Make prediction with train data\n",
    "y_pred_train = model.predict(X_train_scaled)\n",
    "\n",
    "# Make prediction with test data\n",
    "y_proba = model.predict_proba(X_test_scaled)\n",
    "y_pred = model.predict(X_test_scaled)\n",
    "\n",
    "# Create a DataFrame with the probabilities and predictions\n",
    "prediction_df = pd.DataFrame(np.c_[y_proba, y_pred], columns = ['Wkt Nicht Substituierbar', 'Wkt Substituierbar', 'Vorhersage der Klasse'])\n",
    "\n",
    "prediction_df.head(5)"
   ]
  },
  {
   "cell_type": "markdown",
   "metadata": {},
   "source": [
    "<a id=\"metrics\"></a>\n",
    "## Metrics"
   ]
  },
  {
   "cell_type": "code",
   "execution_count": 198,
   "metadata": {},
   "outputs": [],
   "source": [
    "# Calculate metrics for the training set\n",
    "train_accuracy = accuracy_score(y_train, y_pred_train)\n",
    "train_precision = precision_score(y_train, y_pred_train)\n",
    "train_recall = recall_score(y_train, y_pred_train)\n",
    "train_f1 = f1_score(y_train, y_pred_train)\n",
    "train_auc = roc_auc_score(y_train, model.predict_proba(X_train_scaled)[:, 1])\n",
    "\n",
    "# Calculate metrics for the test set\n",
    "test_accuracy = accuracy_score(y_test, y_pred)\n",
    "test_precision = precision_score(y_test, y_pred)\n",
    "test_recall = recall_score(y_test, y_pred)\n",
    "test_f1 = f1_score(y_test, y_pred)\n",
    "test_auc = roc_auc_score(y_test, y_proba[:, 1])"
   ]
  },
  {
   "cell_type": "code",
   "execution_count": 199,
   "metadata": {},
   "outputs": [],
   "source": [
    "# Read the CSV file into a DataFrame\n",
    "try:\n",
    "    metrics_df = pd.read_csv('files/metrics.csv')\n",
    "except pd.errors.EmptyDataError:\n",
    "    metrics_df = pd.DataFrame(columns=['Model', 'Test Accuracy', 'Train Accuracy', 'Precision', 'Recall', 'F1 Score', 'AUC'])\n",
    "\n",
    "# Check if the model exists in the DataFrame\n",
    "if 'XGBoost' in metrics_df['Model'].values:\n",
    "    # Update the row for the XGBoost model\n",
    "    metrics_df.loc[metrics_df['Model'] == 'XGBoost', ['Test Accuracy', 'Train Accuracy', 'Precision', 'Recall', 'F1 Score', 'AUC']] = [test_accuracy, train_accuracy, test_precision, test_recall, test_f1, test_auc]\n",
    "else:\n",
    "    # Create a new DataFrame for the XGBoost model\n",
    "    new_row = pd.DataFrame({'Model': ['XGBoost'], 'Test Accuracy': [test_accuracy], 'Train Accuracy': [train_accuracy], 'Precision': [test_precision], 'Recall': [test_recall], 'F1 Score': [test_f1], 'AUC': [test_auc]})\n",
    "    \n",
    "    # Concatenate the new row with the existing DataFrame\n",
    "    metrics_df = pd.concat([metrics_df, new_row], ignore_index=True)\n",
    "\n",
    "# Save the DataFrame to the CSV file\n",
    "metrics_df.to_csv('files/metrics.csv', index=False)"
   ]
  },
  {
   "cell_type": "code",
   "execution_count": 200,
   "metadata": {},
   "outputs": [
    {
     "data": {
      "image/png": "[encoded data removed]",
      "text/plain": [
       "<Figure size 640x480 with 1 Axes>"
      ]
     },
     "metadata": {},
     "output_type": "display_data"
    },
    {
     "name": "stdout",
     "output_type": "stream",
     "text": [
      "[0.10335055 0.02312347 0.02192523 0.07412974 0.02078328 0.02857459\n",
      " 0.0363319  0.02965084 0.03151527 0.08215783 0.44488204 0.04732494\n",
      " 0.01579391 0.04045636]\n"
     ]
    }
   ],
   "source": [
    "# Getting the most important feature\n",
    "plot_importance(model)\n",
    "pyplot.show()\n",
    "print(model.feature_importances_)\n",
    "\n",
    "# Making the Confusion Matrix\n",
    "conf_matrix = confusion_matrix(y_test, y_pred)\n",
    "\n",
    "# Applying k-Fold Cross Validation\n",
    "accuracies = cross_val_score(estimator=model, X=X_train, y=y_train, cv=5)"
   ]
  },
  {
   "cell_type": "code",
   "execution_count": 201,
   "metadata": {},
   "outputs": [
    {
     "data": {
      "image/png": "[encoded data removed]",
      "text/plain": [
       "<Figure size 640x480 with 2 Axes>"
      ]
     },
     "metadata": {},
     "output_type": "display_data"
    }
   ],
   "source": [
    "# Define the labels for your classes\n",
    "class_names = ['0', '1']\n",
    "\n",
    "# Create the ConfusionMatrixDisplay instance\n",
    "disp = ConfusionMatrixDisplay(confusion_matrix=conf_matrix, display_labels=class_names)\n",
    "\n",
    "# Plot the confusion matrix\n",
    "disp.plot(cmap='Blues')\n",
    "\n",
    "plt.title('Confusion Matrix')\n",
    "plt.show()"
   ]
  },
  {
   "cell_type": "code",
   "execution_count": 202,
   "metadata": {},
   "outputs": [
    {
     "data": {
      "image/png": "[encoded data removed]",
      "text/plain": [
       "<Figure size 640x480 with 1 Axes>"
      ]
     },
     "metadata": {},
     "output_type": "display_data"
    }
   ],
   "source": [
    "# plot ROC curve\n",
    "fpr, tpr, _ = roc_curve(y_test, y_proba[:, 1])\n",
    "roc_auc = auc(fpr, tpr)\n",
    "\n",
    "plt.figure()\n",
    "lw = 2\n",
    "plt.plot(fpr, tpr, color='#4682B4', lw=lw, label='AUC = %0.2f' % roc_auc)\n",
    "plt.ylabel('Richtig-Positiv Rate') \n",
    "plt.plot([0 ,1] ,[0 ,1], 'r', label='zufällige Vorhersage (AUC = 0.5)', linestyle='--') \n",
    "plt.xlabel('Falsch-Positiv Rate')\n",
    "plt.title('ROC | Logistische Regression')\n",
    "plt.legend(loc=\"lower right\")\n",
    "\n",
    "plt.show()"
   ]
  },
  {
   "cell_type": "markdown",
   "metadata": {},
   "source": [
    "<a id=\"grid\"></a>\n",
    "## Grid Search"
   ]
  },
  {
   "cell_type": "code",
   "execution_count": 203,
   "metadata": {},
   "outputs": [
    {
     "name": "stdout",
     "output_type": "stream",
     "text": [
      "best params:  {'learning_rate': 0.1, 'max_depth': 2, 'n_estimators': 100}\n",
      "0.8912333515781793\n"
     ]
    }
   ],
   "source": [
    "# Define the parameter grid\n",
    "param_grid = {\n",
    "    'n_estimators': [50, 100, 200, 300],\n",
    "    'max_depth': [2, 3, 4, 5],\n",
    "    'learning_rate': [0.01, 0.1, 0.2]\n",
    "}\n",
    "\n",
    "# Create a GridSearchCV object\n",
    "grid_search = GridSearchCV(XGBClassifier(random_state=42), param_grid, cv=5, scoring='roc_auc')\n",
    "\n",
    "# Fit the GridSearchCV object to the data\n",
    "grid_search.fit(X_train_scaled, y_train)\n",
    "\n",
    "# Print the best parameters and the best score\n",
    "print(\"best params: \",grid_search.best_params_)\n",
    "print(grid_search.best_score_)"
   ]
  }
 ],
 "metadata": {
  "kernelspec": {
   "display_name": "bachelorarbeit",
   "language": "python",
   "name": "python3"
  },
  "language_info": {
   "codemirror_mode": {
    "name": "ipython",
    "version": 3
   },
   "file_extension": ".py",
   "mimetype": "text/x-python",
   "name": "python",
   "nbconvert_exporter": "python",
   "pygments_lexer": "ipython3",
   "version": "3.11.8"
  }
 },
 "nbformat": 4,
 "nbformat_minor": 2
}
