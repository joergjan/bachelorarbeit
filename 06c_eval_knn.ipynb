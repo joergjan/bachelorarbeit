{
 "cells": [
  {
   "cell_type": "markdown",
   "metadata": {},
   "source": [
    "# Evaluate Classification with KNN"
   ]
  },
  {
   "cell_type": "markdown",
   "metadata": {},
   "source": [
    "## Content\n",
    "1. [Import Data](#import)\n",
    "2. [Create / Train Model](#create-train)\n",
    "3. [Metrics / Confusion Matrix](#metrics)\n",
    "4. [Grid Search](#grid)"
   ]
  },
  {
   "cell_type": "code",
   "execution_count": 1,
   "metadata": {},
   "outputs": [],
   "source": [
    "# Imports\n",
    "import numpy as np\n",
    "import matplotlib.pyplot as plt\n",
    "import pandas as pd\n",
    "from sklearn.preprocessing import StandardScaler\n",
    "from sklearn.model_selection import train_test_split\n",
    "from sklearn.neighbors import KNeighborsClassifier\n",
    "from sklearn.metrics import *\n",
    "from sklearn.decomposition import PCA\n",
    "import matplotlib.pyplot as plt\n",
    "import seaborn as sns\n",
    "from sklearn.metrics import confusion_matrix\n",
    "from matplotlib import colors as mcolors\n",
    "from sklearn.model_selection import GridSearchCV\n",
    "from sklearn.feature_selection import SelectKBest, f_classif\n",
    "from sklearn.metrics import accuracy_score, precision_score, recall_score, f1_score, roc_auc_score"
   ]
  },
  {
   "cell_type": "markdown",
   "metadata": {},
   "source": [
    "<a id=\"import\"></a>\n",
    "## Import Data"
   ]
  },
  {
   "cell_type": "code",
   "execution_count": 2,
   "metadata": {},
   "outputs": [
    {
     "data": {
      "text/html": [
       "<div>\n",
       "<style scoped>\n",
       "    .dataframe tbody tr th:only-of-type {\n",
       "        vertical-align: middle;\n",
       "    }\n",
       "\n",
       "    .dataframe tbody tr th {\n",
       "        vertical-align: top;\n",
       "    }\n",
       "\n",
       "    .dataframe thead th {\n",
       "        text-align: right;\n",
       "    }\n",
       "</style>\n",
       "<table border=\"1\" class=\"dataframe\">\n",
       "  <thead>\n",
       "    <tr style=\"text-align: right;\">\n",
       "      <th></th>\n",
       "      <th>isco08</th>\n",
       "      <th>Berufshauptgruppe</th>\n",
       "      <th>s1</th>\n",
       "      <th>s2</th>\n",
       "      <th>s3</th>\n",
       "      <th>s4</th>\n",
       "      <th>s5</th>\n",
       "      <th>s6</th>\n",
       "      <th>s7</th>\n",
       "      <th>s8</th>\n",
       "      <th>...</th>\n",
       "      <th>a45</th>\n",
       "      <th>a46</th>\n",
       "      <th>a47</th>\n",
       "      <th>a48</th>\n",
       "      <th>a49</th>\n",
       "      <th>a50</th>\n",
       "      <th>a51</th>\n",
       "      <th>a52</th>\n",
       "      <th>fo_probability</th>\n",
       "      <th>fo_computerisation</th>\n",
       "    </tr>\n",
       "  </thead>\n",
       "  <tbody>\n",
       "    <tr>\n",
       "      <th>0</th>\n",
       "      <td>2655</td>\n",
       "      <td>2</td>\n",
       "      <td>0.72</td>\n",
       "      <td>0.72</td>\n",
       "      <td>0.69</td>\n",
       "      <td>0.69</td>\n",
       "      <td>0.50</td>\n",
       "      <td>0.50</td>\n",
       "      <td>0.50</td>\n",
       "      <td>0.47</td>\n",
       "      <td>...</td>\n",
       "      <td>0.0</td>\n",
       "      <td>0.0</td>\n",
       "      <td>0.0</td>\n",
       "      <td>0.0</td>\n",
       "      <td>0.0</td>\n",
       "      <td>0.0</td>\n",
       "      <td>0.0</td>\n",
       "      <td>0.0</td>\n",
       "      <td>0.37</td>\n",
       "      <td>0</td>\n",
       "    </tr>\n",
       "    <tr>\n",
       "      <th>1</th>\n",
       "      <td>2612</td>\n",
       "      <td>2</td>\n",
       "      <td>0.81</td>\n",
       "      <td>0.75</td>\n",
       "      <td>0.81</td>\n",
       "      <td>0.72</td>\n",
       "      <td>0.81</td>\n",
       "      <td>0.66</td>\n",
       "      <td>0.56</td>\n",
       "      <td>0.72</td>\n",
       "      <td>...</td>\n",
       "      <td>0.0</td>\n",
       "      <td>0.0</td>\n",
       "      <td>0.0</td>\n",
       "      <td>0.0</td>\n",
       "      <td>0.0</td>\n",
       "      <td>0.0</td>\n",
       "      <td>0.0</td>\n",
       "      <td>0.0</td>\n",
       "      <td>0.40</td>\n",
       "      <td>0</td>\n",
       "    </tr>\n",
       "  </tbody>\n",
       "</table>\n",
       "<p>2 rows × 91 columns</p>\n",
       "</div>"
      ],
      "text/plain": [
       "   isco08  Berufshauptgruppe    s1    s2    s3    s4    s5    s6    s7    s8  \\\n",
       "0    2655                  2  0.72  0.72  0.69  0.69  0.50  0.50  0.50  0.47   \n",
       "1    2612                  2  0.81  0.75  0.81  0.72  0.81  0.66  0.56  0.72   \n",
       "\n",
       "   ...  a45  a46  a47  a48  a49  a50  a51  a52  fo_probability  \\\n",
       "0  ...  0.0  0.0  0.0  0.0  0.0  0.0  0.0  0.0            0.37   \n",
       "1  ...  0.0  0.0  0.0  0.0  0.0  0.0  0.0  0.0            0.40   \n",
       "\n",
       "   fo_computerisation  \n",
       "0                   0  \n",
       "1                   0  \n",
       "\n",
       "[2 rows x 91 columns]"
      ]
     },
     "execution_count": 2,
     "metadata": {},
     "output_type": "execute_result"
    }
   ],
   "source": [
    "# import files\n",
    "df = pd.read_csv('files/fo_smote.csv')\n",
    "not_automatable = [item[0] for item in pd.read_csv(\"files/not_automatable.csv\").values.tolist()]\n",
    "\n",
    "# calculate fo_computerisation based on 'df_probability'\n",
    "df['fo_computerisation'] = df['fo_probability'].apply(lambda x: 1 if x >= 0.5 else 0)\n",
    "\n",
    "df.head(2)"
   ]
  },
  {
   "cell_type": "markdown",
   "metadata": {},
   "source": [
    "<a id=\"create-train\"></a>\n",
    "## Split in Train / Test Set and train Model"
   ]
  },
  {
   "cell_type": "code",
   "execution_count": 3,
   "metadata": {},
   "outputs": [],
   "source": [
    "# Declare x, y & split Data in training and test (80/20)\n",
    "X = df[not_automatable]\n",
    "y = df['fo_computerisation']\n",
    "\n",
    "# Split the data into training and test sets\n",
    "X_train, X_test, y_train, y_test = train_test_split(X, y, test_size=0.2, random_state=42)"
   ]
  },
  {
   "cell_type": "code",
   "execution_count": 4,
   "metadata": {},
   "outputs": [],
   "source": [
    "# Scale the features\n",
    "scaler = StandardScaler()\n",
    "X_train_scaled = scaler.fit_transform(X_train)\n",
    "X_test_scaled = scaler.transform(X_test)\n",
    "\n",
    "# Create and train the model\n",
    "model = KNeighborsClassifier(metric='euclidean', n_neighbors=5, weights='uniform')\n",
    "model.fit(X_train_scaled, y_train)\n",
    "\n",
    "# You can now use model.predict to make predictions on unseen data\n",
    "predictions = model.predict(X_test_scaled)"
   ]
  },
  {
   "cell_type": "code",
   "execution_count": 5,
   "metadata": {},
   "outputs": [
    {
     "data": {
      "text/html": [
       "<div>\n",
       "<style scoped>\n",
       "    .dataframe tbody tr th:only-of-type {\n",
       "        vertical-align: middle;\n",
       "    }\n",
       "\n",
       "    .dataframe tbody tr th {\n",
       "        vertical-align: top;\n",
       "    }\n",
       "\n",
       "    .dataframe thead th {\n",
       "        text-align: right;\n",
       "    }\n",
       "</style>\n",
       "<table border=\"1\" class=\"dataframe\">\n",
       "  <thead>\n",
       "    <tr style=\"text-align: right;\">\n",
       "      <th></th>\n",
       "      <th>Wkt Nicht Substituierbar</th>\n",
       "      <th>Wkt Substituierbar</th>\n",
       "      <th>Vorhersage der Klasse</th>\n",
       "    </tr>\n",
       "  </thead>\n",
       "  <tbody>\n",
       "    <tr>\n",
       "      <th>0</th>\n",
       "      <td>0.0</td>\n",
       "      <td>1.0</td>\n",
       "      <td>1.0</td>\n",
       "    </tr>\n",
       "    <tr>\n",
       "      <th>1</th>\n",
       "      <td>0.4</td>\n",
       "      <td>0.6</td>\n",
       "      <td>1.0</td>\n",
       "    </tr>\n",
       "    <tr>\n",
       "      <th>2</th>\n",
       "      <td>0.2</td>\n",
       "      <td>0.8</td>\n",
       "      <td>1.0</td>\n",
       "    </tr>\n",
       "    <tr>\n",
       "      <th>3</th>\n",
       "      <td>1.0</td>\n",
       "      <td>0.0</td>\n",
       "      <td>0.0</td>\n",
       "    </tr>\n",
       "    <tr>\n",
       "      <th>4</th>\n",
       "      <td>0.0</td>\n",
       "      <td>1.0</td>\n",
       "      <td>1.0</td>\n",
       "    </tr>\n",
       "  </tbody>\n",
       "</table>\n",
       "</div>"
      ],
      "text/plain": [
       "   Wkt Nicht Substituierbar  Wkt Substituierbar  Vorhersage der Klasse\n",
       "0                       0.0                 1.0                    1.0\n",
       "1                       0.4                 0.6                    1.0\n",
       "2                       0.2                 0.8                    1.0\n",
       "3                       1.0                 0.0                    0.0\n",
       "4                       0.0                 1.0                    1.0"
      ]
     },
     "execution_count": 5,
     "metadata": {},
     "output_type": "execute_result"
    }
   ],
   "source": [
    "# Make prediction with train data\n",
    "y_pred_train = model.predict(X_train_scaled)\n",
    "\n",
    "# Make prediction with test data\n",
    "y_proba = model.predict_proba(X_test_scaled)\n",
    "y_pred = model.predict(X_test_scaled)\n",
    "\n",
    "# Create a DataFrame with the probabilities and predictions\n",
    "prediction_df = pd.DataFrame(np.c_[y_proba, y_pred], columns = ['Wkt Nicht Substituierbar', 'Wkt Substituierbar', 'Vorhersage der Klasse'])\n",
    "\n",
    "prediction_df.head(5)"
   ]
  },
  {
   "cell_type": "markdown",
   "metadata": {},
   "source": [
    "<a id=\"metrics\"></a>\n",
    "## Metrics"
   ]
  },
  {
   "cell_type": "code",
   "execution_count": 6,
   "metadata": {},
   "outputs": [],
   "source": [
    "# Calculate metrics for the training set\n",
    "train_accuracy = accuracy_score(y_train, y_pred_train)\n",
    "train_precision = precision_score(y_train, y_pred_train)\n",
    "train_recall = recall_score(y_train, y_pred_train)\n",
    "train_f1 = f1_score(y_train, y_pred_train)\n",
    "train_auc = roc_auc_score(y_train, model.predict_proba(X_train_scaled)[:, 1])\n",
    "\n",
    "# Calculate metrics for the test set\n",
    "test_accuracy = accuracy_score(y_test, y_pred)\n",
    "test_precision = precision_score(y_test, y_pred)\n",
    "test_recall = recall_score(y_test, y_pred)\n",
    "test_f1 = f1_score(y_test, y_pred)\n",
    "test_auc = roc_auc_score(y_test, y_proba[:, 1])"
   ]
  },
  {
   "cell_type": "code",
   "execution_count": 7,
   "metadata": {},
   "outputs": [],
   "source": [
    "# Read the CSV file into a DataFrame\n",
    "try:\n",
    "    metrics_df = pd.read_csv('files/metrics.csv')\n",
    "except pd.errors.EmptyDataError:\n",
    "    metrics_df = pd.DataFrame(columns=['Model', 'Test Accuracy', 'Train Accuracy', 'Precision', 'Recall', 'F1 Score', 'AUC'])\n",
    "\n",
    "# Check if the model exists in the DataFrame\n",
    "if 'KNN' in metrics_df['Model'].values:\n",
    "    # Update the row for the XGBoost model\n",
    "    metrics_df.loc[metrics_df['Model'] == 'KNN', ['Test Accuracy', 'Train Accuracy', 'Precision', 'Recall', 'F1 Score', 'AUC']] = [test_accuracy, train_accuracy, test_precision, test_recall, test_f1, test_auc]\n",
    "else:\n",
    "    # Create a new DataFrame for the XGBoost model\n",
    "    new_row = pd.DataFrame({'Model': ['KNN'], 'Test Accuracy': [test_accuracy], 'Train Accuracy': [train_accuracy], 'Precision': [test_precision], 'Recall': [test_recall], 'F1 Score': [test_f1], 'AUC': [test_auc]})\n",
    "    \n",
    "    # Concatenate the new row with the existing DataFrame\n",
    "    metrics_df = pd.concat([metrics_df, new_row], ignore_index=True)\n",
    "\n",
    "# Save the DataFrame to the CSV file\n",
    "metrics_df.to_csv('files/metrics.csv', index=False)"
   ]
  },
  {
   "cell_type": "code",
   "execution_count": 8,
   "metadata": {},
   "outputs": [
    {
     "name": "stdout",
     "output_type": "stream",
     "text": [
      "True Negatives: 27\n",
      "False Positives: 12\n",
      "False Negatives: 4\n",
      "True Positives: 29\n"
     ]
    }
   ],
   "source": [
    "# Assuming y_test is your true labels\n",
    "conf_matrix = confusion_matrix(y_test, y_pred)\n",
    "\n",
    "# The output is a 2x2 numpy array\n",
    "# conf_matrix[0, 0] is the count of true negatives\n",
    "# conf_matrix[0, 1] is the count of false positives\n",
    "# conf_matrix[1, 0] is the count of false negatives\n",
    "# conf_matrix[1, 1] is the count of true positives\n",
    "\n",
    "print(f\"True Negatives: {conf_matrix[0, 0]}\")\n",
    "print(f\"False Positives: {conf_matrix[0, 1]}\")\n",
    "print(f\"False Negatives: {conf_matrix[1, 0]}\")\n",
    "print(f\"True Positives: {conf_matrix[1, 1]}\")"
   ]
  },
  {
   "cell_type": "code",
   "execution_count": 9,
   "metadata": {},
   "outputs": [
    {
     "data": {
      "image/png": "[encoded data removed]",
      "text/plain": [
       "<Figure size 640x480 with 2 Axes>"
      ]
     },
     "metadata": {},
     "output_type": "display_data"
    }
   ],
   "source": [
    "# Define the labels for your classes\n",
    "class_names = ['0', '1']\n",
    "\n",
    "# Create the ConfusionMatrixDisplay instance\n",
    "disp = ConfusionMatrixDisplay(confusion_matrix=conf_matrix, display_labels=class_names)\n",
    "\n",
    "# Plot the confusion matrix\n",
    "disp.plot(cmap='Blues')\n",
    "\n",
    "plt.title('KNN')\n",
    "plt.show()"
   ]
  },
  {
   "cell_type": "code",
   "execution_count": 10,
   "metadata": {},
   "outputs": [
    {
     "data": {
      "image/png": "[encoded data removed]",
      "text/plain": [
       "<Figure size 640x480 with 1 Axes>"
      ]
     },
     "metadata": {},
     "output_type": "display_data"
    }
   ],
   "source": [
    "# plot ROC curve\n",
    "fpr, tpr, _ = roc_curve(y_test, y_proba[:, 1])\n",
    "roc_auc = auc(fpr, tpr)\n",
    "\n",
    "plt.figure()\n",
    "lw = 2\n",
    "plt.plot(fpr, tpr, color='#4682B4', lw=lw, label='AUC = %0.2f' % roc_auc)\n",
    "plt.ylabel('Richtig-Positiv Rate') \n",
    "plt.plot([0 ,1] ,[0 ,1], 'r', label='zufällige Vorhersage (AUC = 0.5)', linestyle='--') \n",
    "plt.xlabel('Falsch-Positiv Rate')\n",
    "plt.title('ROC | KNN')\n",
    "plt.legend(loc=\"lower right\")\n",
    "\n",
    "plt.show()"
   ]
  },
  {
   "cell_type": "markdown",
   "metadata": {},
   "source": [
    "<a id=\"grid\"></a>\n",
    "## Grid Search"
   ]
  },
  {
   "cell_type": "code",
   "execution_count": 11,
   "metadata": {},
   "outputs": [
    {
     "name": "stdout",
     "output_type": "stream",
     "text": [
      "best params:  {'metric': 'euclidean', 'n_neighbors': 7, 'weights': 'uniform'}\n",
      "0.8623471994161649\n"
     ]
    }
   ],
   "source": [
    "# Define the parameter grid\n",
    "param_grid = {\n",
    "    'n_neighbors': [3, 5, 7, 9, 11],\n",
    "    'weights': ['uniform', 'distance'],\n",
    "    'metric': ['euclidean', 'manhattan']\n",
    "}\n",
    "\n",
    "# Create a GridSearchCV object\n",
    "grid_search = GridSearchCV(KNeighborsClassifier(), param_grid, cv=5, scoring='roc_auc')\n",
    "\n",
    "# Fit the GridSearchCV object to the data\n",
    "grid_search.fit(X_train_scaled, y_train)\n",
    "\n",
    "# Print the best parameters and the best score\n",
    "print(\"best params: \",grid_search.best_params_)\n",
    "print(grid_search.best_score_)"
   ]
  }
 ],
 "metadata": {
  "kernelspec": {
   "display_name": "bachelorarbeit",
   "language": "python",
   "name": "python3"
  },
  "language_info": {
   "codemirror_mode": {
    "name": "ipython",
    "version": 3
   },
   "file_extension": ".py",
   "mimetype": "text/x-python",
   "name": "python",
   "nbconvert_exporter": "python",
   "pygments_lexer": "ipython3",
   "version": "3.11.8"
  }
 },
 "nbformat": 4,
 "nbformat_minor": 2
}
